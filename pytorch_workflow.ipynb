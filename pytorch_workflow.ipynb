{
  "cells": [
    {
      "cell_type": "markdown",
      "metadata": {
        "id": "view-in-github",
        "colab_type": "text"
      },
      "source": [
        "<a href=\"https://colab.research.google.com/github/addo561/learning-pytorch/blob/main/pytorch_workflow.ipynb\" target=\"_parent\"><img src=\"https://colab.research.google.com/assets/colab-badge.svg\" alt=\"Open In Colab\"/></a>"
      ]
    },
    {
      "cell_type": "code",
      "execution_count": null,
      "metadata": {
        "colab": {
          "background_save": true
        },
        "id": "2H_IE0iMc6eV"
      },
      "outputs": [],
      "source": [
        "import torch\n",
        "from torch import nn\n",
        "import matplotlib.pyplot as plt"
      ]
    },
    {
      "cell_type": "markdown",
      "metadata": {
        "id": "HCPVC9VNiDJt"
      },
      "source": [
        "## Data"
      ]
    },
    {
      "cell_type": "code",
      "execution_count": null,
      "metadata": {
        "colab": {
          "background_save": true,
          "base_uri": "https://localhost:8080/"
        },
        "id": "cZyszx68iAmp",
        "outputId": "cb0c8a58-a14e-4dce-efa6-0b9bc744d315"
      },
      "outputs": [
        {
          "data": {
            "text/plain": [
              "(tensor([[0.0000],\n",
              "         [0.0200],\n",
              "         [0.0400],\n",
              "         [0.0600],\n",
              "         [0.0800]]),\n",
              " tensor([[0.3000],\n",
              "         [0.3140],\n",
              "         [0.3280],\n",
              "         [0.3420],\n",
              "         [0.3560]]))"
            ]
          },
          "execution_count": 2,
          "metadata": {},
          "output_type": "execute_result"
        }
      ],
      "source": [
        "weight =0.7\n",
        "bias = 0.3\n",
        "\n",
        "X = torch.arange(0,1,0.02).unsqueeze(dim=1)\n",
        "y = X * weight + bias\n",
        "\n",
        "X[:5],y[:5]"
      ]
    },
    {
      "cell_type": "code",
      "execution_count": null,
      "metadata": {
        "colab": {
          "background_save": true,
          "base_uri": "https://localhost:8080/"
        },
        "id": "yTLllBm6iAjo",
        "outputId": "27a32501-7999-4e81-faa1-d4e58057af5a"
      },
      "outputs": [
        {
          "data": {
            "text/plain": [
              "(50, 50)"
            ]
          },
          "execution_count": 3,
          "metadata": {},
          "output_type": "execute_result"
        }
      ],
      "source": [
        "len(X),len(y)"
      ]
    },
    {
      "cell_type": "markdown",
      "metadata": {
        "id": "is3qmdi_mP3T"
      },
      "source": [
        "train_test_split\n"
      ]
    },
    {
      "cell_type": "code",
      "execution_count": null,
      "metadata": {
        "colab": {
          "background_save": true
        },
        "id": "8-yllWvbiAf4"
      },
      "outputs": [],
      "source": [
        "train_split = int(0.8 * len(X))\n"
      ]
    },
    {
      "cell_type": "code",
      "execution_count": null,
      "metadata": {
        "colab": {
          "background_save": true
        },
        "id": "i7-0mroYlwMQ"
      },
      "outputs": [],
      "source": [
        "X_train,y_train = X[:train_split],y[:train_split]\n",
        "X_test,y_test = X[train_split:],y[train_split:]"
      ]
    },
    {
      "cell_type": "code",
      "execution_count": null,
      "metadata": {
        "colab": {
          "background_save": true,
          "base_uri": "https://localhost:8080/"
        },
        "id": "CFlNImVpmGen",
        "outputId": "e166b292-2429-4b9b-fe45-f094c3d6214f"
      },
      "outputs": [
        {
          "data": {
            "text/plain": [
              "(40, 10, 40, 10)"
            ]
          },
          "execution_count": 6,
          "metadata": {},
          "output_type": "execute_result"
        }
      ],
      "source": [
        "len(X_train),len(X_test),len(y_train),len(y_test)"
      ]
    },
    {
      "cell_type": "code",
      "execution_count": null,
      "metadata": {
        "colab": {
          "background_save": true
        },
        "id": "WsKnITkgmIIz"
      },
      "outputs": [],
      "source": [
        "def plot_predictions(train_data=X_train,\n",
        "                     train_labels=y_train,\n",
        "                     test_data=X_test,\n",
        "                     test_labels=y_test,\n",
        "                     predictions=None):\n",
        "  \"\"\"\n",
        "  Plots training data, test data and compares predictions.\n",
        "  \"\"\"\n",
        "  plt.figure(figsize=(10, 7))\n",
        "\n",
        "  # Plot training data in blue\n",
        "  plt.scatter(train_data, train_labels, c=\"b\", s=4, label=\"Training data\")\n",
        "\n",
        "  # Plot test data in green\n",
        "  plt.scatter(test_data, test_labels, c=\"g\", s=4, label=\"Testing data\")\n",
        "\n",
        "  if predictions is not None:\n",
        "    # Plot the predictions in red (predictions were made on the test data)\n",
        "    plt.scatter(test_data, predictions, c=\"r\", s=4, label=\"Predictions\")\n",
        "\n",
        "  # Show the legend\n",
        "  plt.legend(prop={\"size\": 14});"
      ]
    },
    {
      "cell_type": "code",
      "execution_count": null,
      "metadata": {
        "colab": {
          "background_save": true,
          "base_uri": "https://localhost:8080/",
          "height": 599
        },
        "id": "FACzKDxToFtU",
        "outputId": "7a939130-b33b-4469-ad9e-bfae8cadd0fc"
      },
      "outputs": [
        {
          "data": {
            "image/png": "[encoded data removed]",
            "text/plain": [
              "<Figure size 1000x700 with 1 Axes>"
            ]
          },
          "metadata": {},
          "output_type": "display_data"
        }
      ],
      "source": [
        "plot_predictions()"
      ]
    },
    {
      "cell_type": "code",
      "execution_count": null,
      "metadata": {
        "colab": {
          "background_save": true
        },
        "id": "iXgSwaS8oH6t"
      },
      "outputs": [],
      "source": [
        "#model with pytorch\n",
        "class LinearRegression(nn.Module):\n",
        "  def __init__(self):\n",
        "    super().__init__()\n",
        "    self.weights = nn.Parameter(torch.randn(1,\n",
        "                                            requires_grad=True,\n",
        "                                            dtype=torch.float\n",
        "                                            ))\n",
        "    self.bias = nn.Parameter(torch.randn(1,\n",
        "                                         requires_grad=True,\n",
        "                                         dtype=torch.float))\n",
        "\n",
        "  def forward(self,x):\n",
        "    return self.weights * x + self.bias"
      ]
    },
    {
      "cell_type": "code",
      "execution_count": null,
      "metadata": {
        "colab": {
          "background_save": true
        },
        "id": "KScWxxottYg6"
      },
      "outputs": [],
      "source": [
        "lr = LinearRegression()\n"
      ]
    },
    {
      "cell_type": "code",
      "execution_count": null,
      "metadata": {
        "colab": {
          "background_save": true,
          "base_uri": "https://localhost:8080/"
        },
        "id": "u1pyAB25ybVu",
        "outputId": "f1dc8587-2ce2-43cc-9dd8-61993a6c4913"
      },
      "outputs": [
        {
          "data": {
            "text/plain": [
              "<torch._C.Generator at 0x79d4117290f0>"
            ]
          },
          "execution_count": 11,
          "metadata": {},
          "output_type": "execute_result"
        }
      ],
      "source": [
        "torch.manual_seed(42)"
      ]
    },
    {
      "cell_type": "code",
      "execution_count": null,
      "metadata": {
        "colab": {
          "background_save": true,
          "base_uri": "https://localhost:8080/"
        },
        "id": "lOBz3Dhxv-1B",
        "outputId": "997b4c61-c5f7-477d-fb67-e0ceaf2b65f7"
      },
      "outputs": [
        {
          "data": {
            "text/plain": [
              "LinearRegression()"
            ]
          },
          "execution_count": 12,
          "metadata": {},
          "output_type": "execute_result"
        }
      ],
      "source": [
        "lr"
      ]
    },
    {
      "cell_type": "code",
      "execution_count": null,
      "metadata": {
        "colab": {
          "background_save": true,
          "base_uri": "https://localhost:8080/"
        },
        "id": "XFkbtI4FyPUl",
        "outputId": "4fd63bf3-b157-47bd-c40c-f637dcd0f093"
      },
      "outputs": [
        {
          "data": {
            "text/plain": [
              "[Parameter containing:\n",
              " tensor([1.6459], requires_grad=True),\n",
              " Parameter containing:\n",
              " tensor([-1.0938], requires_grad=True)]"
            ]
          },
          "execution_count": 13,
          "metadata": {},
          "output_type": "execute_result"
        }
      ],
      "source": [
        "list(lr.parameters())"
      ]
    },
    {
      "cell_type": "code",
      "execution_count": null,
      "metadata": {
        "colab": {
          "background_save": true,
          "base_uri": "https://localhost:8080/"
        },
        "id": "sn-S3UBsyRxn",
        "outputId": "a20751bf-c2f2-4026-a663-087be5cf04dd"
      },
      "outputs": [
        {
          "data": {
            "text/plain": [
              "OrderedDict([('weights', tensor([1.6459])), ('bias', tensor([-1.0938]))])"
            ]
          },
          "execution_count": 14,
          "metadata": {},
          "output_type": "execute_result"
        }
      ],
      "source": [
        "lr.state_dict()"
      ]
    },
    {
      "cell_type": "code",
      "execution_count": null,
      "metadata": {
        "colab": {
          "background_save": true,
          "base_uri": "https://localhost:8080/"
        },
        "id": "1AtlS4aAzD-z",
        "outputId": "6d90f9cb-f5b7-46ce-8383-7ffb2bffd534"
      },
      "outputs": [
        {
          "data": {
            "text/plain": [
              "tensor([[0.2230],\n",
              "        [0.2559],\n",
              "        [0.2888],\n",
              "        [0.3217],\n",
              "        [0.3546],\n",
              "        [0.3875],\n",
              "        [0.4205],\n",
              "        [0.4534],\n",
              "        [0.4863],\n",
              "        [0.5192]])"
            ]
          },
          "execution_count": 15,
          "metadata": {},
          "output_type": "execute_result"
        }
      ],
      "source": [
        "#preds\n",
        "with torch.inference_mode():\n",
        "  y_preds = lr(X_test)\n",
        "y_preds"
      ]
    },
    {
      "cell_type": "code",
      "execution_count": null,
      "metadata": {
        "colab": {
          "background_save": true,
          "base_uri": "https://localhost:8080/",
          "height": 599
        },
        "id": "oZuSPuHj0Tj1",
        "outputId": "0197b517-44ef-4439-9a53-6f55753ec3a4"
      },
      "outputs": [
        {
          "data": {
            "image/png": "[encoded data removed]",
            "text/plain": [
              "<Figure size 1000x700 with 1 Axes>"
            ]
          },
          "metadata": {},
          "output_type": "display_data"
        }
      ],
      "source": [
        "plot_predictions(predictions=y_preds)"
      ]
    },
    {
      "cell_type": "code",
      "execution_count": null,
      "metadata": {
        "id": "Gt_HVh3F0fTx"
      },
      "outputs": [],
      "source": [
        "#loss func start\n",
        "lossfn = nn.L1Loss()\n",
        "#optimizer\n",
        "optimizer = torch.optim.SGD(params=lr.parameters(),\n",
        "                            lr=0.01)"
      ]
    },
    {
      "cell_type": "code",
      "execution_count": null,
      "metadata": {
        "colab": {
          "background_save": true,
          "base_uri": "https://localhost:8080/"
        },
        "id": "8J0uquJkQ6vs",
        "outputId": "397c7800-4e75-4f92-b04a-4a12a8f31775"
      },
      "outputs": [
        {
          "name": "stdout",
          "output_type": "stream",
          "text": [
            "loss: 0.024458957836031914\n",
            "epoch:0 ,test_loss:0.05646304413676262, loss:0.024458957836031914\n",
            "OrderedDict([('weights', tensor([0.5800])), ('bias', tensor([0.3503]))])\n",
            "loss: 0.024110013619065285\n",
            "loss: 0.02376994863152504\n",
            "loss: 0.02342480979859829\n",
            "loss: 0.023080935701727867\n",
            "loss: 0.022739607840776443\n",
            "loss: 0.022391926497220993\n",
            "loss: 0.022054409608244896\n",
            "loss: 0.02170540764927864\n",
            "loss: 0.021366719156503677\n",
            "loss: 0.021020207554101944\n",
            "epoch:10 ,test_loss:0.04819049686193466, loss:0.021020207554101944\n",
            "OrderedDict([('weights', tensor([0.5972])), ('bias', tensor([0.3433]))])\n",
            "loss: 0.020677709951996803\n",
            "loss: 0.02033500373363495\n",
            "loss: 0.01998869702219963\n",
            "loss: 0.019649803638458252\n",
            "loss: 0.019300809130072594\n",
            "loss: 0.018963487818837166\n",
            "loss: 0.01861560344696045\n",
            "loss: 0.018274478614330292\n",
            "loss: 0.017930403351783752\n",
            "loss: 0.01758546568453312\n",
            "epoch:20 ,test_loss:0.04060482233762741, loss:0.01758546568453312\n",
            "OrderedDict([('weights', tensor([0.6141])), ('bias', tensor([0.3358]))])\n",
            "loss: 0.017245199531316757\n",
            "loss: 0.016896454617381096\n",
            "loss: 0.01656000316143036\n",
            "loss: 0.016210997477173805\n",
            "loss: 0.01587124727666378\n",
            "loss: 0.015525798313319683\n",
            "loss: 0.015182236209511757\n",
            "loss: 0.014840595424175262\n",
            "loss: 0.01449323259294033\n",
            "loss: 0.014155393466353416\n",
            "epoch:30 ,test_loss:0.03233227878808975, loss:0.014155393466353416\n",
            "OrderedDict([('weights', tensor([0.6313])), ('bias', tensor([0.3288]))])\n",
            "loss: 0.013806397095322609\n",
            "loss: 0.013468016870319843\n",
            "loss: 0.013121193274855614\n",
            "loss: 0.01277900766581297\n",
            "loss: 0.012435992248356342\n",
            "loss: 0.01208999752998352\n",
            "loss: 0.011750795878469944\n",
            "loss: 0.011401787400245667\n",
            "loss: 0.011064787395298481\n",
            "loss: 0.010716589167714119\n",
            "epoch:40 ,test_loss:0.024059748277068138, loss:0.010716589167714119\n",
            "OrderedDict([('weights', tensor([0.6485])), ('bias', tensor([0.3218]))])\n",
            "loss: 0.010375778190791607\n",
            "loss: 0.010031387209892273\n",
            "loss: 0.009686763398349285\n",
            "loss: 0.009346187114715576\n",
            "loss: 0.008997755125164986\n",
            "loss: 0.008660981431603432\n",
            "loss: 0.008311985060572624\n",
            "loss: 0.007972544990479946\n",
            "loss: 0.007626785431057215\n",
            "loss: 0.0072835334576666355\n",
            "epoch:50 ,test_loss:0.016474086791276932, loss:0.0072835334576666355\n",
            "OrderedDict([('weights', tensor([0.6654])), ('bias', tensor([0.3143]))])\n",
            "loss: 0.006941580679267645\n",
            "loss: 0.006594526115804911\n",
            "loss: 0.006256377790123224\n",
            "loss: 0.005907376762479544\n",
            "loss: 0.005569315515458584\n",
            "loss: 0.005222178064286709\n",
            "loss: 0.004880306776612997\n",
            "loss: 0.004536976106464863\n",
            "loss: 0.00419129803776741\n",
            "loss: 0.0038517764769494534\n",
            "epoch:60 ,test_loss:0.008201557211577892, loss:0.0038517764769494534\n",
            "OrderedDict([('weights', tensor([0.6826])), ('bias', tensor([0.3073]))])\n",
            "loss: 0.0035027749836444855\n",
            "loss: 0.0031660839449614286\n",
            "loss: 0.002817571861669421\n",
            "loss: 0.0024770735763013363\n",
            "loss: 0.0021323717664927244\n",
            "loss: 0.0017880648374557495\n",
            "loss: 0.0014518328243866563\n",
            "loss: 0.0011887758737429976\n",
            "loss: 0.0025885067880153656\n",
            "loss: 0.008932482451200485\n",
            "epoch:70 ,test_loss:0.005023092031478882, loss:0.008932482451200485\n",
            "OrderedDict([('weights', tensor([0.6951])), ('bias', tensor([0.2993]))])\n",
            "loss: 0.0025885067880153656\n",
            "loss: 0.008932482451200485\n",
            "loss: 0.0025885067880153656\n",
            "loss: 0.008932482451200485\n",
            "loss: 0.0025885067880153656\n",
            "loss: 0.008932482451200485\n",
            "loss: 0.0025885067880153656\n",
            "loss: 0.008932482451200485\n",
            "loss: 0.0025885067880153656\n",
            "loss: 0.008932482451200485\n",
            "epoch:80 ,test_loss:0.005023092031478882, loss:0.008932482451200485\n",
            "OrderedDict([('weights', tensor([0.6951])), ('bias', tensor([0.2993]))])\n",
            "loss: 0.0025885067880153656\n",
            "loss: 0.008932482451200485\n",
            "loss: 0.0025885067880153656\n",
            "loss: 0.008932482451200485\n",
            "loss: 0.0025885067880153656\n",
            "loss: 0.008932482451200485\n",
            "loss: 0.0025885067880153656\n",
            "loss: 0.008932482451200485\n",
            "loss: 0.0025885067880153656\n",
            "loss: 0.008932482451200485\n",
            "epoch:90 ,test_loss:0.005023092031478882, loss:0.008932482451200485\n",
            "OrderedDict([('weights', tensor([0.6951])), ('bias', tensor([0.2993]))])\n",
            "loss: 0.0025885067880153656\n",
            "loss: 0.008932482451200485\n",
            "loss: 0.0025885067880153656\n",
            "loss: 0.008932482451200485\n",
            "loss: 0.0025885067880153656\n",
            "loss: 0.008932482451200485\n",
            "loss: 0.0025885067880153656\n",
            "loss: 0.008932482451200485\n",
            "loss: 0.0025885067880153656\n"
          ]
        }
      ],
      "source": [
        "torch.manual_seed(42)\n",
        "#training loop\n",
        "epoches = 100\n",
        "\n",
        "for epoch in range(epoches):\n",
        "  lr.train()\n",
        "  #forward\n",
        "  y_pred = lr(X_train)\n",
        "  #loss\n",
        "  loss = lossfn(y_pred,y_train)\n",
        "  print(f'loss: {loss}')\n",
        "  #optimizer\n",
        "  optimizer.zero_grad()\n",
        "  #backward\n",
        "  loss.backward()\n",
        "  #optimizer\n",
        "  optimizer.step()\n",
        "\n",
        "  #test\n",
        "  lr.eval()\n",
        "  with torch.inference_mode():\n",
        "    pred = lr(X_test)\n",
        "\n",
        "    test_loss = lossfn(pred,y_test)\n",
        "  if epoch % 10==0:\n",
        "    print(f'epoch:{epoch} ,test_loss:{test_loss}, loss:{loss}')\n",
        "    print(f'{lr.state_dict()}')"
      ]
    },
    {
      "cell_type": "code",
      "execution_count": null,
      "metadata": {
        "colab": {
          "base_uri": "https://localhost:8080/"
        },
        "id": "RZKSfS-8A5dN",
        "outputId": "be5b6780-bb4d-4a94-a91d-056af7898e31"
      },
      "outputs": [
        {
          "data": {
            "text/plain": [
              "tensor([[0.8685],\n",
              "        [0.8825],\n",
              "        [0.8965],\n",
              "        [0.9105],\n",
              "        [0.9245],\n",
              "        [0.9384],\n",
              "        [0.9524],\n",
              "        [0.9664],\n",
              "        [0.9804],\n",
              "        [0.9944]])"
            ]
          },
          "execution_count": 43,
          "metadata": {},
          "output_type": "execute_result"
        }
      ],
      "source": [
        "with torch.inference_mode():\n",
        "  y_pred = lr(X_test)\n",
        "y_pred"
      ]
    },
    {
      "cell_type": "code",
      "execution_count": null,
      "metadata": {
        "colab": {
          "base_uri": "https://localhost:8080/",
          "height": 599
        },
        "id": "8qxCs6-qB208",
        "outputId": "2e855aff-e7ee-4e36-d459-63502bf18f1d"
      },
      "outputs": [
        {
          "data": {
            "image/png": "[encoded data removed]",
            "text/plain": [
              "<Figure size 1000x700 with 1 Axes>"
            ]
          },
          "metadata": {},
          "output_type": "display_data"
        }
      ],
      "source": [
        "plot_predictions(predictions=y_pred)"
      ]
    },
    {
      "cell_type": "code",
      "execution_count": null,
      "metadata": {
        "id": "kIrQwy4PB-Ft"
      },
      "outputs": [],
      "source": []
    }
  ],
  "metadata": {
    "colab": {
      "provenance": [],
      "authorship_tag": "ABX9TyNoZZNcrjihkhIMXdfstuiZ",
      "include_colab_link": true
    },
    "kernelspec": {
      "display_name": "Python 3",
      "name": "python3"
    },
    "language_info": {
      "name": "python"
    }
  },
  "nbformat": 4,
  "nbformat_minor": 0
}