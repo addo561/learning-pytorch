{
 "cells": [
  {
   "cell_type": "code",
   "execution_count": 1,
   "id": "6c9ce643",
   "metadata": {
    "execution": {
     "iopub.execute_input": "2025-05-01T18:54:42.839287Z",
     "iopub.status.busy": "2025-05-01T18:54:42.839010Z",
     "iopub.status.idle": "2025-05-01T18:57:23.641257Z",
     "shell.execute_reply": "2025-05-01T18:57:23.640483Z"
    },
    "executionInfo": {
     "elapsed": 255010,
     "status": "ok",
     "timestamp": 1746116103874,
     "user": {
      "displayName": "Larry Addo KORLI",
      "userId": "13024330108174493901"
     },
     "user_tz": 0
    },
    "id": "NvIgxeKEXJFN",
    "outputId": "e826767d-0455-4ac7-ff2d-6b2f128daaf1",
    "papermill": {
     "duration": 160.827512,
     "end_time": "2025-05-01T18:57:23.642656",
     "exception": false,
     "start_time": "2025-05-01T18:54:42.815144",
     "status": "completed"
    },
    "tags": []
   },
   "outputs": [
    {
     "name": "stdout",
     "output_type": "stream",
     "text": [
      "Collecting torch==2.3.0\r\n",
      "  Downloading torch-2.3.0-cp311-cp311-manylinux1_x86_64.whl.metadata (26 kB)\r\n",
      "Requirement already satisfied: filelock in /usr/local/lib/python3.11/dist-packages (from torch==2.3.0) (3.18.0)\r\n",
      "Requirement already satisfied: typing-extensions>=4.8.0 in /usr/local/lib/python3.11/dist-packages (from torch==2.3.0) (4.13.1)\r\n",
      "Requirement already satisfied: sympy in /usr/local/lib/python3.11/dist-packages (from torch==2.3.0) (1.13.1)\r\n",
      "Requirement already satisfied: networkx in /usr/local/lib/python3.11/dist-packages (from torch==2.3.0) (3.4.2)\r\n",
      "Requirement already satisfied: jinja2 in /usr/local/lib/python3.11/dist-packages (from torch==2.3.0) (3.1.6)\r\n",
      "Requirement already satisfied: fsspec in /usr/local/lib/python3.11/dist-packages (from torch==2.3.0) (2025.3.2)\r\n",
      "Collecting nvidia-cuda-nvrtc-cu12==12.1.105 (from torch==2.3.0)\r\n",
      "  Downloading nvidia_cuda_nvrtc_cu12-12.1.105-py3-none-manylinux1_x86_64.whl.metadata (1.5 kB)\r\n",
      "Collecting nvidia-cuda-runtime-cu12==12.1.105 (from torch==2.3.0)\r\n",
      "  Downloading nvidia_cuda_runtime_cu12-12.1.105-py3-none-manylinux1_x86_64.whl.metadata (1.5 kB)\r\n",
      "Collecting nvidia-cuda-cupti-cu12==12.1.105 (from torch==2.3.0)\r\n",
      "  Downloading nvidia_cuda_cupti_cu12-12.1.105-py3-none-manylinux1_x86_64.whl.metadata (1.6 kB)\r\n",
      "Collecting nvidia-cudnn-cu12==8.9.2.26 (from torch==2.3.0)\r\n",
      "  Downloading nvidia_cudnn_cu12-8.9.2.26-py3-none-manylinux1_x86_64.whl.metadata (1.6 kB)\r\n",
      "Collecting nvidia-cublas-cu12==12.1.3.1 (from torch==2.3.0)\r\n",
      "  Downloading nvidia_cublas_cu12-12.1.3.1-py3-none-manylinux1_x86_64.whl.metadata (1.5 kB)\r\n",
      "Collecting nvidia-cufft-cu12==11.0.2.54 (from torch==2.3.0)\r\n",
      "  Downloading nvidia_cufft_cu12-11.0.2.54-py3-none-manylinux1_x86_64.whl.metadata (1.5 kB)\r\n",
      "Collecting nvidia-curand-cu12==10.3.2.106 (from torch==2.3.0)\r\n",
      "  Downloading nvidia_curand_cu12-10.3.2.106-py3-none-manylinux1_x86_64.whl.metadata (1.5 kB)\r\n",
      "Collecting nvidia-cusolver-cu12==11.4.5.107 (from torch==2.3.0)\r\n",
      "  Downloading nvidia_cusolver_cu12-11.4.5.107-py3-none-manylinux1_x86_64.whl.metadata (1.6 kB)\r\n",
      "Collecting nvidia-cusparse-cu12==12.1.0.106 (from torch==2.3.0)\r\n",
      "  Downloading nvidia_cusparse_cu12-12.1.0.106-py3-none-manylinux1_x86_64.whl.metadata (1.6 kB)\r\n",
      "Collecting nvidia-nccl-cu12==2.20.5 (from torch==2.3.0)\r\n",
      "  Downloading nvidia_nccl_cu12-2.20.5-py3-none-manylinux2014_x86_64.whl.metadata (1.8 kB)\r\n",
      "Collecting nvidia-nvtx-cu12==12.1.105 (from torch==2.3.0)\r\n",
      "  Downloading nvidia_nvtx_cu12-12.1.105-py3-none-manylinux1_x86_64.whl.metadata (1.7 kB)\r\n",
      "Collecting triton==2.3.0 (from torch==2.3.0)\r\n",
      "  Downloading triton-2.3.0-cp311-cp311-manylinux_2_17_x86_64.manylinux2014_x86_64.whl.metadata (1.4 kB)\r\n",
      "Requirement already satisfied: nvidia-nvjitlink-cu12 in /usr/local/lib/python3.11/dist-packages (from nvidia-cusolver-cu12==11.4.5.107->torch==2.3.0) (12.8.93)\r\n",
      "Requirement already satisfied: MarkupSafe>=2.0 in /usr/local/lib/python3.11/dist-packages (from jinja2->torch==2.3.0) (3.0.2)\r\n",
      "Requirement already satisfied: mpmath<1.4,>=1.1.0 in /usr/local/lib/python3.11/dist-packages (from sympy->torch==2.3.0) (1.3.0)\r\n",
      "Downloading torch-2.3.0-cp311-cp311-manylinux1_x86_64.whl (779.2 MB)\r\n",
      "\u001b[2K   \u001b[90m━━━━━━━━━━━━━━━━━━━━━━━━━━━━━━━━━━━━━━━━\u001b[0m \u001b[32m779.2/779.2 MB\u001b[0m \u001b[31m2.2 MB/s\u001b[0m eta \u001b[36m0:00:00\u001b[0m\r\n",
      "\u001b[?25hDownloading nvidia_cublas_cu12-12.1.3.1-py3-none-manylinux1_x86_64.whl (410.6 MB)\r\n",
      "\u001b[2K   \u001b[90m━━━━━━━━━━━━━━━━━━━━━━━━━━━━━━━━━━━━━━━━\u001b[0m \u001b[32m410.6/410.6 MB\u001b[0m \u001b[31m3.6 MB/s\u001b[0m eta \u001b[36m0:00:00\u001b[0m\r\n",
      "\u001b[?25hDownloading nvidia_cuda_cupti_cu12-12.1.105-py3-none-manylinux1_x86_64.whl (14.1 MB)\r\n",
      "\u001b[2K   \u001b[90m━━━━━━━━━━━━━━━━━━━━━━━━━━━━━━━━━━━━━━━━\u001b[0m \u001b[32m14.1/14.1 MB\u001b[0m \u001b[31m81.7 MB/s\u001b[0m eta \u001b[36m0:00:00\u001b[0m\r\n",
      "\u001b[?25hDownloading nvidia_cuda_nvrtc_cu12-12.1.105-py3-none-manylinux1_x86_64.whl (23.7 MB)\r\n",
      "\u001b[2K   \u001b[90m━━━━━━━━━━━━━━━━━━━━━━━━━━━━━━━━━━━━━━━━\u001b[0m \u001b[32m23.7/23.7 MB\u001b[0m \u001b[31m58.3 MB/s\u001b[0m eta \u001b[36m0:00:00\u001b[0m\r\n",
      "\u001b[?25hDownloading nvidia_cuda_runtime_cu12-12.1.105-py3-none-manylinux1_x86_64.whl (823 kB)\r\n",
      "\u001b[2K   \u001b[90m━━━━━━━━━━━━━━━━━━━━━━━━━━━━━━━━━━━━━━━━\u001b[0m \u001b[32m823.6/823.6 kB\u001b[0m \u001b[31m47.3 MB/s\u001b[0m eta \u001b[36m0:00:00\u001b[0m\r\n",
      "\u001b[?25hDownloading nvidia_cudnn_cu12-8.9.2.26-py3-none-manylinux1_x86_64.whl (731.7 MB)\r\n",
      "\u001b[2K   \u001b[90m━━━━━━━━━━━━━━━━━━━━━━━━━━━━━━━━━━━━━━━━\u001b[0m \u001b[32m731.7/731.7 MB\u001b[0m \u001b[31m1.5 MB/s\u001b[0m eta \u001b[36m0:00:00\u001b[0m\r\n",
      "\u001b[?25hDownloading nvidia_cufft_cu12-11.0.2.54-py3-none-manylinux1_x86_64.whl (121.6 MB)\r\n",
      "\u001b[2K   \u001b[90m━━━━━━━━━━━━━━━━━━━━━━━━━━━━━━━━━━━━━━━━\u001b[0m \u001b[32m121.6/121.6 MB\u001b[0m \u001b[31m3.8 MB/s\u001b[0m eta \u001b[36m0:00:00\u001b[0m\r\n",
      "\u001b[?25hDownloading nvidia_curand_cu12-10.3.2.106-py3-none-manylinux1_x86_64.whl (56.5 MB)\r\n",
      "\u001b[2K   \u001b[90m━━━━━━━━━━━━━━━━━━━━━━━━━━━━━━━━━━━━━━━━\u001b[0m \u001b[32m56.5/56.5 MB\u001b[0m \u001b[31m28.5 MB/s\u001b[0m eta \u001b[36m0:00:00\u001b[0m\r\n",
      "\u001b[?25hDownloading nvidia_cusolver_cu12-11.4.5.107-py3-none-manylinux1_x86_64.whl (124.2 MB)\r\n",
      "\u001b[2K   \u001b[90m━━━━━━━━━━━━━━━━━━━━━━━━━━━━━━━━━━━━━━━━\u001b[0m \u001b[32m124.2/124.2 MB\u001b[0m \u001b[31m14.0 MB/s\u001b[0m eta \u001b[36m0:00:00\u001b[0m\r\n",
      "\u001b[?25hDownloading nvidia_cusparse_cu12-12.1.0.106-py3-none-manylinux1_x86_64.whl (196.0 MB)\r\n",
      "\u001b[2K   \u001b[90m━━━━━━━━━━━━━━━━━━━━━━━━━━━━━━━━━━━━━━━━\u001b[0m \u001b[32m196.0/196.0 MB\u001b[0m \u001b[31m8.6 MB/s\u001b[0m eta \u001b[36m0:00:00\u001b[0m\r\n",
      "\u001b[?25hDownloading nvidia_nccl_cu12-2.20.5-py3-none-manylinux2014_x86_64.whl (176.2 MB)\r\n",
      "\u001b[2K   \u001b[90m━━━━━━━━━━━━━━━━━━━━━━━━━━━━━━━━━━━━━━━━\u001b[0m \u001b[32m176.2/176.2 MB\u001b[0m \u001b[31m9.6 MB/s\u001b[0m eta \u001b[36m0:00:00\u001b[0m\r\n",
      "\u001b[?25hDownloading nvidia_nvtx_cu12-12.1.105-py3-none-manylinux1_x86_64.whl (99 kB)\r\n",
      "\u001b[2K   \u001b[90m━━━━━━━━━━━━━━━━━━━━━━━━━━━━━━━━━━━━━━━━\u001b[0m \u001b[32m99.1/99.1 kB\u001b[0m \u001b[31m6.1 MB/s\u001b[0m eta \u001b[36m0:00:00\u001b[0m\r\n",
      "\u001b[?25hDownloading triton-2.3.0-cp311-cp311-manylinux_2_17_x86_64.manylinux2014_x86_64.whl (168.1 MB)\r\n",
      "\u001b[2K   \u001b[90m━━━━━━━━━━━━━━━━━━━━━━━━━━━━━━━━━━━━━━━━\u001b[0m \u001b[32m168.1/168.1 MB\u001b[0m \u001b[31m10.0 MB/s\u001b[0m eta \u001b[36m0:00:00\u001b[0m\r\n",
      "\u001b[?25hInstalling collected packages: triton, nvidia-nvtx-cu12, nvidia-nccl-cu12, nvidia-cusparse-cu12, nvidia-curand-cu12, nvidia-cufft-cu12, nvidia-cuda-runtime-cu12, nvidia-cuda-nvrtc-cu12, nvidia-cuda-cupti-cu12, nvidia-cublas-cu12, nvidia-cusolver-cu12, nvidia-cudnn-cu12, torch\r\n",
      "  Attempting uninstall: triton\r\n",
      "    Found existing installation: triton 3.1.0\r\n",
      "    Uninstalling triton-3.1.0:\r\n",
      "      Successfully uninstalled triton-3.1.0\r\n",
      "  Attempting uninstall: nvidia-nvtx-cu12\r\n",
      "    Found existing installation: nvidia-nvtx-cu12 12.4.127\r\n",
      "    Uninstalling nvidia-nvtx-cu12-12.4.127:\r\n",
      "      Successfully uninstalled nvidia-nvtx-cu12-12.4.127\r\n",
      "  Attempting uninstall: nvidia-nccl-cu12\r\n",
      "    Found existing installation: nvidia-nccl-cu12 2.21.5\r\n",
      "    Uninstalling nvidia-nccl-cu12-2.21.5:\r\n",
      "      Successfully uninstalled nvidia-nccl-cu12-2.21.5\r\n",
      "  Attempting uninstall: nvidia-cusparse-cu12\r\n",
      "    Found existing installation: nvidia-cusparse-cu12 12.5.8.93\r\n",
      "    Uninstalling nvidia-cusparse-cu12-12.5.8.93:\r\n",
      "      Successfully uninstalled nvidia-cusparse-cu12-12.5.8.93\r\n",
      "  Attempting uninstall: nvidia-curand-cu12\r\n",
      "    Found existing installation: nvidia-curand-cu12 10.3.9.90\r\n",
      "    Uninstalling nvidia-curand-cu12-10.3.9.90:\r\n",
      "      Successfully uninstalled nvidia-curand-cu12-10.3.9.90\r\n",
      "  Attempting uninstall: nvidia-cufft-cu12\r\n",
      "    Found existing installation: nvidia-cufft-cu12 11.3.3.83\r\n",
      "    Uninstalling nvidia-cufft-cu12-11.3.3.83:\r\n",
      "      Successfully uninstalled nvidia-cufft-cu12-11.3.3.83\r\n",
      "  Attempting uninstall: nvidia-cuda-runtime-cu12\r\n",
      "    Found existing installation: nvidia-cuda-runtime-cu12 12.4.127\r\n",
      "    Uninstalling nvidia-cuda-runtime-cu12-12.4.127:\r\n",
      "      Successfully uninstalled nvidia-cuda-runtime-cu12-12.4.127\r\n",
      "  Attempting uninstall: nvidia-cuda-nvrtc-cu12\r\n",
      "    Found existing installation: nvidia-cuda-nvrtc-cu12 12.4.127\r\n",
      "    Uninstalling nvidia-cuda-nvrtc-cu12-12.4.127:\r\n",
      "      Successfully uninstalled nvidia-cuda-nvrtc-cu12-12.4.127\r\n",
      "  Attempting uninstall: nvidia-cuda-cupti-cu12\r\n",
      "    Found existing installation: nvidia-cuda-cupti-cu12 12.4.127\r\n",
      "    Uninstalling nvidia-cuda-cupti-cu12-12.4.127:\r\n",
      "      Successfully uninstalled nvidia-cuda-cupti-cu12-12.4.127\r\n",
      "  Attempting uninstall: nvidia-cublas-cu12\r\n",
      "    Found existing installation: nvidia-cublas-cu12 12.8.4.1\r\n",
      "    Uninstalling nvidia-cublas-cu12-12.8.4.1:\r\n",
      "      Successfully uninstalled nvidia-cublas-cu12-12.8.4.1\r\n",
      "  Attempting uninstall: nvidia-cusolver-cu12\r\n",
      "    Found existing installation: nvidia-cusolver-cu12 11.7.3.90\r\n",
      "    Uninstalling nvidia-cusolver-cu12-11.7.3.90:\r\n",
      "      Successfully uninstalled nvidia-cusolver-cu12-11.7.3.90\r\n",
      "  Attempting uninstall: nvidia-cudnn-cu12\r\n",
      "    Found existing installation: nvidia-cudnn-cu12 9.3.0.75\r\n",
      "    Uninstalling nvidia-cudnn-cu12-9.3.0.75:\r\n",
      "      Successfully uninstalled nvidia-cudnn-cu12-9.3.0.75\r\n",
      "  Attempting uninstall: torch\r\n",
      "    Found existing installation: torch 2.5.1+cu124\r\n",
      "    Uninstalling torch-2.5.1+cu124:\r\n",
      "      Successfully uninstalled torch-2.5.1+cu124\r\n",
      "\u001b[31mERROR: pip's dependency resolver does not currently take into account all the packages that are installed. This behaviour is the source of the following dependency conflicts.\r\n",
      "torchvision 0.20.1+cu124 requires torch==2.5.1, but you have torch 2.3.0 which is incompatible.\r\n",
      "torchaudio 2.5.1+cu124 requires torch==2.5.1, but you have torch 2.3.0 which is incompatible.\r\n",
      "pylibcugraph-cu12 24.12.0 requires pylibraft-cu12==24.12.*, but you have pylibraft-cu12 25.2.0 which is incompatible.\r\n",
      "pylibcugraph-cu12 24.12.0 requires rmm-cu12==24.12.*, but you have rmm-cu12 25.2.0 which is incompatible.\u001b[0m\u001b[31m\r\n",
      "\u001b[0mSuccessfully installed nvidia-cublas-cu12-12.1.3.1 nvidia-cuda-cupti-cu12-12.1.105 nvidia-cuda-nvrtc-cu12-12.1.105 nvidia-cuda-runtime-cu12-12.1.105 nvidia-cudnn-cu12-8.9.2.26 nvidia-cufft-cu12-11.0.2.54 nvidia-curand-cu12-10.3.2.106 nvidia-cusolver-cu12-11.4.5.107 nvidia-cusparse-cu12-12.1.0.106 nvidia-nccl-cu12-2.20.5 nvidia-nvtx-cu12-12.1.105 torch-2.3.0 triton-2.3.0\r\n",
      "Collecting torchtext==0.18\r\n",
      "  Downloading torchtext-0.18.0-cp311-cp311-manylinux1_x86_64.whl.metadata (7.9 kB)\r\n",
      "Requirement already satisfied: tqdm in /usr/local/lib/python3.11/dist-packages (from torchtext==0.18) (4.67.1)\r\n",
      "Requirement already satisfied: requests in /usr/local/lib/python3.11/dist-packages (from torchtext==0.18) (2.32.3)\r\n",
      "Requirement already satisfied: torch>=2.3.0 in /usr/local/lib/python3.11/dist-packages (from torchtext==0.18) (2.3.0)\r\n",
      "Requirement already satisfied: numpy in /usr/local/lib/python3.11/dist-packages (from torchtext==0.18) (1.26.4)\r\n",
      "Requirement already satisfied: filelock in /usr/local/lib/python3.11/dist-packages (from torch>=2.3.0->torchtext==0.18) (3.18.0)\r\n",
      "Requirement already satisfied: typing-extensions>=4.8.0 in /usr/local/lib/python3.11/dist-packages (from torch>=2.3.0->torchtext==0.18) (4.13.1)\r\n",
      "Requirement already satisfied: sympy in /usr/local/lib/python3.11/dist-packages (from torch>=2.3.0->torchtext==0.18) (1.13.1)\r\n",
      "Requirement already satisfied: networkx in /usr/local/lib/python3.11/dist-packages (from torch>=2.3.0->torchtext==0.18) (3.4.2)\r\n",
      "Requirement already satisfied: jinja2 in /usr/local/lib/python3.11/dist-packages (from torch>=2.3.0->torchtext==0.18) (3.1.6)\r\n",
      "Requirement already satisfied: fsspec in /usr/local/lib/python3.11/dist-packages (from torch>=2.3.0->torchtext==0.18) (2025.3.2)\r\n",
      "Requirement already satisfied: nvidia-cuda-nvrtc-cu12==12.1.105 in /usr/local/lib/python3.11/dist-packages (from torch>=2.3.0->torchtext==0.18) (12.1.105)\r\n",
      "Requirement already satisfied: nvidia-cuda-runtime-cu12==12.1.105 in /usr/local/lib/python3.11/dist-packages (from torch>=2.3.0->torchtext==0.18) (12.1.105)\r\n",
      "Requirement already satisfied: nvidia-cuda-cupti-cu12==12.1.105 in /usr/local/lib/python3.11/dist-packages (from torch>=2.3.0->torchtext==0.18) (12.1.105)\r\n",
      "Requirement already satisfied: nvidia-cudnn-cu12==8.9.2.26 in /usr/local/lib/python3.11/dist-packages (from torch>=2.3.0->torchtext==0.18) (8.9.2.26)\r\n",
      "Requirement already satisfied: nvidia-cublas-cu12==12.1.3.1 in /usr/local/lib/python3.11/dist-packages (from torch>=2.3.0->torchtext==0.18) (12.1.3.1)\r\n",
      "Requirement already satisfied: nvidia-cufft-cu12==11.0.2.54 in /usr/local/lib/python3.11/dist-packages (from torch>=2.3.0->torchtext==0.18) (11.0.2.54)\r\n",
      "Requirement already satisfied: nvidia-curand-cu12==10.3.2.106 in /usr/local/lib/python3.11/dist-packages (from torch>=2.3.0->torchtext==0.18) (10.3.2.106)\r\n",
      "Requirement already satisfied: nvidia-cusolver-cu12==11.4.5.107 in /usr/local/lib/python3.11/dist-packages (from torch>=2.3.0->torchtext==0.18) (11.4.5.107)\r\n",
      "Requirement already satisfied: nvidia-cusparse-cu12==12.1.0.106 in /usr/local/lib/python3.11/dist-packages (from torch>=2.3.0->torchtext==0.18) (12.1.0.106)\r\n",
      "Requirement already satisfied: nvidia-nccl-cu12==2.20.5 in /usr/local/lib/python3.11/dist-packages (from torch>=2.3.0->torchtext==0.18) (2.20.5)\r\n",
      "Requirement already satisfied: nvidia-nvtx-cu12==12.1.105 in /usr/local/lib/python3.11/dist-packages (from torch>=2.3.0->torchtext==0.18) (12.1.105)\r\n",
      "Requirement already satisfied: triton==2.3.0 in /usr/local/lib/python3.11/dist-packages (from torch>=2.3.0->torchtext==0.18) (2.3.0)\r\n",
      "Requirement already satisfied: nvidia-nvjitlink-cu12 in /usr/local/lib/python3.11/dist-packages (from nvidia-cusolver-cu12==11.4.5.107->torch>=2.3.0->torchtext==0.18) (12.8.93)\r\n",
      "Requirement already satisfied: mkl_fft in /usr/local/lib/python3.11/dist-packages (from numpy->torchtext==0.18) (1.3.8)\r\n",
      "Requirement already satisfied: mkl_random in /usr/local/lib/python3.11/dist-packages (from numpy->torchtext==0.18) (1.2.4)\r\n",
      "Requirement already satisfied: mkl_umath in /usr/local/lib/python3.11/dist-packages (from numpy->torchtext==0.18) (0.1.1)\r\n",
      "Requirement already satisfied: mkl in /usr/local/lib/python3.11/dist-packages (from numpy->torchtext==0.18) (2025.1.0)\r\n",
      "Requirement already satisfied: tbb4py in /usr/local/lib/python3.11/dist-packages (from numpy->torchtext==0.18) (2022.1.0)\r\n",
      "Requirement already satisfied: mkl-service in /usr/local/lib/python3.11/dist-packages (from numpy->torchtext==0.18) (2.4.1)\r\n",
      "Requirement already satisfied: charset-normalizer<4,>=2 in /usr/local/lib/python3.11/dist-packages (from requests->torchtext==0.18) (3.4.1)\r\n",
      "Requirement already satisfied: idna<4,>=2.5 in /usr/local/lib/python3.11/dist-packages (from requests->torchtext==0.18) (3.10)\r\n",
      "Requirement already satisfied: urllib3<3,>=1.21.1 in /usr/local/lib/python3.11/dist-packages (from requests->torchtext==0.18) (2.3.0)\r\n",
      "Requirement already satisfied: certifi>=2017.4.17 in /usr/local/lib/python3.11/dist-packages (from requests->torchtext==0.18) (2025.1.31)\r\n",
      "Requirement already satisfied: MarkupSafe>=2.0 in /usr/local/lib/python3.11/dist-packages (from jinja2->torch>=2.3.0->torchtext==0.18) (3.0.2)\r\n",
      "Requirement already satisfied: intel-openmp<2026,>=2024 in /usr/local/lib/python3.11/dist-packages (from mkl->numpy->torchtext==0.18) (2024.2.0)\r\n",
      "Requirement already satisfied: tbb==2022.* in /usr/local/lib/python3.11/dist-packages (from mkl->numpy->torchtext==0.18) (2022.1.0)\r\n",
      "Requirement already satisfied: tcmlib==1.* in /usr/local/lib/python3.11/dist-packages (from tbb==2022.*->mkl->numpy->torchtext==0.18) (1.2.0)\r\n",
      "Requirement already satisfied: intel-cmplr-lib-rt in /usr/local/lib/python3.11/dist-packages (from mkl_umath->numpy->torchtext==0.18) (2024.2.0)\r\n",
      "Requirement already satisfied: mpmath<1.4,>=1.1.0 in /usr/local/lib/python3.11/dist-packages (from sympy->torch>=2.3.0->torchtext==0.18) (1.3.0)\r\n",
      "Requirement already satisfied: intel-cmplr-lib-ur==2024.2.0 in /usr/local/lib/python3.11/dist-packages (from intel-openmp<2026,>=2024->mkl->numpy->torchtext==0.18) (2024.2.0)\r\n",
      "Downloading torchtext-0.18.0-cp311-cp311-manylinux1_x86_64.whl (2.0 MB)\r\n",
      "\u001b[2K   \u001b[90m━━━━━━━━━━━━━━━━━━━━━━━━━━━━━━━━━━━━━━━━\u001b[0m \u001b[32m2.0/2.0 MB\u001b[0m \u001b[31m27.4 MB/s\u001b[0m eta \u001b[36m0:00:00\u001b[0m\r\n",
      "\u001b[?25hInstalling collected packages: torchtext\r\n",
      "Successfully installed torchtext-0.18.0\r\n"
     ]
    }
   ],
   "source": [
    "!pip install -U torch==2.3.0\n",
    "!pip install -U torchtext==0.18"
   ]
  },
  {
   "cell_type": "code",
   "execution_count": 2,
   "id": "2403c006",
   "metadata": {
    "execution": {
     "iopub.execute_input": "2025-05-01T18:57:23.759595Z",
     "iopub.status.busy": "2025-05-01T18:57:23.759323Z",
     "iopub.status.idle": "2025-05-01T18:57:27.363072Z",
     "shell.execute_reply": "2025-05-01T18:57:27.362120Z"
    },
    "executionInfo": {
     "elapsed": 10032,
     "status": "ok",
     "timestamp": 1746116113911,
     "user": {
      "displayName": "Larry Addo KORLI",
      "userId": "13024330108174493901"
     },
     "user_tz": 0
    },
    "id": "moY2iv8QGHja",
    "outputId": "31b1eea7-2ab4-4b13-bf10-da6d26e65623",
    "papermill": {
     "duration": 3.663663,
     "end_time": "2025-05-01T18:57:27.364384",
     "exception": false,
     "start_time": "2025-05-01T18:57:23.700721",
     "status": "completed"
    },
    "tags": []
   },
   "outputs": [
    {
     "name": "stdout",
     "output_type": "stream",
     "text": [
      "Requirement already satisfied: datasets in /usr/local/lib/python3.11/dist-packages (3.5.0)\r\n",
      "Requirement already satisfied: filelock in /usr/local/lib/python3.11/dist-packages (from datasets) (3.18.0)\r\n",
      "Requirement already satisfied: numpy>=1.17 in /usr/local/lib/python3.11/dist-packages (from datasets) (1.26.4)\r\n",
      "Requirement already satisfied: pyarrow>=15.0.0 in /usr/local/lib/python3.11/dist-packages (from datasets) (19.0.1)\r\n",
      "Requirement already satisfied: dill<0.3.9,>=0.3.0 in /usr/local/lib/python3.11/dist-packages (from datasets) (0.3.8)\r\n",
      "Requirement already satisfied: pandas in /usr/local/lib/python3.11/dist-packages (from datasets) (2.2.3)\r\n",
      "Requirement already satisfied: requests>=2.32.2 in /usr/local/lib/python3.11/dist-packages (from datasets) (2.32.3)\r\n",
      "Requirement already satisfied: tqdm>=4.66.3 in /usr/local/lib/python3.11/dist-packages (from datasets) (4.67.1)\r\n",
      "Requirement already satisfied: xxhash in /usr/local/lib/python3.11/dist-packages (from datasets) (3.5.0)\r\n",
      "Requirement already satisfied: multiprocess<0.70.17 in /usr/local/lib/python3.11/dist-packages (from datasets) (0.70.16)\r\n",
      "Collecting fsspec<=2024.12.0,>=2023.1.0 (from fsspec[http]<=2024.12.0,>=2023.1.0->datasets)\r\n",
      "  Downloading fsspec-2024.12.0-py3-none-any.whl.metadata (11 kB)\r\n",
      "Requirement already satisfied: aiohttp in /usr/local/lib/python3.11/dist-packages (from datasets) (3.11.16)\r\n",
      "Requirement already satisfied: huggingface-hub>=0.24.0 in /usr/local/lib/python3.11/dist-packages (from datasets) (0.30.2)\r\n",
      "Requirement already satisfied: packaging in /usr/local/lib/python3.11/dist-packages (from datasets) (24.2)\r\n",
      "Requirement already satisfied: pyyaml>=5.1 in /usr/local/lib/python3.11/dist-packages (from datasets) (6.0.2)\r\n",
      "Requirement already satisfied: aiohappyeyeballs>=2.3.0 in /usr/local/lib/python3.11/dist-packages (from aiohttp->datasets) (2.6.1)\r\n",
      "Requirement already satisfied: aiosignal>=1.1.2 in /usr/local/lib/python3.11/dist-packages (from aiohttp->datasets) (1.3.2)\r\n",
      "Requirement already satisfied: attrs>=17.3.0 in /usr/local/lib/python3.11/dist-packages (from aiohttp->datasets) (25.3.0)\r\n",
      "Requirement already satisfied: frozenlist>=1.1.1 in /usr/local/lib/python3.11/dist-packages (from aiohttp->datasets) (1.5.0)\r\n",
      "Requirement already satisfied: multidict<7.0,>=4.5 in /usr/local/lib/python3.11/dist-packages (from aiohttp->datasets) (6.2.0)\r\n",
      "Requirement already satisfied: propcache>=0.2.0 in /usr/local/lib/python3.11/dist-packages (from aiohttp->datasets) (0.3.1)\r\n",
      "Requirement already satisfied: yarl<2.0,>=1.17.0 in /usr/local/lib/python3.11/dist-packages (from aiohttp->datasets) (1.19.0)\r\n",
      "Requirement already satisfied: typing-extensions>=3.7.4.3 in /usr/local/lib/python3.11/dist-packages (from huggingface-hub>=0.24.0->datasets) (4.13.1)\r\n",
      "Requirement already satisfied: mkl_fft in /usr/local/lib/python3.11/dist-packages (from numpy>=1.17->datasets) (1.3.8)\r\n",
      "Requirement already satisfied: mkl_random in /usr/local/lib/python3.11/dist-packages (from numpy>=1.17->datasets) (1.2.4)\r\n",
      "Requirement already satisfied: mkl_umath in /usr/local/lib/python3.11/dist-packages (from numpy>=1.17->datasets) (0.1.1)\r\n",
      "Requirement already satisfied: mkl in /usr/local/lib/python3.11/dist-packages (from numpy>=1.17->datasets) (2025.1.0)\r\n",
      "Requirement already satisfied: tbb4py in /usr/local/lib/python3.11/dist-packages (from numpy>=1.17->datasets) (2022.1.0)\r\n",
      "Requirement already satisfied: mkl-service in /usr/local/lib/python3.11/dist-packages (from numpy>=1.17->datasets) (2.4.1)\r\n",
      "Requirement already satisfied: charset-normalizer<4,>=2 in /usr/local/lib/python3.11/dist-packages (from requests>=2.32.2->datasets) (3.4.1)\r\n",
      "Requirement already satisfied: idna<4,>=2.5 in /usr/local/lib/python3.11/dist-packages (from requests>=2.32.2->datasets) (3.10)\r\n",
      "Requirement already satisfied: urllib3<3,>=1.21.1 in /usr/local/lib/python3.11/dist-packages (from requests>=2.32.2->datasets) (2.3.0)\r\n",
      "Requirement already satisfied: certifi>=2017.4.17 in /usr/local/lib/python3.11/dist-packages (from requests>=2.32.2->datasets) (2025.1.31)\r\n",
      "Requirement already satisfied: python-dateutil>=2.8.2 in /usr/local/lib/python3.11/dist-packages (from pandas->datasets) (2.9.0.post0)\r\n",
      "Requirement already satisfied: pytz>=2020.1 in /usr/local/lib/python3.11/dist-packages (from pandas->datasets) (2025.2)\r\n",
      "Requirement already satisfied: tzdata>=2022.7 in /usr/local/lib/python3.11/dist-packages (from pandas->datasets) (2025.2)\r\n",
      "Requirement already satisfied: six>=1.5 in /usr/local/lib/python3.11/dist-packages (from python-dateutil>=2.8.2->pandas->datasets) (1.17.0)\r\n",
      "Requirement already satisfied: intel-openmp<2026,>=2024 in /usr/local/lib/python3.11/dist-packages (from mkl->numpy>=1.17->datasets) (2024.2.0)\r\n",
      "Requirement already satisfied: tbb==2022.* in /usr/local/lib/python3.11/dist-packages (from mkl->numpy>=1.17->datasets) (2022.1.0)\r\n",
      "Requirement already satisfied: tcmlib==1.* in /usr/local/lib/python3.11/dist-packages (from tbb==2022.*->mkl->numpy>=1.17->datasets) (1.2.0)\r\n",
      "Requirement already satisfied: intel-cmplr-lib-rt in /usr/local/lib/python3.11/dist-packages (from mkl_umath->numpy>=1.17->datasets) (2024.2.0)\r\n",
      "Requirement already satisfied: intel-cmplr-lib-ur==2024.2.0 in /usr/local/lib/python3.11/dist-packages (from intel-openmp<2026,>=2024->mkl->numpy>=1.17->datasets) (2024.2.0)\r\n",
      "Downloading fsspec-2024.12.0-py3-none-any.whl (183 kB)\r\n",
      "\u001b[2K   \u001b[90m━━━━━━━━━━━━━━━━━━━━━━━━━━━━━━━━━━━━━━━━\u001b[0m \u001b[32m183.9/183.9 kB\u001b[0m \u001b[31m4.8 MB/s\u001b[0m eta \u001b[36m0:00:00\u001b[0m\r\n",
      "\u001b[?25hInstalling collected packages: fsspec\r\n",
      "  Attempting uninstall: fsspec\r\n",
      "    Found existing installation: fsspec 2025.3.2\r\n",
      "    Uninstalling fsspec-2025.3.2:\r\n",
      "      Successfully uninstalled fsspec-2025.3.2\r\n",
      "\u001b[31mERROR: pip's dependency resolver does not currently take into account all the packages that are installed. This behaviour is the source of the following dependency conflicts.\r\n",
      "gcsfs 2024.10.0 requires fsspec==2024.10.0, but you have fsspec 2024.12.0 which is incompatible.\r\n",
      "bigframes 1.36.0 requires rich<14,>=12.4.4, but you have rich 14.0.0 which is incompatible.\r\n",
      "torchvision 0.20.1+cu124 requires torch==2.5.1, but you have torch 2.3.0 which is incompatible.\r\n",
      "torchaudio 2.5.1+cu124 requires torch==2.5.1, but you have torch 2.3.0 which is incompatible.\u001b[0m\u001b[31m\r\n",
      "\u001b[0mSuccessfully installed fsspec-2024.12.0\r\n"
     ]
    }
   ],
   "source": [
    "!pip install datasets"
   ]
  },
  {
   "cell_type": "code",
   "execution_count": 3,
   "id": "b8b42bdf",
   "metadata": {
    "execution": {
     "iopub.execute_input": "2025-05-01T18:57:27.480078Z",
     "iopub.status.busy": "2025-05-01T18:57:27.479354Z",
     "iopub.status.idle": "2025-05-01T18:57:29.221116Z",
     "shell.execute_reply": "2025-05-01T18:57:29.220249Z"
    },
    "executionInfo": {
     "elapsed": 3666,
     "status": "ok",
     "timestamp": 1746116117579,
     "user": {
      "displayName": "Larry Addo KORLI",
      "userId": "13024330108174493901"
     },
     "user_tz": 0
    },
    "id": "07Wk6je_DDyH",
    "papermill": {
     "duration": 1.799021,
     "end_time": "2025-05-01T18:57:29.222517",
     "exception": false,
     "start_time": "2025-05-01T18:57:27.423496",
     "status": "completed"
    },
    "tags": []
   },
   "outputs": [],
   "source": [
    "import collections\n",
    "#import datasets -> not  found\n",
    "import matplotlib.pyplot as plt\n",
    "import torch\n",
    "import numpy as np\n",
    "import torch.nn as nn\n",
    "import torch.optim as optim\n",
    "import tqdm\n",
    "import torchtext"
   ]
  },
  {
   "cell_type": "code",
   "execution_count": 4,
   "id": "d861268f",
   "metadata": {
    "execution": {
     "iopub.execute_input": "2025-05-01T18:57:29.338342Z",
     "iopub.status.busy": "2025-05-01T18:57:29.338015Z",
     "iopub.status.idle": "2025-05-01T18:57:29.342079Z",
     "shell.execute_reply": "2025-05-01T18:57:29.341479Z"
    },
    "executionInfo": {
     "elapsed": 13,
     "status": "ok",
     "timestamp": 1746116117596,
     "user": {
      "displayName": "Larry Addo KORLI",
      "userId": "13024330108174493901"
     },
     "user_tz": 0
    },
    "id": "TLypCgaaFl0o",
    "outputId": "c1cf8be8-b01e-4849-ae42-ee40d917dc9a",
    "papermill": {
     "duration": 0.063099,
     "end_time": "2025-05-01T18:57:29.343186",
     "exception": false,
     "start_time": "2025-05-01T18:57:29.280087",
     "status": "completed"
    },
    "tags": []
   },
   "outputs": [
    {
     "name": "stdout",
     "output_type": "stream",
     "text": [
      "2.3.0+cu121\n"
     ]
    }
   ],
   "source": [
    "print(torch.__version__)"
   ]
  },
  {
   "cell_type": "code",
   "execution_count": 5,
   "id": "2ebf31e3",
   "metadata": {
    "execution": {
     "iopub.execute_input": "2025-05-01T18:57:29.456255Z",
     "iopub.status.busy": "2025-05-01T18:57:29.455858Z",
     "iopub.status.idle": "2025-05-01T18:57:32.456501Z",
     "shell.execute_reply": "2025-05-01T18:57:32.455740Z"
    },
    "executionInfo": {
     "elapsed": 5694,
     "status": "ok",
     "timestamp": 1746116123301,
     "user": {
      "displayName": "Larry Addo KORLI",
      "userId": "13024330108174493901"
     },
     "user_tz": 0
    },
    "id": "1k9Obm3MGOi3",
    "papermill": {
     "duration": 3.058374,
     "end_time": "2025-05-01T18:57:32.457886",
     "exception": false,
     "start_time": "2025-05-01T18:57:29.399512",
     "status": "completed"
    },
    "tags": []
   },
   "outputs": [],
   "source": [
    "import datasets"
   ]
  },
  {
   "cell_type": "code",
   "execution_count": 6,
   "id": "4f7953b3",
   "metadata": {
    "execution": {
     "iopub.execute_input": "2025-05-01T18:57:32.571757Z",
     "iopub.status.busy": "2025-05-01T18:57:32.571370Z",
     "iopub.status.idle": "2025-05-01T18:57:32.576654Z",
     "shell.execute_reply": "2025-05-01T18:57:32.576202Z"
    },
    "executionInfo": {
     "elapsed": 17,
     "status": "ok",
     "timestamp": 1746116123304,
     "user": {
      "displayName": "Larry Addo KORLI",
      "userId": "13024330108174493901"
     },
     "user_tz": 0
    },
    "id": "oBJRh-qjGTkK",
    "outputId": "3b3e9980-263c-42dc-f2a2-48311cd1f4d2",
    "papermill": {
     "duration": 0.062651,
     "end_time": "2025-05-01T18:57:32.577717",
     "exception": false,
     "start_time": "2025-05-01T18:57:32.515066",
     "status": "completed"
    },
    "tags": []
   },
   "outputs": [],
   "source": [
    "seed = 1234\n",
    "\n",
    "np.random.seed(seed)\n",
    "torch.manual_seed(seed)\n",
    "torch.cuda.manual_seed(seed)\n",
    "torch.backends.cudnn.deterministic = True"
   ]
  },
  {
   "cell_type": "markdown",
   "id": "53c465b1",
   "metadata": {
    "id": "eFaquNeQG725",
    "papermill": {
     "duration": 0.054206,
     "end_time": "2025-05-01T18:57:32.687259",
     "exception": false,
     "start_time": "2025-05-01T18:57:32.633053",
     "status": "completed"
    },
    "tags": []
   },
   "source": [
    "###Loading dataset"
   ]
  },
  {
   "cell_type": "code",
   "execution_count": 7,
   "id": "43871671",
   "metadata": {
    "execution": {
     "iopub.execute_input": "2025-05-01T18:57:32.799190Z",
     "iopub.status.busy": "2025-05-01T18:57:32.798498Z",
     "iopub.status.idle": "2025-05-01T18:57:37.372646Z",
     "shell.execute_reply": "2025-05-01T18:57:37.371909Z"
    },
    "executionInfo": {
     "elapsed": 7585,
     "status": "ok",
     "timestamp": 1746116130883,
     "user": {
      "displayName": "Larry Addo KORLI",
      "userId": "13024330108174493901"
     },
     "user_tz": 0
    },
    "id": "b-mh6TkPGlwH",
    "outputId": "21d4e62d-ce49-4206-87c6-79bdbe923ac0",
    "papermill": {
     "duration": 4.631347,
     "end_time": "2025-05-01T18:57:37.373880",
     "exception": false,
     "start_time": "2025-05-01T18:57:32.742533",
     "status": "completed"
    },
    "tags": []
   },
   "outputs": [
    {
     "data": {
      "application/vnd.jupyter.widget-view+json": {
       "model_id": "db14099f62d24f288a15d40a1bb46327",
       "version_major": 2,
       "version_minor": 0
      },
      "text/plain": [
       "README.md:   0%|          | 0.00/7.81k [00:00<?, ?B/s]"
      ]
     },
     "metadata": {},
     "output_type": "display_data"
    },
    {
     "data": {
      "application/vnd.jupyter.widget-view+json": {
       "model_id": "6fb76120ccf7416fb0e64899ee0da371",
       "version_major": 2,
       "version_minor": 0
      },
      "text/plain": [
       "train-00000-of-00001.parquet:   0%|          | 0.00/21.0M [00:00<?, ?B/s]"
      ]
     },
     "metadata": {},
     "output_type": "display_data"
    },
    {
     "data": {
      "application/vnd.jupyter.widget-view+json": {
       "model_id": "541ddb9c68294c13b143a7a9a69aa8e0",
       "version_major": 2,
       "version_minor": 0
      },
      "text/plain": [
       "test-00000-of-00001.parquet:   0%|          | 0.00/20.5M [00:00<?, ?B/s]"
      ]
     },
     "metadata": {},
     "output_type": "display_data"
    },
    {
     "data": {
      "application/vnd.jupyter.widget-view+json": {
       "model_id": "32ca26922497497a87e88e19c62d2e3c",
       "version_major": 2,
       "version_minor": 0
      },
      "text/plain": [
       "unsupervised-00000-of-00001.parquet:   0%|          | 0.00/42.0M [00:00<?, ?B/s]"
      ]
     },
     "metadata": {},
     "output_type": "display_data"
    },
    {
     "data": {
      "application/vnd.jupyter.widget-view+json": {
       "model_id": "89fec682462643f39de6857a731ff5d7",
       "version_major": 2,
       "version_minor": 0
      },
      "text/plain": [
       "Generating train split:   0%|          | 0/25000 [00:00<?, ? examples/s]"
      ]
     },
     "metadata": {},
     "output_type": "display_data"
    },
    {
     "data": {
      "application/vnd.jupyter.widget-view+json": {
       "model_id": "055ea19c23bb4cd3a77b42ad5bd665d5",
       "version_major": 2,
       "version_minor": 0
      },
      "text/plain": [
       "Generating test split:   0%|          | 0/25000 [00:00<?, ? examples/s]"
      ]
     },
     "metadata": {},
     "output_type": "display_data"
    },
    {
     "data": {
      "application/vnd.jupyter.widget-view+json": {
       "model_id": "090cf37bd7754fffa1d4b6d2bd18b934",
       "version_major": 2,
       "version_minor": 0
      },
      "text/plain": [
       "Generating unsupervised split:   0%|          | 0/50000 [00:00<?, ? examples/s]"
      ]
     },
     "metadata": {},
     "output_type": "display_data"
    },
    {
     "data": {
      "text/plain": [
       "(Dataset({\n",
       "     features: ['text', 'label'],\n",
       "     num_rows: 25000\n",
       " }),\n",
       " Dataset({\n",
       "     features: ['text', 'label'],\n",
       "     num_rows: 25000\n",
       " }))"
      ]
     },
     "execution_count": 7,
     "metadata": {},
     "output_type": "execute_result"
    }
   ],
   "source": [
    "train,test = datasets.load_dataset('imdb',split=['train','test'])\n",
    "train,test"
   ]
  },
  {
   "cell_type": "code",
   "execution_count": 8,
   "id": "7c7750f3",
   "metadata": {
    "execution": {
     "iopub.execute_input": "2025-05-01T18:57:37.490084Z",
     "iopub.status.busy": "2025-05-01T18:57:37.489694Z",
     "iopub.status.idle": "2025-05-01T18:57:37.494234Z",
     "shell.execute_reply": "2025-05-01T18:57:37.493694Z"
    },
    "executionInfo": {
     "elapsed": 98,
     "status": "ok",
     "timestamp": 1746116130983,
     "user": {
      "displayName": "Larry Addo KORLI",
      "userId": "13024330108174493901"
     },
     "user_tz": 0
    },
    "id": "7hjfshTPHV3Z",
    "outputId": "0a652fa9-dda7-4488-97de-3077358fb731",
    "papermill": {
     "duration": 0.061677,
     "end_time": "2025-05-01T18:57:37.495281",
     "exception": false,
     "start_time": "2025-05-01T18:57:37.433604",
     "status": "completed"
    },
    "tags": []
   },
   "outputs": [
    {
     "data": {
      "text/plain": [
       "{'text': Value(dtype='string', id=None),\n",
       " 'label': ClassLabel(names=['neg', 'pos'], id=None)}"
      ]
     },
     "execution_count": 8,
     "metadata": {},
     "output_type": "execute_result"
    }
   ],
   "source": [
    "train.features"
   ]
  },
  {
   "cell_type": "code",
   "execution_count": 9,
   "id": "c1ac19bc",
   "metadata": {
    "execution": {
     "iopub.execute_input": "2025-05-01T18:57:37.607931Z",
     "iopub.status.busy": "2025-05-01T18:57:37.607686Z",
     "iopub.status.idle": "2025-05-01T18:57:37.614342Z",
     "shell.execute_reply": "2025-05-01T18:57:37.613665Z"
    },
    "executionInfo": {
     "elapsed": 92,
     "status": "ok",
     "timestamp": 1746116130986,
     "user": {
      "displayName": "Larry Addo KORLI",
      "userId": "13024330108174493901"
     },
     "user_tz": 0
    },
    "id": "0R1Q6p4-Hn6C",
    "outputId": "499a2e3e-4cdd-4fcb-d84e-5b6dae3d9a9c",
    "papermill": {
     "duration": 0.063776,
     "end_time": "2025-05-01T18:57:37.615476",
     "exception": false,
     "start_time": "2025-05-01T18:57:37.551700",
     "status": "completed"
    },
    "tags": []
   },
   "outputs": [
    {
     "data": {
      "text/plain": [
       "{'text': 'I rented I AM CURIOUS-YELLOW from my video store because of all the controversy that surrounded it when it was first released in 1967. I also heard that at first it was seized by U.S. customs if it ever tried to enter this country, therefore being a fan of films considered \"controversial\" I really had to see this for myself.<br /><br />The plot is centered around a young Swedish drama student named Lena who wants to learn everything she can about life. In particular she wants to focus her attentions to making some sort of documentary on what the average Swede thought about certain political issues such as the Vietnam War and race issues in the United States. In between asking politicians and ordinary denizens of Stockholm about their opinions on politics, she has sex with her drama teacher, classmates, and married men.<br /><br />What kills me about I AM CURIOUS-YELLOW is that 40 years ago, this was considered pornographic. Really, the sex and nudity scenes are few and far between, even then it\\'s not shot like some cheaply made porno. While my countrymen mind find it shocking, in reality sex and nudity are a major staple in Swedish cinema. Even Ingmar Bergman, arguably their answer to good old boy John Ford, had sex scenes in his films.<br /><br />I do commend the filmmakers for the fact that any sex shown in the film is shown for artistic purposes rather than just to shock people and make money to be shown in pornographic theaters in America. I AM CURIOUS-YELLOW is a good film for anyone wanting to study the meat and potatoes (no pun intended) of Swedish cinema. But really, this film doesn\\'t have much of a plot.',\n",
       " 'label': 0}"
      ]
     },
     "execution_count": 9,
     "metadata": {},
     "output_type": "execute_result"
    }
   ],
   "source": [
    "train[0]"
   ]
  },
  {
   "cell_type": "markdown",
   "id": "f41da5d2",
   "metadata": {
    "id": "KfjTYa0JH0IT",
    "papermill": {
     "duration": 0.056605,
     "end_time": "2025-05-01T18:57:37.728300",
     "exception": false,
     "start_time": "2025-05-01T18:57:37.671695",
     "status": "completed"
    },
    "tags": []
   },
   "source": [
    "###Tokenization"
   ]
  },
  {
   "cell_type": "code",
   "execution_count": 10,
   "id": "b668f370",
   "metadata": {
    "execution": {
     "iopub.execute_input": "2025-05-01T18:57:37.840860Z",
     "iopub.status.busy": "2025-05-01T18:57:37.840303Z",
     "iopub.status.idle": "2025-05-01T18:57:37.847734Z",
     "shell.execute_reply": "2025-05-01T18:57:37.847041Z"
    },
    "executionInfo": {
     "elapsed": 54,
     "status": "ok",
     "timestamp": 1746116130987,
     "user": {
      "displayName": "Larry Addo KORLI",
      "userId": "13024330108174493901"
     },
     "user_tz": 0
    },
    "id": "9JC_UslZXjgi",
    "outputId": "7855c0d0-0223-4d34-9816-44b0818cb06c",
    "papermill": {
     "duration": 0.064822,
     "end_time": "2025-05-01T18:57:37.848907",
     "exception": false,
     "start_time": "2025-05-01T18:57:37.784085",
     "status": "completed"
    },
    "tags": []
   },
   "outputs": [
    {
     "name": "stderr",
     "output_type": "stream",
     "text": [
      "/usr/local/lib/python3.11/dist-packages/torchtext/data/__init__.py:4: UserWarning: \n",
      "/!\\ IMPORTANT WARNING ABOUT TORCHTEXT STATUS /!\\ \n",
      "Torchtext is deprecated and the last released version will be 0.18 (this one). You can silence this warning by calling the following at the beginnign of your scripts: `import torchtext; torchtext.disable_torchtext_deprecation_warning()`\n",
      "  warnings.warn(torchtext._TORCHTEXT_DEPRECATION_MSG)\n"
     ]
    },
    {
     "data": {
      "text/plain": [
       "['i', 'am', 'a', 'boy']"
      ]
     },
     "execution_count": 10,
     "metadata": {},
     "output_type": "execute_result"
    }
   ],
   "source": [
    "from torchtext.data import get_tokenizer\n",
    "tokenizer = get_tokenizer('basic_english')\n",
    "tokens = tokenizer('i am a boy')\n",
    "tokens"
   ]
  },
  {
   "cell_type": "code",
   "execution_count": 11,
   "id": "e3599abe",
   "metadata": {
    "execution": {
     "iopub.execute_input": "2025-05-01T18:57:37.963945Z",
     "iopub.status.busy": "2025-05-01T18:57:37.963715Z",
     "iopub.status.idle": "2025-05-01T18:57:48.945385Z",
     "shell.execute_reply": "2025-05-01T18:57:48.944795Z"
    },
    "executionInfo": {
     "elapsed": 15911,
     "status": "ok",
     "timestamp": 1746116146852,
     "user": {
      "displayName": "Larry Addo KORLI",
      "userId": "13024330108174493901"
     },
     "user_tz": 0
    },
    "id": "yS9gU-SQXjdR",
    "outputId": "fae43c0f-2ac7-47ee-f4ad-c32bca6226e9",
    "papermill": {
     "duration": 11.039897,
     "end_time": "2025-05-01T18:57:48.946559",
     "exception": false,
     "start_time": "2025-05-01T18:57:37.906662",
     "status": "completed"
    },
    "tags": []
   },
   "outputs": [
    {
     "data": {
      "application/vnd.jupyter.widget-view+json": {
       "model_id": "4f1d77e0b16c4904b7e006aab35782b7",
       "version_major": 2,
       "version_minor": 0
      },
      "text/plain": [
       "Map:   0%|          | 0/25000 [00:00<?, ? examples/s]"
      ]
     },
     "metadata": {},
     "output_type": "display_data"
    },
    {
     "data": {
      "application/vnd.jupyter.widget-view+json": {
       "model_id": "dfd1093c196543a4aa4a740cd808a080",
       "version_major": 2,
       "version_minor": 0
      },
      "text/plain": [
       "Map:   0%|          | 0/25000 [00:00<?, ? examples/s]"
      ]
     },
     "metadata": {},
     "output_type": "display_data"
    }
   ],
   "source": [
    "def tokenizer_ex(example,tokenizer,max_length):\n",
    "  tokens = tokenizer(example['text'])[:max_length]\n",
    "  return {'tokens':tokens}\n",
    "max_length = 256\n",
    "train = train.map(tokenizer_ex,fn_kwargs={'tokenizer':tokenizer,'max_length':max_length})\n",
    "test = test.map(tokenizer_ex,fn_kwargs={'tokenizer':tokenizer,'max_length':max_length})"
   ]
  },
  {
   "cell_type": "code",
   "execution_count": 12,
   "id": "7b0c5312",
   "metadata": {
    "execution": {
     "iopub.execute_input": "2025-05-01T18:57:49.062266Z",
     "iopub.status.busy": "2025-05-01T18:57:49.062009Z",
     "iopub.status.idle": "2025-05-01T18:57:49.066548Z",
     "shell.execute_reply": "2025-05-01T18:57:49.065860Z"
    },
    "executionInfo": {
     "elapsed": 25,
     "status": "ok",
     "timestamp": 1746116146902,
     "user": {
      "displayName": "Larry Addo KORLI",
      "userId": "13024330108174493901"
     },
     "user_tz": 0
    },
    "id": "hv8Lwi5uXjZC",
    "outputId": "5fcf900a-9e38-4a3a-b620-976668d22b0a",
    "papermill": {
     "duration": 0.063218,
     "end_time": "2025-05-01T18:57:49.067715",
     "exception": false,
     "start_time": "2025-05-01T18:57:49.004497",
     "status": "completed"
    },
    "tags": []
   },
   "outputs": [
    {
     "data": {
      "text/plain": [
       "Dataset({\n",
       "    features: ['text', 'label', 'tokens'],\n",
       "    num_rows: 25000\n",
       "})"
      ]
     },
     "execution_count": 12,
     "metadata": {},
     "output_type": "execute_result"
    }
   ],
   "source": [
    "train"
   ]
  },
  {
   "cell_type": "code",
   "execution_count": 13,
   "id": "c69b9153",
   "metadata": {
    "execution": {
     "iopub.execute_input": "2025-05-01T18:57:49.184514Z",
     "iopub.status.busy": "2025-05-01T18:57:49.184018Z",
     "iopub.status.idle": "2025-05-01T18:57:49.188922Z",
     "shell.execute_reply": "2025-05-01T18:57:49.188197Z"
    },
    "executionInfo": {
     "elapsed": 32,
     "status": "ok",
     "timestamp": 1746116146935,
     "user": {
      "displayName": "Larry Addo KORLI",
      "userId": "13024330108174493901"
     },
     "user_tz": 0
    },
    "id": "SsE1snxiXjVM",
    "outputId": "8fe8b805-6440-4813-c9b2-24b9d3624c03",
    "papermill": {
     "duration": 0.065008,
     "end_time": "2025-05-01T18:57:49.190034",
     "exception": false,
     "start_time": "2025-05-01T18:57:49.125026",
     "status": "completed"
    },
    "tags": []
   },
   "outputs": [
    {
     "data": {
      "text/plain": [
       "{'text': Value(dtype='string', id=None),\n",
       " 'label': ClassLabel(names=['neg', 'pos'], id=None),\n",
       " 'tokens': Sequence(feature=Value(dtype='string', id=None), length=-1, id=None)}"
      ]
     },
     "execution_count": 13,
     "metadata": {},
     "output_type": "execute_result"
    }
   ],
   "source": [
    "train.features"
   ]
  },
  {
   "cell_type": "code",
   "execution_count": 14,
   "id": "28822947",
   "metadata": {
    "execution": {
     "iopub.execute_input": "2025-05-01T18:57:49.313485Z",
     "iopub.status.busy": "2025-05-01T18:57:49.312984Z",
     "iopub.status.idle": "2025-05-01T18:57:53.704703Z",
     "shell.execute_reply": "2025-05-01T18:57:53.704047Z"
    },
    "executionInfo": {
     "elapsed": 6113,
     "status": "ok",
     "timestamp": 1746116153052,
     "user": {
      "displayName": "Larry Addo KORLI",
      "userId": "13024330108174493901"
     },
     "user_tz": 0
    },
    "id": "b0NWzaduXjSI",
    "outputId": "f2c8f598-4d93-4e58-c99b-b1648479cfcb",
    "papermill": {
     "duration": 4.452643,
     "end_time": "2025-05-01T18:57:53.705799",
     "exception": false,
     "start_time": "2025-05-01T18:57:49.253156",
     "status": "completed"
    },
    "tags": []
   },
   "outputs": [
    {
     "data": {
      "text/plain": [
       "['i',\n",
       " 'rented',\n",
       " 'i',\n",
       " 'am',\n",
       " 'curious-yellow',\n",
       " 'from',\n",
       " 'my',\n",
       " 'video',\n",
       " 'store',\n",
       " 'because',\n",
       " 'of',\n",
       " 'all',\n",
       " 'the',\n",
       " 'controversy',\n",
       " 'that',\n",
       " 'surrounded',\n",
       " 'it',\n",
       " 'when',\n",
       " 'it',\n",
       " 'was',\n",
       " 'first',\n",
       " 'released',\n",
       " 'in',\n",
       " '1967',\n",
       " '.']"
      ]
     },
     "execution_count": 14,
     "metadata": {},
     "output_type": "execute_result"
    }
   ],
   "source": [
    "train['tokens'][0][:25]"
   ]
  },
  {
   "cell_type": "code",
   "execution_count": 15,
   "id": "c1902156",
   "metadata": {
    "execution": {
     "iopub.execute_input": "2025-05-01T18:57:53.821602Z",
     "iopub.status.busy": "2025-05-01T18:57:53.821375Z",
     "iopub.status.idle": "2025-05-01T18:57:53.843240Z",
     "shell.execute_reply": "2025-05-01T18:57:53.842755Z"
    },
    "executionInfo": {
     "elapsed": 16,
     "status": "ok",
     "timestamp": 1746116153054,
     "user": {
      "displayName": "Larry Addo KORLI",
      "userId": "13024330108174493901"
     },
     "user_tz": 0
    },
    "id": "sGr22jmCbwkG",
    "papermill": {
     "duration": 0.080413,
     "end_time": "2025-05-01T18:57:53.844207",
     "exception": false,
     "start_time": "2025-05-01T18:57:53.763794",
     "status": "completed"
    },
    "tags": []
   },
   "outputs": [],
   "source": [
    "train_valid_data = train.train_test_split(test_size=0.25)\n",
    "train = train_valid_data['train']\n",
    "valid = train_valid_data['test']"
   ]
  },
  {
   "cell_type": "code",
   "execution_count": 16,
   "id": "9cfeaf0c",
   "metadata": {
    "execution": {
     "iopub.execute_input": "2025-05-01T18:57:53.958987Z",
     "iopub.status.busy": "2025-05-01T18:57:53.958528Z",
     "iopub.status.idle": "2025-05-01T18:57:53.963100Z",
     "shell.execute_reply": "2025-05-01T18:57:53.962411Z"
    },
    "executionInfo": {
     "elapsed": 19,
     "status": "ok",
     "timestamp": 1746116153069,
     "user": {
      "displayName": "Larry Addo KORLI",
      "userId": "13024330108174493901"
     },
     "user_tz": 0
    },
    "id": "eBr_l1ksbwhE",
    "outputId": "bab873fe-ab53-4c34-8ede-842af6f43946",
    "papermill": {
     "duration": 0.063213,
     "end_time": "2025-05-01T18:57:53.964152",
     "exception": false,
     "start_time": "2025-05-01T18:57:53.900939",
     "status": "completed"
    },
    "tags": []
   },
   "outputs": [
    {
     "data": {
      "text/plain": [
       "(18750, 6250, 25000)"
      ]
     },
     "execution_count": 16,
     "metadata": {},
     "output_type": "execute_result"
    }
   ],
   "source": [
    "len(train),len(valid),len(test)"
   ]
  },
  {
   "cell_type": "code",
   "execution_count": 17,
   "id": "d9d3c6cd",
   "metadata": {
    "execution": {
     "iopub.execute_input": "2025-05-01T18:57:54.085031Z",
     "iopub.status.busy": "2025-05-01T18:57:54.084719Z",
     "iopub.status.idle": "2025-05-01T18:57:54.089097Z",
     "shell.execute_reply": "2025-05-01T18:57:54.088520Z"
    },
    "executionInfo": {
     "elapsed": 3,
     "status": "ok",
     "timestamp": 1746116153073,
     "user": {
      "displayName": "Larry Addo KORLI",
      "userId": "13024330108174493901"
     },
     "user_tz": 0
    },
    "id": "CZPswtJpIfRX",
    "papermill": {
     "duration": 0.068101,
     "end_time": "2025-05-01T18:57:54.090143",
     "exception": false,
     "start_time": "2025-05-01T18:57:54.022042",
     "status": "completed"
    },
    "tags": []
   },
   "outputs": [],
   "source": [
    "#manaul vocab\n",
    "def build_vocab(dataset):\n",
    "  idx = 2\n",
    "  word2idx = {'unk':0,\n",
    "              '<PAD>':1}\n",
    "\n",
    "  for  i in range(len(dataset)):\n",
    "    text = train[i]['text']\n",
    "    tokens = text.lower().split()\n",
    "    for w in tokens:\n",
    "      if w not in word2idx:\n",
    "        word2idx[w] = idx\n",
    "        idx += 1\n",
    "  return   word2idx"
   ]
  },
  {
   "cell_type": "code",
   "execution_count": 18,
   "id": "61ed57ce",
   "metadata": {
    "execution": {
     "iopub.execute_input": "2025-05-01T18:57:54.204778Z",
     "iopub.status.busy": "2025-05-01T18:57:54.203979Z",
     "iopub.status.idle": "2025-05-01T18:57:59.509538Z",
     "shell.execute_reply": "2025-05-01T18:57:59.508753Z"
    },
    "executionInfo": {
     "elapsed": 8437,
     "status": "ok",
     "timestamp": 1746116161512,
     "user": {
      "displayName": "Larry Addo KORLI",
      "userId": "13024330108174493901"
     },
     "user_tz": 0
    },
    "id": "BEXsAn0pMAlp",
    "papermill": {
     "duration": 5.36473,
     "end_time": "2025-05-01T18:57:59.511083",
     "exception": false,
     "start_time": "2025-05-01T18:57:54.146353",
     "status": "completed"
    },
    "tags": []
   },
   "outputs": [],
   "source": [
    "vocab_manual = build_vocab(train)\n"
   ]
  },
  {
   "cell_type": "code",
   "execution_count": 19,
   "id": "0c6a6c6a",
   "metadata": {
    "execution": {
     "iopub.execute_input": "2025-05-01T18:57:59.632475Z",
     "iopub.status.busy": "2025-05-01T18:57:59.631955Z",
     "iopub.status.idle": "2025-05-01T18:57:59.680018Z",
     "shell.execute_reply": "2025-05-01T18:57:59.679362Z"
    },
    "executionInfo": {
     "elapsed": 43,
     "status": "ok",
     "timestamp": 1746116161568,
     "user": {
      "displayName": "Larry Addo KORLI",
      "userId": "13024330108174493901"
     },
     "user_tz": 0
    },
    "id": "gQm0sUong3Ei",
    "outputId": "65975723-90d3-4952-ebb7-40bf2435dff8",
    "papermill": {
     "duration": 0.109338,
     "end_time": "2025-05-01T18:57:59.681123",
     "exception": false,
     "start_time": "2025-05-01T18:57:59.571785",
     "status": "completed"
    },
    "tags": []
   },
   "outputs": [
    {
     "data": {
      "text/plain": [
       "[('unk', 0), ('<PAD>', 1), ('look,', 2)]"
      ]
     },
     "execution_count": 19,
     "metadata": {},
     "output_type": "execute_result"
    }
   ],
   "source": [
    "list(vocab_manual.items())[:3]"
   ]
  },
  {
   "cell_type": "code",
   "execution_count": 20,
   "id": "6f1cefab",
   "metadata": {
    "execution": {
     "iopub.execute_input": "2025-05-01T18:57:59.795659Z",
     "iopub.status.busy": "2025-05-01T18:57:59.795384Z",
     "iopub.status.idle": "2025-05-01T18:57:59.799780Z",
     "shell.execute_reply": "2025-05-01T18:57:59.799190Z"
    },
    "executionInfo": {
     "elapsed": 22,
     "status": "ok",
     "timestamp": 1746116161609,
     "user": {
      "displayName": "Larry Addo KORLI",
      "userId": "13024330108174493901"
     },
     "user_tz": 0
    },
    "id": "j8dADNYvbwd1",
    "outputId": "63bbf169-d1fb-4c42-c264-5165761815bc",
    "papermill": {
     "duration": 0.062074,
     "end_time": "2025-05-01T18:57:59.800839",
     "exception": false,
     "start_time": "2025-05-01T18:57:59.738765",
     "status": "completed"
    },
    "tags": []
   },
   "outputs": [
    {
     "data": {
      "text/plain": [
       "211350"
      ]
     },
     "execution_count": 20,
     "metadata": {},
     "output_type": "execute_result"
    }
   ],
   "source": [
    "len(vocab_manual)"
   ]
  },
  {
   "cell_type": "code",
   "execution_count": 21,
   "id": "a76cb043",
   "metadata": {
    "execution": {
     "iopub.execute_input": "2025-05-01T18:57:59.916309Z",
     "iopub.status.busy": "2025-05-01T18:57:59.916036Z",
     "iopub.status.idle": "2025-05-01T18:58:03.908961Z",
     "shell.execute_reply": "2025-05-01T18:58:03.908130Z"
    },
    "executionInfo": {
     "elapsed": 5382,
     "status": "ok",
     "timestamp": 1746116166993,
     "user": {
      "displayName": "Larry Addo KORLI",
      "userId": "13024330108174493901"
     },
     "user_tz": 0
    },
    "id": "-o1LPUmRbwae",
    "outputId": "e635aa5b-41ee-433a-b5a2-5e045cefd7a2",
    "papermill": {
     "duration": 4.051814,
     "end_time": "2025-05-01T18:58:03.910283",
     "exception": false,
     "start_time": "2025-05-01T18:57:59.858469",
     "status": "completed"
    },
    "tags": []
   },
   "outputs": [
    {
     "name": "stderr",
     "output_type": "stream",
     "text": [
      "/usr/local/lib/python3.11/dist-packages/torchtext/vocab/__init__.py:4: UserWarning: \n",
      "/!\\ IMPORTANT WARNING ABOUT TORCHTEXT STATUS /!\\ \n",
      "Torchtext is deprecated and the last released version will be 0.18 (this one). You can silence this warning by calling the following at the beginnign of your scripts: `import torchtext; torchtext.disable_torchtext_deprecation_warning()`\n",
      "  warnings.warn(torchtext._TORCHTEXT_DEPRECATION_MSG)\n",
      "/usr/local/lib/python3.11/dist-packages/torchtext/utils.py:4: UserWarning: \n",
      "/!\\ IMPORTANT WARNING ABOUT TORCHTEXT STATUS /!\\ \n",
      "Torchtext is deprecated and the last released version will be 0.18 (this one). You can silence this warning by calling the following at the beginnign of your scripts: `import torchtext; torchtext.disable_torchtext_deprecation_warning()`\n",
      "  warnings.warn(torchtext._TORCHTEXT_DEPRECATION_MSG)\n"
     ]
    }
   ],
   "source": [
    "#torch library\n",
    "import torchtext.vocab\n",
    "min_freq = 5\n",
    "special_tokens = ['<unk>','<pad>']\n",
    "\n",
    "vocab = torchtext.vocab.build_vocab_from_iterator(\n",
    "    train[\"tokens\"],\n",
    "    min_freq=min_freq,\n",
    "    specials=special_tokens,\n",
    ")\n"
   ]
  },
  {
   "cell_type": "code",
   "execution_count": 22,
   "id": "c61ce784",
   "metadata": {
    "execution": {
     "iopub.execute_input": "2025-05-01T18:58:04.025733Z",
     "iopub.status.busy": "2025-05-01T18:58:04.025449Z",
     "iopub.status.idle": "2025-05-01T18:58:04.030065Z",
     "shell.execute_reply": "2025-05-01T18:58:04.029375Z"
    },
    "executionInfo": {
     "elapsed": 9,
     "status": "ok",
     "timestamp": 1746116167004,
     "user": {
      "displayName": "Larry Addo KORLI",
      "userId": "13024330108174493901"
     },
     "user_tz": 0
    },
    "id": "tT7820auXjOT",
    "outputId": "6c9479c1-cbbd-4588-b54b-b383f188acf6",
    "papermill": {
     "duration": 0.063063,
     "end_time": "2025-05-01T18:58:04.031225",
     "exception": false,
     "start_time": "2025-05-01T18:58:03.968162",
     "status": "completed"
    },
    "tags": []
   },
   "outputs": [
    {
     "data": {
      "text/plain": [
       "21635"
      ]
     },
     "execution_count": 22,
     "metadata": {},
     "output_type": "execute_result"
    }
   ],
   "source": [
    "len(vocab)"
   ]
  },
  {
   "cell_type": "code",
   "execution_count": 23,
   "id": "c39664cf",
   "metadata": {
    "execution": {
     "iopub.execute_input": "2025-05-01T18:58:04.145370Z",
     "iopub.status.busy": "2025-05-01T18:58:04.145152Z",
     "iopub.status.idle": "2025-05-01T18:58:04.153166Z",
     "shell.execute_reply": "2025-05-01T18:58:04.152476Z"
    },
    "executionInfo": {
     "elapsed": 7,
     "status": "ok",
     "timestamp": 1746116167030,
     "user": {
      "displayName": "Larry Addo KORLI",
      "userId": "13024330108174493901"
     },
     "user_tz": 0
    },
    "id": "vnVRf_otXjKa",
    "outputId": "9ff4c69d-b003-49d8-b5df-1ed485bf5026",
    "papermill": {
     "duration": 0.0663,
     "end_time": "2025-05-01T18:58:04.154211",
     "exception": false,
     "start_time": "2025-05-01T18:58:04.087911",
     "status": "completed"
    },
    "tags": []
   },
   "outputs": [
    {
     "data": {
      "text/plain": [
       "['<unk>', '<pad>', 'the', '.', ',', 'a', 'and', 'of', 'to', \"'\"]"
      ]
     },
     "execution_count": 23,
     "metadata": {},
     "output_type": "execute_result"
    }
   ],
   "source": [
    "vocab.get_itos()[:10]"
   ]
  },
  {
   "cell_type": "code",
   "execution_count": 24,
   "id": "c96f1ce3",
   "metadata": {
    "execution": {
     "iopub.execute_input": "2025-05-01T18:58:04.314360Z",
     "iopub.status.busy": "2025-05-01T18:58:04.313854Z",
     "iopub.status.idle": "2025-05-01T18:58:04.318425Z",
     "shell.execute_reply": "2025-05-01T18:58:04.317754Z"
    },
    "executionInfo": {
     "elapsed": 80,
     "status": "ok",
     "timestamp": 1746116167111,
     "user": {
      "displayName": "Larry Addo KORLI",
      "userId": "13024330108174493901"
     },
     "user_tz": 0
    },
    "id": "quNbJb7hXjHW",
    "outputId": "25a18b4f-f9ae-4d32-d4af-82219ff88a98",
    "papermill": {
     "duration": 0.107554,
     "end_time": "2025-05-01T18:58:04.319487",
     "exception": false,
     "start_time": "2025-05-01T18:58:04.211933",
     "status": "completed"
    },
    "tags": []
   },
   "outputs": [
    {
     "data": {
      "text/plain": [
       "False"
      ]
     },
     "execution_count": 24,
     "metadata": {},
     "output_type": "execute_result"
    }
   ],
   "source": [
    "'some_token' in vocab"
   ]
  },
  {
   "cell_type": "code",
   "execution_count": 25,
   "id": "76339b41",
   "metadata": {
    "execution": {
     "iopub.execute_input": "2025-05-01T18:58:04.434497Z",
     "iopub.status.busy": "2025-05-01T18:58:04.433885Z",
     "iopub.status.idle": "2025-05-01T18:58:04.437258Z",
     "shell.execute_reply": "2025-05-01T18:58:04.436746Z"
    },
    "executionInfo": {
     "elapsed": 10,
     "status": "ok",
     "timestamp": 1746117691177,
     "user": {
      "displayName": "Larry Addo KORLI",
      "userId": "13024330108174493901"
     },
     "user_tz": 0
    },
    "id": "Xds5fspQgH2-",
    "papermill": {
     "duration": 0.061626,
     "end_time": "2025-05-01T18:58:04.438216",
     "exception": false,
     "start_time": "2025-05-01T18:58:04.376590",
     "status": "completed"
    },
    "tags": []
   },
   "outputs": [],
   "source": [
    "unk = vocab['<unk>']\n",
    "pad_index = vocab['<pad>']"
   ]
  },
  {
   "cell_type": "code",
   "execution_count": 26,
   "id": "dcf98362",
   "metadata": {
    "execution": {
     "iopub.execute_input": "2025-05-01T18:58:04.554978Z",
     "iopub.status.busy": "2025-05-01T18:58:04.554529Z",
     "iopub.status.idle": "2025-05-01T18:58:04.557532Z",
     "shell.execute_reply": "2025-05-01T18:58:04.557079Z"
    },
    "executionInfo": {
     "elapsed": 64,
     "status": "ok",
     "timestamp": 1746116167181,
     "user": {
      "displayName": "Larry Addo KORLI",
      "userId": "13024330108174493901"
     },
     "user_tz": 0
    },
    "id": "UwqiQyw6XjDq",
    "papermill": {
     "duration": 0.061993,
     "end_time": "2025-05-01T18:58:04.558606",
     "exception": false,
     "start_time": "2025-05-01T18:58:04.496613",
     "status": "completed"
    },
    "tags": []
   },
   "outputs": [],
   "source": [
    "vocab.set_default_index(unk)"
   ]
  },
  {
   "cell_type": "code",
   "execution_count": 27,
   "id": "ded9b50b",
   "metadata": {
    "execution": {
     "iopub.execute_input": "2025-05-01T18:58:04.685084Z",
     "iopub.status.busy": "2025-05-01T18:58:04.684821Z",
     "iopub.status.idle": "2025-05-01T18:58:04.689025Z",
     "shell.execute_reply": "2025-05-01T18:58:04.688495Z"
    },
    "executionInfo": {
     "elapsed": 70,
     "status": "ok",
     "timestamp": 1746116167189,
     "user": {
      "displayName": "Larry Addo KORLI",
      "userId": "13024330108174493901"
     },
     "user_tz": 0
    },
    "id": "YoaxwYLrXjAR",
    "outputId": "585b78cf-927c-4450-dfa6-14a5601b3d85",
    "papermill": {
     "duration": 0.074136,
     "end_time": "2025-05-01T18:58:04.690010",
     "exception": false,
     "start_time": "2025-05-01T18:58:04.615874",
     "status": "completed"
    },
    "tags": []
   },
   "outputs": [
    {
     "data": {
      "text/plain": [
       "0"
      ]
     },
     "execution_count": 27,
     "metadata": {},
     "output_type": "execute_result"
    }
   ],
   "source": [
    "vocab['some_token']"
   ]
  },
  {
   "cell_type": "code",
   "execution_count": 28,
   "id": "62553d7b",
   "metadata": {
    "execution": {
     "iopub.execute_input": "2025-05-01T18:58:04.819359Z",
     "iopub.status.busy": "2025-05-01T18:58:04.818933Z",
     "iopub.status.idle": "2025-05-01T18:58:04.840548Z",
     "shell.execute_reply": "2025-05-01T18:58:04.839866Z"
    },
    "executionInfo": {
     "elapsed": 66,
     "status": "ok",
     "timestamp": 1746116167239,
     "user": {
      "displayName": "Larry Addo KORLI",
      "userId": "13024330108174493901"
     },
     "user_tz": 0
    },
    "id": "Ri1pFbIhXi9H",
    "outputId": "be6563a1-2abb-442b-8ddd-84b794610de4",
    "papermill": {
     "duration": 0.093544,
     "end_time": "2025-05-01T18:58:04.841583",
     "exception": false,
     "start_time": "2025-05-01T18:58:04.748039",
     "status": "completed"
    },
    "tags": []
   },
   "outputs": [
    {
     "data": {
      "text/plain": [
       "[('zwick', 21633),\n",
       " ('zing', 21632),\n",
       " ('ziggy', 21631),\n",
       " ('zhou', 21630),\n",
       " ('zavet', 21628),\n",
       " ('yvaine', 21627),\n",
       " ('yields', 21625),\n",
       " ('yasmin', 21623),\n",
       " ('yanked', 21620),\n",
       " ('yam', 21618),\n",
       " ('xmas', 21617),\n",
       " ('xena', 21616),\n",
       " ('woulda', 21608),\n",
       " ('workshop', 21605),\n",
       " ('woos', 21604),\n",
       " ('woodstock', 21603),\n",
       " ('wither', 21601),\n",
       " ('wired', 21600),\n",
       " ('winninger', 21599),\n",
       " ('wincing', 21598)]"
      ]
     },
     "execution_count": 28,
     "metadata": {},
     "output_type": "execute_result"
    }
   ],
   "source": [
    "list(vocab.get_stoi().items())[:20]"
   ]
  },
  {
   "cell_type": "markdown",
   "id": "816e6b9e",
   "metadata": {
    "id": "Zm6ky15EgrRg",
    "papermill": {
     "duration": 0.057252,
     "end_time": "2025-05-01T18:58:04.956175",
     "exception": false,
     "start_time": "2025-05-01T18:58:04.898923",
     "status": "completed"
    },
    "tags": []
   },
   "source": [
    "###numericalize"
   ]
  },
  {
   "cell_type": "code",
   "execution_count": 29,
   "id": "53277288",
   "metadata": {
    "execution": {
     "iopub.execute_input": "2025-05-01T18:58:05.072186Z",
     "iopub.status.busy": "2025-05-01T18:58:05.071948Z",
     "iopub.status.idle": "2025-05-01T18:58:05.075402Z",
     "shell.execute_reply": "2025-05-01T18:58:05.074896Z"
    },
    "executionInfo": {
     "elapsed": 67,
     "status": "ok",
     "timestamp": 1746116167308,
     "user": {
      "displayName": "Larry Addo KORLI",
      "userId": "13024330108174493901"
     },
     "user_tz": 0
    },
    "id": "FCnh_8TzXi5f",
    "papermill": {
     "duration": 0.063389,
     "end_time": "2025-05-01T18:58:05.076397",
     "exception": false,
     "start_time": "2025-05-01T18:58:05.013008",
     "status": "completed"
    },
    "tags": []
   },
   "outputs": [],
   "source": [
    "def numericalize(ex,vocab):\n",
    "  idx = vocab.lookup_indices(ex['tokens'])\n",
    "  return {'idx':idx}"
   ]
  },
  {
   "cell_type": "code",
   "execution_count": 30,
   "id": "7befaf48",
   "metadata": {
    "execution": {
     "iopub.execute_input": "2025-05-01T18:58:05.195162Z",
     "iopub.status.busy": "2025-05-01T18:58:05.194961Z",
     "iopub.status.idle": "2025-05-01T18:58:21.985669Z",
     "shell.execute_reply": "2025-05-01T18:58:21.985008Z"
    },
    "executionInfo": {
     "elapsed": 25979,
     "status": "ok",
     "timestamp": 1746116193290,
     "user": {
      "displayName": "Larry Addo KORLI",
      "userId": "13024330108174493901"
     },
     "user_tz": 0
    },
    "id": "yBbkXIwrXi21",
    "outputId": "b14e90e2-97fd-4ce1-d6ba-2d16bc0582d8",
    "papermill": {
     "duration": 16.85137,
     "end_time": "2025-05-01T18:58:21.986774",
     "exception": false,
     "start_time": "2025-05-01T18:58:05.135404",
     "status": "completed"
    },
    "tags": []
   },
   "outputs": [
    {
     "data": {
      "application/vnd.jupyter.widget-view+json": {
       "model_id": "2b13498099864ae7beababe85aee9ea6",
       "version_major": 2,
       "version_minor": 0
      },
      "text/plain": [
       "Map:   0%|          | 0/18750 [00:00<?, ? examples/s]"
      ]
     },
     "metadata": {},
     "output_type": "display_data"
    },
    {
     "data": {
      "application/vnd.jupyter.widget-view+json": {
       "model_id": "d88422d988fb43cdb28afe691c82df7b",
       "version_major": 2,
       "version_minor": 0
      },
      "text/plain": [
       "Map:   0%|          | 0/6250 [00:00<?, ? examples/s]"
      ]
     },
     "metadata": {},
     "output_type": "display_data"
    },
    {
     "data": {
      "application/vnd.jupyter.widget-view+json": {
       "model_id": "da53dac7910f45008c350c7232e05643",
       "version_major": 2,
       "version_minor": 0
      },
      "text/plain": [
       "Map:   0%|          | 0/25000 [00:00<?, ? examples/s]"
      ]
     },
     "metadata": {},
     "output_type": "display_data"
    }
   ],
   "source": [
    "train = train.map(numericalize,fn_kwargs={'vocab':vocab})\n",
    "valid = valid.map(numericalize,fn_kwargs={'vocab':vocab})\n",
    "test = test.map(numericalize,fn_kwargs={'vocab':vocab})"
   ]
  },
  {
   "cell_type": "code",
   "execution_count": 31,
   "id": "02875f01",
   "metadata": {
    "execution": {
     "iopub.execute_input": "2025-05-01T18:58:22.114583Z",
     "iopub.status.busy": "2025-05-01T18:58:22.114089Z",
     "iopub.status.idle": "2025-05-01T18:58:22.119587Z",
     "shell.execute_reply": "2025-05-01T18:58:22.118680Z"
    },
    "executionInfo": {
     "elapsed": 9,
     "status": "ok",
     "timestamp": 1746116193312,
     "user": {
      "displayName": "Larry Addo KORLI",
      "userId": "13024330108174493901"
     },
     "user_tz": 0
    },
    "id": "YC4J6h0qXizt",
    "outputId": "4f003e73-23b4-4a1f-e4ed-ed33b76186f9",
    "papermill": {
     "duration": 0.074832,
     "end_time": "2025-05-01T18:58:22.121416",
     "exception": false,
     "start_time": "2025-05-01T18:58:22.046584",
     "status": "completed"
    },
    "tags": []
   },
   "outputs": [
    {
     "data": {
      "text/plain": [
       "Dataset({\n",
       "    features: ['text', 'label', 'tokens', 'idx'],\n",
       "    num_rows: 18750\n",
       "})"
      ]
     },
     "execution_count": 31,
     "metadata": {},
     "output_type": "execute_result"
    }
   ],
   "source": [
    "train"
   ]
  },
  {
   "cell_type": "code",
   "execution_count": 32,
   "id": "fe4d1deb",
   "metadata": {
    "execution": {
     "iopub.execute_input": "2025-05-01T18:58:22.252683Z",
     "iopub.status.busy": "2025-05-01T18:58:22.252134Z",
     "iopub.status.idle": "2025-05-01T18:58:22.257207Z",
     "shell.execute_reply": "2025-05-01T18:58:22.256492Z"
    },
    "executionInfo": {
     "elapsed": 19,
     "status": "ok",
     "timestamp": 1746116193333,
     "user": {
      "displayName": "Larry Addo KORLI",
      "userId": "13024330108174493901"
     },
     "user_tz": 0
    },
    "id": "3e2YggTCXiv4",
    "outputId": "34eb87a5-945d-452d-f51f-1acb5bd9c5b3",
    "papermill": {
     "duration": 0.064352,
     "end_time": "2025-05-01T18:58:22.258267",
     "exception": false,
     "start_time": "2025-05-01T18:58:22.193915",
     "status": "completed"
    },
    "tags": []
   },
   "outputs": [
    {
     "data": {
      "text/plain": [
       "[180, 4, 14, 10, 191, 841, 34, 7, 2, 121]"
      ]
     },
     "execution_count": 32,
     "metadata": {},
     "output_type": "execute_result"
    }
   ],
   "source": [
    "train[0]['idx'][:10]"
   ]
  },
  {
   "cell_type": "code",
   "execution_count": 33,
   "id": "ccaa9ffd",
   "metadata": {
    "execution": {
     "iopub.execute_input": "2025-05-01T18:58:22.373571Z",
     "iopub.status.busy": "2025-05-01T18:58:22.373354Z",
     "iopub.status.idle": "2025-05-01T18:58:22.378219Z",
     "shell.execute_reply": "2025-05-01T18:58:22.377695Z"
    },
    "executionInfo": {
     "elapsed": 10,
     "status": "ok",
     "timestamp": 1746116193347,
     "user": {
      "displayName": "Larry Addo KORLI",
      "userId": "13024330108174493901"
     },
     "user_tz": 0
    },
    "id": "yW8sTeK5TR8g",
    "outputId": "7565d588-94e9-4dc3-818a-4da31669fc62",
    "papermill": {
     "duration": 0.064093,
     "end_time": "2025-05-01T18:58:22.379213",
     "exception": false,
     "start_time": "2025-05-01T18:58:22.315120",
     "status": "completed"
    },
    "tags": []
   },
   "outputs": [
    {
     "data": {
      "text/plain": [
       "[180, 4, 14, 10, 191, 841, 34, 7, 2, 121]"
      ]
     },
     "execution_count": 33,
     "metadata": {},
     "output_type": "execute_result"
    }
   ],
   "source": [
    "vocab.lookup_indices(train[0]['tokens'][:10])"
   ]
  },
  {
   "cell_type": "code",
   "execution_count": 34,
   "id": "be81d5de",
   "metadata": {
    "execution": {
     "iopub.execute_input": "2025-05-01T18:58:22.496224Z",
     "iopub.status.busy": "2025-05-01T18:58:22.496022Z",
     "iopub.status.idle": "2025-05-01T18:58:22.501994Z",
     "shell.execute_reply": "2025-05-01T18:58:22.501470Z"
    },
    "executionInfo": {
     "elapsed": 40,
     "status": "ok",
     "timestamp": 1746116449194,
     "user": {
      "displayName": "Larry Addo KORLI",
      "userId": "13024330108174493901"
     },
     "user_tz": 0
    },
    "id": "OrPM2fzonSQm",
    "papermill": {
     "duration": 0.066063,
     "end_time": "2025-05-01T18:58:22.503060",
     "exception": false,
     "start_time": "2025-05-01T18:58:22.436997",
     "status": "completed"
    },
    "tags": []
   },
   "outputs": [],
   "source": [
    "train =  train.with_format(type='torch',columns=['idx','label'])\n",
    "valid =  valid.with_format(type='torch',columns=['idx','label'])\n",
    "test =  test.with_format(type='torch',columns=['idx','label'])"
   ]
  },
  {
   "cell_type": "code",
   "execution_count": 35,
   "id": "ba39e653",
   "metadata": {
    "execution": {
     "iopub.execute_input": "2025-05-01T18:58:22.621197Z",
     "iopub.status.busy": "2025-05-01T18:58:22.620992Z",
     "iopub.status.idle": "2025-05-01T18:58:22.630252Z",
     "shell.execute_reply": "2025-05-01T18:58:22.629570Z"
    },
    "executionInfo": {
     "elapsed": 13,
     "status": "ok",
     "timestamp": 1746116475226,
     "user": {
      "displayName": "Larry Addo KORLI",
      "userId": "13024330108174493901"
     },
     "user_tz": 0
    },
    "id": "yBkpyC0VpI1_",
    "outputId": "cf9b7a7c-9e3a-45b5-8b56-f51537c86c87",
    "papermill": {
     "duration": 0.068457,
     "end_time": "2025-05-01T18:58:22.631483",
     "exception": false,
     "start_time": "2025-05-01T18:58:22.563026",
     "status": "completed"
    },
    "tags": []
   },
   "outputs": [
    {
     "data": {
      "text/plain": [
       "tensor(1)"
      ]
     },
     "execution_count": 35,
     "metadata": {},
     "output_type": "execute_result"
    }
   ],
   "source": [
    "train[0]['label']"
   ]
  },
  {
   "cell_type": "code",
   "execution_count": 36,
   "id": "6f546cdd",
   "metadata": {
    "execution": {
     "iopub.execute_input": "2025-05-01T18:58:22.752018Z",
     "iopub.status.busy": "2025-05-01T18:58:22.751801Z",
     "iopub.status.idle": "2025-05-01T18:58:22.757348Z",
     "shell.execute_reply": "2025-05-01T18:58:22.756842Z"
    },
    "executionInfo": {
     "elapsed": 11,
     "status": "ok",
     "timestamp": 1746116499623,
     "user": {
      "displayName": "Larry Addo KORLI",
      "userId": "13024330108174493901"
     },
     "user_tz": 0
    },
    "id": "cdcz35bRpua0",
    "outputId": "b92e7884-2663-497a-d6cf-52b24ff839dd",
    "papermill": {
     "duration": 0.064912,
     "end_time": "2025-05-01T18:58:22.758382",
     "exception": false,
     "start_time": "2025-05-01T18:58:22.693470",
     "status": "completed"
    },
    "tags": []
   },
   "outputs": [
    {
     "data": {
      "text/plain": [
       "tensor([180,   4,  14,  10, 191, 841,  34,   7,   2, 121])"
      ]
     },
     "execution_count": 36,
     "metadata": {},
     "output_type": "execute_result"
    }
   ],
   "source": [
    "train[0]['idx'][:10]"
   ]
  },
  {
   "cell_type": "code",
   "execution_count": 37,
   "id": "86f72d35",
   "metadata": {
    "execution": {
     "iopub.execute_input": "2025-05-01T18:58:22.875298Z",
     "iopub.status.busy": "2025-05-01T18:58:22.874654Z",
     "iopub.status.idle": "2025-05-01T18:58:22.879822Z",
     "shell.execute_reply": "2025-05-01T18:58:22.879132Z"
    },
    "executionInfo": {
     "elapsed": 30,
     "status": "ok",
     "timestamp": 1746116570750,
     "user": {
      "displayName": "Larry Addo KORLI",
      "userId": "13024330108174493901"
     },
     "user_tz": 0
    },
    "id": "JEAWQNrnp1cw",
    "outputId": "d45d2e36-0670-40aa-bb3b-ea85da116c00",
    "papermill": {
     "duration": 0.065187,
     "end_time": "2025-05-01T18:58:22.880872",
     "exception": false,
     "start_time": "2025-05-01T18:58:22.815685",
     "status": "completed"
    },
    "tags": []
   },
   "outputs": [
    {
     "data": {
      "text/plain": [
       "dict_keys(['label', 'idx'])"
      ]
     },
     "execution_count": 37,
     "metadata": {},
     "output_type": "execute_result"
    }
   ],
   "source": [
    "train[0].keys()"
   ]
  },
  {
   "cell_type": "code",
   "execution_count": 38,
   "id": "9b6c1450",
   "metadata": {
    "execution": {
     "iopub.execute_input": "2025-05-01T18:58:22.998108Z",
     "iopub.status.busy": "2025-05-01T18:58:22.997883Z",
     "iopub.status.idle": "2025-05-01T18:58:23.002687Z",
     "shell.execute_reply": "2025-05-01T18:58:23.001886Z"
    },
    "executionInfo": {
     "elapsed": 6,
     "status": "ok",
     "timestamp": 1746117286931,
     "user": {
      "displayName": "Larry Addo KORLI",
      "userId": "13024330108174493901"
     },
     "user_tz": 0
    },
    "id": "6y_HXZyCqD_T",
    "papermill": {
     "duration": 0.064721,
     "end_time": "2025-05-01T18:58:23.003936",
     "exception": false,
     "start_time": "2025-05-01T18:58:22.939215",
     "status": "completed"
    },
    "tags": []
   },
   "outputs": [],
   "source": [
    "def get_collate_fn(pad_index):\n",
    "  def collate_fn(batch):\n",
    "    batch_idxs = [i['idx'] for i in  batch]\n",
    "    batch_idxs = nn.utils.rnn.pad_sequence(\n",
    "        batch_idxs,padding_value=pad_index,batch_first=True\n",
    "    )\n",
    "    batch_label = [i['label'] for i in batch]\n",
    "    batch_label = torch.stack(batch_label)\n",
    "    batch = {'idx':batch_idxs,'label':batch_label}\n",
    "\n",
    "    return batch\n",
    "  return collate_fn\n",
    "\n"
   ]
  },
  {
   "cell_type": "code",
   "execution_count": 39,
   "id": "1d6c512d",
   "metadata": {
    "execution": {
     "iopub.execute_input": "2025-05-01T18:58:23.128236Z",
     "iopub.status.busy": "2025-05-01T18:58:23.127406Z",
     "iopub.status.idle": "2025-05-01T18:58:23.131834Z",
     "shell.execute_reply": "2025-05-01T18:58:23.131107Z"
    },
    "executionInfo": {
     "elapsed": 4,
     "status": "ok",
     "timestamp": 1746117643903,
     "user": {
      "displayName": "Larry Addo KORLI",
      "userId": "13024330108174493901"
     },
     "user_tz": 0
    },
    "id": "oUUEzxfLs1pr",
    "papermill": {
     "duration": 0.069576,
     "end_time": "2025-05-01T18:58:23.133092",
     "exception": false,
     "start_time": "2025-05-01T18:58:23.063516",
     "status": "completed"
    },
    "tags": []
   },
   "outputs": [],
   "source": [
    "def get_data_loader(dataset,batch_size,pad_index,shuffle=True):\n",
    "  collate_func = get_collate_fn(pad_index)\n",
    "  data_loader = torch.utils.data.DataLoader(\n",
    "      batch_size=batch_size,\n",
    "      dataset=dataset,\n",
    "      collate_fn = collate_func,\n",
    "      shuffle=shuffle\n",
    "  )\n",
    "  return data_loader"
   ]
  },
  {
   "cell_type": "code",
   "execution_count": 40,
   "id": "89d2624e",
   "metadata": {
    "execution": {
     "iopub.execute_input": "2025-05-01T18:58:23.250138Z",
     "iopub.status.busy": "2025-05-01T18:58:23.249932Z",
     "iopub.status.idle": "2025-05-01T18:58:23.254179Z",
     "shell.execute_reply": "2025-05-01T18:58:23.253494Z"
    },
    "executionInfo": {
     "elapsed": 4,
     "status": "ok",
     "timestamp": 1746117695912,
     "user": {
      "displayName": "Larry Addo KORLI",
      "userId": "13024330108174493901"
     },
     "user_tz": 0
    },
    "id": "3mTc23autuUm",
    "papermill": {
     "duration": 0.063653,
     "end_time": "2025-05-01T18:58:23.255210",
     "exception": false,
     "start_time": "2025-05-01T18:58:23.191557",
     "status": "completed"
    },
    "tags": []
   },
   "outputs": [],
   "source": [
    "\n",
    "batch_size = 512\n",
    "\n",
    "train_data_loader = get_data_loader(train, batch_size, pad_index, shuffle=False)\n",
    "valid_data_loader = get_data_loader(valid, batch_size, pad_index)\n",
    "test_data_loader = get_data_loader(test, batch_size, pad_index)\n",
    "\n"
   ]
  },
  {
   "cell_type": "code",
   "execution_count": 41,
   "id": "269d2ef4",
   "metadata": {
    "execution": {
     "iopub.execute_input": "2025-05-01T18:58:23.372390Z",
     "iopub.status.busy": "2025-05-01T18:58:23.371651Z",
     "iopub.status.idle": "2025-05-01T18:58:23.376360Z",
     "shell.execute_reply": "2025-05-01T18:58:23.375662Z"
    },
    "id": "-85noVvNuK2K",
    "papermill": {
     "duration": 0.063862,
     "end_time": "2025-05-01T18:58:23.377510",
     "exception": false,
     "start_time": "2025-05-01T18:58:23.313648",
     "status": "completed"
    },
    "tags": []
   },
   "outputs": [],
   "source": [
    "class NBW(nn.Module):\n",
    "    def __init__(self,vocab,embed_dim,output,pad_index):\n",
    "        super(NBW,self).__init__()\n",
    "        self.embedding = nn.Embedding(vocab,embed_dim,pad_index)\n",
    "        self.fc = nn.Linear(embed_dim,output)\n",
    "    def forward(self,idx):\n",
    "        #idx -> [batch_size,seq_len]\n",
    "        embed =  self.embedding(idx) #-> [batch_size,seq_len,embedding_dim]\n",
    "        pooling = embed.mean(dim=1)#-> [batch_size,embedding_diim]\n",
    "        out = self.fc(pooling) #-> [batch_size,output]\n",
    "        return  out"
   ]
  },
  {
   "cell_type": "code",
   "execution_count": 42,
   "id": "d3e5fc6a",
   "metadata": {
    "execution": {
     "iopub.execute_input": "2025-05-01T18:58:23.493330Z",
     "iopub.status.busy": "2025-05-01T18:58:23.492878Z",
     "iopub.status.idle": "2025-05-01T18:58:23.503407Z",
     "shell.execute_reply": "2025-05-01T18:58:23.502892Z"
    },
    "papermill": {
     "duration": 0.06951,
     "end_time": "2025-05-01T18:58:23.504426",
     "exception": false,
     "start_time": "2025-05-01T18:58:23.434916",
     "status": "completed"
    },
    "tags": []
   },
   "outputs": [
    {
     "data": {
      "text/plain": [
       "2"
      ]
     },
     "execution_count": 42,
     "metadata": {},
     "output_type": "execute_result"
    }
   ],
   "source": [
    "len(train['label'].unique())"
   ]
  },
  {
   "cell_type": "code",
   "execution_count": 43,
   "id": "293c4cb4",
   "metadata": {
    "execution": {
     "iopub.execute_input": "2025-05-01T18:58:23.624178Z",
     "iopub.status.busy": "2025-05-01T18:58:23.623615Z",
     "iopub.status.idle": "2025-05-01T18:58:23.691581Z",
     "shell.execute_reply": "2025-05-01T18:58:23.690993Z"
    },
    "papermill": {
     "duration": 0.127227,
     "end_time": "2025-05-01T18:58:23.692580",
     "exception": false,
     "start_time": "2025-05-01T18:58:23.565353",
     "status": "completed"
    },
    "tags": []
   },
   "outputs": [
    {
     "data": {
      "text/plain": [
       "NBW(\n",
       "  (embedding): Embedding(21635, 300, padding_idx=1)\n",
       "  (fc): Linear(in_features=300, out_features=2, bias=True)\n",
       ")"
      ]
     },
     "execution_count": 43,
     "metadata": {},
     "output_type": "execute_result"
    }
   ],
   "source": [
    "vocab_len = len(vocab)\n",
    "embedding_dim = 300\n",
    "output = len(train['label'].unique())\n",
    "\n",
    "model = NBW(vocab_len,embedding_dim,output,pad_index)\n",
    "model\n"
   ]
  },
  {
   "cell_type": "code",
   "execution_count": 44,
   "id": "7303dfde",
   "metadata": {
    "execution": {
     "iopub.execute_input": "2025-05-01T18:58:23.810202Z",
     "iopub.status.busy": "2025-05-01T18:58:23.809768Z",
     "iopub.status.idle": "2025-05-01T18:58:23.814432Z",
     "shell.execute_reply": "2025-05-01T18:58:23.813783Z"
    },
    "papermill": {
     "duration": 0.063975,
     "end_time": "2025-05-01T18:58:23.815438",
     "exception": false,
     "start_time": "2025-05-01T18:58:23.751463",
     "status": "completed"
    },
    "tags": []
   },
   "outputs": [
    {
     "data": {
      "text/plain": [
       "6491102"
      ]
     },
     "execution_count": 44,
     "metadata": {},
     "output_type": "execute_result"
    }
   ],
   "source": [
    "sum(p.numel() for p in model.parameters() if p.requires_grad)"
   ]
  },
  {
   "cell_type": "code",
   "execution_count": 45,
   "id": "149ae0d6",
   "metadata": {
    "execution": {
     "iopub.execute_input": "2025-05-01T18:58:23.931285Z",
     "iopub.status.busy": "2025-05-01T18:58:23.931071Z",
     "iopub.status.idle": "2025-05-01T19:09:55.798174Z",
     "shell.execute_reply": "2025-05-01T19:09:55.797481Z"
    },
    "papermill": {
     "duration": 691.926045,
     "end_time": "2025-05-01T19:09:55.799373",
     "exception": false,
     "start_time": "2025-05-01T18:58:23.873328",
     "status": "completed"
    },
    "tags": []
   },
   "outputs": [
    {
     "name": "stderr",
     "output_type": "stream",
     "text": [
      ".vector_cache/glove.840B.300d.zip: 2.18GB [06:50, 5.30MB/s]                            \n",
      "100%|█████████▉| 2196016/2196017 [03:52<00:00, 9442.52it/s]\n"
     ]
    },
    {
     "data": {
      "text/plain": [
       "torch.Size([300])"
      ]
     },
     "execution_count": 45,
     "metadata": {},
     "output_type": "execute_result"
    }
   ],
   "source": [
    "vectors = torchtext.vocab.GloVe()\n",
    "hello = vectors.get_vecs_by_tokens('hello')\n",
    "hello.shape"
   ]
  },
  {
   "cell_type": "code",
   "execution_count": 46,
   "id": "ee30f1bf",
   "metadata": {
    "execution": {
     "iopub.execute_input": "2025-05-01T19:09:56.396581Z",
     "iopub.status.busy": "2025-05-01T19:09:56.395959Z",
     "iopub.status.idle": "2025-05-01T19:09:56.544779Z",
     "shell.execute_reply": "2025-05-01T19:09:56.543891Z"
    },
    "papermill": {
     "duration": 0.444398,
     "end_time": "2025-05-01T19:09:56.546314",
     "exception": false,
     "start_time": "2025-05-01T19:09:56.101916",
     "status": "completed"
    },
    "tags": []
   },
   "outputs": [],
   "source": [
    "pretrained_embedding = vectors.get_vecs_by_tokens(vocab.get_itos())"
   ]
  },
  {
   "cell_type": "code",
   "execution_count": 47,
   "id": "50b573fd",
   "metadata": {
    "execution": {
     "iopub.execute_input": "2025-05-01T19:09:57.182103Z",
     "iopub.status.busy": "2025-05-01T19:09:57.181426Z",
     "iopub.status.idle": "2025-05-01T19:09:57.186120Z",
     "shell.execute_reply": "2025-05-01T19:09:57.185513Z"
    },
    "papermill": {
     "duration": 0.298634,
     "end_time": "2025-05-01T19:09:57.187246",
     "exception": false,
     "start_time": "2025-05-01T19:09:56.888612",
     "status": "completed"
    },
    "tags": []
   },
   "outputs": [
    {
     "data": {
      "text/plain": [
       "torch.Size([21635, 300])"
      ]
     },
     "execution_count": 47,
     "metadata": {},
     "output_type": "execute_result"
    }
   ],
   "source": [
    "pretrained_embedding.shape"
   ]
  },
  {
   "cell_type": "code",
   "execution_count": 48,
   "id": "73ff8e48",
   "metadata": {
    "execution": {
     "iopub.execute_input": "2025-05-01T19:09:57.760933Z",
     "iopub.status.busy": "2025-05-01T19:09:57.760657Z",
     "iopub.status.idle": "2025-05-01T19:09:57.770471Z",
     "shell.execute_reply": "2025-05-01T19:09:57.769908Z"
    },
    "papermill": {
     "duration": 0.296815,
     "end_time": "2025-05-01T19:09:57.771552",
     "exception": false,
     "start_time": "2025-05-01T19:09:57.474737",
     "status": "completed"
    },
    "tags": []
   },
   "outputs": [
    {
     "data": {
      "text/plain": [
       "Parameter containing:\n",
       "tensor([[-0.1117, -0.4966,  0.1631,  ..., -0.5592, -0.4480, -0.6476],\n",
       "        [ 0.0000,  0.0000,  0.0000,  ...,  0.0000,  0.0000,  0.0000],\n",
       "        [ 0.7882, -1.6625, -0.7064,  ..., -1.5841, -0.3711, -1.2338],\n",
       "        ...,\n",
       "        [-0.1833,  0.2245, -0.3846,  ..., -0.8093, -1.5803,  2.2097],\n",
       "        [ 0.8763, -0.4503, -0.3297,  ...,  1.0524, -0.3182, -0.0381],\n",
       "        [-0.7596,  0.6286,  0.0057,  ..., -0.8484, -0.1224,  1.3181]],\n",
       "       requires_grad=True)"
      ]
     },
     "execution_count": 48,
     "metadata": {},
     "output_type": "execute_result"
    }
   ],
   "source": [
    "model.embedding.weight"
   ]
  },
  {
   "cell_type": "code",
   "execution_count": 49,
   "id": "e961bec6",
   "metadata": {
    "execution": {
     "iopub.execute_input": "2025-05-01T19:09:58.397488Z",
     "iopub.status.busy": "2025-05-01T19:09:58.397201Z",
     "iopub.status.idle": "2025-05-01T19:09:58.400493Z",
     "shell.execute_reply": "2025-05-01T19:09:58.399973Z"
    },
    "papermill": {
     "duration": 0.295385,
     "end_time": "2025-05-01T19:09:58.401579",
     "exception": false,
     "start_time": "2025-05-01T19:09:58.106194",
     "status": "completed"
    },
    "tags": []
   },
   "outputs": [],
   "source": [
    "model.embedding.weight.data =  pretrained_embedding"
   ]
  },
  {
   "cell_type": "code",
   "execution_count": 50,
   "id": "d51effe4",
   "metadata": {
    "execution": {
     "iopub.execute_input": "2025-05-01T19:09:58.972657Z",
     "iopub.status.busy": "2025-05-01T19:09:58.972350Z",
     "iopub.status.idle": "2025-05-01T19:09:58.979229Z",
     "shell.execute_reply": "2025-05-01T19:09:58.978673Z"
    },
    "papermill": {
     "duration": 0.2951,
     "end_time": "2025-05-01T19:09:58.980207",
     "exception": false,
     "start_time": "2025-05-01T19:09:58.685107",
     "status": "completed"
    },
    "tags": []
   },
   "outputs": [
    {
     "data": {
      "text/plain": [
       "(Parameter containing:\n",
       " tensor([[ 0.0000,  0.0000,  0.0000,  ...,  0.0000,  0.0000,  0.0000],\n",
       "         [ 0.0000,  0.0000,  0.0000,  ...,  0.0000,  0.0000,  0.0000],\n",
       "         [ 0.2720, -0.0620, -0.1884,  ...,  0.1302, -0.1832,  0.1323],\n",
       "         ...,\n",
       "         [ 0.1662,  0.2845,  0.4958,  ..., -0.5733, -0.4675, -0.0965],\n",
       "         [ 0.0000,  0.0000,  0.0000,  ...,  0.0000,  0.0000,  0.0000],\n",
       "         [ 0.2701,  0.6335,  0.2016,  ..., -0.4568,  0.5783, -0.5545]],\n",
       "        requires_grad=True),\n",
       " tensor([[ 0.0000,  0.0000,  0.0000,  ...,  0.0000,  0.0000,  0.0000],\n",
       "         [ 0.0000,  0.0000,  0.0000,  ...,  0.0000,  0.0000,  0.0000],\n",
       "         [ 0.2720, -0.0620, -0.1884,  ...,  0.1302, -0.1832,  0.1323],\n",
       "         ...,\n",
       "         [ 0.1662,  0.2845,  0.4958,  ..., -0.5733, -0.4675, -0.0965],\n",
       "         [ 0.0000,  0.0000,  0.0000,  ...,  0.0000,  0.0000,  0.0000],\n",
       "         [ 0.2701,  0.6335,  0.2016,  ..., -0.4568,  0.5783, -0.5545]]))"
      ]
     },
     "execution_count": 50,
     "metadata": {},
     "output_type": "execute_result"
    }
   ],
   "source": [
    "model.embedding.weight,pretrained_embedding"
   ]
  },
  {
   "cell_type": "code",
   "execution_count": 51,
   "id": "daa228fd",
   "metadata": {
    "execution": {
     "iopub.execute_input": "2025-05-01T19:09:59.599908Z",
     "iopub.status.busy": "2025-05-01T19:09:59.599574Z",
     "iopub.status.idle": "2025-05-01T19:10:04.735125Z",
     "shell.execute_reply": "2025-05-01T19:10:04.734478Z"
    },
    "papermill": {
     "duration": 5.4203,
     "end_time": "2025-05-01T19:10:04.736572",
     "exception": false,
     "start_time": "2025-05-01T19:09:59.316272",
     "status": "completed"
    },
    "tags": []
   },
   "outputs": [],
   "source": [
    "optimizer = optim.Adam(model.parameters(),lr=1e-3)\n",
    "criterion = nn.CrossEntropyLoss()"
   ]
  },
  {
   "cell_type": "code",
   "execution_count": 52,
   "id": "c046c762",
   "metadata": {
    "execution": {
     "iopub.execute_input": "2025-05-01T19:10:05.356944Z",
     "iopub.status.busy": "2025-05-01T19:10:05.355822Z",
     "iopub.status.idle": "2025-05-01T19:10:05.695253Z",
     "shell.execute_reply": "2025-05-01T19:10:05.694431Z"
    },
    "papermill": {
     "duration": 0.660039,
     "end_time": "2025-05-01T19:10:05.696757",
     "exception": false,
     "start_time": "2025-05-01T19:10:05.036718",
     "status": "completed"
    },
    "tags": []
   },
   "outputs": [
    {
     "data": {
      "text/plain": [
       "'cuda'"
      ]
     },
     "execution_count": 52,
     "metadata": {},
     "output_type": "execute_result"
    }
   ],
   "source": [
    "device = 'cuda' if torch.cuda.is_available() else 'cpu'\n",
    "device"
   ]
  },
  {
   "cell_type": "code",
   "execution_count": 53,
   "id": "533662b7",
   "metadata": {
    "execution": {
     "iopub.execute_input": "2025-05-01T19:10:06.347733Z",
     "iopub.status.busy": "2025-05-01T19:10:06.346926Z",
     "iopub.status.idle": "2025-05-01T19:10:06.511618Z",
     "shell.execute_reply": "2025-05-01T19:10:06.510858Z"
    },
    "papermill": {
     "duration": 0.457718,
     "end_time": "2025-05-01T19:10:06.512866",
     "exception": false,
     "start_time": "2025-05-01T19:10:06.055148",
     "status": "completed"
    },
    "tags": []
   },
   "outputs": [
    {
     "data": {
      "text/plain": [
       "CrossEntropyLoss()"
      ]
     },
     "execution_count": 53,
     "metadata": {},
     "output_type": "execute_result"
    }
   ],
   "source": [
    "model.to(device)\n",
    "criterion.to(device)"
   ]
  },
  {
   "cell_type": "code",
   "execution_count": 54,
   "id": "1aa47bcc",
   "metadata": {
    "execution": {
     "iopub.execute_input": "2025-05-01T19:10:07.258453Z",
     "iopub.status.busy": "2025-05-01T19:10:07.257395Z",
     "iopub.status.idle": "2025-05-01T19:10:07.266720Z",
     "shell.execute_reply": "2025-05-01T19:10:07.265908Z"
    },
    "papermill": {
     "duration": 0.453577,
     "end_time": "2025-05-01T19:10:07.268111",
     "exception": false,
     "start_time": "2025-05-01T19:10:06.814534",
     "status": "completed"
    },
    "tags": []
   },
   "outputs": [],
   "source": [
    "def train_model(model,optimizer,criterion,data_loader,device):\n",
    "    model.train()\n",
    "    epoch_loss=[]\n",
    "    epoch_acc = []\n",
    "    for  batch in tqdm.tqdm(data_loader,desc='training...'):\n",
    "        idx = batch['idx'].to(device)\n",
    "        label = batch['label'].to(device)\n",
    "        predictions = model(idx)\n",
    "        loss = criterion(predictions,label)\n",
    "        acc = get_accuracy(predictions,label)\n",
    "        optimizer.zero_grad()\n",
    "        loss.backward()\n",
    "        optimizer.step()\n",
    "        epoch_loss.append(loss.item())\n",
    "        epoch_acc.append(acc.item())\n",
    "    return  np.mean(epoch_loss),np.mean(epoch_acc)        \n",
    "        "
   ]
  },
  {
   "cell_type": "code",
   "execution_count": 55,
   "id": "63a22d85",
   "metadata": {
    "execution": {
     "iopub.execute_input": "2025-05-01T19:10:08.021159Z",
     "iopub.status.busy": "2025-05-01T19:10:08.020871Z",
     "iopub.status.idle": "2025-05-01T19:10:08.025493Z",
     "shell.execute_reply": "2025-05-01T19:10:08.025000Z"
    },
    "papermill": {
     "duration": 0.364451,
     "end_time": "2025-05-01T19:10:08.026556",
     "exception": false,
     "start_time": "2025-05-01T19:10:07.662105",
     "status": "completed"
    },
    "tags": []
   },
   "outputs": [],
   "source": [
    "def  evaluate(model,device,criterion,data_loader):\n",
    "    model.eval()\n",
    "    epoch_loss = []\n",
    "    epoch_acc = []\n",
    "    with torch.inference_mode():\n",
    "        for batch in tqdm.tqdm(data_loader,desc='testing...'):\n",
    "            idx = batch['idx'].to(device)\n",
    "            label = batch['label'].to(device)\n",
    "            preds = model(idx)\n",
    "            loss = criterion(preds,label)\n",
    "            acc = get_accuracy(preds,label)\n",
    "            epoch_loss.append(loss.item())\n",
    "            epoch_acc.append(acc.item())\n",
    "    return  np.mean(epoch_loss),np.mean(epoch_acc)        "
   ]
  },
  {
   "cell_type": "code",
   "execution_count": 56,
   "id": "30a1edfb",
   "metadata": {
    "execution": {
     "iopub.execute_input": "2025-05-01T19:10:08.675382Z",
     "iopub.status.busy": "2025-05-01T19:10:08.675099Z",
     "iopub.status.idle": "2025-05-01T19:10:08.679362Z",
     "shell.execute_reply": "2025-05-01T19:10:08.678600Z"
    },
    "papermill": {
     "duration": 0.30851,
     "end_time": "2025-05-01T19:10:08.680647",
     "exception": false,
     "start_time": "2025-05-01T19:10:08.372137",
     "status": "completed"
    },
    "tags": []
   },
   "outputs": [],
   "source": [
    "def get_accuracy(preds,label):\n",
    "    bz,_= preds.shape\n",
    "    pred_classes = preds.argmax(dim=-1)\n",
    "    corrections = pred_classes.eq(label).sum()\n",
    "    return  corrections/bz"
   ]
  },
  {
   "cell_type": "code",
   "execution_count": 57,
   "id": "3f69b304",
   "metadata": {
    "execution": {
     "iopub.execute_input": "2025-05-01T19:10:09.313909Z",
     "iopub.status.busy": "2025-05-01T19:10:09.313091Z",
     "iopub.status.idle": "2025-05-01T19:10:09.318501Z",
     "shell.execute_reply": "2025-05-01T19:10:09.317521Z"
    },
    "papermill": {
     "duration": 0.324099,
     "end_time": "2025-05-01T19:10:09.319830",
     "exception": false,
     "start_time": "2025-05-01T19:10:08.995731",
     "status": "completed"
    },
    "tags": []
   },
   "outputs": [
    {
     "data": {
      "text/plain": [
       "{'text': Value(dtype='string', id=None),\n",
       " 'label': ClassLabel(names=['neg', 'pos'], id=None),\n",
       " 'tokens': Sequence(feature=Value(dtype='string', id=None), length=-1, id=None),\n",
       " 'idx': Sequence(feature=Value(dtype='int64', id=None), length=-1, id=None)}"
      ]
     },
     "execution_count": 57,
     "metadata": {},
     "output_type": "execute_result"
    }
   ],
   "source": [
    "train.features"
   ]
  },
  {
   "cell_type": "code",
   "execution_count": 58,
   "id": "ba2feac2",
   "metadata": {
    "execution": {
     "iopub.execute_input": "2025-05-01T19:10:09.952679Z",
     "iopub.status.busy": "2025-05-01T19:10:09.951868Z",
     "iopub.status.idle": "2025-05-01T19:10:23.651545Z",
     "shell.execute_reply": "2025-05-01T19:10:23.650579Z"
    },
    "papermill": {
     "duration": 13.991261,
     "end_time": "2025-05-01T19:10:23.652854",
     "exception": false,
     "start_time": "2025-05-01T19:10:09.661593",
     "status": "completed"
    },
    "tags": []
   },
   "outputs": [
    {
     "name": "stderr",
     "output_type": "stream",
     "text": [
      "training...: 100%|██████████| 37/37 [00:01<00:00, 21.19it/s]\n",
      "testing...: 100%|██████████| 13/13 [00:00<00:00, 26.21it/s]\n"
     ]
    },
    {
     "name": "stdout",
     "output_type": "stream",
     "text": [
      "Epoch; 0/10| Train_loss: 0.6776673229965003| Train_accurary: 0.6493541372788919\n",
      "Test_loss: 0.659519035082597 | Test_accuracy: 0.6965512770872849\n"
     ]
    },
    {
     "name": "stderr",
     "output_type": "stream",
     "text": [
      "training...: 100%|██████████| 37/37 [00:01<00:00, 36.33it/s]\n",
      "testing...: 100%|██████████| 13/13 [00:00<00:00, 55.58it/s]\n"
     ]
    },
    {
     "name": "stdout",
     "output_type": "stream",
     "text": [
      "Epoch; 1/10| Train_loss: 0.6347504048734098| Train_accurary: 0.7369217308791908\n",
      "Test_loss: 0.6069358403866107 | Test_accuracy: 0.7482311312968914\n"
     ]
    },
    {
     "name": "stderr",
     "output_type": "stream",
     "text": [
      "training...: 100%|██████████| 37/37 [00:00<00:00, 39.42it/s]\n",
      "testing...: 100%|██████████| 13/13 [00:00<00:00, 58.82it/s]\n"
     ]
    },
    {
     "name": "stdout",
     "output_type": "stream",
     "text": [
      "Epoch; 2/10| Train_loss: 0.5713084855595151| Train_accurary: 0.7739218795621717\n",
      "Test_loss: 0.545107167500716 | Test_accuracy: 0.7812386613625747\n"
     ]
    },
    {
     "name": "stderr",
     "output_type": "stream",
     "text": [
      "training...: 100%|██████████| 37/37 [00:00<00:00, 39.95it/s]\n",
      "testing...: 100%|██████████| 13/13 [00:00<00:00, 58.48it/s]\n"
     ]
    },
    {
     "name": "stdout",
     "output_type": "stream",
     "text": [
      "Epoch; 3/10| Train_loss: 0.4997060854692717| Train_accurary: 0.8178371464883959\n",
      "Test_loss: 0.4798896679511437 | Test_accuracy: 0.8204712455089276\n"
     ]
    },
    {
     "name": "stderr",
     "output_type": "stream",
     "text": [
      "training...: 100%|██████████| 37/37 [00:00<00:00, 39.70it/s]\n",
      "testing...: 100%|██████████| 13/13 [00:00<00:00, 58.85it/s]\n"
     ]
    },
    {
     "name": "stdout",
     "output_type": "stream",
     "text": [
      "Epoch; 4/10| Train_loss: 0.433595928791407| Train_accurary: 0.8505382956685247\n",
      "Test_loss: 0.4273394552560953 | Test_accuracy: 0.8444841962594253\n"
     ]
    },
    {
     "name": "stderr",
     "output_type": "stream",
     "text": [
      "training...: 100%|██████████| 37/37 [00:01<00:00, 34.81it/s]\n",
      "testing...: 100%|██████████| 13/13 [00:00<00:00, 50.53it/s]\n"
     ]
    },
    {
     "name": "stdout",
     "output_type": "stream",
     "text": [
      "Epoch; 5/10| Train_loss: 0.3801231384277344| Train_accurary: 0.8722892629133688\n",
      "Test_loss: 0.3902283815237192 | Test_accuracy: 0.8546750270403348\n"
     ]
    },
    {
     "name": "stderr",
     "output_type": "stream",
     "text": [
      "training...: 100%|██████████| 37/37 [00:00<00:00, 39.94it/s]\n",
      "testing...: 100%|██████████| 13/13 [00:00<00:00, 58.55it/s]\n"
     ]
    },
    {
     "name": "stdout",
     "output_type": "stream",
     "text": [
      "Epoch; 6/10| Train_loss: 0.3387684516004614| Train_accurary: 0.8851719853040334\n",
      "Test_loss: 0.3671027719974518 | Test_accuracy: 0.8593579943363483\n"
     ]
    },
    {
     "name": "stderr",
     "output_type": "stream",
     "text": [
      "training...: 100%|██████████| 37/37 [00:00<00:00, 40.14it/s]\n",
      "testing...: 100%|██████████| 13/13 [00:00<00:00, 57.27it/s]\n"
     ]
    },
    {
     "name": "stdout",
     "output_type": "stream",
     "text": [
      "Epoch; 7/10| Train_loss: 0.3060924459148098| Train_accurary: 0.8964272705284325\n",
      "Test_loss: 0.34809785852065456 | Test_accuracy: 0.8653676097209637\n"
     ]
    },
    {
     "name": "stderr",
     "output_type": "stream",
     "text": [
      "training...: 100%|██████████| 37/37 [00:01<00:00, 32.75it/s]\n",
      "testing...: 100%|██████████| 13/13 [00:00<00:00, 56.26it/s]\n"
     ]
    },
    {
     "name": "stdout",
     "output_type": "stream",
     "text": [
      "Epoch; 8/10| Train_loss: 0.2793323184187348| Train_accurary: 0.9069873593948983\n",
      "Test_loss: 0.3279503056636223 | Test_accuracy: 0.8729278170145475\n"
     ]
    },
    {
     "name": "stderr",
     "output_type": "stream",
     "text": [
      "training...: 100%|██████████| 37/37 [00:00<00:00, 39.03it/s]\n",
      "testing...: 100%|██████████| 13/13 [00:00<00:00, 58.62it/s]"
     ]
    },
    {
     "name": "stdout",
     "output_type": "stream",
     "text": [
      "Epoch; 9/10| Train_loss: 0.25674985268631495| Train_accurary: 0.9143891817814594\n",
      "Test_loss: 0.3160778238223149 | Test_accuracy: 0.8771600631567148\n"
     ]
    },
    {
     "name": "stderr",
     "output_type": "stream",
     "text": [
      "\n"
     ]
    }
   ],
   "source": [
    "epochs = 10\n",
    "best_valid_loss = float('inf')\n",
    "metrics = collections.defaultdict(list)\n",
    "\n",
    "for epoch in range(epochs):\n",
    "    train_loss,train_accuracy =  train_model(model,optimizer,criterion,train_data_loader,device)\n",
    "    valid_loss,valid_accuracy = evaluate(model,device,criterion,valid_data_loader)\n",
    "    metrics['train_loss'].append(train_loss)\n",
    "    metrics['test_loss'].append(valid_loss)\n",
    "    metrics['train_accuracy'].append(train_accuracy)\n",
    "    metrics['test_accuracy'].append(valid_accuracy)\n",
    "    if valid_loss<best_valid_loss:\n",
    "        best_valid_loss = valid_loss\n",
    "        torch.save(model.state_dict(),'nbw.pt')\n",
    "    if (epoch+1)%1 ==0  :\n",
    "        print(f'Epoch; {epoch}/{epochs}| Train_loss: {train_loss}| Train_accurary: {train_accuracy}') \n",
    "        print(f'Test_loss: {valid_loss} | Test_accuracy: {valid_accuracy}')"
   ]
  },
  {
   "cell_type": "code",
   "execution_count": 59,
   "id": "0e2cacda",
   "metadata": {
    "execution": {
     "iopub.execute_input": "2025-05-01T19:10:24.308379Z",
     "iopub.status.busy": "2025-05-01T19:10:24.307519Z",
     "iopub.status.idle": "2025-05-01T19:10:24.313036Z",
     "shell.execute_reply": "2025-05-01T19:10:24.312441Z"
    },
    "papermill": {
     "duration": 0.35053,
     "end_time": "2025-05-01T19:10:24.314096",
     "exception": false,
     "start_time": "2025-05-01T19:10:23.963566",
     "status": "completed"
    },
    "tags": []
   },
   "outputs": [
    {
     "data": {
      "text/plain": [
       "defaultdict(list,\n",
       "            {'train_loss': [0.6776673229965003,\n",
       "              0.6347504048734098,\n",
       "              0.5713084855595151,\n",
       "              0.4997060854692717,\n",
       "              0.433595928791407,\n",
       "              0.3801231384277344,\n",
       "              0.3387684516004614,\n",
       "              0.3060924459148098,\n",
       "              0.2793323184187348,\n",
       "              0.25674985268631495],\n",
       "             'test_loss': [0.659519035082597,\n",
       "              0.6069358403866107,\n",
       "              0.545107167500716,\n",
       "              0.4798896679511437,\n",
       "              0.4273394552560953,\n",
       "              0.3902283815237192,\n",
       "              0.3671027719974518,\n",
       "              0.34809785852065456,\n",
       "              0.3279503056636223,\n",
       "              0.3160778238223149],\n",
       "             'train_accuracy': [0.6493541372788919,\n",
       "              0.7369217308791908,\n",
       "              0.7739218795621717,\n",
       "              0.8178371464883959,\n",
       "              0.8505382956685247,\n",
       "              0.8722892629133688,\n",
       "              0.8851719853040334,\n",
       "              0.8964272705284325,\n",
       "              0.9069873593948983,\n",
       "              0.9143891817814594],\n",
       "             'test_accuracy': [0.6965512770872849,\n",
       "              0.7482311312968914,\n",
       "              0.7812386613625747,\n",
       "              0.8204712455089276,\n",
       "              0.8444841962594253,\n",
       "              0.8546750270403348,\n",
       "              0.8593579943363483,\n",
       "              0.8653676097209637,\n",
       "              0.8729278170145475,\n",
       "              0.8771600631567148]})"
      ]
     },
     "execution_count": 59,
     "metadata": {},
     "output_type": "execute_result"
    }
   ],
   "source": [
    "metrics"
   ]
  },
  {
   "cell_type": "code",
   "execution_count": 60,
   "id": "a4b922ee",
   "metadata": {
    "execution": {
     "iopub.execute_input": "2025-05-01T19:10:24.904103Z",
     "iopub.status.busy": "2025-05-01T19:10:24.903287Z",
     "iopub.status.idle": "2025-05-01T19:10:25.248164Z",
     "shell.execute_reply": "2025-05-01T19:10:25.247487Z"
    },
    "papermill": {
     "duration": 0.641548,
     "end_time": "2025-05-01T19:10:25.249408",
     "exception": false,
     "start_time": "2025-05-01T19:10:24.607860",
     "status": "completed"
    },
    "tags": []
   },
   "outputs": [
    {
     "data": {
      "image/png": "[encoded data removed]",
      "text/plain": [
       "<Figure size 1000x600 with 1 Axes>"
      ]
     },
     "metadata": {},
     "output_type": "display_data"
    }
   ],
   "source": [
    "\n",
    "fig = plt.figure(figsize=(10, 6))\n",
    "ax = fig.add_subplot(1, 1, 1)\n",
    "ax.plot(metrics[\"train_loss\"], label=\"train loss\")\n",
    "ax.plot(metrics[\"test_loss\"], label=\"valid loss\")\n",
    "ax.set_xlabel(\"epoch\")\n",
    "ax.set_ylabel(\"loss\")\n",
    "ax.set_xticks(range(epochs))\n",
    "ax.legend()\n",
    "ax.grid()\n"
   ]
  },
  {
   "cell_type": "code",
   "execution_count": 61,
   "id": "07c3ebd6",
   "metadata": {
    "execution": {
     "iopub.execute_input": "2025-05-01T19:10:25.903175Z",
     "iopub.status.busy": "2025-05-01T19:10:25.902895Z",
     "iopub.status.idle": "2025-05-01T19:10:26.085532Z",
     "shell.execute_reply": "2025-05-01T19:10:26.084737Z"
    },
    "papermill": {
     "duration": 0.540979,
     "end_time": "2025-05-01T19:10:26.087034",
     "exception": false,
     "start_time": "2025-05-01T19:10:25.546055",
     "status": "completed"
    },
    "tags": []
   },
   "outputs": [
    {
     "data": {
      "image/png": "[encoded data removed]",
      "text/plain": [
       "<Figure size 1000x600 with 1 Axes>"
      ]
     },
     "metadata": {},
     "output_type": "display_data"
    }
   ],
   "source": [
    "fig = plt.figure(figsize=(10, 6))\n",
    "ax = fig.add_subplot(1, 1, 1)\n",
    "ax.plot(metrics[\"train_accuracy\"], label=\"train accuracy\")\n",
    "ax.plot(metrics[\"test_accuracy\"], label=\"valid accuracy\")\n",
    "ax.set_xlabel(\"epoch\")\n",
    "ax.set_ylabel(\"loss\")\n",
    "ax.set_xticks(range(epochs))\n",
    "ax.legend()\n",
    "ax.grid()"
   ]
  },
  {
   "cell_type": "code",
   "execution_count": 62,
   "id": "17ff9fab",
   "metadata": {
    "execution": {
     "iopub.execute_input": "2025-05-01T19:10:26.684665Z",
     "iopub.status.busy": "2025-05-01T19:10:26.684349Z",
     "iopub.status.idle": "2025-05-01T19:10:28.275569Z",
     "shell.execute_reply": "2025-05-01T19:10:28.274566Z"
    },
    "papermill": {
     "duration": 1.886718,
     "end_time": "2025-05-01T19:10:28.277048",
     "exception": false,
     "start_time": "2025-05-01T19:10:26.390330",
     "status": "completed"
    },
    "tags": []
   },
   "outputs": [
    {
     "name": "stderr",
     "output_type": "stream",
     "text": [
      "testing...: 100%|██████████| 49/49 [00:01<00:00, 31.28it/s]"
     ]
    },
    {
     "name": "stdout",
     "output_type": "stream",
     "text": [
      "test_loss: 0.35344937747838545,   test_acc: 0.8556800813091044\n"
     ]
    },
    {
     "name": "stderr",
     "output_type": "stream",
     "text": [
      "\n"
     ]
    }
   ],
   "source": [
    "model.load_state_dict(torch.load('nbw.pt'))\n",
    "test_loss,test_acc = evaluate(model,device,criterion,test_data_loader)\n",
    "print(f'test_loss: {test_loss},   test_acc: {test_acc}')"
   ]
  },
  {
   "cell_type": "code",
   "execution_count": 63,
   "id": "a0452f71",
   "metadata": {
    "execution": {
     "iopub.execute_input": "2025-05-01T19:10:28.930421Z",
     "iopub.status.busy": "2025-05-01T19:10:28.929665Z",
     "iopub.status.idle": "2025-05-01T19:10:28.934357Z",
     "shell.execute_reply": "2025-05-01T19:10:28.933609Z"
    },
    "papermill": {
     "duration": 0.309128,
     "end_time": "2025-05-01T19:10:28.935502",
     "exception": false,
     "start_time": "2025-05-01T19:10:28.626374",
     "status": "completed"
    },
    "tags": []
   },
   "outputs": [],
   "source": [
    "def predict(text,model,tokenizer,device,vocab):\n",
    "    tokens = tokenizer(text)\n",
    "    idx = vocab.lookup_indices(tokens)\n",
    "    tensor = torch.LongTensor(idx).unsqueeze(0).to(device)\n",
    "    pred = model(tensor).squeeze(0)\n",
    "    prob = torch.softmax(pred,dim=-1)\n",
    "    class_pred  = pred.argmax(dim=-1).item()\n",
    "    pred_prob = prob[class_pred].item()\n",
    "    return class_pred,pred_prob"
   ]
  },
  {
   "cell_type": "code",
   "execution_count": 64,
   "id": "ab606dcc",
   "metadata": {
    "execution": {
     "iopub.execute_input": "2025-05-01T19:10:29.582864Z",
     "iopub.status.busy": "2025-05-01T19:10:29.582178Z",
     "iopub.status.idle": "2025-05-01T19:10:29.591569Z",
     "shell.execute_reply": "2025-05-01T19:10:29.591064Z"
    },
    "papermill": {
     "duration": 0.361714,
     "end_time": "2025-05-01T19:10:29.592666",
     "exception": false,
     "start_time": "2025-05-01T19:10:29.230952",
     "status": "completed"
    },
    "tags": []
   },
   "outputs": [],
   "source": [
    "train['label'].unique()\n",
    "label = ['Neg','pos']"
   ]
  },
  {
   "cell_type": "code",
   "execution_count": 65,
   "id": "ef27dfac",
   "metadata": {
    "execution": {
     "iopub.execute_input": "2025-05-01T19:10:30.182235Z",
     "iopub.status.busy": "2025-05-01T19:10:30.181895Z",
     "iopub.status.idle": "2025-05-01T19:10:30.186194Z",
     "shell.execute_reply": "2025-05-01T19:10:30.185659Z"
    },
    "papermill": {
     "duration": 0.300764,
     "end_time": "2025-05-01T19:10:30.187296",
     "exception": false,
     "start_time": "2025-05-01T19:10:29.886532",
     "status": "completed"
    },
    "tags": []
   },
   "outputs": [],
   "source": [
    "reviews = [\n",
    "    # 1\n",
    "    \"Incredible movie! The acting was superb, and the plot kept me on the edge of my seat. Definitely a must-watch!\",\n",
    "    # 2\n",
    "    \"Terrible movie. The plot was predictable, and the acting was flat. I was bored halfway through.\",\n",
    "    # 3\n",
    "    \"I loved every second of it. The direction, screenplay, and performances were just outstanding. Highly recommend!\",\n",
    "    # 4\n",
    "    \"I don’t understand the hype. The story was weak, and the characters felt one-dimensional. Definitely not worth the watch.\",\n",
    "    # 5\n",
    "    \"An absolute masterpiece! The characters were so well-developed, and the story was gripping from start to finish.\",\n",
    "    # 6\n",
    "    \"Waste of time. It dragged on forever, and the pacing was horrible. The dialogue was cringeworthy at times.\",\n",
    "    # 7\n",
    "    \"This film exceeded all my expectations. Fantastic action sequences and a story that actually makes you think.\",\n",
    "    # 8\n",
    "    \"Very disappointing. The special effects couldn’t save this one. The plot was all over the place and not engaging at all.\",\n",
    "    # 9\n",
    "    \"An emotionally charged movie with brilliant performances. It’s rare to find such a deep and powerful film. 10/10!\",\n",
    "    # 10\n",
    "    \"The film didn’t make sense. The plot had too many holes, and the characters were unbelievable. Avoid it!\",\n",
    "    # 11\n",
    "    \"I was completely absorbed by this movie. The plot was fresh and exciting, and the cinematography was stunning.\",\n",
    "    # 12\n",
    "    \"Boring and unoriginal. This movie tried too hard to be deep but ended up being a mess.\",\n",
    "    # 13\n",
    "    \"A great film that blends drama and action perfectly. A must-see for any fan of the genre.\",\n",
    "    # 14\n",
    "    \"I wanted to like this film, but it was a huge letdown. The script was weak, and the pacing was painfully slow.\",\n",
    "    # 15\n",
    "    \"I thoroughly enjoyed it. The storyline was compelling, and the acting was top-notch. A great cinematic experience.\",\n",
    "    # 16\n",
    "    \"I really didn’t enjoy this. The story was too predictable, and the characters felt like cardboard cutouts.\",\n",
    "    # 17\n",
    "    \"What a beautiful movie! From the soundtrack to the visuals, everything was top quality. Highly recommend watching it.\",\n",
    "    # 18\n",
    "    \"I was expecting more, but this movie failed to deliver. The performances were stiff, and the story lacked depth.\",\n",
    "    # 19\n",
    "    \"Such a feel-good film! It left me smiling all the way through. The performances were outstanding, especially the lead actor.\",\n",
    "    # 20\n",
    "    \"The movie was just plain bad. The acting was wooden, and the direction was all over the place. Not worth your time.\"\n",
    "]\n"
   ]
  },
  {
   "cell_type": "code",
   "execution_count": 66,
   "id": "8507f64f",
   "metadata": {
    "execution": {
     "iopub.execute_input": "2025-05-01T19:10:30.855457Z",
     "iopub.status.busy": "2025-05-01T19:10:30.854967Z",
     "iopub.status.idle": "2025-05-01T19:10:30.893089Z",
     "shell.execute_reply": "2025-05-01T19:10:30.892122Z"
    },
    "papermill": {
     "duration": 0.400976,
     "end_time": "2025-05-01T19:10:30.894318",
     "exception": false,
     "start_time": "2025-05-01T19:10:30.493342",
     "status": "completed"
    },
    "tags": []
   },
   "outputs": [
    {
     "name": "stdout",
     "output_type": "stream",
     "text": [
      "Pos or neg -> pos\n",
      "Probability -> 0.9995630383491516\n",
      "Pos or neg -> Neg\n",
      "Probability -> 1.0\n",
      "Pos or neg -> pos\n",
      "Probability -> 0.9999604225158691\n",
      "Pos or neg -> Neg\n",
      "Probability -> 0.9661660194396973\n",
      "Pos or neg -> pos\n",
      "Probability -> 0.949195384979248\n",
      "Pos or neg -> Neg\n",
      "Probability -> 0.9997920393943787\n",
      "Pos or neg -> pos\n",
      "Probability -> 0.9999929666519165\n",
      "Pos or neg -> Neg\n",
      "Probability -> 0.9998279809951782\n",
      "Pos or neg -> pos\n",
      "Probability -> 0.9999996423721313\n",
      "Pos or neg -> Neg\n",
      "Probability -> 0.999969482421875\n",
      "Pos or neg -> pos\n",
      "Probability -> 0.8442798852920532\n",
      "Pos or neg -> Neg\n",
      "Probability -> 0.9999998807907104\n",
      "Pos or neg -> pos\n",
      "Probability -> 0.9999979734420776\n",
      "Pos or neg -> Neg\n",
      "Probability -> 0.9999951124191284\n",
      "Pos or neg -> pos\n",
      "Probability -> 0.9997562766075134\n",
      "Pos or neg -> Neg\n",
      "Probability -> 0.9967183470726013\n",
      "Pos or neg -> pos\n",
      "Probability -> 0.9999462366104126\n",
      "Pos or neg -> Neg\n",
      "Probability -> 0.8754857182502747\n",
      "Pos or neg -> pos\n",
      "Probability -> 0.9980910420417786\n",
      "Pos or neg -> Neg\n",
      "Probability -> 0.9999979734420776\n"
     ]
    }
   ],
   "source": [
    "for text in reviews:\n",
    "    class_pred,prob = predict(text,model,tokenizer,device,vocab)\n",
    "    print(f'Pos or neg -> {label[class_pred]}')\n",
    "    print(f'Probability -> {prob}')"
   ]
  },
  {
   "cell_type": "code",
   "execution_count": null,
   "id": "641492b2",
   "metadata": {
    "papermill": {
     "duration": 0.300244,
     "end_time": "2025-05-01T19:10:31.490652",
     "exception": false,
     "start_time": "2025-05-01T19:10:31.190408",
     "status": "completed"
    },
    "tags": []
   },
   "outputs": [],
   "source": []
  }
 ],
 "metadata": {
  "colab": {
   "authorship_tag": "ABX9TyMzU8mMjULXWzWnQba4dJ2M",
   "provenance": []
  },
  "kaggle": {
   "accelerator": "nvidiaTeslaT4",
   "dataSources": [],
   "dockerImageVersionId": 31011,
   "isGpuEnabled": true,
   "isInternetEnabled": true,
   "language": "python",
   "sourceType": "notebook"
  },
  "kernelspec": {
   "display_name": "Python 3",
   "language": "python",
   "name": "python3"
  },
  "language_info": {
   "codemirror_mode": {
    "name": "ipython",
    "version": 3
   },
   "file_extension": ".py",
   "mimetype": "text/x-python",
   "name": "python",
   "nbconvert_exporter": "python",
   "pygments_lexer": "ipython3",
   "version": "3.11.11"
  },
  "papermill": {
   "default_parameters": {},
   "duration": 957.050088,
   "end_time": "2025-05-01T19:10:35.398449",
   "environment_variables": {},
   "exception": null,
   "input_path": "__notebook__.ipynb",
   "output_path": "__notebook__.ipynb",
   "parameters": {},
   "start_time": "2025-05-01T18:54:38.348361",
   "version": "2.6.0"
  },
  "widgets": {
   "application/vnd.jupyter.widget-state+json": {
    "state": {
     "030687fc7a424298a064a25dc99a2b39": {
      "model_module": "@jupyter-widgets/controls",
      "model_module_version": "2.0.0",
      "model_name": "HTMLModel",
      "state": {
       "_dom_classes": [],
       "_model_module": "@jupyter-widgets/controls",
       "_model_module_version": "2.0.0",
       "_model_name": "HTMLModel",
       "_view_count": null,
       "_view_module": "@jupyter-widgets/controls",
       "_view_module_version": "2.0.0",
       "_view_name": "HTMLView",
       "description": "",
       "description_allow_html": false,
       "layout": "IPY_MODEL_d563ab55ed454160adbe4bb25a3d6965",
       "placeholder": "​",
       "style": "IPY_MODEL_ff7d3583c6e649e68356c69a987f335f",
       "tabbable": null,
       "tooltip": null,
       "value": "Generating test split: 100%"
      }
     },
     "053c331dacc441648d48f5d951a16617": {
      "model_module": "@jupyter-widgets/base",
      "model_module_version": "2.0.0",
      "model_name": "LayoutModel",
      "state": {
       "_model_module": "@jupyter-widgets/base",
       "_model_module_version": "2.0.0",
       "_model_name": "LayoutModel",
       "_view_count": null,
       "_view_module": "@jupyter-widgets/base",
       "_view_module_version": "2.0.0",
       "_view_name": "LayoutView",
       "align_content": null,
       "align_items": null,
       "align_self": null,
       "border_bottom": null,
       "border_left": null,
       "border_right": null,
       "border_top": null,
       "bottom": null,
       "display": null,
       "flex": null,
       "flex_flow": null,
       "grid_area": null,
       "grid_auto_columns": null,
       "grid_auto_flow": null,
       "grid_auto_rows": null,
       "grid_column": null,
       "grid_gap": null,
       "grid_row": null,
       "grid_template_areas": null,
       "grid_template_columns": null,
       "grid_template_rows": null,
       "height": null,
       "justify_content": null,
       "justify_items": null,
       "left": null,
       "margin": null,
       "max_height": null,
       "max_width": null,
       "min_height": null,
       "min_width": null,
       "object_fit": null,
       "object_position": null,
       "order": null,
       "overflow": null,
       "padding": null,
       "right": null,
       "top": null,
       "visibility": null,
       "width": null
      }
     },
     "055ea19c23bb4cd3a77b42ad5bd665d5": {
      "model_module": "@jupyter-widgets/controls",
      "model_module_version": "2.0.0",
      "model_name": "HBoxModel",
      "state": {
       "_dom_classes": [],
       "_model_module": "@jupyter-widgets/controls",
       "_model_module_version": "2.0.0",
       "_model_name": "HBoxModel",
       "_view_count": null,
       "_view_module": "@jupyter-widgets/controls",
       "_view_module_version": "2.0.0",
       "_view_name": "HBoxView",
       "box_style": "",
       "children": [
        "IPY_MODEL_030687fc7a424298a064a25dc99a2b39",
        "IPY_MODEL_dc8fcd6ef94249e79da663a6837c07be",
        "IPY_MODEL_bed21892ae974d6cb3b45963f151e468"
       ],
       "layout": "IPY_MODEL_280591286a3d4ed08060f5667abf6d88",
       "tabbable": null,
       "tooltip": null
      }
     },
     "06b8c9ebb6ec4dbf949f0fb864b158bb": {
      "model_module": "@jupyter-widgets/controls",
      "model_module_version": "2.0.0",
      "model_name": "HTMLStyleModel",
      "state": {
       "_model_module": "@jupyter-widgets/controls",
       "_model_module_version": "2.0.0",
       "_model_name": "HTMLStyleModel",
       "_view_count": null,
       "_view_module": "@jupyter-widgets/base",
       "_view_module_version": "2.0.0",
       "_view_name": "StyleView",
       "background": null,
       "description_width": "",
       "font_size": null,
       "text_color": null
      }
     },
     "073d59e082d847abba87b1c2aef4c61c": {
      "model_module": "@jupyter-widgets/controls",
      "model_module_version": "2.0.0",
      "model_name": "ProgressStyleModel",
      "state": {
       "_model_module": "@jupyter-widgets/controls",
       "_model_module_version": "2.0.0",
       "_model_name": "ProgressStyleModel",
       "_view_count": null,
       "_view_module": "@jupyter-widgets/base",
       "_view_module_version": "2.0.0",
       "_view_name": "StyleView",
       "bar_color": null,
       "description_width": ""
      }
     },
     "07d8458851a0495095c7e80ee5aab78d": {
      "model_module": "@jupyter-widgets/controls",
      "model_module_version": "2.0.0",
      "model_name": "HTMLStyleModel",
      "state": {
       "_model_module": "@jupyter-widgets/controls",
       "_model_module_version": "2.0.0",
       "_model_name": "HTMLStyleModel",
       "_view_count": null,
       "_view_module": "@jupyter-widgets/base",
       "_view_module_version": "2.0.0",
       "_view_name": "StyleView",
       "background": null,
       "description_width": "",
       "font_size": null,
       "text_color": null
      }
     },
     "090cf37bd7754fffa1d4b6d2bd18b934": {
      "model_module": "@jupyter-widgets/controls",
      "model_module_version": "2.0.0",
      "model_name": "HBoxModel",
      "state": {
       "_dom_classes": [],
       "_model_module": "@jupyter-widgets/controls",
       "_model_module_version": "2.0.0",
       "_model_name": "HBoxModel",
       "_view_count": null,
       "_view_module": "@jupyter-widgets/controls",
       "_view_module_version": "2.0.0",
       "_view_name": "HBoxView",
       "box_style": "",
       "children": [
        "IPY_MODEL_47bc3b8b33f2459f8839d73ff8d06045",
        "IPY_MODEL_4116d4e660d043e1a570d93fdf273ce2",
        "IPY_MODEL_e800682180ed43f89a39fc9a741f095c"
       ],
       "layout": "IPY_MODEL_053c331dacc441648d48f5d951a16617",
       "tabbable": null,
       "tooltip": null
      }
     },
     "0943ca54d42b426b92ce3163d6ec7503": {
      "model_module": "@jupyter-widgets/controls",
      "model_module_version": "2.0.0",
      "model_name": "HTMLModel",
      "state": {
       "_dom_classes": [],
       "_model_module": "@jupyter-widgets/controls",
       "_model_module_version": "2.0.0",
       "_model_name": "HTMLModel",
       "_view_count": null,
       "_view_module": "@jupyter-widgets/controls",
       "_view_module_version": "2.0.0",
       "_view_name": "HTMLView",
       "description": "",
       "description_allow_html": false,
       "layout": "IPY_MODEL_88df039dc7764b70a0acc09e7bb3b47a",
       "placeholder": "​",
       "style": "IPY_MODEL_355f89d0cd9c4ba19ee5c72e2a3ae064",
       "tabbable": null,
       "tooltip": null,
       "value": " 25000/25000 [00:05&lt;00:00, 4494.10 examples/s]"
      }
     },
     "0c7540fe05bd4786947cf3f9b5f673b9": {
      "model_module": "@jupyter-widgets/controls",
      "model_module_version": "2.0.0",
      "model_name": "HTMLModel",
      "state": {
       "_dom_classes": [],
       "_model_module": "@jupyter-widgets/controls",
       "_model_module_version": "2.0.0",
       "_model_name": "HTMLModel",
       "_view_count": null,
       "_view_module": "@jupyter-widgets/controls",
       "_view_module_version": "2.0.0",
       "_view_name": "HTMLView",
       "description": "",
       "description_allow_html": false,
       "layout": "IPY_MODEL_eef1f99fc33e49e58c3035c4f4170bf4",
       "placeholder": "​",
       "style": "IPY_MODEL_5c40b74d7e874c24bc4c6390503ca23b",
       "tabbable": null,
       "tooltip": null,
       "value": " 42.0M/42.0M [00:00&lt;00:00, 208MB/s]"
      }
     },
     "0fed3b622ba74a838eec8245d2481af7": {
      "model_module": "@jupyter-widgets/controls",
      "model_module_version": "2.0.0",
      "model_name": "HTMLModel",
      "state": {
       "_dom_classes": [],
       "_model_module": "@jupyter-widgets/controls",
       "_model_module_version": "2.0.0",
       "_model_name": "HTMLModel",
       "_view_count": null,
       "_view_module": "@jupyter-widgets/controls",
       "_view_module_version": "2.0.0",
       "_view_name": "HTMLView",
       "description": "",
       "description_allow_html": false,
       "layout": "IPY_MODEL_5bed20144ea941bf9a1f4dc5565ab6c8",
       "placeholder": "​",
       "style": "IPY_MODEL_d5d0bc6b628f44f2a08a403899ab7fa4",
       "tabbable": null,
       "tooltip": null,
       "value": " 20.5M/20.5M [00:00&lt;00:00, 197MB/s]"
      }
     },
     "1152c19776e44ed8b3c75596863960e5": {
      "model_module": "@jupyter-widgets/controls",
      "model_module_version": "2.0.0",
      "model_name": "HTMLStyleModel",
      "state": {
       "_model_module": "@jupyter-widgets/controls",
       "_model_module_version": "2.0.0",
       "_model_name": "HTMLStyleModel",
       "_view_count": null,
       "_view_module": "@jupyter-widgets/base",
       "_view_module_version": "2.0.0",
       "_view_name": "StyleView",
       "background": null,
       "description_width": "",
       "font_size": null,
       "text_color": null
      }
     },
     "13c09956171243d3928ba222f8e2a4c7": {
      "model_module": "@jupyter-widgets/controls",
      "model_module_version": "2.0.0",
      "model_name": "ProgressStyleModel",
      "state": {
       "_model_module": "@jupyter-widgets/controls",
       "_model_module_version": "2.0.0",
       "_model_name": "ProgressStyleModel",
       "_view_count": null,
       "_view_module": "@jupyter-widgets/base",
       "_view_module_version": "2.0.0",
       "_view_name": "StyleView",
       "bar_color": null,
       "description_width": ""
      }
     },
     "19a1bce9daef4cdead433bf96f44ba97": {
      "model_module": "@jupyter-widgets/base",
      "model_module_version": "2.0.0",
      "model_name": "LayoutModel",
      "state": {
       "_model_module": "@jupyter-widgets/base",
       "_model_module_version": "2.0.0",
       "_model_name": "LayoutModel",
       "_view_count": null,
       "_view_module": "@jupyter-widgets/base",
       "_view_module_version": "2.0.0",
       "_view_name": "LayoutView",
       "align_content": null,
       "align_items": null,
       "align_self": null,
       "border_bottom": null,
       "border_left": null,
       "border_right": null,
       "border_top": null,
       "bottom": null,
       "display": null,
       "flex": null,
       "flex_flow": null,
       "grid_area": null,
       "grid_auto_columns": null,
       "grid_auto_flow": null,
       "grid_auto_rows": null,
       "grid_column": null,
       "grid_gap": null,
       "grid_row": null,
       "grid_template_areas": null,
       "grid_template_columns": null,
       "grid_template_rows": null,
       "height": null,
       "justify_content": null,
       "justify_items": null,
       "left": null,
       "margin": null,
       "max_height": null,
       "max_width": null,
       "min_height": null,
       "min_width": null,
       "object_fit": null,
       "object_position": null,
       "order": null,
       "overflow": null,
       "padding": null,
       "right": null,
       "top": null,
       "visibility": null,
       "width": null
      }
     },
     "1d1d259037d84dbc81e2838a1c78a9ca": {
      "model_module": "@jupyter-widgets/base",
      "model_module_version": "2.0.0",
      "model_name": "LayoutModel",
      "state": {
       "_model_module": "@jupyter-widgets/base",
       "_model_module_version": "2.0.0",
       "_model_name": "LayoutModel",
       "_view_count": null,
       "_view_module": "@jupyter-widgets/base",
       "_view_module_version": "2.0.0",
       "_view_name": "LayoutView",
       "align_content": null,
       "align_items": null,
       "align_self": null,
       "border_bottom": null,
       "border_left": null,
       "border_right": null,
       "border_top": null,
       "bottom": null,
       "display": null,
       "flex": null,
       "flex_flow": null,
       "grid_area": null,
       "grid_auto_columns": null,
       "grid_auto_flow": null,
       "grid_auto_rows": null,
       "grid_column": null,
       "grid_gap": null,
       "grid_row": null,
       "grid_template_areas": null,
       "grid_template_columns": null,
       "grid_template_rows": null,
       "height": null,
       "justify_content": null,
       "justify_items": null,
       "left": null,
       "margin": null,
       "max_height": null,
       "max_width": null,
       "min_height": null,
       "min_width": null,
       "object_fit": null,
       "object_position": null,
       "order": null,
       "overflow": null,
       "padding": null,
       "right": null,
       "top": null,
       "visibility": null,
       "width": null
      }
     },
     "1f2343aff30d421682d80b8fe44b85e8": {
      "model_module": "@jupyter-widgets/base",
      "model_module_version": "2.0.0",
      "model_name": "LayoutModel",
      "state": {
       "_model_module": "@jupyter-widgets/base",
       "_model_module_version": "2.0.0",
       "_model_name": "LayoutModel",
       "_view_count": null,
       "_view_module": "@jupyter-widgets/base",
       "_view_module_version": "2.0.0",
       "_view_name": "LayoutView",
       "align_content": null,
       "align_items": null,
       "align_self": null,
       "border_bottom": null,
       "border_left": null,
       "border_right": null,
       "border_top": null,
       "bottom": null,
       "display": null,
       "flex": null,
       "flex_flow": null,
       "grid_area": null,
       "grid_auto_columns": null,
       "grid_auto_flow": null,
       "grid_auto_rows": null,
       "grid_column": null,
       "grid_gap": null,
       "grid_row": null,
       "grid_template_areas": null,
       "grid_template_columns": null,
       "grid_template_rows": null,
       "height": null,
       "justify_content": null,
       "justify_items": null,
       "left": null,
       "margin": null,
       "max_height": null,
       "max_width": null,
       "min_height": null,
       "min_width": null,
       "object_fit": null,
       "object_position": null,
       "order": null,
       "overflow": null,
       "padding": null,
       "right": null,
       "top": null,
       "visibility": null,
       "width": null
      }
     },
     "23c7256461b04c028fe45d22c7c83abd": {
      "model_module": "@jupyter-widgets/controls",
      "model_module_version": "2.0.0",
      "model_name": "HTMLModel",
      "state": {
       "_dom_classes": [],
       "_model_module": "@jupyter-widgets/controls",
       "_model_module_version": "2.0.0",
       "_model_name": "HTMLModel",
       "_view_count": null,
       "_view_module": "@jupyter-widgets/controls",
       "_view_module_version": "2.0.0",
       "_view_name": "HTMLView",
       "description": "",
       "description_allow_html": false,
       "layout": "IPY_MODEL_6da461febaf042d5b9574d43d8d394c9",
       "placeholder": "​",
       "style": "IPY_MODEL_65e0edd73e29485aa18bf2f6e2ddf2e9",
       "tabbable": null,
       "tooltip": null,
       "value": " 18750/18750 [00:06&lt;00:00, 2875.86 examples/s]"
      }
     },
     "26d602cd08074b379652765176dcffda": {
      "model_module": "@jupyter-widgets/base",
      "model_module_version": "2.0.0",
      "model_name": "LayoutModel",
      "state": {
       "_model_module": "@jupyter-widgets/base",
       "_model_module_version": "2.0.0",
       "_model_name": "LayoutModel",
       "_view_count": null,
       "_view_module": "@jupyter-widgets/base",
       "_view_module_version": "2.0.0",
       "_view_name": "LayoutView",
       "align_content": null,
       "align_items": null,
       "align_self": null,
       "border_bottom": null,
       "border_left": null,
       "border_right": null,
       "border_top": null,
       "bottom": null,
       "display": null,
       "flex": null,
       "flex_flow": null,
       "grid_area": null,
       "grid_auto_columns": null,
       "grid_auto_flow": null,
       "grid_auto_rows": null,
       "grid_column": null,
       "grid_gap": null,
       "grid_row": null,
       "grid_template_areas": null,
       "grid_template_columns": null,
       "grid_template_rows": null,
       "height": null,
       "justify_content": null,
       "justify_items": null,
       "left": null,
       "margin": null,
       "max_height": null,
       "max_width": null,
       "min_height": null,
       "min_width": null,
       "object_fit": null,
       "object_position": null,
       "order": null,
       "overflow": null,
       "padding": null,
       "right": null,
       "top": null,
       "visibility": null,
       "width": null
      }
     },
     "275cb2c8a1ae4e2a80d0aa182c13650c": {
      "model_module": "@jupyter-widgets/controls",
      "model_module_version": "2.0.0",
      "model_name": "HTMLStyleModel",
      "state": {
       "_model_module": "@jupyter-widgets/controls",
       "_model_module_version": "2.0.0",
       "_model_name": "HTMLStyleModel",
       "_view_count": null,
       "_view_module": "@jupyter-widgets/base",
       "_view_module_version": "2.0.0",
       "_view_name": "StyleView",
       "background": null,
       "description_width": "",
       "font_size": null,
       "text_color": null
      }
     },
     "280591286a3d4ed08060f5667abf6d88": {
      "model_module": "@jupyter-widgets/base",
      "model_module_version": "2.0.0",
      "model_name": "LayoutModel",
      "state": {
       "_model_module": "@jupyter-widgets/base",
       "_model_module_version": "2.0.0",
       "_model_name": "LayoutModel",
       "_view_count": null,
       "_view_module": "@jupyter-widgets/base",
       "_view_module_version": "2.0.0",
       "_view_name": "LayoutView",
       "align_content": null,
       "align_items": null,
       "align_self": null,
       "border_bottom": null,
       "border_left": null,
       "border_right": null,
       "border_top": null,
       "bottom": null,
       "display": null,
       "flex": null,
       "flex_flow": null,
       "grid_area": null,
       "grid_auto_columns": null,
       "grid_auto_flow": null,
       "grid_auto_rows": null,
       "grid_column": null,
       "grid_gap": null,
       "grid_row": null,
       "grid_template_areas": null,
       "grid_template_columns": null,
       "grid_template_rows": null,
       "height": null,
       "justify_content": null,
       "justify_items": null,
       "left": null,
       "margin": null,
       "max_height": null,
       "max_width": null,
       "min_height": null,
       "min_width": null,
       "object_fit": null,
       "object_position": null,
       "order": null,
       "overflow": null,
       "padding": null,
       "right": null,
       "top": null,
       "visibility": null,
       "width": null
      }
     },
     "2b13498099864ae7beababe85aee9ea6": {
      "model_module": "@jupyter-widgets/controls",
      "model_module_version": "2.0.0",
      "model_name": "HBoxModel",
      "state": {
       "_dom_classes": [],
       "_model_module": "@jupyter-widgets/controls",
       "_model_module_version": "2.0.0",
       "_model_name": "HBoxModel",
       "_view_count": null,
       "_view_module": "@jupyter-widgets/controls",
       "_view_module_version": "2.0.0",
       "_view_name": "HBoxView",
       "box_style": "",
       "children": [
        "IPY_MODEL_5a5c13e8a548409f82f40e84aedecd1f",
        "IPY_MODEL_b685fab3b63948e2991738116e7ce62c",
        "IPY_MODEL_23c7256461b04c028fe45d22c7c83abd"
       ],
       "layout": "IPY_MODEL_30aedd3add8e4530a5955e8cf0f01d36",
       "tabbable": null,
       "tooltip": null
      }
     },
     "2cccde4cb1a1492ea0a749949cdad7d6": {
      "model_module": "@jupyter-widgets/controls",
      "model_module_version": "2.0.0",
      "model_name": "HTMLStyleModel",
      "state": {
       "_model_module": "@jupyter-widgets/controls",
       "_model_module_version": "2.0.0",
       "_model_name": "HTMLStyleModel",
       "_view_count": null,
       "_view_module": "@jupyter-widgets/base",
       "_view_module_version": "2.0.0",
       "_view_name": "StyleView",
       "background": null,
       "description_width": "",
       "font_size": null,
       "text_color": null
      }
     },
     "30aedd3add8e4530a5955e8cf0f01d36": {
      "model_module": "@jupyter-widgets/base",
      "model_module_version": "2.0.0",
      "model_name": "LayoutModel",
      "state": {
       "_model_module": "@jupyter-widgets/base",
       "_model_module_version": "2.0.0",
       "_model_name": "LayoutModel",
       "_view_count": null,
       "_view_module": "@jupyter-widgets/base",
       "_view_module_version": "2.0.0",
       "_view_name": "LayoutView",
       "align_content": null,
       "align_items": null,
       "align_self": null,
       "border_bottom": null,
       "border_left": null,
       "border_right": null,
       "border_top": null,
       "bottom": null,
       "display": null,
       "flex": null,
       "flex_flow": null,
       "grid_area": null,
       "grid_auto_columns": null,
       "grid_auto_flow": null,
       "grid_auto_rows": null,
       "grid_column": null,
       "grid_gap": null,
       "grid_row": null,
       "grid_template_areas": null,
       "grid_template_columns": null,
       "grid_template_rows": null,
       "height": null,
       "justify_content": null,
       "justify_items": null,
       "left": null,
       "margin": null,
       "max_height": null,
       "max_width": null,
       "min_height": null,
       "min_width": null,
       "object_fit": null,
       "object_position": null,
       "order": null,
       "overflow": null,
       "padding": null,
       "right": null,
       "top": null,
       "visibility": null,
       "width": null
      }
     },
     "32ca26922497497a87e88e19c62d2e3c": {
      "model_module": "@jupyter-widgets/controls",
      "model_module_version": "2.0.0",
      "model_name": "HBoxModel",
      "state": {
       "_dom_classes": [],
       "_model_module": "@jupyter-widgets/controls",
       "_model_module_version": "2.0.0",
       "_model_name": "HBoxModel",
       "_view_count": null,
       "_view_module": "@jupyter-widgets/controls",
       "_view_module_version": "2.0.0",
       "_view_name": "HBoxView",
       "box_style": "",
       "children": [
        "IPY_MODEL_f2148b5ad7354ab58693a51598d7526a",
        "IPY_MODEL_aef7e871d5074a459e5054f9ac6e197d",
        "IPY_MODEL_0c7540fe05bd4786947cf3f9b5f673b9"
       ],
       "layout": "IPY_MODEL_6a3182834d7a4938b82d680c002b2456",
       "tabbable": null,
       "tooltip": null
      }
     },
     "345c8819774049588bd515a0c5e826b9": {
      "model_module": "@jupyter-widgets/controls",
      "model_module_version": "2.0.0",
      "model_name": "HTMLModel",
      "state": {
       "_dom_classes": [],
       "_model_module": "@jupyter-widgets/controls",
       "_model_module_version": "2.0.0",
       "_model_name": "HTMLModel",
       "_view_count": null,
       "_view_module": "@jupyter-widgets/controls",
       "_view_module_version": "2.0.0",
       "_view_name": "HTMLView",
       "description": "",
       "description_allow_html": false,
       "layout": "IPY_MODEL_f152a89d9c9c438f9ae79d36c31e4162",
       "placeholder": "​",
       "style": "IPY_MODEL_8b32613cae5142fcaaa1f1d21abb306e",
       "tabbable": null,
       "tooltip": null,
       "value": " 25000/25000 [00:05&lt;00:00, 4813.91 examples/s]"
      }
     },
     "355f89d0cd9c4ba19ee5c72e2a3ae064": {
      "model_module": "@jupyter-widgets/controls",
      "model_module_version": "2.0.0",
      "model_name": "HTMLStyleModel",
      "state": {
       "_model_module": "@jupyter-widgets/controls",
       "_model_module_version": "2.0.0",
       "_model_name": "HTMLStyleModel",
       "_view_count": null,
       "_view_module": "@jupyter-widgets/base",
       "_view_module_version": "2.0.0",
       "_view_name": "StyleView",
       "background": null,
       "description_width": "",
       "font_size": null,
       "text_color": null
      }
     },
     "36c6374ad8dd46cbb8fcf269da55ec00": {
      "model_module": "@jupyter-widgets/controls",
      "model_module_version": "2.0.0",
      "model_name": "HTMLModel",
      "state": {
       "_dom_classes": [],
       "_model_module": "@jupyter-widgets/controls",
       "_model_module_version": "2.0.0",
       "_model_name": "HTMLModel",
       "_view_count": null,
       "_view_module": "@jupyter-widgets/controls",
       "_view_module_version": "2.0.0",
       "_view_name": "HTMLView",
       "description": "",
       "description_allow_html": false,
       "layout": "IPY_MODEL_587f44cd2092421e804c203465f2a317",
       "placeholder": "​",
       "style": "IPY_MODEL_b98393ec7449491f8f5d3f24d032a9bd",
       "tabbable": null,
       "tooltip": null,
       "value": "Map: 100%"
      }
     },
     "3848c8fb35e14a0ebeaf73389465a8ee": {
      "model_module": "@jupyter-widgets/base",
      "model_module_version": "2.0.0",
      "model_name": "LayoutModel",
      "state": {
       "_model_module": "@jupyter-widgets/base",
       "_model_module_version": "2.0.0",
       "_model_name": "LayoutModel",
       "_view_count": null,
       "_view_module": "@jupyter-widgets/base",
       "_view_module_version": "2.0.0",
       "_view_name": "LayoutView",
       "align_content": null,
       "align_items": null,
       "align_self": null,
       "border_bottom": null,
       "border_left": null,
       "border_right": null,
       "border_top": null,
       "bottom": null,
       "display": null,
       "flex": null,
       "flex_flow": null,
       "grid_area": null,
       "grid_auto_columns": null,
       "grid_auto_flow": null,
       "grid_auto_rows": null,
       "grid_column": null,
       "grid_gap": null,
       "grid_row": null,
       "grid_template_areas": null,
       "grid_template_columns": null,
       "grid_template_rows": null,
       "height": null,
       "justify_content": null,
       "justify_items": null,
       "left": null,
       "margin": null,
       "max_height": null,
       "max_width": null,
       "min_height": null,
       "min_width": null,
       "object_fit": null,
       "object_position": null,
       "order": null,
       "overflow": null,
       "padding": null,
       "right": null,
       "top": null,
       "visibility": null,
       "width": null
      }
     },
     "38501b5bec114ab39b97c8d3a4a95795": {
      "model_module": "@jupyter-widgets/controls",
      "model_module_version": "2.0.0",
      "model_name": "HTMLStyleModel",
      "state": {
       "_model_module": "@jupyter-widgets/controls",
       "_model_module_version": "2.0.0",
       "_model_name": "HTMLStyleModel",
       "_view_count": null,
       "_view_module": "@jupyter-widgets/base",
       "_view_module_version": "2.0.0",
       "_view_name": "StyleView",
       "background": null,
       "description_width": "",
       "font_size": null,
       "text_color": null
      }
     },
     "3879d88b87f7475b8c8a38e59be1ab7a": {
      "model_module": "@jupyter-widgets/base",
      "model_module_version": "2.0.0",
      "model_name": "LayoutModel",
      "state": {
       "_model_module": "@jupyter-widgets/base",
       "_model_module_version": "2.0.0",
       "_model_name": "LayoutModel",
       "_view_count": null,
       "_view_module": "@jupyter-widgets/base",
       "_view_module_version": "2.0.0",
       "_view_name": "LayoutView",
       "align_content": null,
       "align_items": null,
       "align_self": null,
       "border_bottom": null,
       "border_left": null,
       "border_right": null,
       "border_top": null,
       "bottom": null,
       "display": null,
       "flex": null,
       "flex_flow": null,
       "grid_area": null,
       "grid_auto_columns": null,
       "grid_auto_flow": null,
       "grid_auto_rows": null,
       "grid_column": null,
       "grid_gap": null,
       "grid_row": null,
       "grid_template_areas": null,
       "grid_template_columns": null,
       "grid_template_rows": null,
       "height": null,
       "justify_content": null,
       "justify_items": null,
       "left": null,
       "margin": null,
       "max_height": null,
       "max_width": null,
       "min_height": null,
       "min_width": null,
       "object_fit": null,
       "object_position": null,
       "order": null,
       "overflow": null,
       "padding": null,
       "right": null,
       "top": null,
       "visibility": null,
       "width": null
      }
     },
     "3d1640694b4d413abc85ec7c8a6d7fd0": {
      "model_module": "@jupyter-widgets/base",
      "model_module_version": "2.0.0",
      "model_name": "LayoutModel",
      "state": {
       "_model_module": "@jupyter-widgets/base",
       "_model_module_version": "2.0.0",
       "_model_name": "LayoutModel",
       "_view_count": null,
       "_view_module": "@jupyter-widgets/base",
       "_view_module_version": "2.0.0",
       "_view_name": "LayoutView",
       "align_content": null,
       "align_items": null,
       "align_self": null,
       "border_bottom": null,
       "border_left": null,
       "border_right": null,
       "border_top": null,
       "bottom": null,
       "display": null,
       "flex": null,
       "flex_flow": null,
       "grid_area": null,
       "grid_auto_columns": null,
       "grid_auto_flow": null,
       "grid_auto_rows": null,
       "grid_column": null,
       "grid_gap": null,
       "grid_row": null,
       "grid_template_areas": null,
       "grid_template_columns": null,
       "grid_template_rows": null,
       "height": null,
       "justify_content": null,
       "justify_items": null,
       "left": null,
       "margin": null,
       "max_height": null,
       "max_width": null,
       "min_height": null,
       "min_width": null,
       "object_fit": null,
       "object_position": null,
       "order": null,
       "overflow": null,
       "padding": null,
       "right": null,
       "top": null,
       "visibility": null,
       "width": null
      }
     },
     "3e9ec6631b0c4419a57cdea6a828408e": {
      "model_module": "@jupyter-widgets/base",
      "model_module_version": "2.0.0",
      "model_name": "LayoutModel",
      "state": {
       "_model_module": "@jupyter-widgets/base",
       "_model_module_version": "2.0.0",
       "_model_name": "LayoutModel",
       "_view_count": null,
       "_view_module": "@jupyter-widgets/base",
       "_view_module_version": "2.0.0",
       "_view_name": "LayoutView",
       "align_content": null,
       "align_items": null,
       "align_self": null,
       "border_bottom": null,
       "border_left": null,
       "border_right": null,
       "border_top": null,
       "bottom": null,
       "display": null,
       "flex": null,
       "flex_flow": null,
       "grid_area": null,
       "grid_auto_columns": null,
       "grid_auto_flow": null,
       "grid_auto_rows": null,
       "grid_column": null,
       "grid_gap": null,
       "grid_row": null,
       "grid_template_areas": null,
       "grid_template_columns": null,
       "grid_template_rows": null,
       "height": null,
       "justify_content": null,
       "justify_items": null,
       "left": null,
       "margin": null,
       "max_height": null,
       "max_width": null,
       "min_height": null,
       "min_width": null,
       "object_fit": null,
       "object_position": null,
       "order": null,
       "overflow": null,
       "padding": null,
       "right": null,
       "top": null,
       "visibility": null,
       "width": null
      }
     },
     "40c6ee33de964596b00353d9ab0be0a8": {
      "model_module": "@jupyter-widgets/base",
      "model_module_version": "2.0.0",
      "model_name": "LayoutModel",
      "state": {
       "_model_module": "@jupyter-widgets/base",
       "_model_module_version": "2.0.0",
       "_model_name": "LayoutModel",
       "_view_count": null,
       "_view_module": "@jupyter-widgets/base",
       "_view_module_version": "2.0.0",
       "_view_name": "LayoutView",
       "align_content": null,
       "align_items": null,
       "align_self": null,
       "border_bottom": null,
       "border_left": null,
       "border_right": null,
       "border_top": null,
       "bottom": null,
       "display": null,
       "flex": null,
       "flex_flow": null,
       "grid_area": null,
       "grid_auto_columns": null,
       "grid_auto_flow": null,
       "grid_auto_rows": null,
       "grid_column": null,
       "grid_gap": null,
       "grid_row": null,
       "grid_template_areas": null,
       "grid_template_columns": null,
       "grid_template_rows": null,
       "height": null,
       "justify_content": null,
       "justify_items": null,
       "left": null,
       "margin": null,
       "max_height": null,
       "max_width": null,
       "min_height": null,
       "min_width": null,
       "object_fit": null,
       "object_position": null,
       "order": null,
       "overflow": null,
       "padding": null,
       "right": null,
       "top": null,
       "visibility": null,
       "width": null
      }
     },
     "4116d4e660d043e1a570d93fdf273ce2": {
      "model_module": "@jupyter-widgets/controls",
      "model_module_version": "2.0.0",
      "model_name": "FloatProgressModel",
      "state": {
       "_dom_classes": [],
       "_model_module": "@jupyter-widgets/controls",
       "_model_module_version": "2.0.0",
       "_model_name": "FloatProgressModel",
       "_view_count": null,
       "_view_module": "@jupyter-widgets/controls",
       "_view_module_version": "2.0.0",
       "_view_name": "ProgressView",
       "bar_style": "success",
       "description": "",
       "description_allow_html": false,
       "layout": "IPY_MODEL_26d602cd08074b379652765176dcffda",
       "max": 50000.0,
       "min": 0.0,
       "orientation": "horizontal",
       "style": "IPY_MODEL_b4a9b475bd3949baadc884c95cfb7545",
       "tabbable": null,
       "tooltip": null,
       "value": 50000.0
      }
     },
     "4340bb47b53043bd8ad400fb5ce11273": {
      "model_module": "@jupyter-widgets/base",
      "model_module_version": "2.0.0",
      "model_name": "LayoutModel",
      "state": {
       "_model_module": "@jupyter-widgets/base",
       "_model_module_version": "2.0.0",
       "_model_name": "LayoutModel",
       "_view_count": null,
       "_view_module": "@jupyter-widgets/base",
       "_view_module_version": "2.0.0",
       "_view_name": "LayoutView",
       "align_content": null,
       "align_items": null,
       "align_self": null,
       "border_bottom": null,
       "border_left": null,
       "border_right": null,
       "border_top": null,
       "bottom": null,
       "display": null,
       "flex": null,
       "flex_flow": null,
       "grid_area": null,
       "grid_auto_columns": null,
       "grid_auto_flow": null,
       "grid_auto_rows": null,
       "grid_column": null,
       "grid_gap": null,
       "grid_row": null,
       "grid_template_areas": null,
       "grid_template_columns": null,
       "grid_template_rows": null,
       "height": null,
       "justify_content": null,
       "justify_items": null,
       "left": null,
       "margin": null,
       "max_height": null,
       "max_width": null,
       "min_height": null,
       "min_width": null,
       "object_fit": null,
       "object_position": null,
       "order": null,
       "overflow": null,
       "padding": null,
       "right": null,
       "top": null,
       "visibility": null,
       "width": null
      }
     },
     "454df12063284d1cb616ddc4e555c8ca": {
      "model_module": "@jupyter-widgets/base",
      "model_module_version": "2.0.0",
      "model_name": "LayoutModel",
      "state": {
       "_model_module": "@jupyter-widgets/base",
       "_model_module_version": "2.0.0",
       "_model_name": "LayoutModel",
       "_view_count": null,
       "_view_module": "@jupyter-widgets/base",
       "_view_module_version": "2.0.0",
       "_view_name": "LayoutView",
       "align_content": null,
       "align_items": null,
       "align_self": null,
       "border_bottom": null,
       "border_left": null,
       "border_right": null,
       "border_top": null,
       "bottom": null,
       "display": null,
       "flex": null,
       "flex_flow": null,
       "grid_area": null,
       "grid_auto_columns": null,
       "grid_auto_flow": null,
       "grid_auto_rows": null,
       "grid_column": null,
       "grid_gap": null,
       "grid_row": null,
       "grid_template_areas": null,
       "grid_template_columns": null,
       "grid_template_rows": null,
       "height": null,
       "justify_content": null,
       "justify_items": null,
       "left": null,
       "margin": null,
       "max_height": null,
       "max_width": null,
       "min_height": null,
       "min_width": null,
       "object_fit": null,
       "object_position": null,
       "order": null,
       "overflow": null,
       "padding": null,
       "right": null,
       "top": null,
       "visibility": null,
       "width": null
      }
     },
     "45a5dc85bd8f4081ad3adac3e5225fe9": {
      "model_module": "@jupyter-widgets/controls",
      "model_module_version": "2.0.0",
      "model_name": "HTMLStyleModel",
      "state": {
       "_model_module": "@jupyter-widgets/controls",
       "_model_module_version": "2.0.0",
       "_model_name": "HTMLStyleModel",
       "_view_count": null,
       "_view_module": "@jupyter-widgets/base",
       "_view_module_version": "2.0.0",
       "_view_name": "StyleView",
       "background": null,
       "description_width": "",
       "font_size": null,
       "text_color": null
      }
     },
     "47bc3b8b33f2459f8839d73ff8d06045": {
      "model_module": "@jupyter-widgets/controls",
      "model_module_version": "2.0.0",
      "model_name": "HTMLModel",
      "state": {
       "_dom_classes": [],
       "_model_module": "@jupyter-widgets/controls",
       "_model_module_version": "2.0.0",
       "_model_name": "HTMLModel",
       "_view_count": null,
       "_view_module": "@jupyter-widgets/controls",
       "_view_module_version": "2.0.0",
       "_view_name": "HTMLView",
       "description": "",
       "description_allow_html": false,
       "layout": "IPY_MODEL_1f2343aff30d421682d80b8fe44b85e8",
       "placeholder": "​",
       "style": "IPY_MODEL_7b8fc04f834e4a2a8420ff886ad06c1e",
       "tabbable": null,
       "tooltip": null,
       "value": "Generating unsupervised split: 100%"
      }
     },
     "4a274461f84e4f37930bfb451318a467": {
      "model_module": "@jupyter-widgets/base",
      "model_module_version": "2.0.0",
      "model_name": "LayoutModel",
      "state": {
       "_model_module": "@jupyter-widgets/base",
       "_model_module_version": "2.0.0",
       "_model_name": "LayoutModel",
       "_view_count": null,
       "_view_module": "@jupyter-widgets/base",
       "_view_module_version": "2.0.0",
       "_view_name": "LayoutView",
       "align_content": null,
       "align_items": null,
       "align_self": null,
       "border_bottom": null,
       "border_left": null,
       "border_right": null,
       "border_top": null,
       "bottom": null,
       "display": null,
       "flex": null,
       "flex_flow": null,
       "grid_area": null,
       "grid_auto_columns": null,
       "grid_auto_flow": null,
       "grid_auto_rows": null,
       "grid_column": null,
       "grid_gap": null,
       "grid_row": null,
       "grid_template_areas": null,
       "grid_template_columns": null,
       "grid_template_rows": null,
       "height": null,
       "justify_content": null,
       "justify_items": null,
       "left": null,
       "margin": null,
       "max_height": null,
       "max_width": null,
       "min_height": null,
       "min_width": null,
       "object_fit": null,
       "object_position": null,
       "order": null,
       "overflow": null,
       "padding": null,
       "right": null,
       "top": null,
       "visibility": null,
       "width": null
      }
     },
     "4e22c7ccad6146df943eae572d32aad9": {
      "model_module": "@jupyter-widgets/controls",
      "model_module_version": "2.0.0",
      "model_name": "HTMLModel",
      "state": {
       "_dom_classes": [],
       "_model_module": "@jupyter-widgets/controls",
       "_model_module_version": "2.0.0",
       "_model_name": "HTMLModel",
       "_view_count": null,
       "_view_module": "@jupyter-widgets/controls",
       "_view_module_version": "2.0.0",
       "_view_name": "HTMLView",
       "description": "",
       "description_allow_html": false,
       "layout": "IPY_MODEL_97a9e50fe7ef4850ab3e8468ae813b18",
       "placeholder": "​",
       "style": "IPY_MODEL_1152c19776e44ed8b3c75596863960e5",
       "tabbable": null,
       "tooltip": null,
       "value": " 6250/6250 [00:02&lt;00:00, 2704.06 examples/s]"
      }
     },
     "4f1d77e0b16c4904b7e006aab35782b7": {
      "model_module": "@jupyter-widgets/controls",
      "model_module_version": "2.0.0",
      "model_name": "HBoxModel",
      "state": {
       "_dom_classes": [],
       "_model_module": "@jupyter-widgets/controls",
       "_model_module_version": "2.0.0",
       "_model_name": "HBoxModel",
       "_view_count": null,
       "_view_module": "@jupyter-widgets/controls",
       "_view_module_version": "2.0.0",
       "_view_name": "HBoxView",
       "box_style": "",
       "children": [
        "IPY_MODEL_a8959cef14244962b26412d7d34ddc39",
        "IPY_MODEL_cedd1646dff14b22aa90f0c6af316bb6",
        "IPY_MODEL_0943ca54d42b426b92ce3163d6ec7503"
       ],
       "layout": "IPY_MODEL_a282ffd82deb4c3a9b063cfb9e69d3f8",
       "tabbable": null,
       "tooltip": null
      }
     },
     "541ddb9c68294c13b143a7a9a69aa8e0": {
      "model_module": "@jupyter-widgets/controls",
      "model_module_version": "2.0.0",
      "model_name": "HBoxModel",
      "state": {
       "_dom_classes": [],
       "_model_module": "@jupyter-widgets/controls",
       "_model_module_version": "2.0.0",
       "_model_name": "HBoxModel",
       "_view_count": null,
       "_view_module": "@jupyter-widgets/controls",
       "_view_module_version": "2.0.0",
       "_view_name": "HBoxView",
       "box_style": "",
       "children": [
        "IPY_MODEL_660c832be3ff46a1b475a551d2b59471",
        "IPY_MODEL_b6340a8cc6a34f628236393ceeb69197",
        "IPY_MODEL_0fed3b622ba74a838eec8245d2481af7"
       ],
       "layout": "IPY_MODEL_4340bb47b53043bd8ad400fb5ce11273",
       "tabbable": null,
       "tooltip": null
      }
     },
     "587f44cd2092421e804c203465f2a317": {
      "model_module": "@jupyter-widgets/base",
      "model_module_version": "2.0.0",
      "model_name": "LayoutModel",
      "state": {
       "_model_module": "@jupyter-widgets/base",
       "_model_module_version": "2.0.0",
       "_model_name": "LayoutModel",
       "_view_count": null,
       "_view_module": "@jupyter-widgets/base",
       "_view_module_version": "2.0.0",
       "_view_name": "LayoutView",
       "align_content": null,
       "align_items": null,
       "align_self": null,
       "border_bottom": null,
       "border_left": null,
       "border_right": null,
       "border_top": null,
       "bottom": null,
       "display": null,
       "flex": null,
       "flex_flow": null,
       "grid_area": null,
       "grid_auto_columns": null,
       "grid_auto_flow": null,
       "grid_auto_rows": null,
       "grid_column": null,
       "grid_gap": null,
       "grid_row": null,
       "grid_template_areas": null,
       "grid_template_columns": null,
       "grid_template_rows": null,
       "height": null,
       "justify_content": null,
       "justify_items": null,
       "left": null,
       "margin": null,
       "max_height": null,
       "max_width": null,
       "min_height": null,
       "min_width": null,
       "object_fit": null,
       "object_position": null,
       "order": null,
       "overflow": null,
       "padding": null,
       "right": null,
       "top": null,
       "visibility": null,
       "width": null
      }
     },
     "5a5c13e8a548409f82f40e84aedecd1f": {
      "model_module": "@jupyter-widgets/controls",
      "model_module_version": "2.0.0",
      "model_name": "HTMLModel",
      "state": {
       "_dom_classes": [],
       "_model_module": "@jupyter-widgets/controls",
       "_model_module_version": "2.0.0",
       "_model_name": "HTMLModel",
       "_view_count": null,
       "_view_module": "@jupyter-widgets/controls",
       "_view_module_version": "2.0.0",
       "_view_name": "HTMLView",
       "description": "",
       "description_allow_html": false,
       "layout": "IPY_MODEL_cabb04a186c244ff89fe3eb2f25186f4",
       "placeholder": "​",
       "style": "IPY_MODEL_9b82713bbfa046bf9c3b398e5a97c207",
       "tabbable": null,
       "tooltip": null,
       "value": "Map: 100%"
      }
     },
     "5bed20144ea941bf9a1f4dc5565ab6c8": {
      "model_module": "@jupyter-widgets/base",
      "model_module_version": "2.0.0",
      "model_name": "LayoutModel",
      "state": {
       "_model_module": "@jupyter-widgets/base",
       "_model_module_version": "2.0.0",
       "_model_name": "LayoutModel",
       "_view_count": null,
       "_view_module": "@jupyter-widgets/base",
       "_view_module_version": "2.0.0",
       "_view_name": "LayoutView",
       "align_content": null,
       "align_items": null,
       "align_self": null,
       "border_bottom": null,
       "border_left": null,
       "border_right": null,
       "border_top": null,
       "bottom": null,
       "display": null,
       "flex": null,
       "flex_flow": null,
       "grid_area": null,
       "grid_auto_columns": null,
       "grid_auto_flow": null,
       "grid_auto_rows": null,
       "grid_column": null,
       "grid_gap": null,
       "grid_row": null,
       "grid_template_areas": null,
       "grid_template_columns": null,
       "grid_template_rows": null,
       "height": null,
       "justify_content": null,
       "justify_items": null,
       "left": null,
       "margin": null,
       "max_height": null,
       "max_width": null,
       "min_height": null,
       "min_width": null,
       "object_fit": null,
       "object_position": null,
       "order": null,
       "overflow": null,
       "padding": null,
       "right": null,
       "top": null,
       "visibility": null,
       "width": null
      }
     },
     "5c40b74d7e874c24bc4c6390503ca23b": {
      "model_module": "@jupyter-widgets/controls",
      "model_module_version": "2.0.0",
      "model_name": "HTMLStyleModel",
      "state": {
       "_model_module": "@jupyter-widgets/controls",
       "_model_module_version": "2.0.0",
       "_model_name": "HTMLStyleModel",
       "_view_count": null,
       "_view_module": "@jupyter-widgets/base",
       "_view_module_version": "2.0.0",
       "_view_name": "StyleView",
       "background": null,
       "description_width": "",
       "font_size": null,
       "text_color": null
      }
     },
     "5e4713ac3c8c42958394ed38894df0a6": {
      "model_module": "@jupyter-widgets/controls",
      "model_module_version": "2.0.0",
      "model_name": "FloatProgressModel",
      "state": {
       "_dom_classes": [],
       "_model_module": "@jupyter-widgets/controls",
       "_model_module_version": "2.0.0",
       "_model_name": "FloatProgressModel",
       "_view_count": null,
       "_view_module": "@jupyter-widgets/controls",
       "_view_module_version": "2.0.0",
       "_view_name": "ProgressView",
       "bar_style": "success",
       "description": "",
       "description_allow_html": false,
       "layout": "IPY_MODEL_6b87df47cf07423d927e86ca8e60c4fe",
       "max": 25000.0,
       "min": 0.0,
       "orientation": "horizontal",
       "style": "IPY_MODEL_97f7daafacf5445d87b7c7c34785dac0",
       "tabbable": null,
       "tooltip": null,
       "value": 25000.0
      }
     },
     "61d651c14bc446db8d8e379a00bc858a": {
      "model_module": "@jupyter-widgets/controls",
      "model_module_version": "2.0.0",
      "model_name": "HTMLModel",
      "state": {
       "_dom_classes": [],
       "_model_module": "@jupyter-widgets/controls",
       "_model_module_version": "2.0.0",
       "_model_name": "HTMLModel",
       "_view_count": null,
       "_view_module": "@jupyter-widgets/controls",
       "_view_module_version": "2.0.0",
       "_view_name": "HTMLView",
       "description": "",
       "description_allow_html": false,
       "layout": "IPY_MODEL_ae218bacd3604e77b266768753d51930",
       "placeholder": "​",
       "style": "IPY_MODEL_aee31d063a7d4b17a594880cf1c9a16f",
       "tabbable": null,
       "tooltip": null,
       "value": "Computing checksums: 100%"
      }
     },
     "654b4b005d6c40da88dc1229965688a1": {
      "model_module": "@jupyter-widgets/controls",
      "model_module_version": "2.0.0",
      "model_name": "HTMLModel",
      "state": {
       "_dom_classes": [],
       "_model_module": "@jupyter-widgets/controls",
       "_model_module_version": "2.0.0",
       "_model_name": "HTMLModel",
       "_view_count": null,
       "_view_module": "@jupyter-widgets/controls",
       "_view_module_version": "2.0.0",
       "_view_name": "HTMLView",
       "description": "",
       "description_allow_html": false,
       "layout": "IPY_MODEL_e38248f9e5364ee2845bb2172fa6706d",
       "placeholder": "​",
       "style": "IPY_MODEL_be19b99b7d4942beb32ec5759b84e3ac",
       "tabbable": null,
       "tooltip": null,
       "value": "README.md: 100%"
      }
     },
     "65e0edd73e29485aa18bf2f6e2ddf2e9": {
      "model_module": "@jupyter-widgets/controls",
      "model_module_version": "2.0.0",
      "model_name": "HTMLStyleModel",
      "state": {
       "_model_module": "@jupyter-widgets/controls",
       "_model_module_version": "2.0.0",
       "_model_name": "HTMLStyleModel",
       "_view_count": null,
       "_view_module": "@jupyter-widgets/base",
       "_view_module_version": "2.0.0",
       "_view_name": "StyleView",
       "background": null,
       "description_width": "",
       "font_size": null,
       "text_color": null
      }
     },
     "660c832be3ff46a1b475a551d2b59471": {
      "model_module": "@jupyter-widgets/controls",
      "model_module_version": "2.0.0",
      "model_name": "HTMLModel",
      "state": {
       "_dom_classes": [],
       "_model_module": "@jupyter-widgets/controls",
       "_model_module_version": "2.0.0",
       "_model_name": "HTMLModel",
       "_view_count": null,
       "_view_module": "@jupyter-widgets/controls",
       "_view_module_version": "2.0.0",
       "_view_name": "HTMLView",
       "description": "",
       "description_allow_html": false,
       "layout": "IPY_MODEL_454df12063284d1cb616ddc4e555c8ca",
       "placeholder": "​",
       "style": "IPY_MODEL_f2b2ca84bfb140d1a8b24decbf5951e9",
       "tabbable": null,
       "tooltip": null,
       "value": "test-00000-of-00001.parquet: 100%"
      }
     },
     "66612b343ed64fb8b7e8cf89b994d7d0": {
      "model_module": "@jupyter-widgets/controls",
      "model_module_version": "2.0.0",
      "model_name": "HTMLModel",
      "state": {
       "_dom_classes": [],
       "_model_module": "@jupyter-widgets/controls",
       "_model_module_version": "2.0.0",
       "_model_name": "HTMLModel",
       "_view_count": null,
       "_view_module": "@jupyter-widgets/controls",
       "_view_module_version": "2.0.0",
       "_view_name": "HTMLView",
       "description": "",
       "description_allow_html": false,
       "layout": "IPY_MODEL_862224f04a934eedb598482d71e7a851",
       "placeholder": "​",
       "style": "IPY_MODEL_45a5dc85bd8f4081ad3adac3e5225fe9",
       "tabbable": null,
       "tooltip": null,
       "value": "train-00000-of-00001.parquet: 100%"
      }
     },
     "69dae080877041dd9cde5da042578835": {
      "model_module": "@jupyter-widgets/controls",
      "model_module_version": "2.0.0",
      "model_name": "ProgressStyleModel",
      "state": {
       "_model_module": "@jupyter-widgets/controls",
       "_model_module_version": "2.0.0",
       "_model_name": "ProgressStyleModel",
       "_view_count": null,
       "_view_module": "@jupyter-widgets/base",
       "_view_module_version": "2.0.0",
       "_view_name": "StyleView",
       "bar_color": null,
       "description_width": ""
      }
     },
     "6a3182834d7a4938b82d680c002b2456": {
      "model_module": "@jupyter-widgets/base",
      "model_module_version": "2.0.0",
      "model_name": "LayoutModel",
      "state": {
       "_model_module": "@jupyter-widgets/base",
       "_model_module_version": "2.0.0",
       "_model_name": "LayoutModel",
       "_view_count": null,
       "_view_module": "@jupyter-widgets/base",
       "_view_module_version": "2.0.0",
       "_view_name": "LayoutView",
       "align_content": null,
       "align_items": null,
       "align_self": null,
       "border_bottom": null,
       "border_left": null,
       "border_right": null,
       "border_top": null,
       "bottom": null,
       "display": null,
       "flex": null,
       "flex_flow": null,
       "grid_area": null,
       "grid_auto_columns": null,
       "grid_auto_flow": null,
       "grid_auto_rows": null,
       "grid_column": null,
       "grid_gap": null,
       "grid_row": null,
       "grid_template_areas": null,
       "grid_template_columns": null,
       "grid_template_rows": null,
       "height": null,
       "justify_content": null,
       "justify_items": null,
       "left": null,
       "margin": null,
       "max_height": null,
       "max_width": null,
       "min_height": null,
       "min_width": null,
       "object_fit": null,
       "object_position": null,
       "order": null,
       "overflow": null,
       "padding": null,
       "right": null,
       "top": null,
       "visibility": null,
       "width": null
      }
     },
     "6b87df47cf07423d927e86ca8e60c4fe": {
      "model_module": "@jupyter-widgets/base",
      "model_module_version": "2.0.0",
      "model_name": "LayoutModel",
      "state": {
       "_model_module": "@jupyter-widgets/base",
       "_model_module_version": "2.0.0",
       "_model_name": "LayoutModel",
       "_view_count": null,
       "_view_module": "@jupyter-widgets/base",
       "_view_module_version": "2.0.0",
       "_view_name": "LayoutView",
       "align_content": null,
       "align_items": null,
       "align_self": null,
       "border_bottom": null,
       "border_left": null,
       "border_right": null,
       "border_top": null,
       "bottom": null,
       "display": null,
       "flex": null,
       "flex_flow": null,
       "grid_area": null,
       "grid_auto_columns": null,
       "grid_auto_flow": null,
       "grid_auto_rows": null,
       "grid_column": null,
       "grid_gap": null,
       "grid_row": null,
       "grid_template_areas": null,
       "grid_template_columns": null,
       "grid_template_rows": null,
       "height": null,
       "justify_content": null,
       "justify_items": null,
       "left": null,
       "margin": null,
       "max_height": null,
       "max_width": null,
       "min_height": null,
       "min_width": null,
       "object_fit": null,
       "object_position": null,
       "order": null,
       "overflow": null,
       "padding": null,
       "right": null,
       "top": null,
       "visibility": null,
       "width": null
      }
     },
     "6da461febaf042d5b9574d43d8d394c9": {
      "model_module": "@jupyter-widgets/base",
      "model_module_version": "2.0.0",
      "model_name": "LayoutModel",
      "state": {
       "_model_module": "@jupyter-widgets/base",
       "_model_module_version": "2.0.0",
       "_model_name": "LayoutModel",
       "_view_count": null,
       "_view_module": "@jupyter-widgets/base",
       "_view_module_version": "2.0.0",
       "_view_name": "LayoutView",
       "align_content": null,
       "align_items": null,
       "align_self": null,
       "border_bottom": null,
       "border_left": null,
       "border_right": null,
       "border_top": null,
       "bottom": null,
       "display": null,
       "flex": null,
       "flex_flow": null,
       "grid_area": null,
       "grid_auto_columns": null,
       "grid_auto_flow": null,
       "grid_auto_rows": null,
       "grid_column": null,
       "grid_gap": null,
       "grid_row": null,
       "grid_template_areas": null,
       "grid_template_columns": null,
       "grid_template_rows": null,
       "height": null,
       "justify_content": null,
       "justify_items": null,
       "left": null,
       "margin": null,
       "max_height": null,
       "max_width": null,
       "min_height": null,
       "min_width": null,
       "object_fit": null,
       "object_position": null,
       "order": null,
       "overflow": null,
       "padding": null,
       "right": null,
       "top": null,
       "visibility": null,
       "width": null
      }
     },
     "6fb76120ccf7416fb0e64899ee0da371": {
      "model_module": "@jupyter-widgets/controls",
      "model_module_version": "2.0.0",
      "model_name": "HBoxModel",
      "state": {
       "_dom_classes": [],
       "_model_module": "@jupyter-widgets/controls",
       "_model_module_version": "2.0.0",
       "_model_name": "HBoxModel",
       "_view_count": null,
       "_view_module": "@jupyter-widgets/controls",
       "_view_module_version": "2.0.0",
       "_view_name": "HBoxView",
       "box_style": "",
       "children": [
        "IPY_MODEL_66612b343ed64fb8b7e8cf89b994d7d0",
        "IPY_MODEL_a1d2b70928c14f4eacaf312dc84a6e6c",
        "IPY_MODEL_fd8ca939261548a3a4d70ac36d989cc6"
       ],
       "layout": "IPY_MODEL_804e681b26ce42caa4f27788b27fb46d",
       "tabbable": null,
       "tooltip": null
      }
     },
     "726c6172b0f7430e952c3263298130b9": {
      "model_module": "@jupyter-widgets/base",
      "model_module_version": "2.0.0",
      "model_name": "LayoutModel",
      "state": {
       "_model_module": "@jupyter-widgets/base",
       "_model_module_version": "2.0.0",
       "_model_name": "LayoutModel",
       "_view_count": null,
       "_view_module": "@jupyter-widgets/base",
       "_view_module_version": "2.0.0",
       "_view_name": "LayoutView",
       "align_content": null,
       "align_items": null,
       "align_self": null,
       "border_bottom": null,
       "border_left": null,
       "border_right": null,
       "border_top": null,
       "bottom": null,
       "display": null,
       "flex": null,
       "flex_flow": null,
       "grid_area": null,
       "grid_auto_columns": null,
       "grid_auto_flow": null,
       "grid_auto_rows": null,
       "grid_column": null,
       "grid_gap": null,
       "grid_row": null,
       "grid_template_areas": null,
       "grid_template_columns": null,
       "grid_template_rows": null,
       "height": null,
       "justify_content": null,
       "justify_items": null,
       "left": null,
       "margin": null,
       "max_height": null,
       "max_width": null,
       "min_height": null,
       "min_width": null,
       "object_fit": null,
       "object_position": null,
       "order": null,
       "overflow": null,
       "padding": null,
       "right": null,
       "top": null,
       "visibility": null,
       "width": null
      }
     },
     "74e9806edacb4af990b63b4731bf0752": {
      "model_module": "@jupyter-widgets/controls",
      "model_module_version": "2.0.0",
      "model_name": "ProgressStyleModel",
      "state": {
       "_model_module": "@jupyter-widgets/controls",
       "_model_module_version": "2.0.0",
       "_model_name": "ProgressStyleModel",
       "_view_count": null,
       "_view_module": "@jupyter-widgets/base",
       "_view_module_version": "2.0.0",
       "_view_name": "StyleView",
       "bar_color": null,
       "description_width": ""
      }
     },
     "783bf7e5ad274e29a55152e47715eddf": {
      "model_module": "@jupyter-widgets/base",
      "model_module_version": "2.0.0",
      "model_name": "LayoutModel",
      "state": {
       "_model_module": "@jupyter-widgets/base",
       "_model_module_version": "2.0.0",
       "_model_name": "LayoutModel",
       "_view_count": null,
       "_view_module": "@jupyter-widgets/base",
       "_view_module_version": "2.0.0",
       "_view_name": "LayoutView",
       "align_content": null,
       "align_items": null,
       "align_self": null,
       "border_bottom": null,
       "border_left": null,
       "border_right": null,
       "border_top": null,
       "bottom": null,
       "display": null,
       "flex": null,
       "flex_flow": null,
       "grid_area": null,
       "grid_auto_columns": null,
       "grid_auto_flow": null,
       "grid_auto_rows": null,
       "grid_column": null,
       "grid_gap": null,
       "grid_row": null,
       "grid_template_areas": null,
       "grid_template_columns": null,
       "grid_template_rows": null,
       "height": null,
       "justify_content": null,
       "justify_items": null,
       "left": null,
       "margin": null,
       "max_height": null,
       "max_width": null,
       "min_height": null,
       "min_width": null,
       "object_fit": null,
       "object_position": null,
       "order": null,
       "overflow": null,
       "padding": null,
       "right": null,
       "top": null,
       "visibility": null,
       "width": null
      }
     },
     "7a65ed97ab8e4297a02e5712bd9d5b5f": {
      "model_module": "@jupyter-widgets/base",
      "model_module_version": "2.0.0",
      "model_name": "LayoutModel",
      "state": {
       "_model_module": "@jupyter-widgets/base",
       "_model_module_version": "2.0.0",
       "_model_name": "LayoutModel",
       "_view_count": null,
       "_view_module": "@jupyter-widgets/base",
       "_view_module_version": "2.0.0",
       "_view_name": "LayoutView",
       "align_content": null,
       "align_items": null,
       "align_self": null,
       "border_bottom": null,
       "border_left": null,
       "border_right": null,
       "border_top": null,
       "bottom": null,
       "display": null,
       "flex": null,
       "flex_flow": null,
       "grid_area": null,
       "grid_auto_columns": null,
       "grid_auto_flow": null,
       "grid_auto_rows": null,
       "grid_column": null,
       "grid_gap": null,
       "grid_row": null,
       "grid_template_areas": null,
       "grid_template_columns": null,
       "grid_template_rows": null,
       "height": null,
       "justify_content": null,
       "justify_items": null,
       "left": null,
       "margin": null,
       "max_height": null,
       "max_width": null,
       "min_height": null,
       "min_width": null,
       "object_fit": null,
       "object_position": null,
       "order": null,
       "overflow": null,
       "padding": null,
       "right": null,
       "top": null,
       "visibility": null,
       "width": null
      }
     },
     "7b8fc04f834e4a2a8420ff886ad06c1e": {
      "model_module": "@jupyter-widgets/controls",
      "model_module_version": "2.0.0",
      "model_name": "HTMLStyleModel",
      "state": {
       "_model_module": "@jupyter-widgets/controls",
       "_model_module_version": "2.0.0",
       "_model_name": "HTMLStyleModel",
       "_view_count": null,
       "_view_module": "@jupyter-widgets/base",
       "_view_module_version": "2.0.0",
       "_view_name": "StyleView",
       "background": null,
       "description_width": "",
       "font_size": null,
       "text_color": null
      }
     },
     "804e681b26ce42caa4f27788b27fb46d": {
      "model_module": "@jupyter-widgets/base",
      "model_module_version": "2.0.0",
      "model_name": "LayoutModel",
      "state": {
       "_model_module": "@jupyter-widgets/base",
       "_model_module_version": "2.0.0",
       "_model_name": "LayoutModel",
       "_view_count": null,
       "_view_module": "@jupyter-widgets/base",
       "_view_module_version": "2.0.0",
       "_view_name": "LayoutView",
       "align_content": null,
       "align_items": null,
       "align_self": null,
       "border_bottom": null,
       "border_left": null,
       "border_right": null,
       "border_top": null,
       "bottom": null,
       "display": null,
       "flex": null,
       "flex_flow": null,
       "grid_area": null,
       "grid_auto_columns": null,
       "grid_auto_flow": null,
       "grid_auto_rows": null,
       "grid_column": null,
       "grid_gap": null,
       "grid_row": null,
       "grid_template_areas": null,
       "grid_template_columns": null,
       "grid_template_rows": null,
       "height": null,
       "justify_content": null,
       "justify_items": null,
       "left": null,
       "margin": null,
       "max_height": null,
       "max_width": null,
       "min_height": null,
       "min_width": null,
       "object_fit": null,
       "object_position": null,
       "order": null,
       "overflow": null,
       "padding": null,
       "right": null,
       "top": null,
       "visibility": null,
       "width": null
      }
     },
     "80a382018b0e4b559477d7e171f3bcc8": {
      "model_module": "@jupyter-widgets/base",
      "model_module_version": "2.0.0",
      "model_name": "LayoutModel",
      "state": {
       "_model_module": "@jupyter-widgets/base",
       "_model_module_version": "2.0.0",
       "_model_name": "LayoutModel",
       "_view_count": null,
       "_view_module": "@jupyter-widgets/base",
       "_view_module_version": "2.0.0",
       "_view_name": "LayoutView",
       "align_content": null,
       "align_items": null,
       "align_self": null,
       "border_bottom": null,
       "border_left": null,
       "border_right": null,
       "border_top": null,
       "bottom": null,
       "display": null,
       "flex": null,
       "flex_flow": null,
       "grid_area": null,
       "grid_auto_columns": null,
       "grid_auto_flow": null,
       "grid_auto_rows": null,
       "grid_column": null,
       "grid_gap": null,
       "grid_row": null,
       "grid_template_areas": null,
       "grid_template_columns": null,
       "grid_template_rows": null,
       "height": null,
       "justify_content": null,
       "justify_items": null,
       "left": null,
       "margin": null,
       "max_height": null,
       "max_width": null,
       "min_height": null,
       "min_width": null,
       "object_fit": null,
       "object_position": null,
       "order": null,
       "overflow": null,
       "padding": null,
       "right": null,
       "top": null,
       "visibility": null,
       "width": null
      }
     },
     "825793e6453f4b78847044737069690e": {
      "model_module": "@jupyter-widgets/controls",
      "model_module_version": "2.0.0",
      "model_name": "HTMLStyleModel",
      "state": {
       "_model_module": "@jupyter-widgets/controls",
       "_model_module_version": "2.0.0",
       "_model_name": "HTMLStyleModel",
       "_view_count": null,
       "_view_module": "@jupyter-widgets/base",
       "_view_module_version": "2.0.0",
       "_view_name": "StyleView",
       "background": null,
       "description_width": "",
       "font_size": null,
       "text_color": null
      }
     },
     "834e2dbf6f4e40c9a211a1d87b0692fd": {
      "model_module": "@jupyter-widgets/base",
      "model_module_version": "2.0.0",
      "model_name": "LayoutModel",
      "state": {
       "_model_module": "@jupyter-widgets/base",
       "_model_module_version": "2.0.0",
       "_model_name": "LayoutModel",
       "_view_count": null,
       "_view_module": "@jupyter-widgets/base",
       "_view_module_version": "2.0.0",
       "_view_name": "LayoutView",
       "align_content": null,
       "align_items": null,
       "align_self": null,
       "border_bottom": null,
       "border_left": null,
       "border_right": null,
       "border_top": null,
       "bottom": null,
       "display": null,
       "flex": null,
       "flex_flow": null,
       "grid_area": null,
       "grid_auto_columns": null,
       "grid_auto_flow": null,
       "grid_auto_rows": null,
       "grid_column": null,
       "grid_gap": null,
       "grid_row": null,
       "grid_template_areas": null,
       "grid_template_columns": null,
       "grid_template_rows": null,
       "height": null,
       "justify_content": null,
       "justify_items": null,
       "left": null,
       "margin": null,
       "max_height": null,
       "max_width": null,
       "min_height": null,
       "min_width": null,
       "object_fit": null,
       "object_position": null,
       "order": null,
       "overflow": null,
       "padding": null,
       "right": null,
       "top": null,
       "visibility": null,
       "width": null
      }
     },
     "854e4c1515914dddb86a196cf51e656e": {
      "model_module": "@jupyter-widgets/controls",
      "model_module_version": "2.0.0",
      "model_name": "HTMLModel",
      "state": {
       "_dom_classes": [],
       "_model_module": "@jupyter-widgets/controls",
       "_model_module_version": "2.0.0",
       "_model_name": "HTMLModel",
       "_view_count": null,
       "_view_module": "@jupyter-widgets/controls",
       "_view_module_version": "2.0.0",
       "_view_name": "HTMLView",
       "description": "",
       "description_allow_html": false,
       "layout": "IPY_MODEL_7a65ed97ab8e4297a02e5712bd9d5b5f",
       "placeholder": "​",
       "style": "IPY_MODEL_06b8c9ebb6ec4dbf949f0fb864b158bb",
       "tabbable": null,
       "tooltip": null,
       "value": " 7.81k/7.81k [00:00&lt;00:00, 858kB/s]"
      }
     },
     "862224f04a934eedb598482d71e7a851": {
      "model_module": "@jupyter-widgets/base",
      "model_module_version": "2.0.0",
      "model_name": "LayoutModel",
      "state": {
       "_model_module": "@jupyter-widgets/base",
       "_model_module_version": "2.0.0",
       "_model_name": "LayoutModel",
       "_view_count": null,
       "_view_module": "@jupyter-widgets/base",
       "_view_module_version": "2.0.0",
       "_view_name": "LayoutView",
       "align_content": null,
       "align_items": null,
       "align_self": null,
       "border_bottom": null,
       "border_left": null,
       "border_right": null,
       "border_top": null,
       "bottom": null,
       "display": null,
       "flex": null,
       "flex_flow": null,
       "grid_area": null,
       "grid_auto_columns": null,
       "grid_auto_flow": null,
       "grid_auto_rows": null,
       "grid_column": null,
       "grid_gap": null,
       "grid_row": null,
       "grid_template_areas": null,
       "grid_template_columns": null,
       "grid_template_rows": null,
       "height": null,
       "justify_content": null,
       "justify_items": null,
       "left": null,
       "margin": null,
       "max_height": null,
       "max_width": null,
       "min_height": null,
       "min_width": null,
       "object_fit": null,
       "object_position": null,
       "order": null,
       "overflow": null,
       "padding": null,
       "right": null,
       "top": null,
       "visibility": null,
       "width": null
      }
     },
     "86887c51393a4cb2a664ff8a86ef69c0": {
      "model_module": "@jupyter-widgets/base",
      "model_module_version": "2.0.0",
      "model_name": "LayoutModel",
      "state": {
       "_model_module": "@jupyter-widgets/base",
       "_model_module_version": "2.0.0",
       "_model_name": "LayoutModel",
       "_view_count": null,
       "_view_module": "@jupyter-widgets/base",
       "_view_module_version": "2.0.0",
       "_view_name": "LayoutView",
       "align_content": null,
       "align_items": null,
       "align_self": null,
       "border_bottom": null,
       "border_left": null,
       "border_right": null,
       "border_top": null,
       "bottom": null,
       "display": null,
       "flex": null,
       "flex_flow": null,
       "grid_area": null,
       "grid_auto_columns": null,
       "grid_auto_flow": null,
       "grid_auto_rows": null,
       "grid_column": null,
       "grid_gap": null,
       "grid_row": null,
       "grid_template_areas": null,
       "grid_template_columns": null,
       "grid_template_rows": null,
       "height": null,
       "justify_content": null,
       "justify_items": null,
       "left": null,
       "margin": null,
       "max_height": null,
       "max_width": null,
       "min_height": null,
       "min_width": null,
       "object_fit": null,
       "object_position": null,
       "order": null,
       "overflow": null,
       "padding": null,
       "right": null,
       "top": null,
       "visibility": null,
       "width": null
      }
     },
     "88d761f23f1747e7b772737c658a95c0": {
      "model_module": "@jupyter-widgets/controls",
      "model_module_version": "2.0.0",
      "model_name": "ProgressStyleModel",
      "state": {
       "_model_module": "@jupyter-widgets/controls",
       "_model_module_version": "2.0.0",
       "_model_name": "ProgressStyleModel",
       "_view_count": null,
       "_view_module": "@jupyter-widgets/base",
       "_view_module_version": "2.0.0",
       "_view_name": "StyleView",
       "bar_color": null,
       "description_width": ""
      }
     },
     "88df039dc7764b70a0acc09e7bb3b47a": {
      "model_module": "@jupyter-widgets/base",
      "model_module_version": "2.0.0",
      "model_name": "LayoutModel",
      "state": {
       "_model_module": "@jupyter-widgets/base",
       "_model_module_version": "2.0.0",
       "_model_name": "LayoutModel",
       "_view_count": null,
       "_view_module": "@jupyter-widgets/base",
       "_view_module_version": "2.0.0",
       "_view_name": "LayoutView",
       "align_content": null,
       "align_items": null,
       "align_self": null,
       "border_bottom": null,
       "border_left": null,
       "border_right": null,
       "border_top": null,
       "bottom": null,
       "display": null,
       "flex": null,
       "flex_flow": null,
       "grid_area": null,
       "grid_auto_columns": null,
       "grid_auto_flow": null,
       "grid_auto_rows": null,
       "grid_column": null,
       "grid_gap": null,
       "grid_row": null,
       "grid_template_areas": null,
       "grid_template_columns": null,
       "grid_template_rows": null,
       "height": null,
       "justify_content": null,
       "justify_items": null,
       "left": null,
       "margin": null,
       "max_height": null,
       "max_width": null,
       "min_height": null,
       "min_width": null,
       "object_fit": null,
       "object_position": null,
       "order": null,
       "overflow": null,
       "padding": null,
       "right": null,
       "top": null,
       "visibility": null,
       "width": null
      }
     },
     "89275b37e0a9462a8ab3cbe4793a3a64": {
      "model_module": "@jupyter-widgets/controls",
      "model_module_version": "2.0.0",
      "model_name": "ProgressStyleModel",
      "state": {
       "_model_module": "@jupyter-widgets/controls",
       "_model_module_version": "2.0.0",
       "_model_name": "ProgressStyleModel",
       "_view_count": null,
       "_view_module": "@jupyter-widgets/base",
       "_view_module_version": "2.0.0",
       "_view_name": "StyleView",
       "bar_color": null,
       "description_width": ""
      }
     },
     "89fec682462643f39de6857a731ff5d7": {
      "model_module": "@jupyter-widgets/controls",
      "model_module_version": "2.0.0",
      "model_name": "HBoxModel",
      "state": {
       "_dom_classes": [],
       "_model_module": "@jupyter-widgets/controls",
       "_model_module_version": "2.0.0",
       "_model_name": "HBoxModel",
       "_view_count": null,
       "_view_module": "@jupyter-widgets/controls",
       "_view_module_version": "2.0.0",
       "_view_name": "HBoxView",
       "box_style": "",
       "children": [
        "IPY_MODEL_988056ce5c934d899967d2d730127940",
        "IPY_MODEL_ba85de2d19234f5e87cd97bcdf6ca472",
        "IPY_MODEL_a06bfd8531f24d229c8b7f0797c23d98"
       ],
       "layout": "IPY_MODEL_d6dd3cf9dea04577906e9f298eea49b7",
       "tabbable": null,
       "tooltip": null
      }
     },
     "8b32613cae5142fcaaa1f1d21abb306e": {
      "model_module": "@jupyter-widgets/controls",
      "model_module_version": "2.0.0",
      "model_name": "HTMLStyleModel",
      "state": {
       "_model_module": "@jupyter-widgets/controls",
       "_model_module_version": "2.0.0",
       "_model_name": "HTMLStyleModel",
       "_view_count": null,
       "_view_module": "@jupyter-widgets/base",
       "_view_module_version": "2.0.0",
       "_view_name": "StyleView",
       "background": null,
       "description_width": "",
       "font_size": null,
       "text_color": null
      }
     },
     "8c4ac0b98a334ba5a093145d3e18109a": {
      "model_module": "@jupyter-widgets/base",
      "model_module_version": "2.0.0",
      "model_name": "LayoutModel",
      "state": {
       "_model_module": "@jupyter-widgets/base",
       "_model_module_version": "2.0.0",
       "_model_name": "LayoutModel",
       "_view_count": null,
       "_view_module": "@jupyter-widgets/base",
       "_view_module_version": "2.0.0",
       "_view_name": "LayoutView",
       "align_content": null,
       "align_items": null,
       "align_self": null,
       "border_bottom": null,
       "border_left": null,
       "border_right": null,
       "border_top": null,
       "bottom": null,
       "display": null,
       "flex": null,
       "flex_flow": null,
       "grid_area": null,
       "grid_auto_columns": null,
       "grid_auto_flow": null,
       "grid_auto_rows": null,
       "grid_column": null,
       "grid_gap": null,
       "grid_row": null,
       "grid_template_areas": null,
       "grid_template_columns": null,
       "grid_template_rows": null,
       "height": null,
       "justify_content": null,
       "justify_items": null,
       "left": null,
       "margin": null,
       "max_height": null,
       "max_width": null,
       "min_height": null,
       "min_width": null,
       "object_fit": null,
       "object_position": null,
       "order": null,
       "overflow": null,
       "padding": null,
       "right": null,
       "top": null,
       "visibility": null,
       "width": null
      }
     },
     "8dd850ca334d4889ac64459a2b4610b8": {
      "model_module": "@jupyter-widgets/base",
      "model_module_version": "2.0.0",
      "model_name": "LayoutModel",
      "state": {
       "_model_module": "@jupyter-widgets/base",
       "_model_module_version": "2.0.0",
       "_model_name": "LayoutModel",
       "_view_count": null,
       "_view_module": "@jupyter-widgets/base",
       "_view_module_version": "2.0.0",
       "_view_name": "LayoutView",
       "align_content": null,
       "align_items": null,
       "align_self": null,
       "border_bottom": null,
       "border_left": null,
       "border_right": null,
       "border_top": null,
       "bottom": null,
       "display": null,
       "flex": null,
       "flex_flow": null,
       "grid_area": null,
       "grid_auto_columns": null,
       "grid_auto_flow": null,
       "grid_auto_rows": null,
       "grid_column": null,
       "grid_gap": null,
       "grid_row": null,
       "grid_template_areas": null,
       "grid_template_columns": null,
       "grid_template_rows": null,
       "height": null,
       "justify_content": null,
       "justify_items": null,
       "left": null,
       "margin": null,
       "max_height": null,
       "max_width": null,
       "min_height": null,
       "min_width": null,
       "object_fit": null,
       "object_position": null,
       "order": null,
       "overflow": null,
       "padding": null,
       "right": null,
       "top": null,
       "visibility": null,
       "width": null
      }
     },
     "924b8738cf2f4b7fb5aab41fa850a3cf": {
      "model_module": "@jupyter-widgets/base",
      "model_module_version": "2.0.0",
      "model_name": "LayoutModel",
      "state": {
       "_model_module": "@jupyter-widgets/base",
       "_model_module_version": "2.0.0",
       "_model_name": "LayoutModel",
       "_view_count": null,
       "_view_module": "@jupyter-widgets/base",
       "_view_module_version": "2.0.0",
       "_view_name": "LayoutView",
       "align_content": null,
       "align_items": null,
       "align_self": null,
       "border_bottom": null,
       "border_left": null,
       "border_right": null,
       "border_top": null,
       "bottom": null,
       "display": null,
       "flex": null,
       "flex_flow": null,
       "grid_area": null,
       "grid_auto_columns": null,
       "grid_auto_flow": null,
       "grid_auto_rows": null,
       "grid_column": null,
       "grid_gap": null,
       "grid_row": null,
       "grid_template_areas": null,
       "grid_template_columns": null,
       "grid_template_rows": null,
       "height": null,
       "justify_content": null,
       "justify_items": null,
       "left": null,
       "margin": null,
       "max_height": null,
       "max_width": null,
       "min_height": null,
       "min_width": null,
       "object_fit": null,
       "object_position": null,
       "order": null,
       "overflow": null,
       "padding": null,
       "right": null,
       "top": null,
       "visibility": null,
       "width": null
      }
     },
     "9516dbdcc7db40b1851988e1333550d2": {
      "model_module": "@jupyter-widgets/controls",
      "model_module_version": "2.0.0",
      "model_name": "HTMLModel",
      "state": {
       "_dom_classes": [],
       "_model_module": "@jupyter-widgets/controls",
       "_model_module_version": "2.0.0",
       "_model_name": "HTMLModel",
       "_view_count": null,
       "_view_module": "@jupyter-widgets/controls",
       "_view_module_version": "2.0.0",
       "_view_name": "HTMLView",
       "description": "",
       "description_allow_html": false,
       "layout": "IPY_MODEL_3d1640694b4d413abc85ec7c8a6d7fd0",
       "placeholder": "​",
       "style": "IPY_MODEL_38501b5bec114ab39b97c8d3a4a95795",
       "tabbable": null,
       "tooltip": null,
       "value": " 25000/25000 [00:07&lt;00:00, 3460.57 examples/s]"
      }
     },
     "956ab61f08374c38b35c2211f4d3cc77": {
      "model_module": "@jupyter-widgets/controls",
      "model_module_version": "2.0.0",
      "model_name": "HBoxModel",
      "state": {
       "_dom_classes": [],
       "_model_module": "@jupyter-widgets/controls",
       "_model_module_version": "2.0.0",
       "_model_name": "HBoxModel",
       "_view_count": null,
       "_view_module": "@jupyter-widgets/controls",
       "_view_module_version": "2.0.0",
       "_view_name": "HBoxView",
       "box_style": "",
       "children": [
        "IPY_MODEL_61d651c14bc446db8d8e379a00bc858a",
        "IPY_MODEL_cc73cbaab37d4e6faa6c530e978812e2",
        "IPY_MODEL_a216fa9cd16e41a59fe2f95be288e58e"
       ],
       "layout": "IPY_MODEL_be1f1945be1b41969260174a03e74931",
       "tabbable": null,
       "tooltip": null
      }
     },
     "97a9e50fe7ef4850ab3e8468ae813b18": {
      "model_module": "@jupyter-widgets/base",
      "model_module_version": "2.0.0",
      "model_name": "LayoutModel",
      "state": {
       "_model_module": "@jupyter-widgets/base",
       "_model_module_version": "2.0.0",
       "_model_name": "LayoutModel",
       "_view_count": null,
       "_view_module": "@jupyter-widgets/base",
       "_view_module_version": "2.0.0",
       "_view_name": "LayoutView",
       "align_content": null,
       "align_items": null,
       "align_self": null,
       "border_bottom": null,
       "border_left": null,
       "border_right": null,
       "border_top": null,
       "bottom": null,
       "display": null,
       "flex": null,
       "flex_flow": null,
       "grid_area": null,
       "grid_auto_columns": null,
       "grid_auto_flow": null,
       "grid_auto_rows": null,
       "grid_column": null,
       "grid_gap": null,
       "grid_row": null,
       "grid_template_areas": null,
       "grid_template_columns": null,
       "grid_template_rows": null,
       "height": null,
       "justify_content": null,
       "justify_items": null,
       "left": null,
       "margin": null,
       "max_height": null,
       "max_width": null,
       "min_height": null,
       "min_width": null,
       "object_fit": null,
       "object_position": null,
       "order": null,
       "overflow": null,
       "padding": null,
       "right": null,
       "top": null,
       "visibility": null,
       "width": null
      }
     },
     "97f7daafacf5445d87b7c7c34785dac0": {
      "model_module": "@jupyter-widgets/controls",
      "model_module_version": "2.0.0",
      "model_name": "ProgressStyleModel",
      "state": {
       "_model_module": "@jupyter-widgets/controls",
       "_model_module_version": "2.0.0",
       "_model_name": "ProgressStyleModel",
       "_view_count": null,
       "_view_module": "@jupyter-widgets/base",
       "_view_module_version": "2.0.0",
       "_view_name": "StyleView",
       "bar_color": null,
       "description_width": ""
      }
     },
     "988056ce5c934d899967d2d730127940": {
      "model_module": "@jupyter-widgets/controls",
      "model_module_version": "2.0.0",
      "model_name": "HTMLModel",
      "state": {
       "_dom_classes": [],
       "_model_module": "@jupyter-widgets/controls",
       "_model_module_version": "2.0.0",
       "_model_name": "HTMLModel",
       "_view_count": null,
       "_view_module": "@jupyter-widgets/controls",
       "_view_module_version": "2.0.0",
       "_view_name": "HTMLView",
       "description": "",
       "description_allow_html": false,
       "layout": "IPY_MODEL_d0d17e24908c46f9a330b35dccff7ac4",
       "placeholder": "​",
       "style": "IPY_MODEL_825793e6453f4b78847044737069690e",
       "tabbable": null,
       "tooltip": null,
       "value": "Generating train split: 100%"
      }
     },
     "998517e4b9ab4694a6de01cd7d48e99a": {
      "model_module": "@jupyter-widgets/base",
      "model_module_version": "2.0.0",
      "model_name": "LayoutModel",
      "state": {
       "_model_module": "@jupyter-widgets/base",
       "_model_module_version": "2.0.0",
       "_model_name": "LayoutModel",
       "_view_count": null,
       "_view_module": "@jupyter-widgets/base",
       "_view_module_version": "2.0.0",
       "_view_name": "LayoutView",
       "align_content": null,
       "align_items": null,
       "align_self": null,
       "border_bottom": null,
       "border_left": null,
       "border_right": null,
       "border_top": null,
       "bottom": null,
       "display": null,
       "flex": null,
       "flex_flow": null,
       "grid_area": null,
       "grid_auto_columns": null,
       "grid_auto_flow": null,
       "grid_auto_rows": null,
       "grid_column": null,
       "grid_gap": null,
       "grid_row": null,
       "grid_template_areas": null,
       "grid_template_columns": null,
       "grid_template_rows": null,
       "height": null,
       "justify_content": null,
       "justify_items": null,
       "left": null,
       "margin": null,
       "max_height": null,
       "max_width": null,
       "min_height": null,
       "min_width": null,
       "object_fit": null,
       "object_position": null,
       "order": null,
       "overflow": null,
       "padding": null,
       "right": null,
       "top": null,
       "visibility": null,
       "width": null
      }
     },
     "9b82713bbfa046bf9c3b398e5a97c207": {
      "model_module": "@jupyter-widgets/controls",
      "model_module_version": "2.0.0",
      "model_name": "HTMLStyleModel",
      "state": {
       "_model_module": "@jupyter-widgets/controls",
       "_model_module_version": "2.0.0",
       "_model_name": "HTMLStyleModel",
       "_view_count": null,
       "_view_module": "@jupyter-widgets/base",
       "_view_module_version": "2.0.0",
       "_view_name": "StyleView",
       "background": null,
       "description_width": "",
       "font_size": null,
       "text_color": null
      }
     },
     "9e97a368122a4db290672047d74c3a3f": {
      "model_module": "@jupyter-widgets/controls",
      "model_module_version": "2.0.0",
      "model_name": "FloatProgressModel",
      "state": {
       "_dom_classes": [],
       "_model_module": "@jupyter-widgets/controls",
       "_model_module_version": "2.0.0",
       "_model_name": "FloatProgressModel",
       "_view_count": null,
       "_view_module": "@jupyter-widgets/controls",
       "_view_module_version": "2.0.0",
       "_view_name": "ProgressView",
       "bar_style": "success",
       "description": "",
       "description_allow_html": false,
       "layout": "IPY_MODEL_86887c51393a4cb2a664ff8a86ef69c0",
       "max": 7809.0,
       "min": 0.0,
       "orientation": "horizontal",
       "style": "IPY_MODEL_073d59e082d847abba87b1c2aef4c61c",
       "tabbable": null,
       "tooltip": null,
       "value": 7809.0
      }
     },
     "a06bfd8531f24d229c8b7f0797c23d98": {
      "model_module": "@jupyter-widgets/controls",
      "model_module_version": "2.0.0",
      "model_name": "HTMLModel",
      "state": {
       "_dom_classes": [],
       "_model_module": "@jupyter-widgets/controls",
       "_model_module_version": "2.0.0",
       "_model_name": "HTMLModel",
       "_view_count": null,
       "_view_module": "@jupyter-widgets/controls",
       "_view_module_version": "2.0.0",
       "_view_name": "HTMLView",
       "description": "",
       "description_allow_html": false,
       "layout": "IPY_MODEL_f7a73b1c494f4654bc15bfafbfcd7a96",
       "placeholder": "​",
       "style": "IPY_MODEL_e6ad92e2ae75403c97d9c751d92a2ad7",
       "tabbable": null,
       "tooltip": null,
       "value": " 25000/25000 [00:00&lt;00:00, 72294.51 examples/s]"
      }
     },
     "a1d2b70928c14f4eacaf312dc84a6e6c": {
      "model_module": "@jupyter-widgets/controls",
      "model_module_version": "2.0.0",
      "model_name": "FloatProgressModel",
      "state": {
       "_dom_classes": [],
       "_model_module": "@jupyter-widgets/controls",
       "_model_module_version": "2.0.0",
       "_model_name": "FloatProgressModel",
       "_view_count": null,
       "_view_module": "@jupyter-widgets/controls",
       "_view_module_version": "2.0.0",
       "_view_name": "ProgressView",
       "bar_style": "success",
       "description": "",
       "description_allow_html": false,
       "layout": "IPY_MODEL_1d1d259037d84dbc81e2838a1c78a9ca",
       "max": 20979968.0,
       "min": 0.0,
       "orientation": "horizontal",
       "style": "IPY_MODEL_69dae080877041dd9cde5da042578835",
       "tabbable": null,
       "tooltip": null,
       "value": 20979968.0
      }
     },
     "a216fa9cd16e41a59fe2f95be288e58e": {
      "model_module": "@jupyter-widgets/controls",
      "model_module_version": "2.0.0",
      "model_name": "HTMLModel",
      "state": {
       "_dom_classes": [],
       "_model_module": "@jupyter-widgets/controls",
       "_model_module_version": "2.0.0",
       "_model_name": "HTMLModel",
       "_view_count": null,
       "_view_module": "@jupyter-widgets/controls",
       "_view_module_version": "2.0.0",
       "_view_name": "HTMLView",
       "description": "",
       "description_allow_html": false,
       "layout": "IPY_MODEL_3e9ec6631b0c4419a57cdea6a828408e",
       "placeholder": "​",
       "style": "IPY_MODEL_f56137a475fa426faf0d6ecd33df06ee",
       "tabbable": null,
       "tooltip": null,
       "value": " 3/3 [00:00&lt;00:00, 603.18it/s]"
      }
     },
     "a282ffd82deb4c3a9b063cfb9e69d3f8": {
      "model_module": "@jupyter-widgets/base",
      "model_module_version": "2.0.0",
      "model_name": "LayoutModel",
      "state": {
       "_model_module": "@jupyter-widgets/base",
       "_model_module_version": "2.0.0",
       "_model_name": "LayoutModel",
       "_view_count": null,
       "_view_module": "@jupyter-widgets/base",
       "_view_module_version": "2.0.0",
       "_view_name": "LayoutView",
       "align_content": null,
       "align_items": null,
       "align_self": null,
       "border_bottom": null,
       "border_left": null,
       "border_right": null,
       "border_top": null,
       "bottom": null,
       "display": null,
       "flex": null,
       "flex_flow": null,
       "grid_area": null,
       "grid_auto_columns": null,
       "grid_auto_flow": null,
       "grid_auto_rows": null,
       "grid_column": null,
       "grid_gap": null,
       "grid_row": null,
       "grid_template_areas": null,
       "grid_template_columns": null,
       "grid_template_rows": null,
       "height": null,
       "justify_content": null,
       "justify_items": null,
       "left": null,
       "margin": null,
       "max_height": null,
       "max_width": null,
       "min_height": null,
       "min_width": null,
       "object_fit": null,
       "object_position": null,
       "order": null,
       "overflow": null,
       "padding": null,
       "right": null,
       "top": null,
       "visibility": null,
       "width": null
      }
     },
     "a37aa425b5d941c58931836a514f7ca1": {
      "model_module": "@jupyter-widgets/controls",
      "model_module_version": "2.0.0",
      "model_name": "ProgressStyleModel",
      "state": {
       "_model_module": "@jupyter-widgets/controls",
       "_model_module_version": "2.0.0",
       "_model_name": "ProgressStyleModel",
       "_view_count": null,
       "_view_module": "@jupyter-widgets/base",
       "_view_module_version": "2.0.0",
       "_view_name": "StyleView",
       "bar_color": null,
       "description_width": ""
      }
     },
     "a3bd915090194c72a1f3235050c7a285": {
      "model_module": "@jupyter-widgets/controls",
      "model_module_version": "2.0.0",
      "model_name": "ProgressStyleModel",
      "state": {
       "_model_module": "@jupyter-widgets/controls",
       "_model_module_version": "2.0.0",
       "_model_name": "ProgressStyleModel",
       "_view_count": null,
       "_view_module": "@jupyter-widgets/base",
       "_view_module_version": "2.0.0",
       "_view_name": "StyleView",
       "bar_color": null,
       "description_width": ""
      }
     },
     "a5c1d31fffb244fc8c690c5712dc50fc": {
      "model_module": "@jupyter-widgets/controls",
      "model_module_version": "2.0.0",
      "model_name": "HTMLStyleModel",
      "state": {
       "_model_module": "@jupyter-widgets/controls",
       "_model_module_version": "2.0.0",
       "_model_name": "HTMLStyleModel",
       "_view_count": null,
       "_view_module": "@jupyter-widgets/base",
       "_view_module_version": "2.0.0",
       "_view_name": "StyleView",
       "background": null,
       "description_width": "",
       "font_size": null,
       "text_color": null
      }
     },
     "a7b77ac2209a4e6e934d4d8daa2b5bd4": {
      "model_module": "@jupyter-widgets/base",
      "model_module_version": "2.0.0",
      "model_name": "LayoutModel",
      "state": {
       "_model_module": "@jupyter-widgets/base",
       "_model_module_version": "2.0.0",
       "_model_name": "LayoutModel",
       "_view_count": null,
       "_view_module": "@jupyter-widgets/base",
       "_view_module_version": "2.0.0",
       "_view_name": "LayoutView",
       "align_content": null,
       "align_items": null,
       "align_self": null,
       "border_bottom": null,
       "border_left": null,
       "border_right": null,
       "border_top": null,
       "bottom": null,
       "display": null,
       "flex": null,
       "flex_flow": null,
       "grid_area": null,
       "grid_auto_columns": null,
       "grid_auto_flow": null,
       "grid_auto_rows": null,
       "grid_column": null,
       "grid_gap": null,
       "grid_row": null,
       "grid_template_areas": null,
       "grid_template_columns": null,
       "grid_template_rows": null,
       "height": null,
       "justify_content": null,
       "justify_items": null,
       "left": null,
       "margin": null,
       "max_height": null,
       "max_width": null,
       "min_height": null,
       "min_width": null,
       "object_fit": null,
       "object_position": null,
       "order": null,
       "overflow": null,
       "padding": null,
       "right": null,
       "top": null,
       "visibility": null,
       "width": null
      }
     },
     "a8959cef14244962b26412d7d34ddc39": {
      "model_module": "@jupyter-widgets/controls",
      "model_module_version": "2.0.0",
      "model_name": "HTMLModel",
      "state": {
       "_dom_classes": [],
       "_model_module": "@jupyter-widgets/controls",
       "_model_module_version": "2.0.0",
       "_model_name": "HTMLModel",
       "_view_count": null,
       "_view_module": "@jupyter-widgets/controls",
       "_view_module_version": "2.0.0",
       "_view_name": "HTMLView",
       "description": "",
       "description_allow_html": false,
       "layout": "IPY_MODEL_80a382018b0e4b559477d7e171f3bcc8",
       "placeholder": "​",
       "style": "IPY_MODEL_f541bd8a278a472e9de29ecf5c1fce66",
       "tabbable": null,
       "tooltip": null,
       "value": "Map: 100%"
      }
     },
     "ae218bacd3604e77b266768753d51930": {
      "model_module": "@jupyter-widgets/base",
      "model_module_version": "2.0.0",
      "model_name": "LayoutModel",
      "state": {
       "_model_module": "@jupyter-widgets/base",
       "_model_module_version": "2.0.0",
       "_model_name": "LayoutModel",
       "_view_count": null,
       "_view_module": "@jupyter-widgets/base",
       "_view_module_version": "2.0.0",
       "_view_name": "LayoutView",
       "align_content": null,
       "align_items": null,
       "align_self": null,
       "border_bottom": null,
       "border_left": null,
       "border_right": null,
       "border_top": null,
       "bottom": null,
       "display": null,
       "flex": null,
       "flex_flow": null,
       "grid_area": null,
       "grid_auto_columns": null,
       "grid_auto_flow": null,
       "grid_auto_rows": null,
       "grid_column": null,
       "grid_gap": null,
       "grid_row": null,
       "grid_template_areas": null,
       "grid_template_columns": null,
       "grid_template_rows": null,
       "height": null,
       "justify_content": null,
       "justify_items": null,
       "left": null,
       "margin": null,
       "max_height": null,
       "max_width": null,
       "min_height": null,
       "min_width": null,
       "object_fit": null,
       "object_position": null,
       "order": null,
       "overflow": null,
       "padding": null,
       "right": null,
       "top": null,
       "visibility": null,
       "width": null
      }
     },
     "aee31d063a7d4b17a594880cf1c9a16f": {
      "model_module": "@jupyter-widgets/controls",
      "model_module_version": "2.0.0",
      "model_name": "HTMLStyleModel",
      "state": {
       "_model_module": "@jupyter-widgets/controls",
       "_model_module_version": "2.0.0",
       "_model_name": "HTMLStyleModel",
       "_view_count": null,
       "_view_module": "@jupyter-widgets/base",
       "_view_module_version": "2.0.0",
       "_view_name": "StyleView",
       "background": null,
       "description_width": "",
       "font_size": null,
       "text_color": null
      }
     },
     "aef7e871d5074a459e5054f9ac6e197d": {
      "model_module": "@jupyter-widgets/controls",
      "model_module_version": "2.0.0",
      "model_name": "FloatProgressModel",
      "state": {
       "_dom_classes": [],
       "_model_module": "@jupyter-widgets/controls",
       "_model_module_version": "2.0.0",
       "_model_name": "FloatProgressModel",
       "_view_count": null,
       "_view_module": "@jupyter-widgets/controls",
       "_view_module_version": "2.0.0",
       "_view_name": "ProgressView",
       "bar_style": "success",
       "description": "",
       "description_allow_html": false,
       "layout": "IPY_MODEL_726c6172b0f7430e952c3263298130b9",
       "max": 41996509.0,
       "min": 0.0,
       "orientation": "horizontal",
       "style": "IPY_MODEL_a3bd915090194c72a1f3235050c7a285",
       "tabbable": null,
       "tooltip": null,
       "value": 41996509.0
      }
     },
     "b0ac4cbfb4ee4f449df5450d3dd22c4e": {
      "model_module": "@jupyter-widgets/base",
      "model_module_version": "2.0.0",
      "model_name": "LayoutModel",
      "state": {
       "_model_module": "@jupyter-widgets/base",
       "_model_module_version": "2.0.0",
       "_model_name": "LayoutModel",
       "_view_count": null,
       "_view_module": "@jupyter-widgets/base",
       "_view_module_version": "2.0.0",
       "_view_name": "LayoutView",
       "align_content": null,
       "align_items": null,
       "align_self": null,
       "border_bottom": null,
       "border_left": null,
       "border_right": null,
       "border_top": null,
       "bottom": null,
       "display": null,
       "flex": null,
       "flex_flow": null,
       "grid_area": null,
       "grid_auto_columns": null,
       "grid_auto_flow": null,
       "grid_auto_rows": null,
       "grid_column": null,
       "grid_gap": null,
       "grid_row": null,
       "grid_template_areas": null,
       "grid_template_columns": null,
       "grid_template_rows": null,
       "height": null,
       "justify_content": null,
       "justify_items": null,
       "left": null,
       "margin": null,
       "max_height": null,
       "max_width": null,
       "min_height": null,
       "min_width": null,
       "object_fit": null,
       "object_position": null,
       "order": null,
       "overflow": null,
       "padding": null,
       "right": null,
       "top": null,
       "visibility": null,
       "width": null
      }
     },
     "b4a9b475bd3949baadc884c95cfb7545": {
      "model_module": "@jupyter-widgets/controls",
      "model_module_version": "2.0.0",
      "model_name": "ProgressStyleModel",
      "state": {
       "_model_module": "@jupyter-widgets/controls",
       "_model_module_version": "2.0.0",
       "_model_name": "ProgressStyleModel",
       "_view_count": null,
       "_view_module": "@jupyter-widgets/base",
       "_view_module_version": "2.0.0",
       "_view_name": "StyleView",
       "bar_color": null,
       "description_width": ""
      }
     },
     "b55f055bd31c4694a047251540cbe4bb": {
      "model_module": "@jupyter-widgets/controls",
      "model_module_version": "2.0.0",
      "model_name": "ProgressStyleModel",
      "state": {
       "_model_module": "@jupyter-widgets/controls",
       "_model_module_version": "2.0.0",
       "_model_name": "ProgressStyleModel",
       "_view_count": null,
       "_view_module": "@jupyter-widgets/base",
       "_view_module_version": "2.0.0",
       "_view_name": "StyleView",
       "bar_color": null,
       "description_width": ""
      }
     },
     "b6340a8cc6a34f628236393ceeb69197": {
      "model_module": "@jupyter-widgets/controls",
      "model_module_version": "2.0.0",
      "model_name": "FloatProgressModel",
      "state": {
       "_dom_classes": [],
       "_model_module": "@jupyter-widgets/controls",
       "_model_module_version": "2.0.0",
       "_model_name": "FloatProgressModel",
       "_view_count": null,
       "_view_module": "@jupyter-widgets/controls",
       "_view_module_version": "2.0.0",
       "_view_name": "ProgressView",
       "bar_style": "success",
       "description": "",
       "description_allow_html": false,
       "layout": "IPY_MODEL_f0e5509d8ad045088c43f19ac521f40f",
       "max": 20470363.0,
       "min": 0.0,
       "orientation": "horizontal",
       "style": "IPY_MODEL_74e9806edacb4af990b63b4731bf0752",
       "tabbable": null,
       "tooltip": null,
       "value": 20470363.0
      }
     },
     "b685fab3b63948e2991738116e7ce62c": {
      "model_module": "@jupyter-widgets/controls",
      "model_module_version": "2.0.0",
      "model_name": "FloatProgressModel",
      "state": {
       "_dom_classes": [],
       "_model_module": "@jupyter-widgets/controls",
       "_model_module_version": "2.0.0",
       "_model_name": "FloatProgressModel",
       "_view_count": null,
       "_view_module": "@jupyter-widgets/controls",
       "_view_module_version": "2.0.0",
       "_view_name": "ProgressView",
       "bar_style": "success",
       "description": "",
       "description_allow_html": false,
       "layout": "IPY_MODEL_783bf7e5ad274e29a55152e47715eddf",
       "max": 18750.0,
       "min": 0.0,
       "orientation": "horizontal",
       "style": "IPY_MODEL_13c09956171243d3928ba222f8e2a4c7",
       "tabbable": null,
       "tooltip": null,
       "value": 18750.0
      }
     },
     "b98393ec7449491f8f5d3f24d032a9bd": {
      "model_module": "@jupyter-widgets/controls",
      "model_module_version": "2.0.0",
      "model_name": "HTMLStyleModel",
      "state": {
       "_model_module": "@jupyter-widgets/controls",
       "_model_module_version": "2.0.0",
       "_model_name": "HTMLStyleModel",
       "_view_count": null,
       "_view_module": "@jupyter-widgets/base",
       "_view_module_version": "2.0.0",
       "_view_name": "StyleView",
       "background": null,
       "description_width": "",
       "font_size": null,
       "text_color": null
      }
     },
     "ba181d5667334a3aad0ad87162c2a0a2": {
      "model_module": "@jupyter-widgets/base",
      "model_module_version": "2.0.0",
      "model_name": "LayoutModel",
      "state": {
       "_model_module": "@jupyter-widgets/base",
       "_model_module_version": "2.0.0",
       "_model_name": "LayoutModel",
       "_view_count": null,
       "_view_module": "@jupyter-widgets/base",
       "_view_module_version": "2.0.0",
       "_view_name": "LayoutView",
       "align_content": null,
       "align_items": null,
       "align_self": null,
       "border_bottom": null,
       "border_left": null,
       "border_right": null,
       "border_top": null,
       "bottom": null,
       "display": null,
       "flex": null,
       "flex_flow": null,
       "grid_area": null,
       "grid_auto_columns": null,
       "grid_auto_flow": null,
       "grid_auto_rows": null,
       "grid_column": null,
       "grid_gap": null,
       "grid_row": null,
       "grid_template_areas": null,
       "grid_template_columns": null,
       "grid_template_rows": null,
       "height": null,
       "justify_content": null,
       "justify_items": null,
       "left": null,
       "margin": null,
       "max_height": null,
       "max_width": null,
       "min_height": null,
       "min_width": null,
       "object_fit": null,
       "object_position": null,
       "order": null,
       "overflow": null,
       "padding": null,
       "right": null,
       "top": null,
       "visibility": null,
       "width": null
      }
     },
     "ba85de2d19234f5e87cd97bcdf6ca472": {
      "model_module": "@jupyter-widgets/controls",
      "model_module_version": "2.0.0",
      "model_name": "FloatProgressModel",
      "state": {
       "_dom_classes": [],
       "_model_module": "@jupyter-widgets/controls",
       "_model_module_version": "2.0.0",
       "_model_name": "FloatProgressModel",
       "_view_count": null,
       "_view_module": "@jupyter-widgets/controls",
       "_view_module_version": "2.0.0",
       "_view_name": "ProgressView",
       "bar_style": "success",
       "description": "",
       "description_allow_html": false,
       "layout": "IPY_MODEL_4a274461f84e4f37930bfb451318a467",
       "max": 25000.0,
       "min": 0.0,
       "orientation": "horizontal",
       "style": "IPY_MODEL_b55f055bd31c4694a047251540cbe4bb",
       "tabbable": null,
       "tooltip": null,
       "value": 25000.0
      }
     },
     "bab140c0e4234d3dafd80fa5094e9c0a": {
      "model_module": "@jupyter-widgets/controls",
      "model_module_version": "2.0.0",
      "model_name": "HTMLStyleModel",
      "state": {
       "_model_module": "@jupyter-widgets/controls",
       "_model_module_version": "2.0.0",
       "_model_name": "HTMLStyleModel",
       "_view_count": null,
       "_view_module": "@jupyter-widgets/base",
       "_view_module_version": "2.0.0",
       "_view_name": "StyleView",
       "background": null,
       "description_width": "",
       "font_size": null,
       "text_color": null
      }
     },
     "be19b99b7d4942beb32ec5759b84e3ac": {
      "model_module": "@jupyter-widgets/controls",
      "model_module_version": "2.0.0",
      "model_name": "HTMLStyleModel",
      "state": {
       "_model_module": "@jupyter-widgets/controls",
       "_model_module_version": "2.0.0",
       "_model_name": "HTMLStyleModel",
       "_view_count": null,
       "_view_module": "@jupyter-widgets/base",
       "_view_module_version": "2.0.0",
       "_view_name": "StyleView",
       "background": null,
       "description_width": "",
       "font_size": null,
       "text_color": null
      }
     },
     "be1f1945be1b41969260174a03e74931": {
      "model_module": "@jupyter-widgets/base",
      "model_module_version": "2.0.0",
      "model_name": "LayoutModel",
      "state": {
       "_model_module": "@jupyter-widgets/base",
       "_model_module_version": "2.0.0",
       "_model_name": "LayoutModel",
       "_view_count": null,
       "_view_module": "@jupyter-widgets/base",
       "_view_module_version": "2.0.0",
       "_view_name": "LayoutView",
       "align_content": null,
       "align_items": null,
       "align_self": null,
       "border_bottom": null,
       "border_left": null,
       "border_right": null,
       "border_top": null,
       "bottom": null,
       "display": null,
       "flex": null,
       "flex_flow": null,
       "grid_area": null,
       "grid_auto_columns": null,
       "grid_auto_flow": null,
       "grid_auto_rows": null,
       "grid_column": null,
       "grid_gap": null,
       "grid_row": null,
       "grid_template_areas": null,
       "grid_template_columns": null,
       "grid_template_rows": null,
       "height": null,
       "justify_content": null,
       "justify_items": null,
       "left": null,
       "margin": null,
       "max_height": null,
       "max_width": null,
       "min_height": null,
       "min_width": null,
       "object_fit": null,
       "object_position": null,
       "order": null,
       "overflow": null,
       "padding": null,
       "right": null,
       "top": null,
       "visibility": null,
       "width": null
      }
     },
     "bed21892ae974d6cb3b45963f151e468": {
      "model_module": "@jupyter-widgets/controls",
      "model_module_version": "2.0.0",
      "model_name": "HTMLModel",
      "state": {
       "_dom_classes": [],
       "_model_module": "@jupyter-widgets/controls",
       "_model_module_version": "2.0.0",
       "_model_name": "HTMLModel",
       "_view_count": null,
       "_view_module": "@jupyter-widgets/controls",
       "_view_module_version": "2.0.0",
       "_view_name": "HTMLView",
       "description": "",
       "description_allow_html": false,
       "layout": "IPY_MODEL_924b8738cf2f4b7fb5aab41fa850a3cf",
       "placeholder": "​",
       "style": "IPY_MODEL_2cccde4cb1a1492ea0a749949cdad7d6",
       "tabbable": null,
       "tooltip": null,
       "value": " 25000/25000 [00:00&lt;00:00, 178396.76 examples/s]"
      }
     },
     "c00ed2c5fcea48c3b1b67aaf8c67dea6": {
      "model_module": "@jupyter-widgets/controls",
      "model_module_version": "2.0.0",
      "model_name": "HTMLModel",
      "state": {
       "_dom_classes": [],
       "_model_module": "@jupyter-widgets/controls",
       "_model_module_version": "2.0.0",
       "_model_name": "HTMLModel",
       "_view_count": null,
       "_view_module": "@jupyter-widgets/controls",
       "_view_module_version": "2.0.0",
       "_view_name": "HTMLView",
       "description": "",
       "description_allow_html": false,
       "layout": "IPY_MODEL_8dd850ca334d4889ac64459a2b4610b8",
       "placeholder": "​",
       "style": "IPY_MODEL_bab140c0e4234d3dafd80fa5094e9c0a",
       "tabbable": null,
       "tooltip": null,
       "value": "Map: 100%"
      }
     },
     "c176425689fe4dcfb6d601bc9f50ad8c": {
      "model_module": "@jupyter-widgets/controls",
      "model_module_version": "2.0.0",
      "model_name": "HTMLModel",
      "state": {
       "_dom_classes": [],
       "_model_module": "@jupyter-widgets/controls",
       "_model_module_version": "2.0.0",
       "_model_name": "HTMLModel",
       "_view_count": null,
       "_view_module": "@jupyter-widgets/controls",
       "_view_module_version": "2.0.0",
       "_view_name": "HTMLView",
       "description": "",
       "description_allow_html": false,
       "layout": "IPY_MODEL_8c4ac0b98a334ba5a093145d3e18109a",
       "placeholder": "​",
       "style": "IPY_MODEL_275cb2c8a1ae4e2a80d0aa182c13650c",
       "tabbable": null,
       "tooltip": null,
       "value": "Map: 100%"
      }
     },
     "c410ac3c19754034b967b17fa414edd6": {
      "model_module": "@jupyter-widgets/base",
      "model_module_version": "2.0.0",
      "model_name": "LayoutModel",
      "state": {
       "_model_module": "@jupyter-widgets/base",
       "_model_module_version": "2.0.0",
       "_model_name": "LayoutModel",
       "_view_count": null,
       "_view_module": "@jupyter-widgets/base",
       "_view_module_version": "2.0.0",
       "_view_name": "LayoutView",
       "align_content": null,
       "align_items": null,
       "align_self": null,
       "border_bottom": null,
       "border_left": null,
       "border_right": null,
       "border_top": null,
       "bottom": null,
       "display": null,
       "flex": null,
       "flex_flow": null,
       "grid_area": null,
       "grid_auto_columns": null,
       "grid_auto_flow": null,
       "grid_auto_rows": null,
       "grid_column": null,
       "grid_gap": null,
       "grid_row": null,
       "grid_template_areas": null,
       "grid_template_columns": null,
       "grid_template_rows": null,
       "height": null,
       "justify_content": null,
       "justify_items": null,
       "left": null,
       "margin": null,
       "max_height": null,
       "max_width": null,
       "min_height": null,
       "min_width": null,
       "object_fit": null,
       "object_position": null,
       "order": null,
       "overflow": null,
       "padding": null,
       "right": null,
       "top": null,
       "visibility": null,
       "width": null
      }
     },
     "cabb04a186c244ff89fe3eb2f25186f4": {
      "model_module": "@jupyter-widgets/base",
      "model_module_version": "2.0.0",
      "model_name": "LayoutModel",
      "state": {
       "_model_module": "@jupyter-widgets/base",
       "_model_module_version": "2.0.0",
       "_model_name": "LayoutModel",
       "_view_count": null,
       "_view_module": "@jupyter-widgets/base",
       "_view_module_version": "2.0.0",
       "_view_name": "LayoutView",
       "align_content": null,
       "align_items": null,
       "align_self": null,
       "border_bottom": null,
       "border_left": null,
       "border_right": null,
       "border_top": null,
       "bottom": null,
       "display": null,
       "flex": null,
       "flex_flow": null,
       "grid_area": null,
       "grid_auto_columns": null,
       "grid_auto_flow": null,
       "grid_auto_rows": null,
       "grid_column": null,
       "grid_gap": null,
       "grid_row": null,
       "grid_template_areas": null,
       "grid_template_columns": null,
       "grid_template_rows": null,
       "height": null,
       "justify_content": null,
       "justify_items": null,
       "left": null,
       "margin": null,
       "max_height": null,
       "max_width": null,
       "min_height": null,
       "min_width": null,
       "object_fit": null,
       "object_position": null,
       "order": null,
       "overflow": null,
       "padding": null,
       "right": null,
       "top": null,
       "visibility": null,
       "width": null
      }
     },
     "cc3bd09167f9420a80b59f39ca0505c7": {
      "model_module": "@jupyter-widgets/base",
      "model_module_version": "2.0.0",
      "model_name": "LayoutModel",
      "state": {
       "_model_module": "@jupyter-widgets/base",
       "_model_module_version": "2.0.0",
       "_model_name": "LayoutModel",
       "_view_count": null,
       "_view_module": "@jupyter-widgets/base",
       "_view_module_version": "2.0.0",
       "_view_name": "LayoutView",
       "align_content": null,
       "align_items": null,
       "align_self": null,
       "border_bottom": null,
       "border_left": null,
       "border_right": null,
       "border_top": null,
       "bottom": null,
       "display": null,
       "flex": null,
       "flex_flow": null,
       "grid_area": null,
       "grid_auto_columns": null,
       "grid_auto_flow": null,
       "grid_auto_rows": null,
       "grid_column": null,
       "grid_gap": null,
       "grid_row": null,
       "grid_template_areas": null,
       "grid_template_columns": null,
       "grid_template_rows": null,
       "height": null,
       "justify_content": null,
       "justify_items": null,
       "left": null,
       "margin": null,
       "max_height": null,
       "max_width": null,
       "min_height": null,
       "min_width": null,
       "object_fit": null,
       "object_position": null,
       "order": null,
       "overflow": null,
       "padding": null,
       "right": null,
       "top": null,
       "visibility": null,
       "width": null
      }
     },
     "cc73cbaab37d4e6faa6c530e978812e2": {
      "model_module": "@jupyter-widgets/controls",
      "model_module_version": "2.0.0",
      "model_name": "FloatProgressModel",
      "state": {
       "_dom_classes": [],
       "_model_module": "@jupyter-widgets/controls",
       "_model_module_version": "2.0.0",
       "_model_name": "FloatProgressModel",
       "_view_count": null,
       "_view_module": "@jupyter-widgets/controls",
       "_view_module_version": "2.0.0",
       "_view_name": "ProgressView",
       "bar_style": "success",
       "description": "",
       "description_allow_html": false,
       "layout": "IPY_MODEL_cc3bd09167f9420a80b59f39ca0505c7",
       "max": 3.0,
       "min": 0.0,
       "orientation": "horizontal",
       "style": "IPY_MODEL_e0fe5cecdbb94234a53a74109d52296a",
       "tabbable": null,
       "tooltip": null,
       "value": 3.0
      }
     },
     "cedd1646dff14b22aa90f0c6af316bb6": {
      "model_module": "@jupyter-widgets/controls",
      "model_module_version": "2.0.0",
      "model_name": "FloatProgressModel",
      "state": {
       "_dom_classes": [],
       "_model_module": "@jupyter-widgets/controls",
       "_model_module_version": "2.0.0",
       "_model_name": "FloatProgressModel",
       "_view_count": null,
       "_view_module": "@jupyter-widgets/controls",
       "_view_module_version": "2.0.0",
       "_view_name": "ProgressView",
       "bar_style": "success",
       "description": "",
       "description_allow_html": false,
       "layout": "IPY_MODEL_998517e4b9ab4694a6de01cd7d48e99a",
       "max": 25000.0,
       "min": 0.0,
       "orientation": "horizontal",
       "style": "IPY_MODEL_89275b37e0a9462a8ab3cbe4793a3a64",
       "tabbable": null,
       "tooltip": null,
       "value": 25000.0
      }
     },
     "d0d17e24908c46f9a330b35dccff7ac4": {
      "model_module": "@jupyter-widgets/base",
      "model_module_version": "2.0.0",
      "model_name": "LayoutModel",
      "state": {
       "_model_module": "@jupyter-widgets/base",
       "_model_module_version": "2.0.0",
       "_model_name": "LayoutModel",
       "_view_count": null,
       "_view_module": "@jupyter-widgets/base",
       "_view_module_version": "2.0.0",
       "_view_name": "LayoutView",
       "align_content": null,
       "align_items": null,
       "align_self": null,
       "border_bottom": null,
       "border_left": null,
       "border_right": null,
       "border_top": null,
       "bottom": null,
       "display": null,
       "flex": null,
       "flex_flow": null,
       "grid_area": null,
       "grid_auto_columns": null,
       "grid_auto_flow": null,
       "grid_auto_rows": null,
       "grid_column": null,
       "grid_gap": null,
       "grid_row": null,
       "grid_template_areas": null,
       "grid_template_columns": null,
       "grid_template_rows": null,
       "height": null,
       "justify_content": null,
       "justify_items": null,
       "left": null,
       "margin": null,
       "max_height": null,
       "max_width": null,
       "min_height": null,
       "min_width": null,
       "object_fit": null,
       "object_position": null,
       "order": null,
       "overflow": null,
       "padding": null,
       "right": null,
       "top": null,
       "visibility": null,
       "width": null
      }
     },
     "d1b801dd2a874b7da5904d3861004ecb": {
      "model_module": "@jupyter-widgets/controls",
      "model_module_version": "2.0.0",
      "model_name": "ProgressStyleModel",
      "state": {
       "_model_module": "@jupyter-widgets/controls",
       "_model_module_version": "2.0.0",
       "_model_name": "ProgressStyleModel",
       "_view_count": null,
       "_view_module": "@jupyter-widgets/base",
       "_view_module_version": "2.0.0",
       "_view_name": "StyleView",
       "bar_color": null,
       "description_width": ""
      }
     },
     "d563ab55ed454160adbe4bb25a3d6965": {
      "model_module": "@jupyter-widgets/base",
      "model_module_version": "2.0.0",
      "model_name": "LayoutModel",
      "state": {
       "_model_module": "@jupyter-widgets/base",
       "_model_module_version": "2.0.0",
       "_model_name": "LayoutModel",
       "_view_count": null,
       "_view_module": "@jupyter-widgets/base",
       "_view_module_version": "2.0.0",
       "_view_name": "LayoutView",
       "align_content": null,
       "align_items": null,
       "align_self": null,
       "border_bottom": null,
       "border_left": null,
       "border_right": null,
       "border_top": null,
       "bottom": null,
       "display": null,
       "flex": null,
       "flex_flow": null,
       "grid_area": null,
       "grid_auto_columns": null,
       "grid_auto_flow": null,
       "grid_auto_rows": null,
       "grid_column": null,
       "grid_gap": null,
       "grid_row": null,
       "grid_template_areas": null,
       "grid_template_columns": null,
       "grid_template_rows": null,
       "height": null,
       "justify_content": null,
       "justify_items": null,
       "left": null,
       "margin": null,
       "max_height": null,
       "max_width": null,
       "min_height": null,
       "min_width": null,
       "object_fit": null,
       "object_position": null,
       "order": null,
       "overflow": null,
       "padding": null,
       "right": null,
       "top": null,
       "visibility": null,
       "width": null
      }
     },
     "d5d0bc6b628f44f2a08a403899ab7fa4": {
      "model_module": "@jupyter-widgets/controls",
      "model_module_version": "2.0.0",
      "model_name": "HTMLStyleModel",
      "state": {
       "_model_module": "@jupyter-widgets/controls",
       "_model_module_version": "2.0.0",
       "_model_name": "HTMLStyleModel",
       "_view_count": null,
       "_view_module": "@jupyter-widgets/base",
       "_view_module_version": "2.0.0",
       "_view_name": "StyleView",
       "background": null,
       "description_width": "",
       "font_size": null,
       "text_color": null
      }
     },
     "d6dd3cf9dea04577906e9f298eea49b7": {
      "model_module": "@jupyter-widgets/base",
      "model_module_version": "2.0.0",
      "model_name": "LayoutModel",
      "state": {
       "_model_module": "@jupyter-widgets/base",
       "_model_module_version": "2.0.0",
       "_model_name": "LayoutModel",
       "_view_count": null,
       "_view_module": "@jupyter-widgets/base",
       "_view_module_version": "2.0.0",
       "_view_name": "LayoutView",
       "align_content": null,
       "align_items": null,
       "align_self": null,
       "border_bottom": null,
       "border_left": null,
       "border_right": null,
       "border_top": null,
       "bottom": null,
       "display": null,
       "flex": null,
       "flex_flow": null,
       "grid_area": null,
       "grid_auto_columns": null,
       "grid_auto_flow": null,
       "grid_auto_rows": null,
       "grid_column": null,
       "grid_gap": null,
       "grid_row": null,
       "grid_template_areas": null,
       "grid_template_columns": null,
       "grid_template_rows": null,
       "height": null,
       "justify_content": null,
       "justify_items": null,
       "left": null,
       "margin": null,
       "max_height": null,
       "max_width": null,
       "min_height": null,
       "min_width": null,
       "object_fit": null,
       "object_position": null,
       "order": null,
       "overflow": null,
       "padding": null,
       "right": null,
       "top": null,
       "visibility": null,
       "width": null
      }
     },
     "d88422d988fb43cdb28afe691c82df7b": {
      "model_module": "@jupyter-widgets/controls",
      "model_module_version": "2.0.0",
      "model_name": "HBoxModel",
      "state": {
       "_dom_classes": [],
       "_model_module": "@jupyter-widgets/controls",
       "_model_module_version": "2.0.0",
       "_model_name": "HBoxModel",
       "_view_count": null,
       "_view_module": "@jupyter-widgets/controls",
       "_view_module_version": "2.0.0",
       "_view_name": "HBoxView",
       "box_style": "",
       "children": [
        "IPY_MODEL_c176425689fe4dcfb6d601bc9f50ad8c",
        "IPY_MODEL_f22a3aab759d4721afd82d62b24b5405",
        "IPY_MODEL_4e22c7ccad6146df943eae572d32aad9"
       ],
       "layout": "IPY_MODEL_40c6ee33de964596b00353d9ab0be0a8",
       "tabbable": null,
       "tooltip": null
      }
     },
     "d92ed59d65f94048a0642cdc5da6fb31": {
      "model_module": "@jupyter-widgets/controls",
      "model_module_version": "2.0.0",
      "model_name": "FloatProgressModel",
      "state": {
       "_dom_classes": [],
       "_model_module": "@jupyter-widgets/controls",
       "_model_module_version": "2.0.0",
       "_model_name": "FloatProgressModel",
       "_view_count": null,
       "_view_module": "@jupyter-widgets/controls",
       "_view_module_version": "2.0.0",
       "_view_name": "ProgressView",
       "bar_style": "success",
       "description": "",
       "description_allow_html": false,
       "layout": "IPY_MODEL_fda11d6f523d47d482acb23444292bce",
       "max": 25000.0,
       "min": 0.0,
       "orientation": "horizontal",
       "style": "IPY_MODEL_d1b801dd2a874b7da5904d3861004ecb",
       "tabbable": null,
       "tooltip": null,
       "value": 25000.0
      }
     },
     "da53dac7910f45008c350c7232e05643": {
      "model_module": "@jupyter-widgets/controls",
      "model_module_version": "2.0.0",
      "model_name": "HBoxModel",
      "state": {
       "_dom_classes": [],
       "_model_module": "@jupyter-widgets/controls",
       "_model_module_version": "2.0.0",
       "_model_name": "HBoxModel",
       "_view_count": null,
       "_view_module": "@jupyter-widgets/controls",
       "_view_module_version": "2.0.0",
       "_view_name": "HBoxView",
       "box_style": "",
       "children": [
        "IPY_MODEL_c00ed2c5fcea48c3b1b67aaf8c67dea6",
        "IPY_MODEL_5e4713ac3c8c42958394ed38894df0a6",
        "IPY_MODEL_9516dbdcc7db40b1851988e1333550d2"
       ],
       "layout": "IPY_MODEL_3848c8fb35e14a0ebeaf73389465a8ee",
       "tabbable": null,
       "tooltip": null
      }
     },
     "db14099f62d24f288a15d40a1bb46327": {
      "model_module": "@jupyter-widgets/controls",
      "model_module_version": "2.0.0",
      "model_name": "HBoxModel",
      "state": {
       "_dom_classes": [],
       "_model_module": "@jupyter-widgets/controls",
       "_model_module_version": "2.0.0",
       "_model_name": "HBoxModel",
       "_view_count": null,
       "_view_module": "@jupyter-widgets/controls",
       "_view_module_version": "2.0.0",
       "_view_name": "HBoxView",
       "box_style": "",
       "children": [
        "IPY_MODEL_654b4b005d6c40da88dc1229965688a1",
        "IPY_MODEL_9e97a368122a4db290672047d74c3a3f",
        "IPY_MODEL_854e4c1515914dddb86a196cf51e656e"
       ],
       "layout": "IPY_MODEL_ba181d5667334a3aad0ad87162c2a0a2",
       "tabbable": null,
       "tooltip": null
      }
     },
     "dc8fcd6ef94249e79da663a6837c07be": {
      "model_module": "@jupyter-widgets/controls",
      "model_module_version": "2.0.0",
      "model_name": "FloatProgressModel",
      "state": {
       "_dom_classes": [],
       "_model_module": "@jupyter-widgets/controls",
       "_model_module_version": "2.0.0",
       "_model_name": "FloatProgressModel",
       "_view_count": null,
       "_view_module": "@jupyter-widgets/controls",
       "_view_module_version": "2.0.0",
       "_view_name": "ProgressView",
       "bar_style": "success",
       "description": "",
       "description_allow_html": false,
       "layout": "IPY_MODEL_3879d88b87f7475b8c8a38e59be1ab7a",
       "max": 25000.0,
       "min": 0.0,
       "orientation": "horizontal",
       "style": "IPY_MODEL_a37aa425b5d941c58931836a514f7ca1",
       "tabbable": null,
       "tooltip": null,
       "value": 25000.0
      }
     },
     "dfd1093c196543a4aa4a740cd808a080": {
      "model_module": "@jupyter-widgets/controls",
      "model_module_version": "2.0.0",
      "model_name": "HBoxModel",
      "state": {
       "_dom_classes": [],
       "_model_module": "@jupyter-widgets/controls",
       "_model_module_version": "2.0.0",
       "_model_name": "HBoxModel",
       "_view_count": null,
       "_view_module": "@jupyter-widgets/controls",
       "_view_module_version": "2.0.0",
       "_view_name": "HBoxView",
       "box_style": "",
       "children": [
        "IPY_MODEL_36c6374ad8dd46cbb8fcf269da55ec00",
        "IPY_MODEL_d92ed59d65f94048a0642cdc5da6fb31",
        "IPY_MODEL_345c8819774049588bd515a0c5e826b9"
       ],
       "layout": "IPY_MODEL_c410ac3c19754034b967b17fa414edd6",
       "tabbable": null,
       "tooltip": null
      }
     },
     "e0fe5cecdbb94234a53a74109d52296a": {
      "model_module": "@jupyter-widgets/controls",
      "model_module_version": "2.0.0",
      "model_name": "ProgressStyleModel",
      "state": {
       "_model_module": "@jupyter-widgets/controls",
       "_model_module_version": "2.0.0",
       "_model_name": "ProgressStyleModel",
       "_view_count": null,
       "_view_module": "@jupyter-widgets/base",
       "_view_module_version": "2.0.0",
       "_view_name": "StyleView",
       "bar_color": null,
       "description_width": ""
      }
     },
     "e38248f9e5364ee2845bb2172fa6706d": {
      "model_module": "@jupyter-widgets/base",
      "model_module_version": "2.0.0",
      "model_name": "LayoutModel",
      "state": {
       "_model_module": "@jupyter-widgets/base",
       "_model_module_version": "2.0.0",
       "_model_name": "LayoutModel",
       "_view_count": null,
       "_view_module": "@jupyter-widgets/base",
       "_view_module_version": "2.0.0",
       "_view_name": "LayoutView",
       "align_content": null,
       "align_items": null,
       "align_self": null,
       "border_bottom": null,
       "border_left": null,
       "border_right": null,
       "border_top": null,
       "bottom": null,
       "display": null,
       "flex": null,
       "flex_flow": null,
       "grid_area": null,
       "grid_auto_columns": null,
       "grid_auto_flow": null,
       "grid_auto_rows": null,
       "grid_column": null,
       "grid_gap": null,
       "grid_row": null,
       "grid_template_areas": null,
       "grid_template_columns": null,
       "grid_template_rows": null,
       "height": null,
       "justify_content": null,
       "justify_items": null,
       "left": null,
       "margin": null,
       "max_height": null,
       "max_width": null,
       "min_height": null,
       "min_width": null,
       "object_fit": null,
       "object_position": null,
       "order": null,
       "overflow": null,
       "padding": null,
       "right": null,
       "top": null,
       "visibility": null,
       "width": null
      }
     },
     "e6ad92e2ae75403c97d9c751d92a2ad7": {
      "model_module": "@jupyter-widgets/controls",
      "model_module_version": "2.0.0",
      "model_name": "HTMLStyleModel",
      "state": {
       "_model_module": "@jupyter-widgets/controls",
       "_model_module_version": "2.0.0",
       "_model_name": "HTMLStyleModel",
       "_view_count": null,
       "_view_module": "@jupyter-widgets/base",
       "_view_module_version": "2.0.0",
       "_view_name": "StyleView",
       "background": null,
       "description_width": "",
       "font_size": null,
       "text_color": null
      }
     },
     "e800682180ed43f89a39fc9a741f095c": {
      "model_module": "@jupyter-widgets/controls",
      "model_module_version": "2.0.0",
      "model_name": "HTMLModel",
      "state": {
       "_dom_classes": [],
       "_model_module": "@jupyter-widgets/controls",
       "_model_module_version": "2.0.0",
       "_model_name": "HTMLModel",
       "_view_count": null,
       "_view_module": "@jupyter-widgets/controls",
       "_view_module_version": "2.0.0",
       "_view_name": "HTMLView",
       "description": "",
       "description_allow_html": false,
       "layout": "IPY_MODEL_a7b77ac2209a4e6e934d4d8daa2b5bd4",
       "placeholder": "​",
       "style": "IPY_MODEL_a5c1d31fffb244fc8c690c5712dc50fc",
       "tabbable": null,
       "tooltip": null,
       "value": " 50000/50000 [00:00&lt;00:00, 196060.99 examples/s]"
      }
     },
     "eef1f99fc33e49e58c3035c4f4170bf4": {
      "model_module": "@jupyter-widgets/base",
      "model_module_version": "2.0.0",
      "model_name": "LayoutModel",
      "state": {
       "_model_module": "@jupyter-widgets/base",
       "_model_module_version": "2.0.0",
       "_model_name": "LayoutModel",
       "_view_count": null,
       "_view_module": "@jupyter-widgets/base",
       "_view_module_version": "2.0.0",
       "_view_name": "LayoutView",
       "align_content": null,
       "align_items": null,
       "align_self": null,
       "border_bottom": null,
       "border_left": null,
       "border_right": null,
       "border_top": null,
       "bottom": null,
       "display": null,
       "flex": null,
       "flex_flow": null,
       "grid_area": null,
       "grid_auto_columns": null,
       "grid_auto_flow": null,
       "grid_auto_rows": null,
       "grid_column": null,
       "grid_gap": null,
       "grid_row": null,
       "grid_template_areas": null,
       "grid_template_columns": null,
       "grid_template_rows": null,
       "height": null,
       "justify_content": null,
       "justify_items": null,
       "left": null,
       "margin": null,
       "max_height": null,
       "max_width": null,
       "min_height": null,
       "min_width": null,
       "object_fit": null,
       "object_position": null,
       "order": null,
       "overflow": null,
       "padding": null,
       "right": null,
       "top": null,
       "visibility": null,
       "width": null
      }
     },
     "f0e5509d8ad045088c43f19ac521f40f": {
      "model_module": "@jupyter-widgets/base",
      "model_module_version": "2.0.0",
      "model_name": "LayoutModel",
      "state": {
       "_model_module": "@jupyter-widgets/base",
       "_model_module_version": "2.0.0",
       "_model_name": "LayoutModel",
       "_view_count": null,
       "_view_module": "@jupyter-widgets/base",
       "_view_module_version": "2.0.0",
       "_view_name": "LayoutView",
       "align_content": null,
       "align_items": null,
       "align_self": null,
       "border_bottom": null,
       "border_left": null,
       "border_right": null,
       "border_top": null,
       "bottom": null,
       "display": null,
       "flex": null,
       "flex_flow": null,
       "grid_area": null,
       "grid_auto_columns": null,
       "grid_auto_flow": null,
       "grid_auto_rows": null,
       "grid_column": null,
       "grid_gap": null,
       "grid_row": null,
       "grid_template_areas": null,
       "grid_template_columns": null,
       "grid_template_rows": null,
       "height": null,
       "justify_content": null,
       "justify_items": null,
       "left": null,
       "margin": null,
       "max_height": null,
       "max_width": null,
       "min_height": null,
       "min_width": null,
       "object_fit": null,
       "object_position": null,
       "order": null,
       "overflow": null,
       "padding": null,
       "right": null,
       "top": null,
       "visibility": null,
       "width": null
      }
     },
     "f152a89d9c9c438f9ae79d36c31e4162": {
      "model_module": "@jupyter-widgets/base",
      "model_module_version": "2.0.0",
      "model_name": "LayoutModel",
      "state": {
       "_model_module": "@jupyter-widgets/base",
       "_model_module_version": "2.0.0",
       "_model_name": "LayoutModel",
       "_view_count": null,
       "_view_module": "@jupyter-widgets/base",
       "_view_module_version": "2.0.0",
       "_view_name": "LayoutView",
       "align_content": null,
       "align_items": null,
       "align_self": null,
       "border_bottom": null,
       "border_left": null,
       "border_right": null,
       "border_top": null,
       "bottom": null,
       "display": null,
       "flex": null,
       "flex_flow": null,
       "grid_area": null,
       "grid_auto_columns": null,
       "grid_auto_flow": null,
       "grid_auto_rows": null,
       "grid_column": null,
       "grid_gap": null,
       "grid_row": null,
       "grid_template_areas": null,
       "grid_template_columns": null,
       "grid_template_rows": null,
       "height": null,
       "justify_content": null,
       "justify_items": null,
       "left": null,
       "margin": null,
       "max_height": null,
       "max_width": null,
       "min_height": null,
       "min_width": null,
       "object_fit": null,
       "object_position": null,
       "order": null,
       "overflow": null,
       "padding": null,
       "right": null,
       "top": null,
       "visibility": null,
       "width": null
      }
     },
     "f2148b5ad7354ab58693a51598d7526a": {
      "model_module": "@jupyter-widgets/controls",
      "model_module_version": "2.0.0",
      "model_name": "HTMLModel",
      "state": {
       "_dom_classes": [],
       "_model_module": "@jupyter-widgets/controls",
       "_model_module_version": "2.0.0",
       "_model_name": "HTMLModel",
       "_view_count": null,
       "_view_module": "@jupyter-widgets/controls",
       "_view_module_version": "2.0.0",
       "_view_name": "HTMLView",
       "description": "",
       "description_allow_html": false,
       "layout": "IPY_MODEL_19a1bce9daef4cdead433bf96f44ba97",
       "placeholder": "​",
       "style": "IPY_MODEL_07d8458851a0495095c7e80ee5aab78d",
       "tabbable": null,
       "tooltip": null,
       "value": "unsupervised-00000-of-00001.parquet: 100%"
      }
     },
     "f22a3aab759d4721afd82d62b24b5405": {
      "model_module": "@jupyter-widgets/controls",
      "model_module_version": "2.0.0",
      "model_name": "FloatProgressModel",
      "state": {
       "_dom_classes": [],
       "_model_module": "@jupyter-widgets/controls",
       "_model_module_version": "2.0.0",
       "_model_name": "FloatProgressModel",
       "_view_count": null,
       "_view_module": "@jupyter-widgets/controls",
       "_view_module_version": "2.0.0",
       "_view_name": "ProgressView",
       "bar_style": "success",
       "description": "",
       "description_allow_html": false,
       "layout": "IPY_MODEL_834e2dbf6f4e40c9a211a1d87b0692fd",
       "max": 6250.0,
       "min": 0.0,
       "orientation": "horizontal",
       "style": "IPY_MODEL_88d761f23f1747e7b772737c658a95c0",
       "tabbable": null,
       "tooltip": null,
       "value": 6250.0
      }
     },
     "f2b2ca84bfb140d1a8b24decbf5951e9": {
      "model_module": "@jupyter-widgets/controls",
      "model_module_version": "2.0.0",
      "model_name": "HTMLStyleModel",
      "state": {
       "_model_module": "@jupyter-widgets/controls",
       "_model_module_version": "2.0.0",
       "_model_name": "HTMLStyleModel",
       "_view_count": null,
       "_view_module": "@jupyter-widgets/base",
       "_view_module_version": "2.0.0",
       "_view_name": "StyleView",
       "background": null,
       "description_width": "",
       "font_size": null,
       "text_color": null
      }
     },
     "f541bd8a278a472e9de29ecf5c1fce66": {
      "model_module": "@jupyter-widgets/controls",
      "model_module_version": "2.0.0",
      "model_name": "HTMLStyleModel",
      "state": {
       "_model_module": "@jupyter-widgets/controls",
       "_model_module_version": "2.0.0",
       "_model_name": "HTMLStyleModel",
       "_view_count": null,
       "_view_module": "@jupyter-widgets/base",
       "_view_module_version": "2.0.0",
       "_view_name": "StyleView",
       "background": null,
       "description_width": "",
       "font_size": null,
       "text_color": null
      }
     },
     "f56137a475fa426faf0d6ecd33df06ee": {
      "model_module": "@jupyter-widgets/controls",
      "model_module_version": "2.0.0",
      "model_name": "HTMLStyleModel",
      "state": {
       "_model_module": "@jupyter-widgets/controls",
       "_model_module_version": "2.0.0",
       "_model_name": "HTMLStyleModel",
       "_view_count": null,
       "_view_module": "@jupyter-widgets/base",
       "_view_module_version": "2.0.0",
       "_view_name": "StyleView",
       "background": null,
       "description_width": "",
       "font_size": null,
       "text_color": null
      }
     },
     "f7a73b1c494f4654bc15bfafbfcd7a96": {
      "model_module": "@jupyter-widgets/base",
      "model_module_version": "2.0.0",
      "model_name": "LayoutModel",
      "state": {
       "_model_module": "@jupyter-widgets/base",
       "_model_module_version": "2.0.0",
       "_model_name": "LayoutModel",
       "_view_count": null,
       "_view_module": "@jupyter-widgets/base",
       "_view_module_version": "2.0.0",
       "_view_name": "LayoutView",
       "align_content": null,
       "align_items": null,
       "align_self": null,
       "border_bottom": null,
       "border_left": null,
       "border_right": null,
       "border_top": null,
       "bottom": null,
       "display": null,
       "flex": null,
       "flex_flow": null,
       "grid_area": null,
       "grid_auto_columns": null,
       "grid_auto_flow": null,
       "grid_auto_rows": null,
       "grid_column": null,
       "grid_gap": null,
       "grid_row": null,
       "grid_template_areas": null,
       "grid_template_columns": null,
       "grid_template_rows": null,
       "height": null,
       "justify_content": null,
       "justify_items": null,
       "left": null,
       "margin": null,
       "max_height": null,
       "max_width": null,
       "min_height": null,
       "min_width": null,
       "object_fit": null,
       "object_position": null,
       "order": null,
       "overflow": null,
       "padding": null,
       "right": null,
       "top": null,
       "visibility": null,
       "width": null
      }
     },
     "f895cb889e094a908e3a2a281a1d6691": {
      "model_module": "@jupyter-widgets/controls",
      "model_module_version": "2.0.0",
      "model_name": "HTMLStyleModel",
      "state": {
       "_model_module": "@jupyter-widgets/controls",
       "_model_module_version": "2.0.0",
       "_model_name": "HTMLStyleModel",
       "_view_count": null,
       "_view_module": "@jupyter-widgets/base",
       "_view_module_version": "2.0.0",
       "_view_name": "StyleView",
       "background": null,
       "description_width": "",
       "font_size": null,
       "text_color": null
      }
     },
     "fd8ca939261548a3a4d70ac36d989cc6": {
      "model_module": "@jupyter-widgets/controls",
      "model_module_version": "2.0.0",
      "model_name": "HTMLModel",
      "state": {
       "_dom_classes": [],
       "_model_module": "@jupyter-widgets/controls",
       "_model_module_version": "2.0.0",
       "_model_name": "HTMLModel",
       "_view_count": null,
       "_view_module": "@jupyter-widgets/controls",
       "_view_module_version": "2.0.0",
       "_view_name": "HTMLView",
       "description": "",
       "description_allow_html": false,
       "layout": "IPY_MODEL_b0ac4cbfb4ee4f449df5450d3dd22c4e",
       "placeholder": "​",
       "style": "IPY_MODEL_f895cb889e094a908e3a2a281a1d6691",
       "tabbable": null,
       "tooltip": null,
       "value": " 21.0M/21.0M [00:00&lt;00:00, 93.7MB/s]"
      }
     },
     "fda11d6f523d47d482acb23444292bce": {
      "model_module": "@jupyter-widgets/base",
      "model_module_version": "2.0.0",
      "model_name": "LayoutModel",
      "state": {
       "_model_module": "@jupyter-widgets/base",
       "_model_module_version": "2.0.0",
       "_model_name": "LayoutModel",
       "_view_count": null,
       "_view_module": "@jupyter-widgets/base",
       "_view_module_version": "2.0.0",
       "_view_name": "LayoutView",
       "align_content": null,
       "align_items": null,
       "align_self": null,
       "border_bottom": null,
       "border_left": null,
       "border_right": null,
       "border_top": null,
       "bottom": null,
       "display": null,
       "flex": null,
       "flex_flow": null,
       "grid_area": null,
       "grid_auto_columns": null,
       "grid_auto_flow": null,
       "grid_auto_rows": null,
       "grid_column": null,
       "grid_gap": null,
       "grid_row": null,
       "grid_template_areas": null,
       "grid_template_columns": null,
       "grid_template_rows": null,
       "height": null,
       "justify_content": null,
       "justify_items": null,
       "left": null,
       "margin": null,
       "max_height": null,
       "max_width": null,
       "min_height": null,
       "min_width": null,
       "object_fit": null,
       "object_position": null,
       "order": null,
       "overflow": null,
       "padding": null,
       "right": null,
       "top": null,
       "visibility": null,
       "width": null
      }
     },
     "ff7d3583c6e649e68356c69a987f335f": {
      "model_module": "@jupyter-widgets/controls",
      "model_module_version": "2.0.0",
      "model_name": "HTMLStyleModel",
      "state": {
       "_model_module": "@jupyter-widgets/controls",
       "_model_module_version": "2.0.0",
       "_model_name": "HTMLStyleModel",
       "_view_count": null,
       "_view_module": "@jupyter-widgets/base",
       "_view_module_version": "2.0.0",
       "_view_name": "StyleView",
       "background": null,
       "description_width": "",
       "font_size": null,
       "text_color": null
      }
     }
    },
    "version_major": 2,
    "version_minor": 0
   }
  }
 },
 "nbformat": 4,
 "nbformat_minor": 5
}
