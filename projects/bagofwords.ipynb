{
 "cells": [
  {
   "cell_type": "code",
   "execution_count": 1,
   "id": "39abd320",
   "metadata": {
    "execution": {
     "iopub.execute_input": "2025-05-01T19:13:24.875738Z",
     "iopub.status.busy": "2025-05-01T19:13:24.875528Z",
     "iopub.status.idle": "2025-05-01T19:16:02.402494Z",
     "shell.execute_reply": "2025-05-01T19:16:02.401363Z"
    },
    "executionInfo": {
     "elapsed": 255010,
     "status": "ok",
     "timestamp": 1746116103874,
     "user": {
      "displayName": "Larry Addo KORLI",
      "userId": "13024330108174493901"
     },
     "user_tz": 0
    },
    "id": "NvIgxeKEXJFN",
    "outputId": "e826767d-0455-4ac7-ff2d-6b2f128daaf1",
    "papermill": {
     "duration": 157.552239,
     "end_time": "2025-05-01T19:16:02.404010",
     "exception": false,
     "start_time": "2025-05-01T19:13:24.851771",
     "status": "completed"
    },
    "tags": []
   },
   "outputs": [
    {
     "name": "stdout",
     "output_type": "stream",
     "text": [
      "Collecting torch==2.3.0\r\n",
      "  Downloading torch-2.3.0-cp311-cp311-manylinux1_x86_64.whl.metadata (26 kB)\r\n",
      "Requirement already satisfied: filelock in /usr/local/lib/python3.11/dist-packages (from torch==2.3.0) (3.18.0)\r\n",
      "Requirement already satisfied: typing-extensions>=4.8.0 in /usr/local/lib/python3.11/dist-packages (from torch==2.3.0) (4.13.1)\r\n",
      "Requirement already satisfied: sympy in /usr/local/lib/python3.11/dist-packages (from torch==2.3.0) (1.13.1)\r\n",
      "Requirement already satisfied: networkx in /usr/local/lib/python3.11/dist-packages (from torch==2.3.0) (3.4.2)\r\n",
      "Requirement already satisfied: jinja2 in /usr/local/lib/python3.11/dist-packages (from torch==2.3.0) (3.1.6)\r\n",
      "Requirement already satisfied: fsspec in /usr/local/lib/python3.11/dist-packages (from torch==2.3.0) (2025.3.2)\r\n",
      "Collecting nvidia-cuda-nvrtc-cu12==12.1.105 (from torch==2.3.0)\r\n",
      "  Downloading nvidia_cuda_nvrtc_cu12-12.1.105-py3-none-manylinux1_x86_64.whl.metadata (1.5 kB)\r\n",
      "Collecting nvidia-cuda-runtime-cu12==12.1.105 (from torch==2.3.0)\r\n",
      "  Downloading nvidia_cuda_runtime_cu12-12.1.105-py3-none-manylinux1_x86_64.whl.metadata (1.5 kB)\r\n",
      "Collecting nvidia-cuda-cupti-cu12==12.1.105 (from torch==2.3.0)\r\n",
      "  Downloading nvidia_cuda_cupti_cu12-12.1.105-py3-none-manylinux1_x86_64.whl.metadata (1.6 kB)\r\n",
      "Collecting nvidia-cudnn-cu12==8.9.2.26 (from torch==2.3.0)\r\n",
      "  Downloading nvidia_cudnn_cu12-8.9.2.26-py3-none-manylinux1_x86_64.whl.metadata (1.6 kB)\r\n",
      "Collecting nvidia-cublas-cu12==12.1.3.1 (from torch==2.3.0)\r\n",
      "  Downloading nvidia_cublas_cu12-12.1.3.1-py3-none-manylinux1_x86_64.whl.metadata (1.5 kB)\r\n",
      "Collecting nvidia-cufft-cu12==11.0.2.54 (from torch==2.3.0)\r\n",
      "  Downloading nvidia_cufft_cu12-11.0.2.54-py3-none-manylinux1_x86_64.whl.metadata (1.5 kB)\r\n",
      "Collecting nvidia-curand-cu12==10.3.2.106 (from torch==2.3.0)\r\n",
      "  Downloading nvidia_curand_cu12-10.3.2.106-py3-none-manylinux1_x86_64.whl.metadata (1.5 kB)\r\n",
      "Collecting nvidia-cusolver-cu12==11.4.5.107 (from torch==2.3.0)\r\n",
      "  Downloading nvidia_cusolver_cu12-11.4.5.107-py3-none-manylinux1_x86_64.whl.metadata (1.6 kB)\r\n",
      "Collecting nvidia-cusparse-cu12==12.1.0.106 (from torch==2.3.0)\r\n",
      "  Downloading nvidia_cusparse_cu12-12.1.0.106-py3-none-manylinux1_x86_64.whl.metadata (1.6 kB)\r\n",
      "Collecting nvidia-nccl-cu12==2.20.5 (from torch==2.3.0)\r\n",
      "  Downloading nvidia_nccl_cu12-2.20.5-py3-none-manylinux2014_x86_64.whl.metadata (1.8 kB)\r\n",
      "Collecting nvidia-nvtx-cu12==12.1.105 (from torch==2.3.0)\r\n",
      "  Downloading nvidia_nvtx_cu12-12.1.105-py3-none-manylinux1_x86_64.whl.metadata (1.7 kB)\r\n",
      "Collecting triton==2.3.0 (from torch==2.3.0)\r\n",
      "  Downloading triton-2.3.0-cp311-cp311-manylinux_2_17_x86_64.manylinux2014_x86_64.whl.metadata (1.4 kB)\r\n",
      "Requirement already satisfied: nvidia-nvjitlink-cu12 in /usr/local/lib/python3.11/dist-packages (from nvidia-cusolver-cu12==11.4.5.107->torch==2.3.0) (12.8.93)\r\n",
      "Requirement already satisfied: MarkupSafe>=2.0 in /usr/local/lib/python3.11/dist-packages (from jinja2->torch==2.3.0) (3.0.2)\r\n",
      "Requirement already satisfied: mpmath<1.4,>=1.1.0 in /usr/local/lib/python3.11/dist-packages (from sympy->torch==2.3.0) (1.3.0)\r\n",
      "Downloading torch-2.3.0-cp311-cp311-manylinux1_x86_64.whl (779.2 MB)\r\n",
      "\u001b[2K   \u001b[90m━━━━━━━━━━━━━━━━━━━━━━━━━━━━━━━━━━━━━━━━\u001b[0m \u001b[32m779.2/779.2 MB\u001b[0m \u001b[31m2.0 MB/s\u001b[0m eta \u001b[36m0:00:00\u001b[0m\r\n",
      "\u001b[?25hDownloading nvidia_cublas_cu12-12.1.3.1-py3-none-manylinux1_x86_64.whl (410.6 MB)\r\n",
      "\u001b[2K   \u001b[90m━━━━━━━━━━━━━━━━━━━━━━━━━━━━━━━━━━━━━━━━\u001b[0m \u001b[32m410.6/410.6 MB\u001b[0m \u001b[31m2.2 MB/s\u001b[0m eta \u001b[36m0:00:00\u001b[0m\r\n",
      "\u001b[?25hDownloading nvidia_cuda_cupti_cu12-12.1.105-py3-none-manylinux1_x86_64.whl (14.1 MB)\r\n",
      "\u001b[2K   \u001b[90m━━━━━━━━━━━━━━━━━━━━━━━━━━━━━━━━━━━━━━━━\u001b[0m \u001b[32m14.1/14.1 MB\u001b[0m \u001b[31m102.6 MB/s\u001b[0m eta \u001b[36m0:00:00\u001b[0m\r\n",
      "\u001b[?25hDownloading nvidia_cuda_nvrtc_cu12-12.1.105-py3-none-manylinux1_x86_64.whl (23.7 MB)\r\n",
      "\u001b[2K   \u001b[90m━━━━━━━━━━━━━━━━━━━━━━━━━━━━━━━━━━━━━━━━\u001b[0m \u001b[32m23.7/23.7 MB\u001b[0m \u001b[31m78.8 MB/s\u001b[0m eta \u001b[36m0:00:00\u001b[0m\r\n",
      "\u001b[?25hDownloading nvidia_cuda_runtime_cu12-12.1.105-py3-none-manylinux1_x86_64.whl (823 kB)\r\n",
      "\u001b[2K   \u001b[90m━━━━━━━━━━━━━━━━━━━━━━━━━━━━━━━━━━━━━━━━\u001b[0m \u001b[32m823.6/823.6 kB\u001b[0m \u001b[31m34.1 MB/s\u001b[0m eta \u001b[36m0:00:00\u001b[0m\r\n",
      "\u001b[?25hDownloading nvidia_cudnn_cu12-8.9.2.26-py3-none-manylinux1_x86_64.whl (731.7 MB)\r\n",
      "\u001b[2K   \u001b[90m━━━━━━━━━━━━━━━━━━━━━━━━━━━━━━━━━━━━━━━━\u001b[0m \u001b[32m731.7/731.7 MB\u001b[0m \u001b[31m1.9 MB/s\u001b[0m eta \u001b[36m0:00:00\u001b[0m\r\n",
      "\u001b[?25hDownloading nvidia_cufft_cu12-11.0.2.54-py3-none-manylinux1_x86_64.whl (121.6 MB)\r\n",
      "\u001b[2K   \u001b[90m━━━━━━━━━━━━━━━━━━━━━━━━━━━━━━━━━━━━━━━━\u001b[0m \u001b[32m121.6/121.6 MB\u001b[0m \u001b[31m7.7 MB/s\u001b[0m eta \u001b[36m0:00:00\u001b[0m\r\n",
      "\u001b[?25hDownloading nvidia_curand_cu12-10.3.2.106-py3-none-manylinux1_x86_64.whl (56.5 MB)\r\n",
      "\u001b[2K   \u001b[90m━━━━━━━━━━━━━━━━━━━━━━━━━━━━━━━━━━━━━━━━\u001b[0m \u001b[32m56.5/56.5 MB\u001b[0m \u001b[31m3.4 MB/s\u001b[0m eta \u001b[36m0:00:00\u001b[0m\r\n",
      "\u001b[?25hDownloading nvidia_cusolver_cu12-11.4.5.107-py3-none-manylinux1_x86_64.whl (124.2 MB)\r\n",
      "\u001b[2K   \u001b[90m━━━━━━━━━━━━━━━━━━━━━━━━━━━━━━━━━━━━━━━━\u001b[0m \u001b[32m124.2/124.2 MB\u001b[0m \u001b[31m5.8 MB/s\u001b[0m eta \u001b[36m0:00:00\u001b[0m\r\n",
      "\u001b[?25hDownloading nvidia_cusparse_cu12-12.1.0.106-py3-none-manylinux1_x86_64.whl (196.0 MB)\r\n",
      "\u001b[2K   \u001b[90m━━━━━━━━━━━━━━━━━━━━━━━━━━━━━━━━━━━━━━━━\u001b[0m \u001b[32m196.0/196.0 MB\u001b[0m \u001b[31m8.7 MB/s\u001b[0m eta \u001b[36m0:00:00\u001b[0m\r\n",
      "\u001b[?25hDownloading nvidia_nccl_cu12-2.20.5-py3-none-manylinux2014_x86_64.whl (176.2 MB)\r\n",
      "\u001b[2K   \u001b[90m━━━━━━━━━━━━━━━━━━━━━━━━━━━━━━━━━━━━━━━━\u001b[0m \u001b[32m176.2/176.2 MB\u001b[0m \u001b[31m9.7 MB/s\u001b[0m eta \u001b[36m0:00:00\u001b[0m\r\n",
      "\u001b[?25hDownloading nvidia_nvtx_cu12-12.1.105-py3-none-manylinux1_x86_64.whl (99 kB)\r\n",
      "\u001b[2K   \u001b[90m━━━━━━━━━━━━━━━━━━━━━━━━━━━━━━━━━━━━━━━━\u001b[0m \u001b[32m99.1/99.1 kB\u001b[0m \u001b[31m5.5 MB/s\u001b[0m eta \u001b[36m0:00:00\u001b[0m\r\n",
      "\u001b[?25hDownloading triton-2.3.0-cp311-cp311-manylinux_2_17_x86_64.manylinux2014_x86_64.whl (168.1 MB)\r\n",
      "\u001b[2K   \u001b[90m━━━━━━━━━━━━━━━━━━━━━━━━━━━━━━━━━━━━━━━━\u001b[0m \u001b[32m168.1/168.1 MB\u001b[0m \u001b[31m10.2 MB/s\u001b[0m eta \u001b[36m0:00:00\u001b[0m\r\n",
      "\u001b[?25hInstalling collected packages: triton, nvidia-nvtx-cu12, nvidia-nccl-cu12, nvidia-cusparse-cu12, nvidia-curand-cu12, nvidia-cufft-cu12, nvidia-cuda-runtime-cu12, nvidia-cuda-nvrtc-cu12, nvidia-cuda-cupti-cu12, nvidia-cublas-cu12, nvidia-cusolver-cu12, nvidia-cudnn-cu12, torch\r\n",
      "  Attempting uninstall: triton\r\n",
      "    Found existing installation: triton 3.1.0\r\n",
      "    Uninstalling triton-3.1.0:\r\n",
      "      Successfully uninstalled triton-3.1.0\r\n",
      "  Attempting uninstall: nvidia-nvtx-cu12\r\n",
      "    Found existing installation: nvidia-nvtx-cu12 12.4.127\r\n",
      "    Uninstalling nvidia-nvtx-cu12-12.4.127:\r\n",
      "      Successfully uninstalled nvidia-nvtx-cu12-12.4.127\r\n",
      "  Attempting uninstall: nvidia-nccl-cu12\r\n",
      "    Found existing installation: nvidia-nccl-cu12 2.21.5\r\n",
      "    Uninstalling nvidia-nccl-cu12-2.21.5:\r\n",
      "      Successfully uninstalled nvidia-nccl-cu12-2.21.5\r\n",
      "  Attempting uninstall: nvidia-cusparse-cu12\r\n",
      "    Found existing installation: nvidia-cusparse-cu12 12.5.8.93\r\n",
      "    Uninstalling nvidia-cusparse-cu12-12.5.8.93:\r\n",
      "      Successfully uninstalled nvidia-cusparse-cu12-12.5.8.93\r\n",
      "  Attempting uninstall: nvidia-curand-cu12\r\n",
      "    Found existing installation: nvidia-curand-cu12 10.3.9.90\r\n",
      "    Uninstalling nvidia-curand-cu12-10.3.9.90:\r\n",
      "      Successfully uninstalled nvidia-curand-cu12-10.3.9.90\r\n",
      "  Attempting uninstall: nvidia-cufft-cu12\r\n",
      "    Found existing installation: nvidia-cufft-cu12 11.3.3.83\r\n",
      "    Uninstalling nvidia-cufft-cu12-11.3.3.83:\r\n",
      "      Successfully uninstalled nvidia-cufft-cu12-11.3.3.83\r\n",
      "  Attempting uninstall: nvidia-cuda-runtime-cu12\r\n",
      "    Found existing installation: nvidia-cuda-runtime-cu12 12.4.127\r\n",
      "    Uninstalling nvidia-cuda-runtime-cu12-12.4.127:\r\n",
      "      Successfully uninstalled nvidia-cuda-runtime-cu12-12.4.127\r\n",
      "  Attempting uninstall: nvidia-cuda-nvrtc-cu12\r\n",
      "    Found existing installation: nvidia-cuda-nvrtc-cu12 12.4.127\r\n",
      "    Uninstalling nvidia-cuda-nvrtc-cu12-12.4.127:\r\n",
      "      Successfully uninstalled nvidia-cuda-nvrtc-cu12-12.4.127\r\n",
      "  Attempting uninstall: nvidia-cuda-cupti-cu12\r\n",
      "    Found existing installation: nvidia-cuda-cupti-cu12 12.4.127\r\n",
      "    Uninstalling nvidia-cuda-cupti-cu12-12.4.127:\r\n",
      "      Successfully uninstalled nvidia-cuda-cupti-cu12-12.4.127\r\n",
      "  Attempting uninstall: nvidia-cublas-cu12\r\n",
      "    Found existing installation: nvidia-cublas-cu12 12.8.4.1\r\n",
      "    Uninstalling nvidia-cublas-cu12-12.8.4.1:\r\n",
      "      Successfully uninstalled nvidia-cublas-cu12-12.8.4.1\r\n",
      "  Attempting uninstall: nvidia-cusolver-cu12\r\n",
      "    Found existing installation: nvidia-cusolver-cu12 11.7.3.90\r\n",
      "    Uninstalling nvidia-cusolver-cu12-11.7.3.90:\r\n",
      "      Successfully uninstalled nvidia-cusolver-cu12-11.7.3.90\r\n",
      "  Attempting uninstall: nvidia-cudnn-cu12\r\n",
      "    Found existing installation: nvidia-cudnn-cu12 9.3.0.75\r\n",
      "    Uninstalling nvidia-cudnn-cu12-9.3.0.75:\r\n",
      "      Successfully uninstalled nvidia-cudnn-cu12-9.3.0.75\r\n",
      "  Attempting uninstall: torch\r\n",
      "    Found existing installation: torch 2.5.1+cu124\r\n",
      "    Uninstalling torch-2.5.1+cu124:\r\n",
      "      Successfully uninstalled torch-2.5.1+cu124\r\n",
      "\u001b[31mERROR: pip's dependency resolver does not currently take into account all the packages that are installed. This behaviour is the source of the following dependency conflicts.\r\n",
      "torchvision 0.20.1+cu124 requires torch==2.5.1, but you have torch 2.3.0 which is incompatible.\r\n",
      "torchaudio 2.5.1+cu124 requires torch==2.5.1, but you have torch 2.3.0 which is incompatible.\r\n",
      "pylibcugraph-cu12 24.12.0 requires pylibraft-cu12==24.12.*, but you have pylibraft-cu12 25.2.0 which is incompatible.\r\n",
      "pylibcugraph-cu12 24.12.0 requires rmm-cu12==24.12.*, but you have rmm-cu12 25.2.0 which is incompatible.\u001b[0m\u001b[31m\r\n",
      "\u001b[0mSuccessfully installed nvidia-cublas-cu12-12.1.3.1 nvidia-cuda-cupti-cu12-12.1.105 nvidia-cuda-nvrtc-cu12-12.1.105 nvidia-cuda-runtime-cu12-12.1.105 nvidia-cudnn-cu12-8.9.2.26 nvidia-cufft-cu12-11.0.2.54 nvidia-curand-cu12-10.3.2.106 nvidia-cusolver-cu12-11.4.5.107 nvidia-cusparse-cu12-12.1.0.106 nvidia-nccl-cu12-2.20.5 nvidia-nvtx-cu12-12.1.105 torch-2.3.0 triton-2.3.0\r\n",
      "Collecting torchtext==0.18\r\n",
      "  Downloading torchtext-0.18.0-cp311-cp311-manylinux1_x86_64.whl.metadata (7.9 kB)\r\n",
      "Requirement already satisfied: tqdm in /usr/local/lib/python3.11/dist-packages (from torchtext==0.18) (4.67.1)\r\n",
      "Requirement already satisfied: requests in /usr/local/lib/python3.11/dist-packages (from torchtext==0.18) (2.32.3)\r\n",
      "Requirement already satisfied: torch>=2.3.0 in /usr/local/lib/python3.11/dist-packages (from torchtext==0.18) (2.3.0)\r\n",
      "Requirement already satisfied: numpy in /usr/local/lib/python3.11/dist-packages (from torchtext==0.18) (1.26.4)\r\n",
      "Requirement already satisfied: filelock in /usr/local/lib/python3.11/dist-packages (from torch>=2.3.0->torchtext==0.18) (3.18.0)\r\n",
      "Requirement already satisfied: typing-extensions>=4.8.0 in /usr/local/lib/python3.11/dist-packages (from torch>=2.3.0->torchtext==0.18) (4.13.1)\r\n",
      "Requirement already satisfied: sympy in /usr/local/lib/python3.11/dist-packages (from torch>=2.3.0->torchtext==0.18) (1.13.1)\r\n",
      "Requirement already satisfied: networkx in /usr/local/lib/python3.11/dist-packages (from torch>=2.3.0->torchtext==0.18) (3.4.2)\r\n",
      "Requirement already satisfied: jinja2 in /usr/local/lib/python3.11/dist-packages (from torch>=2.3.0->torchtext==0.18) (3.1.6)\r\n",
      "Requirement already satisfied: fsspec in /usr/local/lib/python3.11/dist-packages (from torch>=2.3.0->torchtext==0.18) (2025.3.2)\r\n",
      "Requirement already satisfied: nvidia-cuda-nvrtc-cu12==12.1.105 in /usr/local/lib/python3.11/dist-packages (from torch>=2.3.0->torchtext==0.18) (12.1.105)\r\n",
      "Requirement already satisfied: nvidia-cuda-runtime-cu12==12.1.105 in /usr/local/lib/python3.11/dist-packages (from torch>=2.3.0->torchtext==0.18) (12.1.105)\r\n",
      "Requirement already satisfied: nvidia-cuda-cupti-cu12==12.1.105 in /usr/local/lib/python3.11/dist-packages (from torch>=2.3.0->torchtext==0.18) (12.1.105)\r\n",
      "Requirement already satisfied: nvidia-cudnn-cu12==8.9.2.26 in /usr/local/lib/python3.11/dist-packages (from torch>=2.3.0->torchtext==0.18) (8.9.2.26)\r\n",
      "Requirement already satisfied: nvidia-cublas-cu12==12.1.3.1 in /usr/local/lib/python3.11/dist-packages (from torch>=2.3.0->torchtext==0.18) (12.1.3.1)\r\n",
      "Requirement already satisfied: nvidia-cufft-cu12==11.0.2.54 in /usr/local/lib/python3.11/dist-packages (from torch>=2.3.0->torchtext==0.18) (11.0.2.54)\r\n",
      "Requirement already satisfied: nvidia-curand-cu12==10.3.2.106 in /usr/local/lib/python3.11/dist-packages (from torch>=2.3.0->torchtext==0.18) (10.3.2.106)\r\n",
      "Requirement already satisfied: nvidia-cusolver-cu12==11.4.5.107 in /usr/local/lib/python3.11/dist-packages (from torch>=2.3.0->torchtext==0.18) (11.4.5.107)\r\n",
      "Requirement already satisfied: nvidia-cusparse-cu12==12.1.0.106 in /usr/local/lib/python3.11/dist-packages (from torch>=2.3.0->torchtext==0.18) (12.1.0.106)\r\n",
      "Requirement already satisfied: nvidia-nccl-cu12==2.20.5 in /usr/local/lib/python3.11/dist-packages (from torch>=2.3.0->torchtext==0.18) (2.20.5)\r\n",
      "Requirement already satisfied: nvidia-nvtx-cu12==12.1.105 in /usr/local/lib/python3.11/dist-packages (from torch>=2.3.0->torchtext==0.18) (12.1.105)\r\n",
      "Requirement already satisfied: triton==2.3.0 in /usr/local/lib/python3.11/dist-packages (from torch>=2.3.0->torchtext==0.18) (2.3.0)\r\n",
      "Requirement already satisfied: nvidia-nvjitlink-cu12 in /usr/local/lib/python3.11/dist-packages (from nvidia-cusolver-cu12==11.4.5.107->torch>=2.3.0->torchtext==0.18) (12.8.93)\r\n",
      "Requirement already satisfied: mkl_fft in /usr/local/lib/python3.11/dist-packages (from numpy->torchtext==0.18) (1.3.8)\r\n",
      "Requirement already satisfied: mkl_random in /usr/local/lib/python3.11/dist-packages (from numpy->torchtext==0.18) (1.2.4)\r\n",
      "Requirement already satisfied: mkl_umath in /usr/local/lib/python3.11/dist-packages (from numpy->torchtext==0.18) (0.1.1)\r\n",
      "Requirement already satisfied: mkl in /usr/local/lib/python3.11/dist-packages (from numpy->torchtext==0.18) (2025.1.0)\r\n",
      "Requirement already satisfied: tbb4py in /usr/local/lib/python3.11/dist-packages (from numpy->torchtext==0.18) (2022.1.0)\r\n",
      "Requirement already satisfied: mkl-service in /usr/local/lib/python3.11/dist-packages (from numpy->torchtext==0.18) (2.4.1)\r\n",
      "Requirement already satisfied: charset-normalizer<4,>=2 in /usr/local/lib/python3.11/dist-packages (from requests->torchtext==0.18) (3.4.1)\r\n",
      "Requirement already satisfied: idna<4,>=2.5 in /usr/local/lib/python3.11/dist-packages (from requests->torchtext==0.18) (3.10)\r\n",
      "Requirement already satisfied: urllib3<3,>=1.21.1 in /usr/local/lib/python3.11/dist-packages (from requests->torchtext==0.18) (2.3.0)\r\n",
      "Requirement already satisfied: certifi>=2017.4.17 in /usr/local/lib/python3.11/dist-packages (from requests->torchtext==0.18) (2025.1.31)\r\n",
      "Requirement already satisfied: MarkupSafe>=2.0 in /usr/local/lib/python3.11/dist-packages (from jinja2->torch>=2.3.0->torchtext==0.18) (3.0.2)\r\n",
      "Requirement already satisfied: intel-openmp<2026,>=2024 in /usr/local/lib/python3.11/dist-packages (from mkl->numpy->torchtext==0.18) (2024.2.0)\r\n",
      "Requirement already satisfied: tbb==2022.* in /usr/local/lib/python3.11/dist-packages (from mkl->numpy->torchtext==0.18) (2022.1.0)\r\n",
      "Requirement already satisfied: tcmlib==1.* in /usr/local/lib/python3.11/dist-packages (from tbb==2022.*->mkl->numpy->torchtext==0.18) (1.2.0)\r\n",
      "Requirement already satisfied: intel-cmplr-lib-rt in /usr/local/lib/python3.11/dist-packages (from mkl_umath->numpy->torchtext==0.18) (2024.2.0)\r\n",
      "Requirement already satisfied: mpmath<1.4,>=1.1.0 in /usr/local/lib/python3.11/dist-packages (from sympy->torch>=2.3.0->torchtext==0.18) (1.3.0)\r\n",
      "Requirement already satisfied: intel-cmplr-lib-ur==2024.2.0 in /usr/local/lib/python3.11/dist-packages (from intel-openmp<2026,>=2024->mkl->numpy->torchtext==0.18) (2024.2.0)\r\n",
      "Downloading torchtext-0.18.0-cp311-cp311-manylinux1_x86_64.whl (2.0 MB)\r\n",
      "\u001b[2K   \u001b[90m━━━━━━━━━━━━━━━━━━━━━━━━━━━━━━━━━━━━━━━━\u001b[0m \u001b[32m2.0/2.0 MB\u001b[0m \u001b[31m3.6 MB/s\u001b[0m eta \u001b[36m0:00:00\u001b[0m\r\n",
      "\u001b[?25hInstalling collected packages: torchtext\r\n",
      "Successfully installed torchtext-0.18.0\r\n"
     ]
    }
   ],
   "source": [
    "!pip install -U torch==2.3.0\n",
    "!pip install -U torchtext==0.18"
   ]
  },
  {
   "cell_type": "code",
   "execution_count": 2,
   "id": "d4ad3f8b",
   "metadata": {
    "execution": {
     "iopub.execute_input": "2025-05-01T19:16:02.515508Z",
     "iopub.status.busy": "2025-05-01T19:16:02.515225Z",
     "iopub.status.idle": "2025-05-01T19:16:06.188151Z",
     "shell.execute_reply": "2025-05-01T19:16:06.187223Z"
    },
    "executionInfo": {
     "elapsed": 10032,
     "status": "ok",
     "timestamp": 1746116113911,
     "user": {
      "displayName": "Larry Addo KORLI",
      "userId": "13024330108174493901"
     },
     "user_tz": 0
    },
    "id": "moY2iv8QGHja",
    "outputId": "31b1eea7-2ab4-4b13-bf10-da6d26e65623",
    "papermill": {
     "duration": 3.729412,
     "end_time": "2025-05-01T19:16:06.189603",
     "exception": false,
     "start_time": "2025-05-01T19:16:02.460191",
     "status": "completed"
    },
    "tags": []
   },
   "outputs": [
    {
     "name": "stdout",
     "output_type": "stream",
     "text": [
      "Requirement already satisfied: datasets in /usr/local/lib/python3.11/dist-packages (3.5.0)\r\n",
      "Requirement already satisfied: filelock in /usr/local/lib/python3.11/dist-packages (from datasets) (3.18.0)\r\n",
      "Requirement already satisfied: numpy>=1.17 in /usr/local/lib/python3.11/dist-packages (from datasets) (1.26.4)\r\n",
      "Requirement already satisfied: pyarrow>=15.0.0 in /usr/local/lib/python3.11/dist-packages (from datasets) (19.0.1)\r\n",
      "Requirement already satisfied: dill<0.3.9,>=0.3.0 in /usr/local/lib/python3.11/dist-packages (from datasets) (0.3.8)\r\n",
      "Requirement already satisfied: pandas in /usr/local/lib/python3.11/dist-packages (from datasets) (2.2.3)\r\n",
      "Requirement already satisfied: requests>=2.32.2 in /usr/local/lib/python3.11/dist-packages (from datasets) (2.32.3)\r\n",
      "Requirement already satisfied: tqdm>=4.66.3 in /usr/local/lib/python3.11/dist-packages (from datasets) (4.67.1)\r\n",
      "Requirement already satisfied: xxhash in /usr/local/lib/python3.11/dist-packages (from datasets) (3.5.0)\r\n",
      "Requirement already satisfied: multiprocess<0.70.17 in /usr/local/lib/python3.11/dist-packages (from datasets) (0.70.16)\r\n",
      "Collecting fsspec<=2024.12.0,>=2023.1.0 (from fsspec[http]<=2024.12.0,>=2023.1.0->datasets)\r\n",
      "  Downloading fsspec-2024.12.0-py3-none-any.whl.metadata (11 kB)\r\n",
      "Requirement already satisfied: aiohttp in /usr/local/lib/python3.11/dist-packages (from datasets) (3.11.16)\r\n",
      "Requirement already satisfied: huggingface-hub>=0.24.0 in /usr/local/lib/python3.11/dist-packages (from datasets) (0.30.2)\r\n",
      "Requirement already satisfied: packaging in /usr/local/lib/python3.11/dist-packages (from datasets) (24.2)\r\n",
      "Requirement already satisfied: pyyaml>=5.1 in /usr/local/lib/python3.11/dist-packages (from datasets) (6.0.2)\r\n",
      "Requirement already satisfied: aiohappyeyeballs>=2.3.0 in /usr/local/lib/python3.11/dist-packages (from aiohttp->datasets) (2.6.1)\r\n",
      "Requirement already satisfied: aiosignal>=1.1.2 in /usr/local/lib/python3.11/dist-packages (from aiohttp->datasets) (1.3.2)\r\n",
      "Requirement already satisfied: attrs>=17.3.0 in /usr/local/lib/python3.11/dist-packages (from aiohttp->datasets) (25.3.0)\r\n",
      "Requirement already satisfied: frozenlist>=1.1.1 in /usr/local/lib/python3.11/dist-packages (from aiohttp->datasets) (1.5.0)\r\n",
      "Requirement already satisfied: multidict<7.0,>=4.5 in /usr/local/lib/python3.11/dist-packages (from aiohttp->datasets) (6.2.0)\r\n",
      "Requirement already satisfied: propcache>=0.2.0 in /usr/local/lib/python3.11/dist-packages (from aiohttp->datasets) (0.3.1)\r\n",
      "Requirement already satisfied: yarl<2.0,>=1.17.0 in /usr/local/lib/python3.11/dist-packages (from aiohttp->datasets) (1.19.0)\r\n",
      "Requirement already satisfied: typing-extensions>=3.7.4.3 in /usr/local/lib/python3.11/dist-packages (from huggingface-hub>=0.24.0->datasets) (4.13.1)\r\n",
      "Requirement already satisfied: mkl_fft in /usr/local/lib/python3.11/dist-packages (from numpy>=1.17->datasets) (1.3.8)\r\n",
      "Requirement already satisfied: mkl_random in /usr/local/lib/python3.11/dist-packages (from numpy>=1.17->datasets) (1.2.4)\r\n",
      "Requirement already satisfied: mkl_umath in /usr/local/lib/python3.11/dist-packages (from numpy>=1.17->datasets) (0.1.1)\r\n",
      "Requirement already satisfied: mkl in /usr/local/lib/python3.11/dist-packages (from numpy>=1.17->datasets) (2025.1.0)\r\n",
      "Requirement already satisfied: tbb4py in /usr/local/lib/python3.11/dist-packages (from numpy>=1.17->datasets) (2022.1.0)\r\n",
      "Requirement already satisfied: mkl-service in /usr/local/lib/python3.11/dist-packages (from numpy>=1.17->datasets) (2.4.1)\r\n",
      "Requirement already satisfied: charset-normalizer<4,>=2 in /usr/local/lib/python3.11/dist-packages (from requests>=2.32.2->datasets) (3.4.1)\r\n",
      "Requirement already satisfied: idna<4,>=2.5 in /usr/local/lib/python3.11/dist-packages (from requests>=2.32.2->datasets) (3.10)\r\n",
      "Requirement already satisfied: urllib3<3,>=1.21.1 in /usr/local/lib/python3.11/dist-packages (from requests>=2.32.2->datasets) (2.3.0)\r\n",
      "Requirement already satisfied: certifi>=2017.4.17 in /usr/local/lib/python3.11/dist-packages (from requests>=2.32.2->datasets) (2025.1.31)\r\n",
      "Requirement already satisfied: python-dateutil>=2.8.2 in /usr/local/lib/python3.11/dist-packages (from pandas->datasets) (2.9.0.post0)\r\n",
      "Requirement already satisfied: pytz>=2020.1 in /usr/local/lib/python3.11/dist-packages (from pandas->datasets) (2025.2)\r\n",
      "Requirement already satisfied: tzdata>=2022.7 in /usr/local/lib/python3.11/dist-packages (from pandas->datasets) (2025.2)\r\n",
      "Requirement already satisfied: six>=1.5 in /usr/local/lib/python3.11/dist-packages (from python-dateutil>=2.8.2->pandas->datasets) (1.17.0)\r\n",
      "Requirement already satisfied: intel-openmp<2026,>=2024 in /usr/local/lib/python3.11/dist-packages (from mkl->numpy>=1.17->datasets) (2024.2.0)\r\n",
      "Requirement already satisfied: tbb==2022.* in /usr/local/lib/python3.11/dist-packages (from mkl->numpy>=1.17->datasets) (2022.1.0)\r\n",
      "Requirement already satisfied: tcmlib==1.* in /usr/local/lib/python3.11/dist-packages (from tbb==2022.*->mkl->numpy>=1.17->datasets) (1.2.0)\r\n",
      "Requirement already satisfied: intel-cmplr-lib-rt in /usr/local/lib/python3.11/dist-packages (from mkl_umath->numpy>=1.17->datasets) (2024.2.0)\r\n",
      "Requirement already satisfied: intel-cmplr-lib-ur==2024.2.0 in /usr/local/lib/python3.11/dist-packages (from intel-openmp<2026,>=2024->mkl->numpy>=1.17->datasets) (2024.2.0)\r\n",
      "Downloading fsspec-2024.12.0-py3-none-any.whl (183 kB)\r\n",
      "\u001b[2K   \u001b[90m━━━━━━━━━━━━━━━━━━━━━━━━━━━━━━━━━━━━━━━━\u001b[0m \u001b[32m183.9/183.9 kB\u001b[0m \u001b[31m4.5 MB/s\u001b[0m eta \u001b[36m0:00:00\u001b[0m\r\n",
      "\u001b[?25hInstalling collected packages: fsspec\r\n",
      "  Attempting uninstall: fsspec\r\n",
      "    Found existing installation: fsspec 2025.3.2\r\n",
      "    Uninstalling fsspec-2025.3.2:\r\n",
      "      Successfully uninstalled fsspec-2025.3.2\r\n",
      "\u001b[31mERROR: pip's dependency resolver does not currently take into account all the packages that are installed. This behaviour is the source of the following dependency conflicts.\r\n",
      "gcsfs 2024.10.0 requires fsspec==2024.10.0, but you have fsspec 2024.12.0 which is incompatible.\r\n",
      "bigframes 1.36.0 requires rich<14,>=12.4.4, but you have rich 14.0.0 which is incompatible.\r\n",
      "torchvision 0.20.1+cu124 requires torch==2.5.1, but you have torch 2.3.0 which is incompatible.\r\n",
      "torchaudio 2.5.1+cu124 requires torch==2.5.1, but you have torch 2.3.0 which is incompatible.\u001b[0m\u001b[31m\r\n",
      "\u001b[0mSuccessfully installed fsspec-2024.12.0\r\n"
     ]
    }
   ],
   "source": [
    "!pip install datasets"
   ]
  },
  {
   "cell_type": "code",
   "execution_count": 3,
   "id": "cbe1a13e",
   "metadata": {
    "execution": {
     "iopub.execute_input": "2025-05-01T19:16:06.302262Z",
     "iopub.status.busy": "2025-05-01T19:16:06.302002Z",
     "iopub.status.idle": "2025-05-01T19:16:08.074119Z",
     "shell.execute_reply": "2025-05-01T19:16:08.073569Z"
    },
    "executionInfo": {
     "elapsed": 3666,
     "status": "ok",
     "timestamp": 1746116117579,
     "user": {
      "displayName": "Larry Addo KORLI",
      "userId": "13024330108174493901"
     },
     "user_tz": 0
    },
    "id": "07Wk6je_DDyH",
    "papermill": {
     "duration": 1.829608,
     "end_time": "2025-05-01T19:16:08.075551",
     "exception": false,
     "start_time": "2025-05-01T19:16:06.245943",
     "status": "completed"
    },
    "tags": []
   },
   "outputs": [],
   "source": [
    "import collections\n",
    "#import datasets -> not  found\n",
    "import matplotlib.pyplot as plt\n",
    "import torch\n",
    "import numpy as np\n",
    "import torch.nn as nn\n",
    "import torch.optim as optim\n",
    "import tqdm\n",
    "import torchtext"
   ]
  },
  {
   "cell_type": "code",
   "execution_count": 4,
   "id": "089edb13",
   "metadata": {
    "execution": {
     "iopub.execute_input": "2025-05-01T19:16:08.187681Z",
     "iopub.status.busy": "2025-05-01T19:16:08.187334Z",
     "iopub.status.idle": "2025-05-01T19:16:08.191442Z",
     "shell.execute_reply": "2025-05-01T19:16:08.190598Z"
    },
    "executionInfo": {
     "elapsed": 13,
     "status": "ok",
     "timestamp": 1746116117596,
     "user": {
      "displayName": "Larry Addo KORLI",
      "userId": "13024330108174493901"
     },
     "user_tz": 0
    },
    "id": "TLypCgaaFl0o",
    "outputId": "c1cf8be8-b01e-4849-ae42-ee40d917dc9a",
    "papermill": {
     "duration": 0.061158,
     "end_time": "2025-05-01T19:16:08.192550",
     "exception": false,
     "start_time": "2025-05-01T19:16:08.131392",
     "status": "completed"
    },
    "tags": []
   },
   "outputs": [
    {
     "name": "stdout",
     "output_type": "stream",
     "text": [
      "2.3.0+cu121\n"
     ]
    }
   ],
   "source": [
    "print(torch.__version__)"
   ]
  },
  {
   "cell_type": "code",
   "execution_count": 5,
   "id": "cfeb8ef2",
   "metadata": {
    "execution": {
     "iopub.execute_input": "2025-05-01T19:16:08.302038Z",
     "iopub.status.busy": "2025-05-01T19:16:08.301823Z",
     "iopub.status.idle": "2025-05-01T19:16:11.424630Z",
     "shell.execute_reply": "2025-05-01T19:16:11.424057Z"
    },
    "executionInfo": {
     "elapsed": 5694,
     "status": "ok",
     "timestamp": 1746116123301,
     "user": {
      "displayName": "Larry Addo KORLI",
      "userId": "13024330108174493901"
     },
     "user_tz": 0
    },
    "id": "1k9Obm3MGOi3",
    "papermill": {
     "duration": 3.178716,
     "end_time": "2025-05-01T19:16:11.426027",
     "exception": false,
     "start_time": "2025-05-01T19:16:08.247311",
     "status": "completed"
    },
    "tags": []
   },
   "outputs": [],
   "source": [
    "import datasets"
   ]
  },
  {
   "cell_type": "code",
   "execution_count": 6,
   "id": "5438417c",
   "metadata": {
    "execution": {
     "iopub.execute_input": "2025-05-01T19:16:11.537448Z",
     "iopub.status.busy": "2025-05-01T19:16:11.536985Z",
     "iopub.status.idle": "2025-05-01T19:16:11.542511Z",
     "shell.execute_reply": "2025-05-01T19:16:11.541965Z"
    },
    "executionInfo": {
     "elapsed": 17,
     "status": "ok",
     "timestamp": 1746116123304,
     "user": {
      "displayName": "Larry Addo KORLI",
      "userId": "13024330108174493901"
     },
     "user_tz": 0
    },
    "id": "oBJRh-qjGTkK",
    "outputId": "3b3e9980-263c-42dc-f2a2-48311cd1f4d2",
    "papermill": {
     "duration": 0.062164,
     "end_time": "2025-05-01T19:16:11.543704",
     "exception": false,
     "start_time": "2025-05-01T19:16:11.481540",
     "status": "completed"
    },
    "tags": []
   },
   "outputs": [],
   "source": [
    "seed = 1234\n",
    "\n",
    "np.random.seed(seed)\n",
    "torch.manual_seed(seed)\n",
    "torch.cuda.manual_seed(seed)\n",
    "torch.backends.cudnn.deterministic = True"
   ]
  },
  {
   "cell_type": "markdown",
   "id": "f5b65f31",
   "metadata": {
    "id": "eFaquNeQG725",
    "papermill": {
     "duration": 0.054992,
     "end_time": "2025-05-01T19:16:11.654159",
     "exception": false,
     "start_time": "2025-05-01T19:16:11.599167",
     "status": "completed"
    },
    "tags": []
   },
   "source": [
    "###Loading dataset"
   ]
  },
  {
   "cell_type": "code",
   "execution_count": 7,
   "id": "c51635d4",
   "metadata": {
    "execution": {
     "iopub.execute_input": "2025-05-01T19:16:11.765190Z",
     "iopub.status.busy": "2025-05-01T19:16:11.764712Z",
     "iopub.status.idle": "2025-05-01T19:16:16.456257Z",
     "shell.execute_reply": "2025-05-01T19:16:16.455662Z"
    },
    "executionInfo": {
     "elapsed": 7585,
     "status": "ok",
     "timestamp": 1746116130883,
     "user": {
      "displayName": "Larry Addo KORLI",
      "userId": "13024330108174493901"
     },
     "user_tz": 0
    },
    "id": "b-mh6TkPGlwH",
    "outputId": "21d4e62d-ce49-4206-87c6-79bdbe923ac0",
    "papermill": {
     "duration": 4.747872,
     "end_time": "2025-05-01T19:16:16.457411",
     "exception": false,
     "start_time": "2025-05-01T19:16:11.709539",
     "status": "completed"
    },
    "tags": []
   },
   "outputs": [
    {
     "data": {
      "application/vnd.jupyter.widget-view+json": {
       "model_id": "21f41a83740049bcb7d1633a4554d578",
       "version_major": 2,
       "version_minor": 0
      },
      "text/plain": [
       "README.md:   0%|          | 0.00/7.81k [00:00<?, ?B/s]"
      ]
     },
     "metadata": {},
     "output_type": "display_data"
    },
    {
     "data": {
      "application/vnd.jupyter.widget-view+json": {
       "model_id": "6edbabb88da948cd9ef2e119a7705813",
       "version_major": 2,
       "version_minor": 0
      },
      "text/plain": [
       "train-00000-of-00001.parquet:   0%|          | 0.00/21.0M [00:00<?, ?B/s]"
      ]
     },
     "metadata": {},
     "output_type": "display_data"
    },
    {
     "data": {
      "application/vnd.jupyter.widget-view+json": {
       "model_id": "b711f7b19ada43f6a9138a2a0b109d3b",
       "version_major": 2,
       "version_minor": 0
      },
      "text/plain": [
       "test-00000-of-00001.parquet:   0%|          | 0.00/20.5M [00:00<?, ?B/s]"
      ]
     },
     "metadata": {},
     "output_type": "display_data"
    },
    {
     "data": {
      "application/vnd.jupyter.widget-view+json": {
       "model_id": "899199cb215342aa98892240cfc8f97b",
       "version_major": 2,
       "version_minor": 0
      },
      "text/plain": [
       "unsupervised-00000-of-00001.parquet:   0%|          | 0.00/42.0M [00:00<?, ?B/s]"
      ]
     },
     "metadata": {},
     "output_type": "display_data"
    },
    {
     "data": {
      "application/vnd.jupyter.widget-view+json": {
       "model_id": "4a55ccf40daf4a5f8b2fb1f75543df3a",
       "version_major": 2,
       "version_minor": 0
      },
      "text/plain": [
       "Generating train split:   0%|          | 0/25000 [00:00<?, ? examples/s]"
      ]
     },
     "metadata": {},
     "output_type": "display_data"
    },
    {
     "data": {
      "application/vnd.jupyter.widget-view+json": {
       "model_id": "0180419277144c4bad1715749fa8b7c1",
       "version_major": 2,
       "version_minor": 0
      },
      "text/plain": [
       "Generating test split:   0%|          | 0/25000 [00:00<?, ? examples/s]"
      ]
     },
     "metadata": {},
     "output_type": "display_data"
    },
    {
     "data": {
      "application/vnd.jupyter.widget-view+json": {
       "model_id": "3b63a753e6b0490bbc8688d30eff5c92",
       "version_major": 2,
       "version_minor": 0
      },
      "text/plain": [
       "Generating unsupervised split:   0%|          | 0/50000 [00:00<?, ? examples/s]"
      ]
     },
     "metadata": {},
     "output_type": "display_data"
    },
    {
     "data": {
      "text/plain": [
       "(Dataset({\n",
       "     features: ['text', 'label'],\n",
       "     num_rows: 25000\n",
       " }),\n",
       " Dataset({\n",
       "     features: ['text', 'label'],\n",
       "     num_rows: 25000\n",
       " }))"
      ]
     },
     "execution_count": 7,
     "metadata": {},
     "output_type": "execute_result"
    }
   ],
   "source": [
    "train,test = datasets.load_dataset('imdb',split=['train','test'])\n",
    "train,test"
   ]
  },
  {
   "cell_type": "code",
   "execution_count": 8,
   "id": "b4d8e799",
   "metadata": {
    "execution": {
     "iopub.execute_input": "2025-05-01T19:16:16.572032Z",
     "iopub.status.busy": "2025-05-01T19:16:16.571379Z",
     "iopub.status.idle": "2025-05-01T19:16:16.575995Z",
     "shell.execute_reply": "2025-05-01T19:16:16.575454Z"
    },
    "executionInfo": {
     "elapsed": 98,
     "status": "ok",
     "timestamp": 1746116130983,
     "user": {
      "displayName": "Larry Addo KORLI",
      "userId": "13024330108174493901"
     },
     "user_tz": 0
    },
    "id": "7hjfshTPHV3Z",
    "outputId": "0a652fa9-dda7-4488-97de-3077358fb731",
    "papermill": {
     "duration": 0.06172,
     "end_time": "2025-05-01T19:16:16.576934",
     "exception": false,
     "start_time": "2025-05-01T19:16:16.515214",
     "status": "completed"
    },
    "tags": []
   },
   "outputs": [
    {
     "data": {
      "text/plain": [
       "{'text': Value(dtype='string', id=None),\n",
       " 'label': ClassLabel(names=['neg', 'pos'], id=None)}"
      ]
     },
     "execution_count": 8,
     "metadata": {},
     "output_type": "execute_result"
    }
   ],
   "source": [
    "train.features"
   ]
  },
  {
   "cell_type": "code",
   "execution_count": 9,
   "id": "bebcdfbd",
   "metadata": {
    "execution": {
     "iopub.execute_input": "2025-05-01T19:16:16.687597Z",
     "iopub.status.busy": "2025-05-01T19:16:16.687400Z",
     "iopub.status.idle": "2025-05-01T19:16:16.694435Z",
     "shell.execute_reply": "2025-05-01T19:16:16.693738Z"
    },
    "executionInfo": {
     "elapsed": 92,
     "status": "ok",
     "timestamp": 1746116130986,
     "user": {
      "displayName": "Larry Addo KORLI",
      "userId": "13024330108174493901"
     },
     "user_tz": 0
    },
    "id": "0R1Q6p4-Hn6C",
    "outputId": "499a2e3e-4cdd-4fcb-d84e-5b6dae3d9a9c",
    "papermill": {
     "duration": 0.063745,
     "end_time": "2025-05-01T19:16:16.695661",
     "exception": false,
     "start_time": "2025-05-01T19:16:16.631916",
     "status": "completed"
    },
    "tags": []
   },
   "outputs": [
    {
     "data": {
      "text/plain": [
       "{'text': 'I rented I AM CURIOUS-YELLOW from my video store because of all the controversy that surrounded it when it was first released in 1967. I also heard that at first it was seized by U.S. customs if it ever tried to enter this country, therefore being a fan of films considered \"controversial\" I really had to see this for myself.<br /><br />The plot is centered around a young Swedish drama student named Lena who wants to learn everything she can about life. In particular she wants to focus her attentions to making some sort of documentary on what the average Swede thought about certain political issues such as the Vietnam War and race issues in the United States. In between asking politicians and ordinary denizens of Stockholm about their opinions on politics, she has sex with her drama teacher, classmates, and married men.<br /><br />What kills me about I AM CURIOUS-YELLOW is that 40 years ago, this was considered pornographic. Really, the sex and nudity scenes are few and far between, even then it\\'s not shot like some cheaply made porno. While my countrymen mind find it shocking, in reality sex and nudity are a major staple in Swedish cinema. Even Ingmar Bergman, arguably their answer to good old boy John Ford, had sex scenes in his films.<br /><br />I do commend the filmmakers for the fact that any sex shown in the film is shown for artistic purposes rather than just to shock people and make money to be shown in pornographic theaters in America. I AM CURIOUS-YELLOW is a good film for anyone wanting to study the meat and potatoes (no pun intended) of Swedish cinema. But really, this film doesn\\'t have much of a plot.',\n",
       " 'label': 0}"
      ]
     },
     "execution_count": 9,
     "metadata": {},
     "output_type": "execute_result"
    }
   ],
   "source": [
    "train[0]"
   ]
  },
  {
   "cell_type": "markdown",
   "id": "26bf7678",
   "metadata": {
    "id": "KfjTYa0JH0IT",
    "papermill": {
     "duration": 0.054826,
     "end_time": "2025-05-01T19:16:16.805684",
     "exception": false,
     "start_time": "2025-05-01T19:16:16.750858",
     "status": "completed"
    },
    "tags": []
   },
   "source": [
    "###Tokenization"
   ]
  },
  {
   "cell_type": "code",
   "execution_count": 10,
   "id": "1f4dddb3",
   "metadata": {
    "execution": {
     "iopub.execute_input": "2025-05-01T19:16:16.917103Z",
     "iopub.status.busy": "2025-05-01T19:16:16.916865Z",
     "iopub.status.idle": "2025-05-01T19:16:16.924042Z",
     "shell.execute_reply": "2025-05-01T19:16:16.923337Z"
    },
    "executionInfo": {
     "elapsed": 54,
     "status": "ok",
     "timestamp": 1746116130987,
     "user": {
      "displayName": "Larry Addo KORLI",
      "userId": "13024330108174493901"
     },
     "user_tz": 0
    },
    "id": "9JC_UslZXjgi",
    "outputId": "7855c0d0-0223-4d34-9816-44b0818cb06c",
    "papermill": {
     "duration": 0.063812,
     "end_time": "2025-05-01T19:16:16.925095",
     "exception": false,
     "start_time": "2025-05-01T19:16:16.861283",
     "status": "completed"
    },
    "tags": []
   },
   "outputs": [
    {
     "name": "stderr",
     "output_type": "stream",
     "text": [
      "/usr/local/lib/python3.11/dist-packages/torchtext/data/__init__.py:4: UserWarning: \n",
      "/!\\ IMPORTANT WARNING ABOUT TORCHTEXT STATUS /!\\ \n",
      "Torchtext is deprecated and the last released version will be 0.18 (this one). You can silence this warning by calling the following at the beginnign of your scripts: `import torchtext; torchtext.disable_torchtext_deprecation_warning()`\n",
      "  warnings.warn(torchtext._TORCHTEXT_DEPRECATION_MSG)\n"
     ]
    },
    {
     "data": {
      "text/plain": [
       "['i', 'am', 'a', 'boy']"
      ]
     },
     "execution_count": 10,
     "metadata": {},
     "output_type": "execute_result"
    }
   ],
   "source": [
    "from torchtext.data import get_tokenizer\n",
    "tokenizer = get_tokenizer('basic_english')\n",
    "tokens = tokenizer('i am a boy')\n",
    "tokens"
   ]
  },
  {
   "cell_type": "code",
   "execution_count": 11,
   "id": "5874ce18",
   "metadata": {
    "execution": {
     "iopub.execute_input": "2025-05-01T19:16:17.036001Z",
     "iopub.status.busy": "2025-05-01T19:16:17.035791Z",
     "iopub.status.idle": "2025-05-01T19:16:27.887087Z",
     "shell.execute_reply": "2025-05-01T19:16:27.886416Z"
    },
    "executionInfo": {
     "elapsed": 15911,
     "status": "ok",
     "timestamp": 1746116146852,
     "user": {
      "displayName": "Larry Addo KORLI",
      "userId": "13024330108174493901"
     },
     "user_tz": 0
    },
    "id": "yS9gU-SQXjdR",
    "outputId": "fae43c0f-2ac7-47ee-f4ad-c32bca6226e9",
    "papermill": {
     "duration": 10.908097,
     "end_time": "2025-05-01T19:16:27.888261",
     "exception": false,
     "start_time": "2025-05-01T19:16:16.980164",
     "status": "completed"
    },
    "tags": []
   },
   "outputs": [
    {
     "data": {
      "application/vnd.jupyter.widget-view+json": {
       "model_id": "07b2cba2bafc4cdb89834f8b48c7c012",
       "version_major": 2,
       "version_minor": 0
      },
      "text/plain": [
       "Map:   0%|          | 0/25000 [00:00<?, ? examples/s]"
      ]
     },
     "metadata": {},
     "output_type": "display_data"
    },
    {
     "data": {
      "application/vnd.jupyter.widget-view+json": {
       "model_id": "3bf43d96998d4b93ba98d39620e66fc7",
       "version_major": 2,
       "version_minor": 0
      },
      "text/plain": [
       "Map:   0%|          | 0/25000 [00:00<?, ? examples/s]"
      ]
     },
     "metadata": {},
     "output_type": "display_data"
    }
   ],
   "source": [
    "def tokenizer_ex(example,tokenizer,max_length):\n",
    "  tokens = tokenizer(example['text'])[:max_length]\n",
    "  return {'tokens':tokens}\n",
    "max_length = 256\n",
    "train = train.map(tokenizer_ex,fn_kwargs={'tokenizer':tokenizer,'max_length':max_length})\n",
    "test = test.map(tokenizer_ex,fn_kwargs={'tokenizer':tokenizer,'max_length':max_length})"
   ]
  },
  {
   "cell_type": "code",
   "execution_count": 12,
   "id": "ccaa4c32",
   "metadata": {
    "execution": {
     "iopub.execute_input": "2025-05-01T19:16:28.003069Z",
     "iopub.status.busy": "2025-05-01T19:16:28.002835Z",
     "iopub.status.idle": "2025-05-01T19:16:28.007103Z",
     "shell.execute_reply": "2025-05-01T19:16:28.006471Z"
    },
    "executionInfo": {
     "elapsed": 25,
     "status": "ok",
     "timestamp": 1746116146902,
     "user": {
      "displayName": "Larry Addo KORLI",
      "userId": "13024330108174493901"
     },
     "user_tz": 0
    },
    "id": "hv8Lwi5uXjZC",
    "outputId": "5fcf900a-9e38-4a3a-b620-976668d22b0a",
    "papermill": {
     "duration": 0.062658,
     "end_time": "2025-05-01T19:16:28.008270",
     "exception": false,
     "start_time": "2025-05-01T19:16:27.945612",
     "status": "completed"
    },
    "tags": []
   },
   "outputs": [
    {
     "data": {
      "text/plain": [
       "Dataset({\n",
       "    features: ['text', 'label', 'tokens'],\n",
       "    num_rows: 25000\n",
       "})"
      ]
     },
     "execution_count": 12,
     "metadata": {},
     "output_type": "execute_result"
    }
   ],
   "source": [
    "train"
   ]
  },
  {
   "cell_type": "code",
   "execution_count": 13,
   "id": "1b64cd25",
   "metadata": {
    "execution": {
     "iopub.execute_input": "2025-05-01T19:16:28.121830Z",
     "iopub.status.busy": "2025-05-01T19:16:28.121214Z",
     "iopub.status.idle": "2025-05-01T19:16:28.125886Z",
     "shell.execute_reply": "2025-05-01T19:16:28.125344Z"
    },
    "executionInfo": {
     "elapsed": 32,
     "status": "ok",
     "timestamp": 1746116146935,
     "user": {
      "displayName": "Larry Addo KORLI",
      "userId": "13024330108174493901"
     },
     "user_tz": 0
    },
    "id": "SsE1snxiXjVM",
    "outputId": "8fe8b805-6440-4813-c9b2-24b9d3624c03",
    "papermill": {
     "duration": 0.062498,
     "end_time": "2025-05-01T19:16:28.127117",
     "exception": false,
     "start_time": "2025-05-01T19:16:28.064619",
     "status": "completed"
    },
    "tags": []
   },
   "outputs": [
    {
     "data": {
      "text/plain": [
       "{'text': Value(dtype='string', id=None),\n",
       " 'label': ClassLabel(names=['neg', 'pos'], id=None),\n",
       " 'tokens': Sequence(feature=Value(dtype='string', id=None), length=-1, id=None)}"
      ]
     },
     "execution_count": 13,
     "metadata": {},
     "output_type": "execute_result"
    }
   ],
   "source": [
    "train.features"
   ]
  },
  {
   "cell_type": "code",
   "execution_count": 14,
   "id": "34eb1014",
   "metadata": {
    "execution": {
     "iopub.execute_input": "2025-05-01T19:16:28.239456Z",
     "iopub.status.busy": "2025-05-01T19:16:28.239133Z",
     "iopub.status.idle": "2025-05-01T19:16:32.613880Z",
     "shell.execute_reply": "2025-05-01T19:16:32.613218Z"
    },
    "executionInfo": {
     "elapsed": 6113,
     "status": "ok",
     "timestamp": 1746116153052,
     "user": {
      "displayName": "Larry Addo KORLI",
      "userId": "13024330108174493901"
     },
     "user_tz": 0
    },
    "id": "b0NWzaduXjSI",
    "outputId": "f2c8f598-4d93-4e58-c99b-b1648479cfcb",
    "papermill": {
     "duration": 4.432024,
     "end_time": "2025-05-01T19:16:32.614951",
     "exception": false,
     "start_time": "2025-05-01T19:16:28.182927",
     "status": "completed"
    },
    "tags": []
   },
   "outputs": [
    {
     "data": {
      "text/plain": [
       "['i',\n",
       " 'rented',\n",
       " 'i',\n",
       " 'am',\n",
       " 'curious-yellow',\n",
       " 'from',\n",
       " 'my',\n",
       " 'video',\n",
       " 'store',\n",
       " 'because',\n",
       " 'of',\n",
       " 'all',\n",
       " 'the',\n",
       " 'controversy',\n",
       " 'that',\n",
       " 'surrounded',\n",
       " 'it',\n",
       " 'when',\n",
       " 'it',\n",
       " 'was',\n",
       " 'first',\n",
       " 'released',\n",
       " 'in',\n",
       " '1967',\n",
       " '.']"
      ]
     },
     "execution_count": 14,
     "metadata": {},
     "output_type": "execute_result"
    }
   ],
   "source": [
    "train['tokens'][0][:25]"
   ]
  },
  {
   "cell_type": "code",
   "execution_count": 15,
   "id": "05260339",
   "metadata": {
    "execution": {
     "iopub.execute_input": "2025-05-01T19:16:32.729588Z",
     "iopub.status.busy": "2025-05-01T19:16:32.729343Z",
     "iopub.status.idle": "2025-05-01T19:16:32.752063Z",
     "shell.execute_reply": "2025-05-01T19:16:32.751338Z"
    },
    "executionInfo": {
     "elapsed": 16,
     "status": "ok",
     "timestamp": 1746116153054,
     "user": {
      "displayName": "Larry Addo KORLI",
      "userId": "13024330108174493901"
     },
     "user_tz": 0
    },
    "id": "sGr22jmCbwkG",
    "papermill": {
     "duration": 0.080745,
     "end_time": "2025-05-01T19:16:32.753151",
     "exception": false,
     "start_time": "2025-05-01T19:16:32.672406",
     "status": "completed"
    },
    "tags": []
   },
   "outputs": [],
   "source": [
    "train_valid_data = train.train_test_split(test_size=0.25)\n",
    "train = train_valid_data['train']\n",
    "valid = train_valid_data['test']"
   ]
  },
  {
   "cell_type": "code",
   "execution_count": 16,
   "id": "16451fdb",
   "metadata": {
    "execution": {
     "iopub.execute_input": "2025-05-01T19:16:32.868412Z",
     "iopub.status.busy": "2025-05-01T19:16:32.868164Z",
     "iopub.status.idle": "2025-05-01T19:16:32.872999Z",
     "shell.execute_reply": "2025-05-01T19:16:32.872342Z"
    },
    "executionInfo": {
     "elapsed": 19,
     "status": "ok",
     "timestamp": 1746116153069,
     "user": {
      "displayName": "Larry Addo KORLI",
      "userId": "13024330108174493901"
     },
     "user_tz": 0
    },
    "id": "eBr_l1ksbwhE",
    "outputId": "bab873fe-ab53-4c34-8ede-842af6f43946",
    "papermill": {
     "duration": 0.063893,
     "end_time": "2025-05-01T19:16:32.874460",
     "exception": false,
     "start_time": "2025-05-01T19:16:32.810567",
     "status": "completed"
    },
    "tags": []
   },
   "outputs": [
    {
     "data": {
      "text/plain": [
       "(18750, 6250, 25000)"
      ]
     },
     "execution_count": 16,
     "metadata": {},
     "output_type": "execute_result"
    }
   ],
   "source": [
    "len(train),len(valid),len(test)"
   ]
  },
  {
   "cell_type": "code",
   "execution_count": 17,
   "id": "946db936",
   "metadata": {
    "execution": {
     "iopub.execute_input": "2025-05-01T19:16:32.989342Z",
     "iopub.status.busy": "2025-05-01T19:16:32.988322Z",
     "iopub.status.idle": "2025-05-01T19:16:32.993858Z",
     "shell.execute_reply": "2025-05-01T19:16:32.993156Z"
    },
    "executionInfo": {
     "elapsed": 3,
     "status": "ok",
     "timestamp": 1746116153073,
     "user": {
      "displayName": "Larry Addo KORLI",
      "userId": "13024330108174493901"
     },
     "user_tz": 0
    },
    "id": "CZPswtJpIfRX",
    "papermill": {
     "duration": 0.062965,
     "end_time": "2025-05-01T19:16:32.995087",
     "exception": false,
     "start_time": "2025-05-01T19:16:32.932122",
     "status": "completed"
    },
    "tags": []
   },
   "outputs": [],
   "source": [
    "#manaul vocab\n",
    "def build_vocab(dataset):\n",
    "  idx = 2\n",
    "  word2idx = {'unk':0,\n",
    "              '<PAD>':1}\n",
    "\n",
    "  for  i in range(len(dataset)):\n",
    "    text = train[i]['text']\n",
    "    tokens = text.lower().split()\n",
    "    for w in tokens:\n",
    "      if w not in word2idx:\n",
    "        word2idx[w] = idx\n",
    "        idx += 1\n",
    "  return   word2idx"
   ]
  },
  {
   "cell_type": "code",
   "execution_count": 18,
   "id": "2f9b8636",
   "metadata": {
    "execution": {
     "iopub.execute_input": "2025-05-01T19:16:33.134485Z",
     "iopub.status.busy": "2025-05-01T19:16:33.134031Z",
     "iopub.status.idle": "2025-05-01T19:16:38.498532Z",
     "shell.execute_reply": "2025-05-01T19:16:38.497939Z"
    },
    "executionInfo": {
     "elapsed": 8437,
     "status": "ok",
     "timestamp": 1746116161512,
     "user": {
      "displayName": "Larry Addo KORLI",
      "userId": "13024330108174493901"
     },
     "user_tz": 0
    },
    "id": "BEXsAn0pMAlp",
    "papermill": {
     "duration": 5.422826,
     "end_time": "2025-05-01T19:16:38.499788",
     "exception": false,
     "start_time": "2025-05-01T19:16:33.076962",
     "status": "completed"
    },
    "tags": []
   },
   "outputs": [],
   "source": [
    "vocab_manual = build_vocab(train)\n"
   ]
  },
  {
   "cell_type": "code",
   "execution_count": 19,
   "id": "61856206",
   "metadata": {
    "execution": {
     "iopub.execute_input": "2025-05-01T19:16:38.657441Z",
     "iopub.status.busy": "2025-05-01T19:16:38.657055Z",
     "iopub.status.idle": "2025-05-01T19:16:38.701811Z",
     "shell.execute_reply": "2025-05-01T19:16:38.701224Z"
    },
    "executionInfo": {
     "elapsed": 43,
     "status": "ok",
     "timestamp": 1746116161568,
     "user": {
      "displayName": "Larry Addo KORLI",
      "userId": "13024330108174493901"
     },
     "user_tz": 0
    },
    "id": "gQm0sUong3Ei",
    "outputId": "65975723-90d3-4952-ebb7-40bf2435dff8",
    "papermill": {
     "duration": 0.102956,
     "end_time": "2025-05-01T19:16:38.702807",
     "exception": false,
     "start_time": "2025-05-01T19:16:38.599851",
     "status": "completed"
    },
    "tags": []
   },
   "outputs": [
    {
     "data": {
      "text/plain": [
       "[('unk', 0), ('<PAD>', 1), ('look,', 2)]"
      ]
     },
     "execution_count": 19,
     "metadata": {},
     "output_type": "execute_result"
    }
   ],
   "source": [
    "list(vocab_manual.items())[:3]"
   ]
  },
  {
   "cell_type": "code",
   "execution_count": 20,
   "id": "488a4883",
   "metadata": {
    "execution": {
     "iopub.execute_input": "2025-05-01T19:16:38.816411Z",
     "iopub.status.busy": "2025-05-01T19:16:38.816145Z",
     "iopub.status.idle": "2025-05-01T19:16:38.820282Z",
     "shell.execute_reply": "2025-05-01T19:16:38.819778Z"
    },
    "executionInfo": {
     "elapsed": 22,
     "status": "ok",
     "timestamp": 1746116161609,
     "user": {
      "displayName": "Larry Addo KORLI",
      "userId": "13024330108174493901"
     },
     "user_tz": 0
    },
    "id": "j8dADNYvbwd1",
    "outputId": "63bbf169-d1fb-4c42-c264-5165761815bc",
    "papermill": {
     "duration": 0.061233,
     "end_time": "2025-05-01T19:16:38.821284",
     "exception": false,
     "start_time": "2025-05-01T19:16:38.760051",
     "status": "completed"
    },
    "tags": []
   },
   "outputs": [
    {
     "data": {
      "text/plain": [
       "211350"
      ]
     },
     "execution_count": 20,
     "metadata": {},
     "output_type": "execute_result"
    }
   ],
   "source": [
    "len(vocab_manual)"
   ]
  },
  {
   "cell_type": "code",
   "execution_count": 21,
   "id": "d0d7b45e",
   "metadata": {
    "execution": {
     "iopub.execute_input": "2025-05-01T19:16:38.941606Z",
     "iopub.status.busy": "2025-05-01T19:16:38.941371Z",
     "iopub.status.idle": "2025-05-01T19:16:43.061351Z",
     "shell.execute_reply": "2025-05-01T19:16:43.060422Z"
    },
    "executionInfo": {
     "elapsed": 5382,
     "status": "ok",
     "timestamp": 1746116166993,
     "user": {
      "displayName": "Larry Addo KORLI",
      "userId": "13024330108174493901"
     },
     "user_tz": 0
    },
    "id": "-o1LPUmRbwae",
    "outputId": "e635aa5b-41ee-433a-b5a2-5e045cefd7a2",
    "papermill": {
     "duration": 4.1784,
     "end_time": "2025-05-01T19:16:43.063154",
     "exception": false,
     "start_time": "2025-05-01T19:16:38.884754",
     "status": "completed"
    },
    "tags": []
   },
   "outputs": [
    {
     "name": "stderr",
     "output_type": "stream",
     "text": [
      "/usr/local/lib/python3.11/dist-packages/torchtext/vocab/__init__.py:4: UserWarning: \n",
      "/!\\ IMPORTANT WARNING ABOUT TORCHTEXT STATUS /!\\ \n",
      "Torchtext is deprecated and the last released version will be 0.18 (this one). You can silence this warning by calling the following at the beginnign of your scripts: `import torchtext; torchtext.disable_torchtext_deprecation_warning()`\n",
      "  warnings.warn(torchtext._TORCHTEXT_DEPRECATION_MSG)\n",
      "/usr/local/lib/python3.11/dist-packages/torchtext/utils.py:4: UserWarning: \n",
      "/!\\ IMPORTANT WARNING ABOUT TORCHTEXT STATUS /!\\ \n",
      "Torchtext is deprecated and the last released version will be 0.18 (this one). You can silence this warning by calling the following at the beginnign of your scripts: `import torchtext; torchtext.disable_torchtext_deprecation_warning()`\n",
      "  warnings.warn(torchtext._TORCHTEXT_DEPRECATION_MSG)\n"
     ]
    }
   ],
   "source": [
    "#torch library\n",
    "import torchtext.vocab\n",
    "min_freq = 5\n",
    "special_tokens = ['<unk>','<pad>']\n",
    "\n",
    "vocab = torchtext.vocab.build_vocab_from_iterator(\n",
    "    train[\"tokens\"],\n",
    "    min_freq=min_freq,\n",
    "    specials=special_tokens,\n",
    ")\n"
   ]
  },
  {
   "cell_type": "code",
   "execution_count": 22,
   "id": "9467d6ab",
   "metadata": {
    "execution": {
     "iopub.execute_input": "2025-05-01T19:16:43.184348Z",
     "iopub.status.busy": "2025-05-01T19:16:43.184056Z",
     "iopub.status.idle": "2025-05-01T19:16:43.188771Z",
     "shell.execute_reply": "2025-05-01T19:16:43.188032Z"
    },
    "executionInfo": {
     "elapsed": 9,
     "status": "ok",
     "timestamp": 1746116167004,
     "user": {
      "displayName": "Larry Addo KORLI",
      "userId": "13024330108174493901"
     },
     "user_tz": 0
    },
    "id": "tT7820auXjOT",
    "outputId": "6c9479c1-cbbd-4588-b54b-b383f188acf6",
    "papermill": {
     "duration": 0.062196,
     "end_time": "2025-05-01T19:16:43.189915",
     "exception": false,
     "start_time": "2025-05-01T19:16:43.127719",
     "status": "completed"
    },
    "tags": []
   },
   "outputs": [
    {
     "data": {
      "text/plain": [
       "21635"
      ]
     },
     "execution_count": 22,
     "metadata": {},
     "output_type": "execute_result"
    }
   ],
   "source": [
    "len(vocab)"
   ]
  },
  {
   "cell_type": "code",
   "execution_count": 23,
   "id": "d4016154",
   "metadata": {
    "execution": {
     "iopub.execute_input": "2025-05-01T19:16:43.303548Z",
     "iopub.status.busy": "2025-05-01T19:16:43.302836Z",
     "iopub.status.idle": "2025-05-01T19:16:43.311001Z",
     "shell.execute_reply": "2025-05-01T19:16:43.310330Z"
    },
    "executionInfo": {
     "elapsed": 7,
     "status": "ok",
     "timestamp": 1746116167030,
     "user": {
      "displayName": "Larry Addo KORLI",
      "userId": "13024330108174493901"
     },
     "user_tz": 0
    },
    "id": "vnVRf_otXjKa",
    "outputId": "9ff4c69d-b003-49d8-b5df-1ed485bf5026",
    "papermill": {
     "duration": 0.066445,
     "end_time": "2025-05-01T19:16:43.312118",
     "exception": false,
     "start_time": "2025-05-01T19:16:43.245673",
     "status": "completed"
    },
    "tags": []
   },
   "outputs": [
    {
     "data": {
      "text/plain": [
       "['<unk>', '<pad>', 'the', '.', ',', 'a', 'and', 'of', 'to', \"'\"]"
      ]
     },
     "execution_count": 23,
     "metadata": {},
     "output_type": "execute_result"
    }
   ],
   "source": [
    "vocab.get_itos()[:10]"
   ]
  },
  {
   "cell_type": "code",
   "execution_count": 24,
   "id": "935ddc64",
   "metadata": {
    "execution": {
     "iopub.execute_input": "2025-05-01T19:16:43.426347Z",
     "iopub.status.busy": "2025-05-01T19:16:43.426091Z",
     "iopub.status.idle": "2025-05-01T19:16:43.430401Z",
     "shell.execute_reply": "2025-05-01T19:16:43.429711Z"
    },
    "executionInfo": {
     "elapsed": 80,
     "status": "ok",
     "timestamp": 1746116167111,
     "user": {
      "displayName": "Larry Addo KORLI",
      "userId": "13024330108174493901"
     },
     "user_tz": 0
    },
    "id": "quNbJb7hXjHW",
    "outputId": "25a18b4f-f9ae-4d32-d4af-82219ff88a98",
    "papermill": {
     "duration": 0.063651,
     "end_time": "2025-05-01T19:16:43.431569",
     "exception": false,
     "start_time": "2025-05-01T19:16:43.367918",
     "status": "completed"
    },
    "tags": []
   },
   "outputs": [
    {
     "data": {
      "text/plain": [
       "False"
      ]
     },
     "execution_count": 24,
     "metadata": {},
     "output_type": "execute_result"
    }
   ],
   "source": [
    "'some_token' in vocab"
   ]
  },
  {
   "cell_type": "code",
   "execution_count": 25,
   "id": "03fee625",
   "metadata": {
    "execution": {
     "iopub.execute_input": "2025-05-01T19:16:43.545045Z",
     "iopub.status.busy": "2025-05-01T19:16:43.544836Z",
     "iopub.status.idle": "2025-05-01T19:16:43.548090Z",
     "shell.execute_reply": "2025-05-01T19:16:43.547443Z"
    },
    "executionInfo": {
     "elapsed": 10,
     "status": "ok",
     "timestamp": 1746117691177,
     "user": {
      "displayName": "Larry Addo KORLI",
      "userId": "13024330108174493901"
     },
     "user_tz": 0
    },
    "id": "Xds5fspQgH2-",
    "papermill": {
     "duration": 0.060776,
     "end_time": "2025-05-01T19:16:43.549095",
     "exception": false,
     "start_time": "2025-05-01T19:16:43.488319",
     "status": "completed"
    },
    "tags": []
   },
   "outputs": [],
   "source": [
    "unk = vocab['<unk>']\n",
    "pad_index = vocab['<pad>']"
   ]
  },
  {
   "cell_type": "code",
   "execution_count": 26,
   "id": "19d3c697",
   "metadata": {
    "execution": {
     "iopub.execute_input": "2025-05-01T19:16:43.662335Z",
     "iopub.status.busy": "2025-05-01T19:16:43.662097Z",
     "iopub.status.idle": "2025-05-01T19:16:43.665005Z",
     "shell.execute_reply": "2025-05-01T19:16:43.664548Z"
    },
    "executionInfo": {
     "elapsed": 64,
     "status": "ok",
     "timestamp": 1746116167181,
     "user": {
      "displayName": "Larry Addo KORLI",
      "userId": "13024330108174493901"
     },
     "user_tz": 0
    },
    "id": "UwqiQyw6XjDq",
    "papermill": {
     "duration": 0.06027,
     "end_time": "2025-05-01T19:16:43.666075",
     "exception": false,
     "start_time": "2025-05-01T19:16:43.605805",
     "status": "completed"
    },
    "tags": []
   },
   "outputs": [],
   "source": [
    "vocab.set_default_index(unk)"
   ]
  },
  {
   "cell_type": "code",
   "execution_count": 27,
   "id": "f4acbb84",
   "metadata": {
    "execution": {
     "iopub.execute_input": "2025-05-01T19:16:43.777660Z",
     "iopub.status.busy": "2025-05-01T19:16:43.777447Z",
     "iopub.status.idle": "2025-05-01T19:16:43.781882Z",
     "shell.execute_reply": "2025-05-01T19:16:43.781180Z"
    },
    "executionInfo": {
     "elapsed": 70,
     "status": "ok",
     "timestamp": 1746116167189,
     "user": {
      "displayName": "Larry Addo KORLI",
      "userId": "13024330108174493901"
     },
     "user_tz": 0
    },
    "id": "YoaxwYLrXjAR",
    "outputId": "585b78cf-927c-4450-dfa6-14a5601b3d85",
    "papermill": {
     "duration": 0.061656,
     "end_time": "2025-05-01T19:16:43.782975",
     "exception": false,
     "start_time": "2025-05-01T19:16:43.721319",
     "status": "completed"
    },
    "tags": []
   },
   "outputs": [
    {
     "data": {
      "text/plain": [
       "0"
      ]
     },
     "execution_count": 27,
     "metadata": {},
     "output_type": "execute_result"
    }
   ],
   "source": [
    "vocab['some_token']"
   ]
  },
  {
   "cell_type": "code",
   "execution_count": 28,
   "id": "d2ee7d27",
   "metadata": {
    "execution": {
     "iopub.execute_input": "2025-05-01T19:16:43.895916Z",
     "iopub.status.busy": "2025-05-01T19:16:43.895512Z",
     "iopub.status.idle": "2025-05-01T19:16:43.916612Z",
     "shell.execute_reply": "2025-05-01T19:16:43.915902Z"
    },
    "executionInfo": {
     "elapsed": 66,
     "status": "ok",
     "timestamp": 1746116167239,
     "user": {
      "displayName": "Larry Addo KORLI",
      "userId": "13024330108174493901"
     },
     "user_tz": 0
    },
    "id": "Ri1pFbIhXi9H",
    "outputId": "be6563a1-2abb-442b-8ddd-84b794610de4",
    "papermill": {
     "duration": 0.078645,
     "end_time": "2025-05-01T19:16:43.917644",
     "exception": false,
     "start_time": "2025-05-01T19:16:43.838999",
     "status": "completed"
    },
    "tags": []
   },
   "outputs": [
    {
     "data": {
      "text/plain": [
       "[('zwick', 21633),\n",
       " ('zing', 21632),\n",
       " ('ziggy', 21631),\n",
       " ('zhou', 21630),\n",
       " ('zavet', 21628),\n",
       " ('yvaine', 21627),\n",
       " ('yields', 21625),\n",
       " ('yasmin', 21623),\n",
       " ('yanked', 21620),\n",
       " ('yam', 21618),\n",
       " ('xmas', 21617),\n",
       " ('xena', 21616),\n",
       " ('woulda', 21608),\n",
       " ('workshop', 21605),\n",
       " ('woos', 21604),\n",
       " ('woodstock', 21603),\n",
       " ('wither', 21601),\n",
       " ('wired', 21600),\n",
       " ('winninger', 21599),\n",
       " ('wincing', 21598)]"
      ]
     },
     "execution_count": 28,
     "metadata": {},
     "output_type": "execute_result"
    }
   ],
   "source": [
    "list(vocab.get_stoi().items())[:20]"
   ]
  },
  {
   "cell_type": "markdown",
   "id": "b639a055",
   "metadata": {
    "id": "Zm6ky15EgrRg",
    "papermill": {
     "duration": 0.070766,
     "end_time": "2025-05-01T19:16:44.044515",
     "exception": false,
     "start_time": "2025-05-01T19:16:43.973749",
     "status": "completed"
    },
    "tags": []
   },
   "source": [
    "###numericalize"
   ]
  },
  {
   "cell_type": "code",
   "execution_count": 29,
   "id": "8423cf69",
   "metadata": {
    "execution": {
     "iopub.execute_input": "2025-05-01T19:16:44.160682Z",
     "iopub.status.busy": "2025-05-01T19:16:44.160022Z",
     "iopub.status.idle": "2025-05-01T19:16:44.163762Z",
     "shell.execute_reply": "2025-05-01T19:16:44.163076Z"
    },
    "executionInfo": {
     "elapsed": 67,
     "status": "ok",
     "timestamp": 1746116167308,
     "user": {
      "displayName": "Larry Addo KORLI",
      "userId": "13024330108174493901"
     },
     "user_tz": 0
    },
    "id": "FCnh_8TzXi5f",
    "papermill": {
     "duration": 0.061282,
     "end_time": "2025-05-01T19:16:44.164825",
     "exception": false,
     "start_time": "2025-05-01T19:16:44.103543",
     "status": "completed"
    },
    "tags": []
   },
   "outputs": [],
   "source": [
    "def numericalize(ex,vocab):\n",
    "  idx = vocab.lookup_indices(ex['tokens'])\n",
    "  return {'idx':idx}"
   ]
  },
  {
   "cell_type": "code",
   "execution_count": 30,
   "id": "2d9ba967",
   "metadata": {
    "execution": {
     "iopub.execute_input": "2025-05-01T19:16:44.277778Z",
     "iopub.status.busy": "2025-05-01T19:16:44.277593Z",
     "iopub.status.idle": "2025-05-01T19:17:01.226526Z",
     "shell.execute_reply": "2025-05-01T19:17:01.225687Z"
    },
    "executionInfo": {
     "elapsed": 25979,
     "status": "ok",
     "timestamp": 1746116193290,
     "user": {
      "displayName": "Larry Addo KORLI",
      "userId": "13024330108174493901"
     },
     "user_tz": 0
    },
    "id": "yBbkXIwrXi21",
    "outputId": "b14e90e2-97fd-4ce1-d6ba-2d16bc0582d8",
    "papermill": {
     "duration": 17.006792,
     "end_time": "2025-05-01T19:17:01.227729",
     "exception": false,
     "start_time": "2025-05-01T19:16:44.220937",
     "status": "completed"
    },
    "tags": []
   },
   "outputs": [
    {
     "data": {
      "application/vnd.jupyter.widget-view+json": {
       "model_id": "d608266bd24d454daaf0c8cc29a45177",
       "version_major": 2,
       "version_minor": 0
      },
      "text/plain": [
       "Map:   0%|          | 0/18750 [00:00<?, ? examples/s]"
      ]
     },
     "metadata": {},
     "output_type": "display_data"
    },
    {
     "data": {
      "application/vnd.jupyter.widget-view+json": {
       "model_id": "35b7836d5b054ca896940a5826b55258",
       "version_major": 2,
       "version_minor": 0
      },
      "text/plain": [
       "Map:   0%|          | 0/6250 [00:00<?, ? examples/s]"
      ]
     },
     "metadata": {},
     "output_type": "display_data"
    },
    {
     "data": {
      "application/vnd.jupyter.widget-view+json": {
       "model_id": "5435e4ec58dd42c297ac025b0772d733",
       "version_major": 2,
       "version_minor": 0
      },
      "text/plain": [
       "Map:   0%|          | 0/25000 [00:00<?, ? examples/s]"
      ]
     },
     "metadata": {},
     "output_type": "display_data"
    }
   ],
   "source": [
    "train = train.map(numericalize,fn_kwargs={'vocab':vocab})\n",
    "valid = valid.map(numericalize,fn_kwargs={'vocab':vocab})\n",
    "test = test.map(numericalize,fn_kwargs={'vocab':vocab})"
   ]
  },
  {
   "cell_type": "code",
   "execution_count": 31,
   "id": "0adc1549",
   "metadata": {
    "execution": {
     "iopub.execute_input": "2025-05-01T19:17:01.345814Z",
     "iopub.status.busy": "2025-05-01T19:17:01.345089Z",
     "iopub.status.idle": "2025-05-01T19:17:01.350067Z",
     "shell.execute_reply": "2025-05-01T19:17:01.349340Z"
    },
    "executionInfo": {
     "elapsed": 9,
     "status": "ok",
     "timestamp": 1746116193312,
     "user": {
      "displayName": "Larry Addo KORLI",
      "userId": "13024330108174493901"
     },
     "user_tz": 0
    },
    "id": "YC4J6h0qXizt",
    "outputId": "4f003e73-23b4-4a1f-e4ed-ed33b76186f9",
    "papermill": {
     "duration": 0.063195,
     "end_time": "2025-05-01T19:17:01.351234",
     "exception": false,
     "start_time": "2025-05-01T19:17:01.288039",
     "status": "completed"
    },
    "tags": []
   },
   "outputs": [
    {
     "data": {
      "text/plain": [
       "Dataset({\n",
       "    features: ['text', 'label', 'tokens', 'idx'],\n",
       "    num_rows: 18750\n",
       "})"
      ]
     },
     "execution_count": 31,
     "metadata": {},
     "output_type": "execute_result"
    }
   ],
   "source": [
    "train"
   ]
  },
  {
   "cell_type": "code",
   "execution_count": 32,
   "id": "1f3eed98",
   "metadata": {
    "execution": {
     "iopub.execute_input": "2025-05-01T19:17:01.467239Z",
     "iopub.status.busy": "2025-05-01T19:17:01.466723Z",
     "iopub.status.idle": "2025-05-01T19:17:01.472138Z",
     "shell.execute_reply": "2025-05-01T19:17:01.471467Z"
    },
    "executionInfo": {
     "elapsed": 19,
     "status": "ok",
     "timestamp": 1746116193333,
     "user": {
      "displayName": "Larry Addo KORLI",
      "userId": "13024330108174493901"
     },
     "user_tz": 0
    },
    "id": "3e2YggTCXiv4",
    "outputId": "34eb87a5-945d-452d-f51f-1acb5bd9c5b3",
    "papermill": {
     "duration": 0.065702,
     "end_time": "2025-05-01T19:17:01.473602",
     "exception": false,
     "start_time": "2025-05-01T19:17:01.407900",
     "status": "completed"
    },
    "tags": []
   },
   "outputs": [
    {
     "data": {
      "text/plain": [
       "[180, 4, 14, 10, 191, 841, 34, 7, 2, 121]"
      ]
     },
     "execution_count": 32,
     "metadata": {},
     "output_type": "execute_result"
    }
   ],
   "source": [
    "train[0]['idx'][:10]"
   ]
  },
  {
   "cell_type": "code",
   "execution_count": 33,
   "id": "915c3a47",
   "metadata": {
    "execution": {
     "iopub.execute_input": "2025-05-01T19:17:01.589833Z",
     "iopub.status.busy": "2025-05-01T19:17:01.589267Z",
     "iopub.status.idle": "2025-05-01T19:17:01.594289Z",
     "shell.execute_reply": "2025-05-01T19:17:01.593726Z"
    },
    "executionInfo": {
     "elapsed": 10,
     "status": "ok",
     "timestamp": 1746116193347,
     "user": {
      "displayName": "Larry Addo KORLI",
      "userId": "13024330108174493901"
     },
     "user_tz": 0
    },
    "id": "yW8sTeK5TR8g",
    "outputId": "7565d588-94e9-4dc3-818a-4da31669fc62",
    "papermill": {
     "duration": 0.063012,
     "end_time": "2025-05-01T19:17:01.595505",
     "exception": false,
     "start_time": "2025-05-01T19:17:01.532493",
     "status": "completed"
    },
    "tags": []
   },
   "outputs": [
    {
     "data": {
      "text/plain": [
       "[180, 4, 14, 10, 191, 841, 34, 7, 2, 121]"
      ]
     },
     "execution_count": 33,
     "metadata": {},
     "output_type": "execute_result"
    }
   ],
   "source": [
    "vocab.lookup_indices(train[0]['tokens'][:10])"
   ]
  },
  {
   "cell_type": "code",
   "execution_count": 34,
   "id": "a887eed3",
   "metadata": {
    "execution": {
     "iopub.execute_input": "2025-05-01T19:17:01.710178Z",
     "iopub.status.busy": "2025-05-01T19:17:01.709612Z",
     "iopub.status.idle": "2025-05-01T19:17:01.715466Z",
     "shell.execute_reply": "2025-05-01T19:17:01.714652Z"
    },
    "executionInfo": {
     "elapsed": 40,
     "status": "ok",
     "timestamp": 1746116449194,
     "user": {
      "displayName": "Larry Addo KORLI",
      "userId": "13024330108174493901"
     },
     "user_tz": 0
    },
    "id": "OrPM2fzonSQm",
    "papermill": {
     "duration": 0.064411,
     "end_time": "2025-05-01T19:17:01.716520",
     "exception": false,
     "start_time": "2025-05-01T19:17:01.652109",
     "status": "completed"
    },
    "tags": []
   },
   "outputs": [],
   "source": [
    "train =  train.with_format(type='torch',columns=['idx','label'])\n",
    "valid =  valid.with_format(type='torch',columns=['idx','label'])\n",
    "test =  test.with_format(type='torch',columns=['idx','label'])"
   ]
  },
  {
   "cell_type": "code",
   "execution_count": 35,
   "id": "e4ba6db2",
   "metadata": {
    "execution": {
     "iopub.execute_input": "2025-05-01T19:17:01.830281Z",
     "iopub.status.busy": "2025-05-01T19:17:01.829840Z",
     "iopub.status.idle": "2025-05-01T19:17:01.837157Z",
     "shell.execute_reply": "2025-05-01T19:17:01.836667Z"
    },
    "executionInfo": {
     "elapsed": 13,
     "status": "ok",
     "timestamp": 1746116475226,
     "user": {
      "displayName": "Larry Addo KORLI",
      "userId": "13024330108174493901"
     },
     "user_tz": 0
    },
    "id": "yBkpyC0VpI1_",
    "outputId": "cf9b7a7c-9e3a-45b5-8b56-f51537c86c87",
    "papermill": {
     "duration": 0.064809,
     "end_time": "2025-05-01T19:17:01.838185",
     "exception": false,
     "start_time": "2025-05-01T19:17:01.773376",
     "status": "completed"
    },
    "tags": []
   },
   "outputs": [
    {
     "data": {
      "text/plain": [
       "tensor(1)"
      ]
     },
     "execution_count": 35,
     "metadata": {},
     "output_type": "execute_result"
    }
   ],
   "source": [
    "train[0]['label']"
   ]
  },
  {
   "cell_type": "code",
   "execution_count": 36,
   "id": "e47b8013",
   "metadata": {
    "execution": {
     "iopub.execute_input": "2025-05-01T19:17:01.952587Z",
     "iopub.status.busy": "2025-05-01T19:17:01.952377Z",
     "iopub.status.idle": "2025-05-01T19:17:01.957843Z",
     "shell.execute_reply": "2025-05-01T19:17:01.957123Z"
    },
    "executionInfo": {
     "elapsed": 11,
     "status": "ok",
     "timestamp": 1746116499623,
     "user": {
      "displayName": "Larry Addo KORLI",
      "userId": "13024330108174493901"
     },
     "user_tz": 0
    },
    "id": "cdcz35bRpua0",
    "outputId": "b92e7884-2663-497a-d6cf-52b24ff839dd",
    "papermill": {
     "duration": 0.064075,
     "end_time": "2025-05-01T19:17:01.959046",
     "exception": false,
     "start_time": "2025-05-01T19:17:01.894971",
     "status": "completed"
    },
    "tags": []
   },
   "outputs": [
    {
     "data": {
      "text/plain": [
       "tensor([180,   4,  14,  10, 191, 841,  34,   7,   2, 121])"
      ]
     },
     "execution_count": 36,
     "metadata": {},
     "output_type": "execute_result"
    }
   ],
   "source": [
    "train[0]['idx'][:10]"
   ]
  },
  {
   "cell_type": "code",
   "execution_count": 37,
   "id": "b3c30353",
   "metadata": {
    "execution": {
     "iopub.execute_input": "2025-05-01T19:17:02.074142Z",
     "iopub.status.busy": "2025-05-01T19:17:02.073628Z",
     "iopub.status.idle": "2025-05-01T19:17:02.079035Z",
     "shell.execute_reply": "2025-05-01T19:17:02.078330Z"
    },
    "executionInfo": {
     "elapsed": 30,
     "status": "ok",
     "timestamp": 1746116570750,
     "user": {
      "displayName": "Larry Addo KORLI",
      "userId": "13024330108174493901"
     },
     "user_tz": 0
    },
    "id": "JEAWQNrnp1cw",
    "outputId": "d45d2e36-0670-40aa-bb3b-ea85da116c00",
    "papermill": {
     "duration": 0.064402,
     "end_time": "2025-05-01T19:17:02.080182",
     "exception": false,
     "start_time": "2025-05-01T19:17:02.015780",
     "status": "completed"
    },
    "tags": []
   },
   "outputs": [
    {
     "data": {
      "text/plain": [
       "dict_keys(['label', 'idx'])"
      ]
     },
     "execution_count": 37,
     "metadata": {},
     "output_type": "execute_result"
    }
   ],
   "source": [
    "train[0].keys()"
   ]
  },
  {
   "cell_type": "code",
   "execution_count": 38,
   "id": "b65f5074",
   "metadata": {
    "execution": {
     "iopub.execute_input": "2025-05-01T19:17:02.197824Z",
     "iopub.status.busy": "2025-05-01T19:17:02.197615Z",
     "iopub.status.idle": "2025-05-01T19:17:02.201725Z",
     "shell.execute_reply": "2025-05-01T19:17:02.201204Z"
    },
    "executionInfo": {
     "elapsed": 6,
     "status": "ok",
     "timestamp": 1746117286931,
     "user": {
      "displayName": "Larry Addo KORLI",
      "userId": "13024330108174493901"
     },
     "user_tz": 0
    },
    "id": "6y_HXZyCqD_T",
    "papermill": {
     "duration": 0.064708,
     "end_time": "2025-05-01T19:17:02.202729",
     "exception": false,
     "start_time": "2025-05-01T19:17:02.138021",
     "status": "completed"
    },
    "tags": []
   },
   "outputs": [],
   "source": [
    "def get_collate_fn(pad_index):\n",
    "  def collate_fn(batch):\n",
    "    batch_idxs = [i['idx'] for i in  batch]\n",
    "    batch_idxs = nn.utils.rnn.pad_sequence(\n",
    "        batch_idxs,padding_value=pad_index,batch_first=True\n",
    "    )\n",
    "    batch_label = [i['label'] for i in batch]\n",
    "    batch_label = torch.stack(batch_label)\n",
    "    batch = {'idx':batch_idxs,'label':batch_label}\n",
    "\n",
    "    return batch\n",
    "  return collate_fn\n",
    "\n"
   ]
  },
  {
   "cell_type": "code",
   "execution_count": 39,
   "id": "e06bd315",
   "metadata": {
    "execution": {
     "iopub.execute_input": "2025-05-01T19:17:02.319102Z",
     "iopub.status.busy": "2025-05-01T19:17:02.318541Z",
     "iopub.status.idle": "2025-05-01T19:17:02.322599Z",
     "shell.execute_reply": "2025-05-01T19:17:02.321874Z"
    },
    "executionInfo": {
     "elapsed": 4,
     "status": "ok",
     "timestamp": 1746117643903,
     "user": {
      "displayName": "Larry Addo KORLI",
      "userId": "13024330108174493901"
     },
     "user_tz": 0
    },
    "id": "oUUEzxfLs1pr",
    "papermill": {
     "duration": 0.062882,
     "end_time": "2025-05-01T19:17:02.323722",
     "exception": false,
     "start_time": "2025-05-01T19:17:02.260840",
     "status": "completed"
    },
    "tags": []
   },
   "outputs": [],
   "source": [
    "def get_data_loader(dataset,batch_size,pad_index,shuffle=True):\n",
    "  collate_func = get_collate_fn(pad_index)\n",
    "  data_loader = torch.utils.data.DataLoader(\n",
    "      batch_size=batch_size,\n",
    "      dataset=dataset,\n",
    "      collate_fn = collate_func,\n",
    "      shuffle=shuffle\n",
    "  )\n",
    "  return data_loader"
   ]
  },
  {
   "cell_type": "code",
   "execution_count": 40,
   "id": "c11127ad",
   "metadata": {
    "execution": {
     "iopub.execute_input": "2025-05-01T19:17:02.437736Z",
     "iopub.status.busy": "2025-05-01T19:17:02.437515Z",
     "iopub.status.idle": "2025-05-01T19:17:02.441531Z",
     "shell.execute_reply": "2025-05-01T19:17:02.440840Z"
    },
    "executionInfo": {
     "elapsed": 4,
     "status": "ok",
     "timestamp": 1746117695912,
     "user": {
      "displayName": "Larry Addo KORLI",
      "userId": "13024330108174493901"
     },
     "user_tz": 0
    },
    "id": "3mTc23autuUm",
    "papermill": {
     "duration": 0.062283,
     "end_time": "2025-05-01T19:17:02.442731",
     "exception": false,
     "start_time": "2025-05-01T19:17:02.380448",
     "status": "completed"
    },
    "tags": []
   },
   "outputs": [],
   "source": [
    "\n",
    "batch_size = 512\n",
    "\n",
    "train_data_loader = get_data_loader(train, batch_size, pad_index, shuffle=False)\n",
    "valid_data_loader = get_data_loader(valid, batch_size, pad_index)\n",
    "test_data_loader = get_data_loader(test, batch_size, pad_index)\n",
    "\n"
   ]
  },
  {
   "cell_type": "code",
   "execution_count": 41,
   "id": "53be9455",
   "metadata": {
    "execution": {
     "iopub.execute_input": "2025-05-01T19:17:02.559145Z",
     "iopub.status.busy": "2025-05-01T19:17:02.558519Z",
     "iopub.status.idle": "2025-05-01T19:17:02.563169Z",
     "shell.execute_reply": "2025-05-01T19:17:02.562514Z"
    },
    "id": "-85noVvNuK2K",
    "papermill": {
     "duration": 0.062325,
     "end_time": "2025-05-01T19:17:02.564317",
     "exception": false,
     "start_time": "2025-05-01T19:17:02.501992",
     "status": "completed"
    },
    "tags": []
   },
   "outputs": [],
   "source": [
    "class NBW(nn.Module):\n",
    "    def __init__(self,vocab,embed_dim,output,pad_index):\n",
    "        super(NBW,self).__init__()\n",
    "        self.embedding = nn.Embedding(vocab,embed_dim,pad_index)\n",
    "        self.fc = nn.Linear(embed_dim,output)\n",
    "    def forward(self,idx):\n",
    "        #idx -> [batch_size,seq_len]\n",
    "        embed =  self.embedding(idx) #-> [batch_size,seq_len,embedding_dim]\n",
    "        pooling = embed.mean(dim=1)#-> [batch_size,embedding_diim]\n",
    "        out = self.fc(pooling) #-> [batch_size,output]\n",
    "        return  out"
   ]
  },
  {
   "cell_type": "code",
   "execution_count": 42,
   "id": "29759645",
   "metadata": {
    "execution": {
     "iopub.execute_input": "2025-05-01T19:17:02.677614Z",
     "iopub.status.busy": "2025-05-01T19:17:02.677391Z",
     "iopub.status.idle": "2025-05-01T19:17:02.688675Z",
     "shell.execute_reply": "2025-05-01T19:17:02.687964Z"
    },
    "papermill": {
     "duration": 0.069191,
     "end_time": "2025-05-01T19:17:02.689865",
     "exception": false,
     "start_time": "2025-05-01T19:17:02.620674",
     "status": "completed"
    },
    "tags": []
   },
   "outputs": [
    {
     "data": {
      "text/plain": [
       "2"
      ]
     },
     "execution_count": 42,
     "metadata": {},
     "output_type": "execute_result"
    }
   ],
   "source": [
    "len(train['label'].unique())"
   ]
  },
  {
   "cell_type": "code",
   "execution_count": 43,
   "id": "b81859ce",
   "metadata": {
    "execution": {
     "iopub.execute_input": "2025-05-01T19:17:02.805421Z",
     "iopub.status.busy": "2025-05-01T19:17:02.805056Z",
     "iopub.status.idle": "2025-05-01T19:17:02.877329Z",
     "shell.execute_reply": "2025-05-01T19:17:02.876495Z"
    },
    "papermill": {
     "duration": 0.131986,
     "end_time": "2025-05-01T19:17:02.878556",
     "exception": false,
     "start_time": "2025-05-01T19:17:02.746570",
     "status": "completed"
    },
    "tags": []
   },
   "outputs": [
    {
     "data": {
      "text/plain": [
       "NBW(\n",
       "  (embedding): Embedding(21635, 300, padding_idx=1)\n",
       "  (fc): Linear(in_features=300, out_features=2, bias=True)\n",
       ")"
      ]
     },
     "execution_count": 43,
     "metadata": {},
     "output_type": "execute_result"
    }
   ],
   "source": [
    "vocab_len = len(vocab)\n",
    "embedding_dim = 300\n",
    "output = len(train['label'].unique())\n",
    "\n",
    "model = NBW(vocab_len,embedding_dim,output,pad_index)\n",
    "model\n"
   ]
  },
  {
   "cell_type": "code",
   "execution_count": 44,
   "id": "f16086fb",
   "metadata": {
    "execution": {
     "iopub.execute_input": "2025-05-01T19:17:03.049902Z",
     "iopub.status.busy": "2025-05-01T19:17:03.049174Z",
     "iopub.status.idle": "2025-05-01T19:17:03.054987Z",
     "shell.execute_reply": "2025-05-01T19:17:03.054425Z"
    },
    "papermill": {
     "duration": 0.119063,
     "end_time": "2025-05-01T19:17:03.056062",
     "exception": false,
     "start_time": "2025-05-01T19:17:02.936999",
     "status": "completed"
    },
    "tags": []
   },
   "outputs": [
    {
     "data": {
      "text/plain": [
       "6491102"
      ]
     },
     "execution_count": 44,
     "metadata": {},
     "output_type": "execute_result"
    }
   ],
   "source": [
    "sum(p.numel() for p in model.parameters() if p.requires_grad)"
   ]
  },
  {
   "cell_type": "code",
   "execution_count": 45,
   "id": "8420d240",
   "metadata": {
    "execution": {
     "iopub.execute_input": "2025-05-01T19:17:03.179019Z",
     "iopub.status.busy": "2025-05-01T19:17:03.178311Z",
     "iopub.status.idle": "2025-05-01T19:28:34.773081Z",
     "shell.execute_reply": "2025-05-01T19:28:34.772367Z"
    },
    "papermill": {
     "duration": 691.653028,
     "end_time": "2025-05-01T19:28:34.774364",
     "exception": false,
     "start_time": "2025-05-01T19:17:03.121336",
     "status": "completed"
    },
    "tags": []
   },
   "outputs": [
    {
     "name": "stderr",
     "output_type": "stream",
     "text": [
      ".vector_cache/glove.840B.300d.zip: 2.18GB [06:50, 5.31MB/s]                            \n",
      "100%|█████████▉| 2196016/2196017 [03:52<00:00, 9434.94it/s]\n"
     ]
    },
    {
     "data": {
      "text/plain": [
       "torch.Size([300])"
      ]
     },
     "execution_count": 45,
     "metadata": {},
     "output_type": "execute_result"
    }
   ],
   "source": [
    "vectors = torchtext.vocab.GloVe()\n",
    "hello = vectors.get_vecs_by_tokens('hello')\n",
    "hello.shape"
   ]
  },
  {
   "cell_type": "code",
   "execution_count": 46,
   "id": "c460db15",
   "metadata": {
    "execution": {
     "iopub.execute_input": "2025-05-01T19:28:35.367927Z",
     "iopub.status.busy": "2025-05-01T19:28:35.367642Z",
     "iopub.status.idle": "2025-05-01T19:28:35.528548Z",
     "shell.execute_reply": "2025-05-01T19:28:35.527651Z"
    },
    "papermill": {
     "duration": 0.462152,
     "end_time": "2025-05-01T19:28:35.530023",
     "exception": false,
     "start_time": "2025-05-01T19:28:35.067871",
     "status": "completed"
    },
    "tags": []
   },
   "outputs": [],
   "source": [
    "pretrained_embedding = vectors.get_vecs_by_tokens(vocab.get_itos())"
   ]
  },
  {
   "cell_type": "code",
   "execution_count": 47,
   "id": "ebc56eeb",
   "metadata": {
    "execution": {
     "iopub.execute_input": "2025-05-01T19:28:36.153370Z",
     "iopub.status.busy": "2025-05-01T19:28:36.153072Z",
     "iopub.status.idle": "2025-05-01T19:28:36.157537Z",
     "shell.execute_reply": "2025-05-01T19:28:36.156984Z"
    },
    "papermill": {
     "duration": 0.292877,
     "end_time": "2025-05-01T19:28:36.158589",
     "exception": false,
     "start_time": "2025-05-01T19:28:35.865712",
     "status": "completed"
    },
    "tags": []
   },
   "outputs": [
    {
     "data": {
      "text/plain": [
       "torch.Size([21635, 300])"
      ]
     },
     "execution_count": 47,
     "metadata": {},
     "output_type": "execute_result"
    }
   ],
   "source": [
    "pretrained_embedding.shape"
   ]
  },
  {
   "cell_type": "code",
   "execution_count": 48,
   "id": "875b32a8",
   "metadata": {
    "execution": {
     "iopub.execute_input": "2025-05-01T19:28:36.780621Z",
     "iopub.status.busy": "2025-05-01T19:28:36.780334Z",
     "iopub.status.idle": "2025-05-01T19:28:36.874624Z",
     "shell.execute_reply": "2025-05-01T19:28:36.874041Z"
    },
    "papermill": {
     "duration": 0.429619,
     "end_time": "2025-05-01T19:28:36.875697",
     "exception": false,
     "start_time": "2025-05-01T19:28:36.446078",
     "status": "completed"
    },
    "tags": []
   },
   "outputs": [
    {
     "data": {
      "text/plain": [
       "Parameter containing:\n",
       "tensor([[-0.1117, -0.4966,  0.1631,  ..., -0.5592, -0.4480, -0.6476],\n",
       "        [ 0.0000,  0.0000,  0.0000,  ...,  0.0000,  0.0000,  0.0000],\n",
       "        [ 0.7882, -1.6625, -0.7064,  ..., -1.5841, -0.3711, -1.2338],\n",
       "        ...,\n",
       "        [-0.1833,  0.2245, -0.3846,  ..., -0.8093, -1.5803,  2.2097],\n",
       "        [ 0.8763, -0.4503, -0.3297,  ...,  1.0524, -0.3182, -0.0381],\n",
       "        [-0.7596,  0.6286,  0.0057,  ..., -0.8484, -0.1224,  1.3181]],\n",
       "       requires_grad=True)"
      ]
     },
     "execution_count": 48,
     "metadata": {},
     "output_type": "execute_result"
    }
   ],
   "source": [
    "model.embedding.weight"
   ]
  },
  {
   "cell_type": "code",
   "execution_count": 49,
   "id": "508f8fdf",
   "metadata": {
    "execution": {
     "iopub.execute_input": "2025-05-01T19:28:37.519769Z",
     "iopub.status.busy": "2025-05-01T19:28:37.519494Z",
     "iopub.status.idle": "2025-05-01T19:28:37.524431Z",
     "shell.execute_reply": "2025-05-01T19:28:37.523630Z"
    },
    "papermill": {
     "duration": 0.364593,
     "end_time": "2025-05-01T19:28:37.526017",
     "exception": false,
     "start_time": "2025-05-01T19:28:37.161424",
     "status": "completed"
    },
    "tags": []
   },
   "outputs": [],
   "source": [
    "model.embedding.weight.data =  pretrained_embedding"
   ]
  },
  {
   "cell_type": "code",
   "execution_count": 50,
   "id": "88ab3c76",
   "metadata": {
    "execution": {
     "iopub.execute_input": "2025-05-01T19:28:38.495865Z",
     "iopub.status.busy": "2025-05-01T19:28:38.495087Z",
     "iopub.status.idle": "2025-05-01T19:28:38.505604Z",
     "shell.execute_reply": "2025-05-01T19:28:38.504716Z"
    },
    "papermill": {
     "duration": 0.491256,
     "end_time": "2025-05-01T19:28:38.506926",
     "exception": false,
     "start_time": "2025-05-01T19:28:38.015670",
     "status": "completed"
    },
    "tags": []
   },
   "outputs": [
    {
     "data": {
      "text/plain": [
       "(Parameter containing:\n",
       " tensor([[ 0.0000,  0.0000,  0.0000,  ...,  0.0000,  0.0000,  0.0000],\n",
       "         [ 0.0000,  0.0000,  0.0000,  ...,  0.0000,  0.0000,  0.0000],\n",
       "         [ 0.2720, -0.0620, -0.1884,  ...,  0.1302, -0.1832,  0.1323],\n",
       "         ...,\n",
       "         [ 0.1662,  0.2845,  0.4958,  ..., -0.5733, -0.4675, -0.0965],\n",
       "         [ 0.0000,  0.0000,  0.0000,  ...,  0.0000,  0.0000,  0.0000],\n",
       "         [ 0.2701,  0.6335,  0.2016,  ..., -0.4568,  0.5783, -0.5545]],\n",
       "        requires_grad=True),\n",
       " tensor([[ 0.0000,  0.0000,  0.0000,  ...,  0.0000,  0.0000,  0.0000],\n",
       "         [ 0.0000,  0.0000,  0.0000,  ...,  0.0000,  0.0000,  0.0000],\n",
       "         [ 0.2720, -0.0620, -0.1884,  ...,  0.1302, -0.1832,  0.1323],\n",
       "         ...,\n",
       "         [ 0.1662,  0.2845,  0.4958,  ..., -0.5733, -0.4675, -0.0965],\n",
       "         [ 0.0000,  0.0000,  0.0000,  ...,  0.0000,  0.0000,  0.0000],\n",
       "         [ 0.2701,  0.6335,  0.2016,  ..., -0.4568,  0.5783, -0.5545]]))"
      ]
     },
     "execution_count": 50,
     "metadata": {},
     "output_type": "execute_result"
    }
   ],
   "source": [
    "model.embedding.weight,pretrained_embedding"
   ]
  },
  {
   "cell_type": "code",
   "execution_count": 51,
   "id": "a36db4ad",
   "metadata": {
    "execution": {
     "iopub.execute_input": "2025-05-01T19:28:39.336020Z",
     "iopub.status.busy": "2025-05-01T19:28:39.335636Z",
     "iopub.status.idle": "2025-05-01T19:28:44.005624Z",
     "shell.execute_reply": "2025-05-01T19:28:44.005038Z"
    },
    "papermill": {
     "duration": 5.133652,
     "end_time": "2025-05-01T19:28:44.006990",
     "exception": false,
     "start_time": "2025-05-01T19:28:38.873338",
     "status": "completed"
    },
    "tags": []
   },
   "outputs": [],
   "source": [
    "optimizer = optim.Adam(model.parameters(),lr=1e-3)\n",
    "criterion = nn.CrossEntropyLoss()"
   ]
  },
  {
   "cell_type": "code",
   "execution_count": 52,
   "id": "632199b4",
   "metadata": {
    "execution": {
     "iopub.execute_input": "2025-05-01T19:28:44.736979Z",
     "iopub.status.busy": "2025-05-01T19:28:44.736485Z",
     "iopub.status.idle": "2025-05-01T19:28:44.919312Z",
     "shell.execute_reply": "2025-05-01T19:28:44.918641Z"
    },
    "papermill": {
     "duration": 0.523419,
     "end_time": "2025-05-01T19:28:44.920376",
     "exception": false,
     "start_time": "2025-05-01T19:28:44.396957",
     "status": "completed"
    },
    "tags": []
   },
   "outputs": [
    {
     "data": {
      "text/plain": [
       "'cuda'"
      ]
     },
     "execution_count": 52,
     "metadata": {},
     "output_type": "execute_result"
    }
   ],
   "source": [
    "device = 'cuda' if torch.cuda.is_available() else 'cpu'\n",
    "device"
   ]
  },
  {
   "cell_type": "code",
   "execution_count": 53,
   "id": "cca7b5d4",
   "metadata": {
    "execution": {
     "iopub.execute_input": "2025-05-01T19:28:45.554116Z",
     "iopub.status.busy": "2025-05-01T19:28:45.553771Z",
     "iopub.status.idle": "2025-05-01T19:28:45.727182Z",
     "shell.execute_reply": "2025-05-01T19:28:45.726407Z"
    },
    "papermill": {
     "duration": 0.491732,
     "end_time": "2025-05-01T19:28:45.728498",
     "exception": false,
     "start_time": "2025-05-01T19:28:45.236766",
     "status": "completed"
    },
    "tags": []
   },
   "outputs": [
    {
     "data": {
      "text/plain": [
       "CrossEntropyLoss()"
      ]
     },
     "execution_count": 53,
     "metadata": {},
     "output_type": "execute_result"
    }
   ],
   "source": [
    "model.to(device)\n",
    "criterion.to(device)"
   ]
  },
  {
   "cell_type": "code",
   "execution_count": 54,
   "id": "4601a042",
   "metadata": {
    "execution": {
     "iopub.execute_input": "2025-05-01T19:28:46.394739Z",
     "iopub.status.busy": "2025-05-01T19:28:46.393827Z",
     "iopub.status.idle": "2025-05-01T19:28:46.399212Z",
     "shell.execute_reply": "2025-05-01T19:28:46.398489Z"
    },
    "papermill": {
     "duration": 0.318855,
     "end_time": "2025-05-01T19:28:46.400469",
     "exception": false,
     "start_time": "2025-05-01T19:28:46.081614",
     "status": "completed"
    },
    "tags": []
   },
   "outputs": [],
   "source": [
    "def train_model(model,optimizer,criterion,data_loader,device):\n",
    "    model.train()\n",
    "    epoch_loss=[]\n",
    "    epoch_acc = []\n",
    "    for  batch in tqdm.tqdm(data_loader,desc='training...'):\n",
    "        idx = batch['idx'].to(device)\n",
    "        label = batch['label'].to(device)\n",
    "        predictions = model(idx)\n",
    "        loss = criterion(predictions,label)\n",
    "        acc = get_accuracy(predictions,label)\n",
    "        optimizer.zero_grad()\n",
    "        loss.backward()\n",
    "        optimizer.step()\n",
    "        epoch_loss.append(loss.item())\n",
    "        epoch_acc.append(acc.item())\n",
    "    return  np.mean(epoch_loss),np.mean(epoch_acc)        \n",
    "        "
   ]
  },
  {
   "cell_type": "code",
   "execution_count": 55,
   "id": "b4345f48",
   "metadata": {
    "execution": {
     "iopub.execute_input": "2025-05-01T19:28:47.034070Z",
     "iopub.status.busy": "2025-05-01T19:28:47.033779Z",
     "iopub.status.idle": "2025-05-01T19:28:47.038769Z",
     "shell.execute_reply": "2025-05-01T19:28:47.038202Z"
    },
    "papermill": {
     "duration": 0.350364,
     "end_time": "2025-05-01T19:28:47.039803",
     "exception": false,
     "start_time": "2025-05-01T19:28:46.689439",
     "status": "completed"
    },
    "tags": []
   },
   "outputs": [],
   "source": [
    "def  evaluate(model,device,criterion,data_loader):\n",
    "    model.eval()\n",
    "    epoch_loss = []\n",
    "    epoch_acc = []\n",
    "    with torch.inference_mode():\n",
    "        for batch in tqdm.tqdm(data_loader,desc='testing...'):\n",
    "            idx = batch['idx'].to(device)\n",
    "            label = batch['label'].to(device)\n",
    "            preds = model(idx)\n",
    "            loss = criterion(preds,label)\n",
    "            acc = get_accuracy(preds,label)\n",
    "            epoch_loss.append(loss.item())\n",
    "            epoch_acc.append(acc.item())\n",
    "    return  np.mean(epoch_loss),np.mean(epoch_acc)        "
   ]
  },
  {
   "cell_type": "code",
   "execution_count": 56,
   "id": "a77da272",
   "metadata": {
    "execution": {
     "iopub.execute_input": "2025-05-01T19:28:47.660453Z",
     "iopub.status.busy": "2025-05-01T19:28:47.660152Z",
     "iopub.status.idle": "2025-05-01T19:28:47.663846Z",
     "shell.execute_reply": "2025-05-01T19:28:47.663320Z"
    },
    "papermill": {
     "duration": 0.32138,
     "end_time": "2025-05-01T19:28:47.664923",
     "exception": false,
     "start_time": "2025-05-01T19:28:47.343543",
     "status": "completed"
    },
    "tags": []
   },
   "outputs": [],
   "source": [
    "def get_accuracy(preds,label):\n",
    "    bz,_= preds.shape\n",
    "    pred_classes = preds.argmax(dim=-1)\n",
    "    corrections = pred_classes.eq(label).sum()\n",
    "    return  corrections/bz"
   ]
  },
  {
   "cell_type": "code",
   "execution_count": 57,
   "id": "41b9bd5a",
   "metadata": {
    "execution": {
     "iopub.execute_input": "2025-05-01T19:28:48.356393Z",
     "iopub.status.busy": "2025-05-01T19:28:48.356064Z",
     "iopub.status.idle": "2025-05-01T19:28:48.361083Z",
     "shell.execute_reply": "2025-05-01T19:28:48.360397Z"
    },
    "papermill": {
     "duration": 0.328937,
     "end_time": "2025-05-01T19:28:48.362247",
     "exception": false,
     "start_time": "2025-05-01T19:28:48.033310",
     "status": "completed"
    },
    "tags": []
   },
   "outputs": [
    {
     "data": {
      "text/plain": [
       "{'text': Value(dtype='string', id=None),\n",
       " 'label': ClassLabel(names=['neg', 'pos'], id=None),\n",
       " 'tokens': Sequence(feature=Value(dtype='string', id=None), length=-1, id=None),\n",
       " 'idx': Sequence(feature=Value(dtype='int64', id=None), length=-1, id=None)}"
      ]
     },
     "execution_count": 57,
     "metadata": {},
     "output_type": "execute_result"
    }
   ],
   "source": [
    "train.features"
   ]
  },
  {
   "cell_type": "code",
   "execution_count": 58,
   "id": "af449daa",
   "metadata": {
    "execution": {
     "iopub.execute_input": "2025-05-01T19:28:48.933779Z",
     "iopub.status.busy": "2025-05-01T19:28:48.933042Z",
     "iopub.status.idle": "2025-05-01T19:29:02.296235Z",
     "shell.execute_reply": "2025-05-01T19:29:02.295348Z"
    },
    "papermill": {
     "duration": 13.649997,
     "end_time": "2025-05-01T19:29:02.297568",
     "exception": false,
     "start_time": "2025-05-01T19:28:48.647571",
     "status": "completed"
    },
    "tags": []
   },
   "outputs": [
    {
     "name": "stderr",
     "output_type": "stream",
     "text": [
      "training...: 100%|██████████| 37/37 [00:01<00:00, 20.56it/s]\n",
      "testing...: 100%|██████████| 13/13 [00:00<00:00, 35.12it/s]\n"
     ]
    },
    {
     "name": "stdout",
     "output_type": "stream",
     "text": [
      "Epoch; 0/10| Train_loss: 0.6776673229965003| Train_accurary: 0.6493541372788919\n",
      "Test_loss: 0.659519035082597 | Test_accuracy: 0.6965512770872849\n"
     ]
    },
    {
     "name": "stderr",
     "output_type": "stream",
     "text": [
      "training...: 100%|██████████| 37/37 [00:00<00:00, 40.08it/s]\n",
      "testing...: 100%|██████████| 13/13 [00:00<00:00, 58.29it/s]\n"
     ]
    },
    {
     "name": "stdout",
     "output_type": "stream",
     "text": [
      "Epoch; 1/10| Train_loss: 0.6347504048734098| Train_accurary: 0.7369217308791908\n",
      "Test_loss: 0.6069358403866107 | Test_accuracy: 0.7482311312968914\n"
     ]
    },
    {
     "name": "stderr",
     "output_type": "stream",
     "text": [
      "training...: 100%|██████████| 37/37 [00:00<00:00, 38.94it/s]\n",
      "testing...: 100%|██████████| 13/13 [00:00<00:00, 58.28it/s]\n"
     ]
    },
    {
     "name": "stdout",
     "output_type": "stream",
     "text": [
      "Epoch; 2/10| Train_loss: 0.5713084855595151| Train_accurary: 0.7739218795621717\n",
      "Test_loss: 0.545107167500716 | Test_accuracy: 0.7812386613625747\n"
     ]
    },
    {
     "name": "stderr",
     "output_type": "stream",
     "text": [
      "training...: 100%|██████████| 37/37 [00:00<00:00, 39.65it/s]\n",
      "testing...: 100%|██████████| 13/13 [00:00<00:00, 58.64it/s]\n"
     ]
    },
    {
     "name": "stdout",
     "output_type": "stream",
     "text": [
      "Epoch; 3/10| Train_loss: 0.4997060854692717| Train_accurary: 0.8178371464883959\n",
      "Test_loss: 0.4798896679511437 | Test_accuracy: 0.8204712455089276\n"
     ]
    },
    {
     "name": "stderr",
     "output_type": "stream",
     "text": [
      "training...: 100%|██████████| 37/37 [00:00<00:00, 39.92it/s]\n",
      "testing...: 100%|██████████| 13/13 [00:00<00:00, 56.85it/s]\n"
     ]
    },
    {
     "name": "stdout",
     "output_type": "stream",
     "text": [
      "Epoch; 4/10| Train_loss: 0.433595928791407| Train_accurary: 0.8505382956685247\n",
      "Test_loss: 0.4273394552560953 | Test_accuracy: 0.8444841962594253\n"
     ]
    },
    {
     "name": "stderr",
     "output_type": "stream",
     "text": [
      "training...: 100%|██████████| 37/37 [00:00<00:00, 39.96it/s]\n",
      "testing...: 100%|██████████| 13/13 [00:00<00:00, 58.79it/s]\n"
     ]
    },
    {
     "name": "stdout",
     "output_type": "stream",
     "text": [
      "Epoch; 5/10| Train_loss: 0.3801231384277344| Train_accurary: 0.8722892629133688\n",
      "Test_loss: 0.3902283815237192 | Test_accuracy: 0.8546750270403348\n"
     ]
    },
    {
     "name": "stderr",
     "output_type": "stream",
     "text": [
      "training...: 100%|██████████| 37/37 [00:00<00:00, 39.94it/s]\n",
      "testing...: 100%|██████████| 13/13 [00:00<00:00, 58.40it/s]\n"
     ]
    },
    {
     "name": "stdout",
     "output_type": "stream",
     "text": [
      "Epoch; 6/10| Train_loss: 0.3387684516004614| Train_accurary: 0.8851719853040334\n",
      "Test_loss: 0.3671027719974518 | Test_accuracy: 0.8593579943363483\n"
     ]
    },
    {
     "name": "stderr",
     "output_type": "stream",
     "text": [
      "training...: 100%|██████████| 37/37 [00:00<00:00, 39.70it/s]\n",
      "testing...: 100%|██████████| 13/13 [00:00<00:00, 56.82it/s]\n"
     ]
    },
    {
     "name": "stdout",
     "output_type": "stream",
     "text": [
      "Epoch; 7/10| Train_loss: 0.3060924459148098| Train_accurary: 0.8964272705284325\n",
      "Test_loss: 0.34809785852065456 | Test_accuracy: 0.8653676097209637\n"
     ]
    },
    {
     "name": "stderr",
     "output_type": "stream",
     "text": [
      "training...: 100%|██████████| 37/37 [00:01<00:00, 33.34it/s]\n",
      "testing...: 100%|██████████| 13/13 [00:00<00:00, 58.70it/s]\n"
     ]
    },
    {
     "name": "stdout",
     "output_type": "stream",
     "text": [
      "Epoch; 8/10| Train_loss: 0.2793323184187348| Train_accurary: 0.9069873593948983\n",
      "Test_loss: 0.3279503056636223 | Test_accuracy: 0.8729278170145475\n"
     ]
    },
    {
     "name": "stderr",
     "output_type": "stream",
     "text": [
      "training...: 100%|██████████| 37/37 [00:00<00:00, 39.86it/s]\n",
      "testing...: 100%|██████████| 13/13 [00:00<00:00, 58.87it/s]"
     ]
    },
    {
     "name": "stdout",
     "output_type": "stream",
     "text": [
      "Epoch; 9/10| Train_loss: 0.25674985268631495| Train_accurary: 0.9143891817814594\n",
      "Test_loss: 0.3160778238223149 | Test_accuracy: 0.8771600631567148\n"
     ]
    },
    {
     "name": "stderr",
     "output_type": "stream",
     "text": [
      "\n"
     ]
    }
   ],
   "source": [
    "epochs = 10\n",
    "best_valid_loss = float('inf')\n",
    "metrics = collections.defaultdict(list)\n",
    "\n",
    "for epoch in range(epochs):\n",
    "    train_loss,train_accuracy =  train_model(model,optimizer,criterion,train_data_loader,device)\n",
    "    valid_loss,valid_accuracy = evaluate(model,device,criterion,valid_data_loader)\n",
    "    metrics['train_loss'].append(train_loss)\n",
    "    metrics['test_loss'].append(valid_loss)\n",
    "    metrics['train_accuracy'].append(train_accuracy)\n",
    "    metrics['test_accuracy'].append(valid_accuracy)\n",
    "    if valid_loss<best_valid_loss:\n",
    "        best_valid_loss = valid_loss\n",
    "        torch.save(model.state_dict(),'nbw.pt')\n",
    "    if (epoch+1)%1 ==0  :\n",
    "        print(f'Epoch; {epoch}/{epochs}| Train_loss: {train_loss}| Train_accurary: {train_accuracy}') \n",
    "        print(f'Test_loss: {valid_loss} | Test_accuracy: {valid_accuracy}')"
   ]
  },
  {
   "cell_type": "code",
   "execution_count": 59,
   "id": "f8df92f6",
   "metadata": {
    "execution": {
     "iopub.execute_input": "2025-05-01T19:29:02.941016Z",
     "iopub.status.busy": "2025-05-01T19:29:02.940673Z",
     "iopub.status.idle": "2025-05-01T19:29:02.947278Z",
     "shell.execute_reply": "2025-05-01T19:29:02.946684Z"
    },
    "papermill": {
     "duration": 0.351328,
     "end_time": "2025-05-01T19:29:02.948587",
     "exception": false,
     "start_time": "2025-05-01T19:29:02.597259",
     "status": "completed"
    },
    "tags": []
   },
   "outputs": [
    {
     "data": {
      "text/plain": [
       "defaultdict(list,\n",
       "            {'train_loss': [0.6776673229965003,\n",
       "              0.6347504048734098,\n",
       "              0.5713084855595151,\n",
       "              0.4997060854692717,\n",
       "              0.433595928791407,\n",
       "              0.3801231384277344,\n",
       "              0.3387684516004614,\n",
       "              0.3060924459148098,\n",
       "              0.2793323184187348,\n",
       "              0.25674985268631495],\n",
       "             'test_loss': [0.659519035082597,\n",
       "              0.6069358403866107,\n",
       "              0.545107167500716,\n",
       "              0.4798896679511437,\n",
       "              0.4273394552560953,\n",
       "              0.3902283815237192,\n",
       "              0.3671027719974518,\n",
       "              0.34809785852065456,\n",
       "              0.3279503056636223,\n",
       "              0.3160778238223149],\n",
       "             'train_accuracy': [0.6493541372788919,\n",
       "              0.7369217308791908,\n",
       "              0.7739218795621717,\n",
       "              0.8178371464883959,\n",
       "              0.8505382956685247,\n",
       "              0.8722892629133688,\n",
       "              0.8851719853040334,\n",
       "              0.8964272705284325,\n",
       "              0.9069873593948983,\n",
       "              0.9143891817814594],\n",
       "             'test_accuracy': [0.6965512770872849,\n",
       "              0.7482311312968914,\n",
       "              0.7812386613625747,\n",
       "              0.8204712455089276,\n",
       "              0.8444841962594253,\n",
       "              0.8546750270403348,\n",
       "              0.8593579943363483,\n",
       "              0.8653676097209637,\n",
       "              0.8729278170145475,\n",
       "              0.8771600631567148]})"
      ]
     },
     "execution_count": 59,
     "metadata": {},
     "output_type": "execute_result"
    }
   ],
   "source": [
    "metrics"
   ]
  },
  {
   "cell_type": "code",
   "execution_count": 60,
   "id": "b97c82ba",
   "metadata": {
    "execution": {
     "iopub.execute_input": "2025-05-01T19:29:03.565146Z",
     "iopub.status.busy": "2025-05-01T19:29:03.564372Z",
     "iopub.status.idle": "2025-05-01T19:29:03.931774Z",
     "shell.execute_reply": "2025-05-01T19:29:03.931041Z"
    },
    "papermill": {
     "duration": 0.666281,
     "end_time": "2025-05-01T19:29:03.932966",
     "exception": false,
     "start_time": "2025-05-01T19:29:03.266685",
     "status": "completed"
    },
    "tags": []
   },
   "outputs": [
    {
     "data": {
      "image/png": "[encoded data removed]",
      "text/plain": [
       "<Figure size 1000x600 with 1 Axes>"
      ]
     },
     "metadata": {},
     "output_type": "display_data"
    }
   ],
   "source": [
    "\n",
    "fig = plt.figure(figsize=(10, 6))\n",
    "ax = fig.add_subplot(1, 1, 1)\n",
    "ax.plot(metrics[\"train_loss\"], label=\"train loss\")\n",
    "ax.plot(metrics[\"test_loss\"], label=\"valid loss\")\n",
    "ax.set_xlabel(\"epoch\")\n",
    "ax.set_ylabel(\"loss\")\n",
    "ax.set_xticks(range(epochs))\n",
    "ax.legend()\n",
    "ax.grid()\n"
   ]
  },
  {
   "cell_type": "code",
   "execution_count": 61,
   "id": "d6f92e89",
   "metadata": {
    "execution": {
     "iopub.execute_input": "2025-05-01T19:29:04.577424Z",
     "iopub.status.busy": "2025-05-01T19:29:04.577104Z",
     "iopub.status.idle": "2025-05-01T19:29:04.760081Z",
     "shell.execute_reply": "2025-05-01T19:29:04.759433Z"
    },
    "papermill": {
     "duration": 0.483036,
     "end_time": "2025-05-01T19:29:04.761268",
     "exception": false,
     "start_time": "2025-05-01T19:29:04.278232",
     "status": "completed"
    },
    "tags": []
   },
   "outputs": [
    {
     "data": {
      "image/png": "[encoded data removed]",
      "text/plain": [
       "<Figure size 1000x600 with 1 Axes>"
      ]
     },
     "metadata": {},
     "output_type": "display_data"
    }
   ],
   "source": [
    "fig = plt.figure(figsize=(10, 6))\n",
    "ax = fig.add_subplot(1, 1, 1)\n",
    "ax.plot(metrics[\"train_accuracy\"], label=\"train accuracy\")\n",
    "ax.plot(metrics[\"test_accuracy\"], label=\"valid accuracy\")\n",
    "ax.set_xlabel(\"epoch\")\n",
    "ax.set_ylabel(\"loss\")\n",
    "ax.set_xticks(range(epochs))\n",
    "ax.legend()\n",
    "ax.grid()"
   ]
  },
  {
   "cell_type": "code",
   "execution_count": 62,
   "id": "0e702ba6",
   "metadata": {
    "execution": {
     "iopub.execute_input": "2025-05-01T19:29:05.416384Z",
     "iopub.status.busy": "2025-05-01T19:29:05.415774Z",
     "iopub.status.idle": "2025-05-01T19:29:06.893365Z",
     "shell.execute_reply": "2025-05-01T19:29:06.892570Z"
    },
    "papermill": {
     "duration": 1.82545,
     "end_time": "2025-05-01T19:29:06.894387",
     "exception": false,
     "start_time": "2025-05-01T19:29:05.068937",
     "status": "completed"
    },
    "tags": []
   },
   "outputs": [
    {
     "name": "stderr",
     "output_type": "stream",
     "text": [
      "testing...: 100%|██████████| 49/49 [00:01<00:00, 33.74it/s]"
     ]
    },
    {
     "name": "stdout",
     "output_type": "stream",
     "text": [
      "test_loss: 0.35344937747838545,   test_acc: 0.8556800813091044\n"
     ]
    },
    {
     "name": "stderr",
     "output_type": "stream",
     "text": [
      "\n"
     ]
    }
   ],
   "source": [
    "model.load_state_dict(torch.load('nbw.pt'))\n",
    "test_loss,test_acc = evaluate(model,device,criterion,test_data_loader)\n",
    "print(f'test_loss: {test_loss},   test_acc: {test_acc}')"
   ]
  },
  {
   "cell_type": "code",
   "execution_count": 63,
   "id": "4101a164",
   "metadata": {
    "execution": {
     "iopub.execute_input": "2025-05-01T19:29:07.489037Z",
     "iopub.status.busy": "2025-05-01T19:29:07.488747Z",
     "iopub.status.idle": "2025-05-01T19:29:07.493008Z",
     "shell.execute_reply": "2025-05-01T19:29:07.492498Z"
    },
    "papermill": {
     "duration": 0.300008,
     "end_time": "2025-05-01T19:29:07.494069",
     "exception": false,
     "start_time": "2025-05-01T19:29:07.194061",
     "status": "completed"
    },
    "tags": []
   },
   "outputs": [],
   "source": [
    "def predict(text,model,tokenizer,device,vocab):\n",
    "    tokens = tokenizer(text)\n",
    "    idx = vocab.lookup_indices(tokens)\n",
    "    tensor = torch.LongTensor(idx).unsqueeze(0).to(device)\n",
    "    pred = model(tensor).squeeze(0)\n",
    "    prob = torch.softmax(pred,dim=-1)\n",
    "    class_pred  = pred.argmax(dim=-1).item()\n",
    "    pred_prob = prob[class_pred].item()\n",
    "    return class_pred,pred_prob"
   ]
  },
  {
   "cell_type": "code",
   "execution_count": 64,
   "id": "6f94dfe9",
   "metadata": {
    "execution": {
     "iopub.execute_input": "2025-05-01T19:29:08.135710Z",
     "iopub.status.busy": "2025-05-01T19:29:08.134986Z",
     "iopub.status.idle": "2025-05-01T19:29:08.144471Z",
     "shell.execute_reply": "2025-05-01T19:29:08.143905Z"
    },
    "papermill": {
     "duration": 0.35674,
     "end_time": "2025-05-01T19:29:08.145526",
     "exception": false,
     "start_time": "2025-05-01T19:29:07.788786",
     "status": "completed"
    },
    "tags": []
   },
   "outputs": [],
   "source": [
    "train['label'].unique()\n",
    "label = ['Neg','pos']"
   ]
  },
  {
   "cell_type": "code",
   "execution_count": 65,
   "id": "3b78da41",
   "metadata": {
    "execution": {
     "iopub.execute_input": "2025-05-01T19:29:08.741809Z",
     "iopub.status.busy": "2025-05-01T19:29:08.741412Z",
     "iopub.status.idle": "2025-05-01T19:29:08.745805Z",
     "shell.execute_reply": "2025-05-01T19:29:08.745236Z"
    },
    "papermill": {
     "duration": 0.301327,
     "end_time": "2025-05-01T19:29:08.746882",
     "exception": false,
     "start_time": "2025-05-01T19:29:08.445555",
     "status": "completed"
    },
    "tags": []
   },
   "outputs": [],
   "source": [
    "reviews = [\n",
    "    # 1\n",
    "    \"Incredible movie! The acting was superb, and the plot kept me on the edge of my seat. Definitely a must-watch!\",\n",
    "    # 2\n",
    "    \"Terrible movie. The plot was predictable, and the acting was flat. I was bored halfway through.\",\n",
    "    # 3\n",
    "    \"I loved every second of it. The direction, screenplay, and performances were just outstanding. Highly recommend!\",\n",
    "    # 4\n",
    "    \"I don’t understand the hype. The story was weak, and the characters felt one-dimensional. Definitely not worth the watch.\",\n",
    "    # 5\n",
    "    \"An absolute masterpiece! The characters were so well-developed, and the story was gripping from start to finish.\",\n",
    "    # 6\n",
    "    \"Waste of time. It dragged on forever, and the pacing was horrible. The dialogue was cringeworthy at times.\",\n",
    "    # 7\n",
    "    \"This film exceeded all my expectations. Fantastic action sequences and a story that actually makes you think.\",\n",
    "    # 8\n",
    "    \"Very disappointing. The special effects couldn’t save this one. The plot was all over the place and not engaging at all.\",\n",
    "    # 9\n",
    "    \"An emotionally charged movie with brilliant performances. It’s rare to find such a deep and powerful film. 10/10!\",\n",
    "    # 10\n",
    "    \"The film didn’t make sense. The plot had too many holes, and the characters were unbelievable. Avoid it!\",\n",
    "    # 11\n",
    "    \"I was completely absorbed by this movie. The plot was fresh and exciting, and the cinematography was stunning.\",\n",
    "    # 12\n",
    "    \"Boring and unoriginal. This movie tried too hard to be deep but ended up being a mess.\",\n",
    "    # 13\n",
    "    \"A great film that blends drama and action perfectly. A must-see for any fan of the genre.\",\n",
    "    # 14\n",
    "    \"I wanted to like this film, but it was a huge letdown. The script was weak, and the pacing was painfully slow.\",\n",
    "    # 15\n",
    "    \"I thoroughly enjoyed it. The storyline was compelling, and the acting was top-notch. A great cinematic experience.\",\n",
    "    # 16\n",
    "    \"I really didn’t enjoy this. The story was too predictable, and the characters felt like cardboard cutouts.\",\n",
    "    # 17\n",
    "    \"What a beautiful movie! From the soundtrack to the visuals, everything was top quality. Highly recommend watching it.\",\n",
    "    # 18\n",
    "    \"I was expecting more, but this movie failed to deliver. The performances were stiff, and the story lacked depth.\",\n",
    "    # 19\n",
    "    \"Such a feel-good film! It left me smiling all the way through. The performances were outstanding, especially the lead actor.\",\n",
    "    # 20\n",
    "    \"The movie was just plain bad. The acting was wooden, and the direction was all over the place. Not worth your time.\"\n",
    "]\n"
   ]
  },
  {
   "cell_type": "code",
   "execution_count": 66,
   "id": "bc5ac443",
   "metadata": {
    "execution": {
     "iopub.execute_input": "2025-05-01T19:29:09.389992Z",
     "iopub.status.busy": "2025-05-01T19:29:09.389716Z",
     "iopub.status.idle": "2025-05-01T19:29:09.427205Z",
     "shell.execute_reply": "2025-05-01T19:29:09.426250Z"
    },
    "papermill": {
     "duration": 0.33727,
     "end_time": "2025-05-01T19:29:09.428407",
     "exception": false,
     "start_time": "2025-05-01T19:29:09.091137",
     "status": "completed"
    },
    "tags": []
   },
   "outputs": [
    {
     "name": "stdout",
     "output_type": "stream",
     "text": [
      "Pos or neg -> pos\n",
      "Probability -> 0.9995630383491516\n",
      "Pos or neg -> Neg\n",
      "Probability -> 1.0\n",
      "Pos or neg -> pos\n",
      "Probability -> 0.9999604225158691\n",
      "Pos or neg -> Neg\n",
      "Probability -> 0.9661660194396973\n",
      "Pos or neg -> pos\n",
      "Probability -> 0.949195384979248\n",
      "Pos or neg -> Neg\n",
      "Probability -> 0.9997920393943787\n",
      "Pos or neg -> pos\n",
      "Probability -> 0.9999929666519165\n",
      "Pos or neg -> Neg\n",
      "Probability -> 0.9998279809951782\n",
      "Pos or neg -> pos\n",
      "Probability -> 0.9999996423721313\n",
      "Pos or neg -> Neg\n",
      "Probability -> 0.999969482421875\n",
      "Pos or neg -> pos\n",
      "Probability -> 0.8442798852920532\n",
      "Pos or neg -> Neg\n",
      "Probability -> 0.9999998807907104\n",
      "Pos or neg -> pos\n",
      "Probability -> 0.9999979734420776\n",
      "Pos or neg -> Neg\n",
      "Probability -> 0.9999951124191284\n",
      "Pos or neg -> pos\n",
      "Probability -> 0.9997562766075134\n",
      "Pos or neg -> Neg\n",
      "Probability -> 0.9967183470726013\n",
      "Pos or neg -> pos\n",
      "Probability -> 0.9999462366104126\n",
      "Pos or neg -> Neg\n",
      "Probability -> 0.8754857182502747\n",
      "Pos or neg -> pos\n",
      "Probability -> 0.9980910420417786\n",
      "Pos or neg -> Neg\n",
      "Probability -> 0.9999979734420776\n"
     ]
    }
   ],
   "source": [
    "for text in reviews:\n",
    "    class_pred,prob = predict(text,model,tokenizer,device,vocab)\n",
    "    print(f'Pos or neg -> {label[class_pred]}')\n",
    "    print(f'Probability -> {prob}')"
   ]
  },
  {
   "cell_type": "code",
   "execution_count": null,
   "id": "6bde5f77",
   "metadata": {
    "papermill": {
     "duration": 0.346315,
     "end_time": "2025-05-01T19:29:10.070234",
     "exception": false,
     "start_time": "2025-05-01T19:29:09.723919",
     "status": "completed"
    },
    "tags": []
   },
   "outputs": [],
   "source": []
  }
 ],
 "metadata": {
  "colab": {
   "authorship_tag": "ABX9TyMzU8mMjULXWzWnQba4dJ2M",
   "provenance": []
  },
  "kaggle": {
   "accelerator": "nvidiaTeslaT4",
   "dataSources": [],
   "dockerImageVersionId": 31011,
   "isGpuEnabled": true,
   "isInternetEnabled": true,
   "language": "python",
   "sourceType": "notebook"
  },
  "kernelspec": {
   "display_name": "Python 3",
   "language": "python",
   "name": "python3"
  },
  "language_info": {
   "codemirror_mode": {
    "name": "ipython",
    "version": 3
   },
   "file_extension": ".py",
   "mimetype": "text/x-python",
   "name": "python",
   "nbconvert_exporter": "python",
   "pygments_lexer": "ipython3",
   "version": "3.11.11"
  },
  "papermill": {
   "default_parameters": {},
   "duration": 953.262683,
   "end_time": "2025-05-01T19:29:13.298874",
   "environment_variables": {},
   "exception": null,
   "input_path": "__notebook__.ipynb",
   "output_path": "__notebook__.ipynb",
   "parameters": {},
   "start_time": "2025-05-01T19:13:20.036191",
   "version": "2.6.0"
  },
  "widgets": {
   "application/vnd.jupyter.widget-state+json": {
    "state": {
     "01789f81c77142ccb2408be00ebb0cbe": {
      "model_module": "@jupyter-widgets/controls",
      "model_module_version": "2.0.0",
      "model_name": "HTMLStyleModel",
      "state": {
       "_model_module": "@jupyter-widgets/controls",
       "_model_module_version": "2.0.0",
       "_model_name": "HTMLStyleModel",
       "_view_count": null,
       "_view_module": "@jupyter-widgets/base",
       "_view_module_version": "2.0.0",
       "_view_name": "StyleView",
       "background": null,
       "description_width": "",
       "font_size": null,
       "text_color": null
      }
     },
     "0180419277144c4bad1715749fa8b7c1": {
      "model_module": "@jupyter-widgets/controls",
      "model_module_version": "2.0.0",
      "model_name": "HBoxModel",
      "state": {
       "_dom_classes": [],
       "_model_module": "@jupyter-widgets/controls",
       "_model_module_version": "2.0.0",
       "_model_name": "HBoxModel",
       "_view_count": null,
       "_view_module": "@jupyter-widgets/controls",
       "_view_module_version": "2.0.0",
       "_view_name": "HBoxView",
       "box_style": "",
       "children": [
        "IPY_MODEL_3b0ea4ba7eed4c65aab3bf88fc29e851",
        "IPY_MODEL_4c4ab24d289a4ec3af303c56fcec1056",
        "IPY_MODEL_cbb6b192131e475bb8078d16f2fec983"
       ],
       "layout": "IPY_MODEL_3abadc0d618147b38567b84ee64d471b",
       "tabbable": null,
       "tooltip": null
      }
     },
     "02e04a05770f408f82aef61cfe81cc34": {
      "model_module": "@jupyter-widgets/controls",
      "model_module_version": "2.0.0",
      "model_name": "HTMLStyleModel",
      "state": {
       "_model_module": "@jupyter-widgets/controls",
       "_model_module_version": "2.0.0",
       "_model_name": "HTMLStyleModel",
       "_view_count": null,
       "_view_module": "@jupyter-widgets/base",
       "_view_module_version": "2.0.0",
       "_view_name": "StyleView",
       "background": null,
       "description_width": "",
       "font_size": null,
       "text_color": null
      }
     },
     "04b1c729c4a44cdc9e97ea12a306dd34": {
      "model_module": "@jupyter-widgets/base",
      "model_module_version": "2.0.0",
      "model_name": "LayoutModel",
      "state": {
       "_model_module": "@jupyter-widgets/base",
       "_model_module_version": "2.0.0",
       "_model_name": "LayoutModel",
       "_view_count": null,
       "_view_module": "@jupyter-widgets/base",
       "_view_module_version": "2.0.0",
       "_view_name": "LayoutView",
       "align_content": null,
       "align_items": null,
       "align_self": null,
       "border_bottom": null,
       "border_left": null,
       "border_right": null,
       "border_top": null,
       "bottom": null,
       "display": null,
       "flex": null,
       "flex_flow": null,
       "grid_area": null,
       "grid_auto_columns": null,
       "grid_auto_flow": null,
       "grid_auto_rows": null,
       "grid_column": null,
       "grid_gap": null,
       "grid_row": null,
       "grid_template_areas": null,
       "grid_template_columns": null,
       "grid_template_rows": null,
       "height": null,
       "justify_content": null,
       "justify_items": null,
       "left": null,
       "margin": null,
       "max_height": null,
       "max_width": null,
       "min_height": null,
       "min_width": null,
       "object_fit": null,
       "object_position": null,
       "order": null,
       "overflow": null,
       "padding": null,
       "right": null,
       "top": null,
       "visibility": null,
       "width": null
      }
     },
     "05b94634dbf64a6cbebb58d72b2d9d3d": {
      "model_module": "@jupyter-widgets/controls",
      "model_module_version": "2.0.0",
      "model_name": "ProgressStyleModel",
      "state": {
       "_model_module": "@jupyter-widgets/controls",
       "_model_module_version": "2.0.0",
       "_model_name": "ProgressStyleModel",
       "_view_count": null,
       "_view_module": "@jupyter-widgets/base",
       "_view_module_version": "2.0.0",
       "_view_name": "StyleView",
       "bar_color": null,
       "description_width": ""
      }
     },
     "06e5b1cabbc1435b83ccb6ec495ecdda": {
      "model_module": "@jupyter-widgets/base",
      "model_module_version": "2.0.0",
      "model_name": "LayoutModel",
      "state": {
       "_model_module": "@jupyter-widgets/base",
       "_model_module_version": "2.0.0",
       "_model_name": "LayoutModel",
       "_view_count": null,
       "_view_module": "@jupyter-widgets/base",
       "_view_module_version": "2.0.0",
       "_view_name": "LayoutView",
       "align_content": null,
       "align_items": null,
       "align_self": null,
       "border_bottom": null,
       "border_left": null,
       "border_right": null,
       "border_top": null,
       "bottom": null,
       "display": null,
       "flex": null,
       "flex_flow": null,
       "grid_area": null,
       "grid_auto_columns": null,
       "grid_auto_flow": null,
       "grid_auto_rows": null,
       "grid_column": null,
       "grid_gap": null,
       "grid_row": null,
       "grid_template_areas": null,
       "grid_template_columns": null,
       "grid_template_rows": null,
       "height": null,
       "justify_content": null,
       "justify_items": null,
       "left": null,
       "margin": null,
       "max_height": null,
       "max_width": null,
       "min_height": null,
       "min_width": null,
       "object_fit": null,
       "object_position": null,
       "order": null,
       "overflow": null,
       "padding": null,
       "right": null,
       "top": null,
       "visibility": null,
       "width": null
      }
     },
     "07b2cba2bafc4cdb89834f8b48c7c012": {
      "model_module": "@jupyter-widgets/controls",
      "model_module_version": "2.0.0",
      "model_name": "HBoxModel",
      "state": {
       "_dom_classes": [],
       "_model_module": "@jupyter-widgets/controls",
       "_model_module_version": "2.0.0",
       "_model_name": "HBoxModel",
       "_view_count": null,
       "_view_module": "@jupyter-widgets/controls",
       "_view_module_version": "2.0.0",
       "_view_name": "HBoxView",
       "box_style": "",
       "children": [
        "IPY_MODEL_a1a57b74a7254ba787da17868ce1cfa1",
        "IPY_MODEL_db507ceb8ec940aab781ffee3583df63",
        "IPY_MODEL_20d3e4c430574ad2969945fd66ff30f4"
       ],
       "layout": "IPY_MODEL_fd0665e4810848d3a4716b94a47f3925",
       "tabbable": null,
       "tooltip": null
      }
     },
     "0885ad391f334c95aed8eff2147c1ac5": {
      "model_module": "@jupyter-widgets/base",
      "model_module_version": "2.0.0",
      "model_name": "LayoutModel",
      "state": {
       "_model_module": "@jupyter-widgets/base",
       "_model_module_version": "2.0.0",
       "_model_name": "LayoutModel",
       "_view_count": null,
       "_view_module": "@jupyter-widgets/base",
       "_view_module_version": "2.0.0",
       "_view_name": "LayoutView",
       "align_content": null,
       "align_items": null,
       "align_self": null,
       "border_bottom": null,
       "border_left": null,
       "border_right": null,
       "border_top": null,
       "bottom": null,
       "display": null,
       "flex": null,
       "flex_flow": null,
       "grid_area": null,
       "grid_auto_columns": null,
       "grid_auto_flow": null,
       "grid_auto_rows": null,
       "grid_column": null,
       "grid_gap": null,
       "grid_row": null,
       "grid_template_areas": null,
       "grid_template_columns": null,
       "grid_template_rows": null,
       "height": null,
       "justify_content": null,
       "justify_items": null,
       "left": null,
       "margin": null,
       "max_height": null,
       "max_width": null,
       "min_height": null,
       "min_width": null,
       "object_fit": null,
       "object_position": null,
       "order": null,
       "overflow": null,
       "padding": null,
       "right": null,
       "top": null,
       "visibility": null,
       "width": null
      }
     },
     "0c4ae4441f5541c4b2d214738a0a5eac": {
      "model_module": "@jupyter-widgets/base",
      "model_module_version": "2.0.0",
      "model_name": "LayoutModel",
      "state": {
       "_model_module": "@jupyter-widgets/base",
       "_model_module_version": "2.0.0",
       "_model_name": "LayoutModel",
       "_view_count": null,
       "_view_module": "@jupyter-widgets/base",
       "_view_module_version": "2.0.0",
       "_view_name": "LayoutView",
       "align_content": null,
       "align_items": null,
       "align_self": null,
       "border_bottom": null,
       "border_left": null,
       "border_right": null,
       "border_top": null,
       "bottom": null,
       "display": null,
       "flex": null,
       "flex_flow": null,
       "grid_area": null,
       "grid_auto_columns": null,
       "grid_auto_flow": null,
       "grid_auto_rows": null,
       "grid_column": null,
       "grid_gap": null,
       "grid_row": null,
       "grid_template_areas": null,
       "grid_template_columns": null,
       "grid_template_rows": null,
       "height": null,
       "justify_content": null,
       "justify_items": null,
       "left": null,
       "margin": null,
       "max_height": null,
       "max_width": null,
       "min_height": null,
       "min_width": null,
       "object_fit": null,
       "object_position": null,
       "order": null,
       "overflow": null,
       "padding": null,
       "right": null,
       "top": null,
       "visibility": null,
       "width": null
      }
     },
     "0e8f7a315f3f4c2ba30295882508067c": {
      "model_module": "@jupyter-widgets/base",
      "model_module_version": "2.0.0",
      "model_name": "LayoutModel",
      "state": {
       "_model_module": "@jupyter-widgets/base",
       "_model_module_version": "2.0.0",
       "_model_name": "LayoutModel",
       "_view_count": null,
       "_view_module": "@jupyter-widgets/base",
       "_view_module_version": "2.0.0",
       "_view_name": "LayoutView",
       "align_content": null,
       "align_items": null,
       "align_self": null,
       "border_bottom": null,
       "border_left": null,
       "border_right": null,
       "border_top": null,
       "bottom": null,
       "display": null,
       "flex": null,
       "flex_flow": null,
       "grid_area": null,
       "grid_auto_columns": null,
       "grid_auto_flow": null,
       "grid_auto_rows": null,
       "grid_column": null,
       "grid_gap": null,
       "grid_row": null,
       "grid_template_areas": null,
       "grid_template_columns": null,
       "grid_template_rows": null,
       "height": null,
       "justify_content": null,
       "justify_items": null,
       "left": null,
       "margin": null,
       "max_height": null,
       "max_width": null,
       "min_height": null,
       "min_width": null,
       "object_fit": null,
       "object_position": null,
       "order": null,
       "overflow": null,
       "padding": null,
       "right": null,
       "top": null,
       "visibility": null,
       "width": null
      }
     },
     "1179c4d1347f442fa79c469bb0cc3509": {
      "model_module": "@jupyter-widgets/controls",
      "model_module_version": "2.0.0",
      "model_name": "HTMLStyleModel",
      "state": {
       "_model_module": "@jupyter-widgets/controls",
       "_model_module_version": "2.0.0",
       "_model_name": "HTMLStyleModel",
       "_view_count": null,
       "_view_module": "@jupyter-widgets/base",
       "_view_module_version": "2.0.0",
       "_view_name": "StyleView",
       "background": null,
       "description_width": "",
       "font_size": null,
       "text_color": null
      }
     },
     "154c1f5cfd104d988ef8714420420fed": {
      "model_module": "@jupyter-widgets/controls",
      "model_module_version": "2.0.0",
      "model_name": "HTMLModel",
      "state": {
       "_dom_classes": [],
       "_model_module": "@jupyter-widgets/controls",
       "_model_module_version": "2.0.0",
       "_model_name": "HTMLModel",
       "_view_count": null,
       "_view_module": "@jupyter-widgets/controls",
       "_view_module_version": "2.0.0",
       "_view_name": "HTMLView",
       "description": "",
       "description_allow_html": false,
       "layout": "IPY_MODEL_3ca8b22d348e4719981ee92317bbca90",
       "placeholder": "​",
       "style": "IPY_MODEL_8baa8ad4629f4eb29f467a8d098aded5",
       "tabbable": null,
       "tooltip": null,
       "value": " 18750/18750 [00:06&lt;00:00, 2959.95 examples/s]"
      }
     },
     "1659d8aa0526403a8c0a9442870a8dd9": {
      "model_module": "@jupyter-widgets/controls",
      "model_module_version": "2.0.0",
      "model_name": "HTMLModel",
      "state": {
       "_dom_classes": [],
       "_model_module": "@jupyter-widgets/controls",
       "_model_module_version": "2.0.0",
       "_model_name": "HTMLModel",
       "_view_count": null,
       "_view_module": "@jupyter-widgets/controls",
       "_view_module_version": "2.0.0",
       "_view_name": "HTMLView",
       "description": "",
       "description_allow_html": false,
       "layout": "IPY_MODEL_98ae7f79713b4c3da5172cf5e5469a9b",
       "placeholder": "​",
       "style": "IPY_MODEL_f565a30a6a144ed8b189db46bff50769",
       "tabbable": null,
       "tooltip": null,
       "value": "Map: 100%"
      }
     },
     "16ae937ff4334cbca9b534974ab94f88": {
      "model_module": "@jupyter-widgets/controls",
      "model_module_version": "2.0.0",
      "model_name": "HTMLStyleModel",
      "state": {
       "_model_module": "@jupyter-widgets/controls",
       "_model_module_version": "2.0.0",
       "_model_name": "HTMLStyleModel",
       "_view_count": null,
       "_view_module": "@jupyter-widgets/base",
       "_view_module_version": "2.0.0",
       "_view_name": "StyleView",
       "background": null,
       "description_width": "",
       "font_size": null,
       "text_color": null
      }
     },
     "1ae1f1fd91004c4697ed687e9c88d71b": {
      "model_module": "@jupyter-widgets/base",
      "model_module_version": "2.0.0",
      "model_name": "LayoutModel",
      "state": {
       "_model_module": "@jupyter-widgets/base",
       "_model_module_version": "2.0.0",
       "_model_name": "LayoutModel",
       "_view_count": null,
       "_view_module": "@jupyter-widgets/base",
       "_view_module_version": "2.0.0",
       "_view_name": "LayoutView",
       "align_content": null,
       "align_items": null,
       "align_self": null,
       "border_bottom": null,
       "border_left": null,
       "border_right": null,
       "border_top": null,
       "bottom": null,
       "display": null,
       "flex": null,
       "flex_flow": null,
       "grid_area": null,
       "grid_auto_columns": null,
       "grid_auto_flow": null,
       "grid_auto_rows": null,
       "grid_column": null,
       "grid_gap": null,
       "grid_row": null,
       "grid_template_areas": null,
       "grid_template_columns": null,
       "grid_template_rows": null,
       "height": null,
       "justify_content": null,
       "justify_items": null,
       "left": null,
       "margin": null,
       "max_height": null,
       "max_width": null,
       "min_height": null,
       "min_width": null,
       "object_fit": null,
       "object_position": null,
       "order": null,
       "overflow": null,
       "padding": null,
       "right": null,
       "top": null,
       "visibility": null,
       "width": null
      }
     },
     "1bbb4ae9878b4b2f8b5285a165e56806": {
      "model_module": "@jupyter-widgets/base",
      "model_module_version": "2.0.0",
      "model_name": "LayoutModel",
      "state": {
       "_model_module": "@jupyter-widgets/base",
       "_model_module_version": "2.0.0",
       "_model_name": "LayoutModel",
       "_view_count": null,
       "_view_module": "@jupyter-widgets/base",
       "_view_module_version": "2.0.0",
       "_view_name": "LayoutView",
       "align_content": null,
       "align_items": null,
       "align_self": null,
       "border_bottom": null,
       "border_left": null,
       "border_right": null,
       "border_top": null,
       "bottom": null,
       "display": null,
       "flex": null,
       "flex_flow": null,
       "grid_area": null,
       "grid_auto_columns": null,
       "grid_auto_flow": null,
       "grid_auto_rows": null,
       "grid_column": null,
       "grid_gap": null,
       "grid_row": null,
       "grid_template_areas": null,
       "grid_template_columns": null,
       "grid_template_rows": null,
       "height": null,
       "justify_content": null,
       "justify_items": null,
       "left": null,
       "margin": null,
       "max_height": null,
       "max_width": null,
       "min_height": null,
       "min_width": null,
       "object_fit": null,
       "object_position": null,
       "order": null,
       "overflow": null,
       "padding": null,
       "right": null,
       "top": null,
       "visibility": null,
       "width": null
      }
     },
     "1ce5c77dfc084a1782fd3d0b07d0527a": {
      "model_module": "@jupyter-widgets/controls",
      "model_module_version": "2.0.0",
      "model_name": "HTMLModel",
      "state": {
       "_dom_classes": [],
       "_model_module": "@jupyter-widgets/controls",
       "_model_module_version": "2.0.0",
       "_model_name": "HTMLModel",
       "_view_count": null,
       "_view_module": "@jupyter-widgets/controls",
       "_view_module_version": "2.0.0",
       "_view_name": "HTMLView",
       "description": "",
       "description_allow_html": false,
       "layout": "IPY_MODEL_fa2ef667e4664a3ebbd7d95cda3bbd4f",
       "placeholder": "​",
       "style": "IPY_MODEL_4e0051c5725e4c3c995844178dbad97b",
       "tabbable": null,
       "tooltip": null,
       "value": " 20.5M/20.5M [00:00&lt;00:00, 92.0MB/s]"
      }
     },
     "1dec4fdeecd346338bffdac00660bfff": {
      "model_module": "@jupyter-widgets/base",
      "model_module_version": "2.0.0",
      "model_name": "LayoutModel",
      "state": {
       "_model_module": "@jupyter-widgets/base",
       "_model_module_version": "2.0.0",
       "_model_name": "LayoutModel",
       "_view_count": null,
       "_view_module": "@jupyter-widgets/base",
       "_view_module_version": "2.0.0",
       "_view_name": "LayoutView",
       "align_content": null,
       "align_items": null,
       "align_self": null,
       "border_bottom": null,
       "border_left": null,
       "border_right": null,
       "border_top": null,
       "bottom": null,
       "display": null,
       "flex": null,
       "flex_flow": null,
       "grid_area": null,
       "grid_auto_columns": null,
       "grid_auto_flow": null,
       "grid_auto_rows": null,
       "grid_column": null,
       "grid_gap": null,
       "grid_row": null,
       "grid_template_areas": null,
       "grid_template_columns": null,
       "grid_template_rows": null,
       "height": null,
       "justify_content": null,
       "justify_items": null,
       "left": null,
       "margin": null,
       "max_height": null,
       "max_width": null,
       "min_height": null,
       "min_width": null,
       "object_fit": null,
       "object_position": null,
       "order": null,
       "overflow": null,
       "padding": null,
       "right": null,
       "top": null,
       "visibility": null,
       "width": null
      }
     },
     "1ed04c7f44734cf0b272388e09b296ac": {
      "model_module": "@jupyter-widgets/base",
      "model_module_version": "2.0.0",
      "model_name": "LayoutModel",
      "state": {
       "_model_module": "@jupyter-widgets/base",
       "_model_module_version": "2.0.0",
       "_model_name": "LayoutModel",
       "_view_count": null,
       "_view_module": "@jupyter-widgets/base",
       "_view_module_version": "2.0.0",
       "_view_name": "LayoutView",
       "align_content": null,
       "align_items": null,
       "align_self": null,
       "border_bottom": null,
       "border_left": null,
       "border_right": null,
       "border_top": null,
       "bottom": null,
       "display": null,
       "flex": null,
       "flex_flow": null,
       "grid_area": null,
       "grid_auto_columns": null,
       "grid_auto_flow": null,
       "grid_auto_rows": null,
       "grid_column": null,
       "grid_gap": null,
       "grid_row": null,
       "grid_template_areas": null,
       "grid_template_columns": null,
       "grid_template_rows": null,
       "height": null,
       "justify_content": null,
       "justify_items": null,
       "left": null,
       "margin": null,
       "max_height": null,
       "max_width": null,
       "min_height": null,
       "min_width": null,
       "object_fit": null,
       "object_position": null,
       "order": null,
       "overflow": null,
       "padding": null,
       "right": null,
       "top": null,
       "visibility": null,
       "width": null
      }
     },
     "20d3e4c430574ad2969945fd66ff30f4": {
      "model_module": "@jupyter-widgets/controls",
      "model_module_version": "2.0.0",
      "model_name": "HTMLModel",
      "state": {
       "_dom_classes": [],
       "_model_module": "@jupyter-widgets/controls",
       "_model_module_version": "2.0.0",
       "_model_name": "HTMLModel",
       "_view_count": null,
       "_view_module": "@jupyter-widgets/controls",
       "_view_module_version": "2.0.0",
       "_view_name": "HTMLView",
       "description": "",
       "description_allow_html": false,
       "layout": "IPY_MODEL_364606023c044140bd17e0e0b008616b",
       "placeholder": "​",
       "style": "IPY_MODEL_01789f81c77142ccb2408be00ebb0cbe",
       "tabbable": null,
       "tooltip": null,
       "value": " 25000/25000 [00:05&lt;00:00, 4912.75 examples/s]"
      }
     },
     "21f41a83740049bcb7d1633a4554d578": {
      "model_module": "@jupyter-widgets/controls",
      "model_module_version": "2.0.0",
      "model_name": "HBoxModel",
      "state": {
       "_dom_classes": [],
       "_model_module": "@jupyter-widgets/controls",
       "_model_module_version": "2.0.0",
       "_model_name": "HBoxModel",
       "_view_count": null,
       "_view_module": "@jupyter-widgets/controls",
       "_view_module_version": "2.0.0",
       "_view_name": "HBoxView",
       "box_style": "",
       "children": [
        "IPY_MODEL_28ffdc55cf024ac6b7de2a33f5b8e63c",
        "IPY_MODEL_c50b3cc09bf245e68b6cad13a1519867",
        "IPY_MODEL_de65ebd6eecc48cd906acd47de55acd2"
       ],
       "layout": "IPY_MODEL_8d0dd739727543a991fde7c8b1ca44f2",
       "tabbable": null,
       "tooltip": null
      }
     },
     "222778a8c85c4e29a625b08fa9f704d9": {
      "model_module": "@jupyter-widgets/base",
      "model_module_version": "2.0.0",
      "model_name": "LayoutModel",
      "state": {
       "_model_module": "@jupyter-widgets/base",
       "_model_module_version": "2.0.0",
       "_model_name": "LayoutModel",
       "_view_count": null,
       "_view_module": "@jupyter-widgets/base",
       "_view_module_version": "2.0.0",
       "_view_name": "LayoutView",
       "align_content": null,
       "align_items": null,
       "align_self": null,
       "border_bottom": null,
       "border_left": null,
       "border_right": null,
       "border_top": null,
       "bottom": null,
       "display": null,
       "flex": null,
       "flex_flow": null,
       "grid_area": null,
       "grid_auto_columns": null,
       "grid_auto_flow": null,
       "grid_auto_rows": null,
       "grid_column": null,
       "grid_gap": null,
       "grid_row": null,
       "grid_template_areas": null,
       "grid_template_columns": null,
       "grid_template_rows": null,
       "height": null,
       "justify_content": null,
       "justify_items": null,
       "left": null,
       "margin": null,
       "max_height": null,
       "max_width": null,
       "min_height": null,
       "min_width": null,
       "object_fit": null,
       "object_position": null,
       "order": null,
       "overflow": null,
       "padding": null,
       "right": null,
       "top": null,
       "visibility": null,
       "width": null
      }
     },
     "2249d5bfc6df4687b0c0f84076362fd3": {
      "model_module": "@jupyter-widgets/controls",
      "model_module_version": "2.0.0",
      "model_name": "HTMLStyleModel",
      "state": {
       "_model_module": "@jupyter-widgets/controls",
       "_model_module_version": "2.0.0",
       "_model_name": "HTMLStyleModel",
       "_view_count": null,
       "_view_module": "@jupyter-widgets/base",
       "_view_module_version": "2.0.0",
       "_view_name": "StyleView",
       "background": null,
       "description_width": "",
       "font_size": null,
       "text_color": null
      }
     },
     "257d90af071444259aa6afdafffc0b0a": {
      "model_module": "@jupyter-widgets/controls",
      "model_module_version": "2.0.0",
      "model_name": "HTMLModel",
      "state": {
       "_dom_classes": [],
       "_model_module": "@jupyter-widgets/controls",
       "_model_module_version": "2.0.0",
       "_model_name": "HTMLModel",
       "_view_count": null,
       "_view_module": "@jupyter-widgets/controls",
       "_view_module_version": "2.0.0",
       "_view_name": "HTMLView",
       "description": "",
       "description_allow_html": false,
       "layout": "IPY_MODEL_1bbb4ae9878b4b2f8b5285a165e56806",
       "placeholder": "​",
       "style": "IPY_MODEL_d754b115190445a2b2c7411f22e90ede",
       "tabbable": null,
       "tooltip": null,
       "value": " 42.0M/42.0M [00:00&lt;00:00, 200MB/s]"
      }
     },
     "261a7eab3e1c4e73b01581e2ee531e24": {
      "model_module": "@jupyter-widgets/controls",
      "model_module_version": "2.0.0",
      "model_name": "HTMLStyleModel",
      "state": {
       "_model_module": "@jupyter-widgets/controls",
       "_model_module_version": "2.0.0",
       "_model_name": "HTMLStyleModel",
       "_view_count": null,
       "_view_module": "@jupyter-widgets/base",
       "_view_module_version": "2.0.0",
       "_view_name": "StyleView",
       "background": null,
       "description_width": "",
       "font_size": null,
       "text_color": null
      }
     },
     "268395b6625e4cf8b508dd93105fcdd7": {
      "model_module": "@jupyter-widgets/base",
      "model_module_version": "2.0.0",
      "model_name": "LayoutModel",
      "state": {
       "_model_module": "@jupyter-widgets/base",
       "_model_module_version": "2.0.0",
       "_model_name": "LayoutModel",
       "_view_count": null,
       "_view_module": "@jupyter-widgets/base",
       "_view_module_version": "2.0.0",
       "_view_name": "LayoutView",
       "align_content": null,
       "align_items": null,
       "align_self": null,
       "border_bottom": null,
       "border_left": null,
       "border_right": null,
       "border_top": null,
       "bottom": null,
       "display": null,
       "flex": null,
       "flex_flow": null,
       "grid_area": null,
       "grid_auto_columns": null,
       "grid_auto_flow": null,
       "grid_auto_rows": null,
       "grid_column": null,
       "grid_gap": null,
       "grid_row": null,
       "grid_template_areas": null,
       "grid_template_columns": null,
       "grid_template_rows": null,
       "height": null,
       "justify_content": null,
       "justify_items": null,
       "left": null,
       "margin": null,
       "max_height": null,
       "max_width": null,
       "min_height": null,
       "min_width": null,
       "object_fit": null,
       "object_position": null,
       "order": null,
       "overflow": null,
       "padding": null,
       "right": null,
       "top": null,
       "visibility": null,
       "width": null
      }
     },
     "28ffdc55cf024ac6b7de2a33f5b8e63c": {
      "model_module": "@jupyter-widgets/controls",
      "model_module_version": "2.0.0",
      "model_name": "HTMLModel",
      "state": {
       "_dom_classes": [],
       "_model_module": "@jupyter-widgets/controls",
       "_model_module_version": "2.0.0",
       "_model_name": "HTMLModel",
       "_view_count": null,
       "_view_module": "@jupyter-widgets/controls",
       "_view_module_version": "2.0.0",
       "_view_name": "HTMLView",
       "description": "",
       "description_allow_html": false,
       "layout": "IPY_MODEL_ec0ae64fa30d4f93b4e3ef4c10ed432d",
       "placeholder": "​",
       "style": "IPY_MODEL_a57d48cc29ff47e2b16fe1cfc9fef6b5",
       "tabbable": null,
       "tooltip": null,
       "value": "README.md: 100%"
      }
     },
     "2e97f0e0097842eb9779095399dd4f1b": {
      "model_module": "@jupyter-widgets/controls",
      "model_module_version": "2.0.0",
      "model_name": "HTMLModel",
      "state": {
       "_dom_classes": [],
       "_model_module": "@jupyter-widgets/controls",
       "_model_module_version": "2.0.0",
       "_model_name": "HTMLModel",
       "_view_count": null,
       "_view_module": "@jupyter-widgets/controls",
       "_view_module_version": "2.0.0",
       "_view_name": "HTMLView",
       "description": "",
       "description_allow_html": false,
       "layout": "IPY_MODEL_d86a9b0922fc49c18ea1beac64b13337",
       "placeholder": "​",
       "style": "IPY_MODEL_dbe205fa01e146589abac7e91dc43811",
       "tabbable": null,
       "tooltip": null,
       "value": " 6250/6250 [00:02&lt;00:00, 2925.22 examples/s]"
      }
     },
     "2ed1c9fc2bd3440d82df71fbf5d0a579": {
      "model_module": "@jupyter-widgets/base",
      "model_module_version": "2.0.0",
      "model_name": "LayoutModel",
      "state": {
       "_model_module": "@jupyter-widgets/base",
       "_model_module_version": "2.0.0",
       "_model_name": "LayoutModel",
       "_view_count": null,
       "_view_module": "@jupyter-widgets/base",
       "_view_module_version": "2.0.0",
       "_view_name": "LayoutView",
       "align_content": null,
       "align_items": null,
       "align_self": null,
       "border_bottom": null,
       "border_left": null,
       "border_right": null,
       "border_top": null,
       "bottom": null,
       "display": null,
       "flex": null,
       "flex_flow": null,
       "grid_area": null,
       "grid_auto_columns": null,
       "grid_auto_flow": null,
       "grid_auto_rows": null,
       "grid_column": null,
       "grid_gap": null,
       "grid_row": null,
       "grid_template_areas": null,
       "grid_template_columns": null,
       "grid_template_rows": null,
       "height": null,
       "justify_content": null,
       "justify_items": null,
       "left": null,
       "margin": null,
       "max_height": null,
       "max_width": null,
       "min_height": null,
       "min_width": null,
       "object_fit": null,
       "object_position": null,
       "order": null,
       "overflow": null,
       "padding": null,
       "right": null,
       "top": null,
       "visibility": null,
       "width": null
      }
     },
     "2f652cc190854356a62ed0a220af8aba": {
      "model_module": "@jupyter-widgets/controls",
      "model_module_version": "2.0.0",
      "model_name": "ProgressStyleModel",
      "state": {
       "_model_module": "@jupyter-widgets/controls",
       "_model_module_version": "2.0.0",
       "_model_name": "ProgressStyleModel",
       "_view_count": null,
       "_view_module": "@jupyter-widgets/base",
       "_view_module_version": "2.0.0",
       "_view_name": "StyleView",
       "bar_color": null,
       "description_width": ""
      }
     },
     "32069a5c8d45403587baea91828781e2": {
      "model_module": "@jupyter-widgets/base",
      "model_module_version": "2.0.0",
      "model_name": "LayoutModel",
      "state": {
       "_model_module": "@jupyter-widgets/base",
       "_model_module_version": "2.0.0",
       "_model_name": "LayoutModel",
       "_view_count": null,
       "_view_module": "@jupyter-widgets/base",
       "_view_module_version": "2.0.0",
       "_view_name": "LayoutView",
       "align_content": null,
       "align_items": null,
       "align_self": null,
       "border_bottom": null,
       "border_left": null,
       "border_right": null,
       "border_top": null,
       "bottom": null,
       "display": null,
       "flex": null,
       "flex_flow": null,
       "grid_area": null,
       "grid_auto_columns": null,
       "grid_auto_flow": null,
       "grid_auto_rows": null,
       "grid_column": null,
       "grid_gap": null,
       "grid_row": null,
       "grid_template_areas": null,
       "grid_template_columns": null,
       "grid_template_rows": null,
       "height": null,
       "justify_content": null,
       "justify_items": null,
       "left": null,
       "margin": null,
       "max_height": null,
       "max_width": null,
       "min_height": null,
       "min_width": null,
       "object_fit": null,
       "object_position": null,
       "order": null,
       "overflow": null,
       "padding": null,
       "right": null,
       "top": null,
       "visibility": null,
       "width": null
      }
     },
     "326d04aeda0c4f6880ac5ba285767c05": {
      "model_module": "@jupyter-widgets/controls",
      "model_module_version": "2.0.0",
      "model_name": "HTMLModel",
      "state": {
       "_dom_classes": [],
       "_model_module": "@jupyter-widgets/controls",
       "_model_module_version": "2.0.0",
       "_model_name": "HTMLModel",
       "_view_count": null,
       "_view_module": "@jupyter-widgets/controls",
       "_view_module_version": "2.0.0",
       "_view_name": "HTMLView",
       "description": "",
       "description_allow_html": false,
       "layout": "IPY_MODEL_695a49aeacf34bf69029fd717acd5851",
       "placeholder": "​",
       "style": "IPY_MODEL_87eb4eadde644feb94b9ae3dfebef505",
       "tabbable": null,
       "tooltip": null,
       "value": " 25000/25000 [00:00&lt;00:00, 121799.37 examples/s]"
      }
     },
     "337d8473404d490f91aed0113e370d36": {
      "model_module": "@jupyter-widgets/controls",
      "model_module_version": "2.0.0",
      "model_name": "HTMLStyleModel",
      "state": {
       "_model_module": "@jupyter-widgets/controls",
       "_model_module_version": "2.0.0",
       "_model_name": "HTMLStyleModel",
       "_view_count": null,
       "_view_module": "@jupyter-widgets/base",
       "_view_module_version": "2.0.0",
       "_view_name": "StyleView",
       "background": null,
       "description_width": "",
       "font_size": null,
       "text_color": null
      }
     },
     "358806ccf86a4586889901d409ed4670": {
      "model_module": "@jupyter-widgets/base",
      "model_module_version": "2.0.0",
      "model_name": "LayoutModel",
      "state": {
       "_model_module": "@jupyter-widgets/base",
       "_model_module_version": "2.0.0",
       "_model_name": "LayoutModel",
       "_view_count": null,
       "_view_module": "@jupyter-widgets/base",
       "_view_module_version": "2.0.0",
       "_view_name": "LayoutView",
       "align_content": null,
       "align_items": null,
       "align_self": null,
       "border_bottom": null,
       "border_left": null,
       "border_right": null,
       "border_top": null,
       "bottom": null,
       "display": null,
       "flex": null,
       "flex_flow": null,
       "grid_area": null,
       "grid_auto_columns": null,
       "grid_auto_flow": null,
       "grid_auto_rows": null,
       "grid_column": null,
       "grid_gap": null,
       "grid_row": null,
       "grid_template_areas": null,
       "grid_template_columns": null,
       "grid_template_rows": null,
       "height": null,
       "justify_content": null,
       "justify_items": null,
       "left": null,
       "margin": null,
       "max_height": null,
       "max_width": null,
       "min_height": null,
       "min_width": null,
       "object_fit": null,
       "object_position": null,
       "order": null,
       "overflow": null,
       "padding": null,
       "right": null,
       "top": null,
       "visibility": null,
       "width": null
      }
     },
     "35b7836d5b054ca896940a5826b55258": {
      "model_module": "@jupyter-widgets/controls",
      "model_module_version": "2.0.0",
      "model_name": "HBoxModel",
      "state": {
       "_dom_classes": [],
       "_model_module": "@jupyter-widgets/controls",
       "_model_module_version": "2.0.0",
       "_model_name": "HBoxModel",
       "_view_count": null,
       "_view_module": "@jupyter-widgets/controls",
       "_view_module_version": "2.0.0",
       "_view_name": "HBoxView",
       "box_style": "",
       "children": [
        "IPY_MODEL_bf85867430b64afbad3b2cbfb7cf08ee",
        "IPY_MODEL_b4277c19875442a69917d5f52db95509",
        "IPY_MODEL_2e97f0e0097842eb9779095399dd4f1b"
       ],
       "layout": "IPY_MODEL_1ed04c7f44734cf0b272388e09b296ac",
       "tabbable": null,
       "tooltip": null
      }
     },
     "364606023c044140bd17e0e0b008616b": {
      "model_module": "@jupyter-widgets/base",
      "model_module_version": "2.0.0",
      "model_name": "LayoutModel",
      "state": {
       "_model_module": "@jupyter-widgets/base",
       "_model_module_version": "2.0.0",
       "_model_name": "LayoutModel",
       "_view_count": null,
       "_view_module": "@jupyter-widgets/base",
       "_view_module_version": "2.0.0",
       "_view_name": "LayoutView",
       "align_content": null,
       "align_items": null,
       "align_self": null,
       "border_bottom": null,
       "border_left": null,
       "border_right": null,
       "border_top": null,
       "bottom": null,
       "display": null,
       "flex": null,
       "flex_flow": null,
       "grid_area": null,
       "grid_auto_columns": null,
       "grid_auto_flow": null,
       "grid_auto_rows": null,
       "grid_column": null,
       "grid_gap": null,
       "grid_row": null,
       "grid_template_areas": null,
       "grid_template_columns": null,
       "grid_template_rows": null,
       "height": null,
       "justify_content": null,
       "justify_items": null,
       "left": null,
       "margin": null,
       "max_height": null,
       "max_width": null,
       "min_height": null,
       "min_width": null,
       "object_fit": null,
       "object_position": null,
       "order": null,
       "overflow": null,
       "padding": null,
       "right": null,
       "top": null,
       "visibility": null,
       "width": null
      }
     },
     "373ae5cef3e44cb3a78d75ff8da7f984": {
      "model_module": "@jupyter-widgets/controls",
      "model_module_version": "2.0.0",
      "model_name": "ProgressStyleModel",
      "state": {
       "_model_module": "@jupyter-widgets/controls",
       "_model_module_version": "2.0.0",
       "_model_name": "ProgressStyleModel",
       "_view_count": null,
       "_view_module": "@jupyter-widgets/base",
       "_view_module_version": "2.0.0",
       "_view_name": "StyleView",
       "bar_color": null,
       "description_width": ""
      }
     },
     "3a184888f1b24f34bce2e13f9fc65534": {
      "model_module": "@jupyter-widgets/controls",
      "model_module_version": "2.0.0",
      "model_name": "ProgressStyleModel",
      "state": {
       "_model_module": "@jupyter-widgets/controls",
       "_model_module_version": "2.0.0",
       "_model_name": "ProgressStyleModel",
       "_view_count": null,
       "_view_module": "@jupyter-widgets/base",
       "_view_module_version": "2.0.0",
       "_view_name": "StyleView",
       "bar_color": null,
       "description_width": ""
      }
     },
     "3abadc0d618147b38567b84ee64d471b": {
      "model_module": "@jupyter-widgets/base",
      "model_module_version": "2.0.0",
      "model_name": "LayoutModel",
      "state": {
       "_model_module": "@jupyter-widgets/base",
       "_model_module_version": "2.0.0",
       "_model_name": "LayoutModel",
       "_view_count": null,
       "_view_module": "@jupyter-widgets/base",
       "_view_module_version": "2.0.0",
       "_view_name": "LayoutView",
       "align_content": null,
       "align_items": null,
       "align_self": null,
       "border_bottom": null,
       "border_left": null,
       "border_right": null,
       "border_top": null,
       "bottom": null,
       "display": null,
       "flex": null,
       "flex_flow": null,
       "grid_area": null,
       "grid_auto_columns": null,
       "grid_auto_flow": null,
       "grid_auto_rows": null,
       "grid_column": null,
       "grid_gap": null,
       "grid_row": null,
       "grid_template_areas": null,
       "grid_template_columns": null,
       "grid_template_rows": null,
       "height": null,
       "justify_content": null,
       "justify_items": null,
       "left": null,
       "margin": null,
       "max_height": null,
       "max_width": null,
       "min_height": null,
       "min_width": null,
       "object_fit": null,
       "object_position": null,
       "order": null,
       "overflow": null,
       "padding": null,
       "right": null,
       "top": null,
       "visibility": null,
       "width": null
      }
     },
     "3b0ea4ba7eed4c65aab3bf88fc29e851": {
      "model_module": "@jupyter-widgets/controls",
      "model_module_version": "2.0.0",
      "model_name": "HTMLModel",
      "state": {
       "_dom_classes": [],
       "_model_module": "@jupyter-widgets/controls",
       "_model_module_version": "2.0.0",
       "_model_name": "HTMLModel",
       "_view_count": null,
       "_view_module": "@jupyter-widgets/controls",
       "_view_module_version": "2.0.0",
       "_view_name": "HTMLView",
       "description": "",
       "description_allow_html": false,
       "layout": "IPY_MODEL_06e5b1cabbc1435b83ccb6ec495ecdda",
       "placeholder": "​",
       "style": "IPY_MODEL_02e04a05770f408f82aef61cfe81cc34",
       "tabbable": null,
       "tooltip": null,
       "value": "Generating test split: 100%"
      }
     },
     "3b63a753e6b0490bbc8688d30eff5c92": {
      "model_module": "@jupyter-widgets/controls",
      "model_module_version": "2.0.0",
      "model_name": "HBoxModel",
      "state": {
       "_dom_classes": [],
       "_model_module": "@jupyter-widgets/controls",
       "_model_module_version": "2.0.0",
       "_model_name": "HBoxModel",
       "_view_count": null,
       "_view_module": "@jupyter-widgets/controls",
       "_view_module_version": "2.0.0",
       "_view_name": "HBoxView",
       "box_style": "",
       "children": [
        "IPY_MODEL_48f73222f5604855971b0cb538517812",
        "IPY_MODEL_f8d9ece7fd31424dade13bf9ae266181",
        "IPY_MODEL_adf6f2838aaa487cbf447f370fa94fb2"
       ],
       "layout": "IPY_MODEL_7c76316ecb9647dfbd68bc2424bc445a",
       "tabbable": null,
       "tooltip": null
      }
     },
     "3bf43d96998d4b93ba98d39620e66fc7": {
      "model_module": "@jupyter-widgets/controls",
      "model_module_version": "2.0.0",
      "model_name": "HBoxModel",
      "state": {
       "_dom_classes": [],
       "_model_module": "@jupyter-widgets/controls",
       "_model_module_version": "2.0.0",
       "_model_name": "HBoxModel",
       "_view_count": null,
       "_view_module": "@jupyter-widgets/controls",
       "_view_module_version": "2.0.0",
       "_view_name": "HBoxView",
       "box_style": "",
       "children": [
        "IPY_MODEL_d90419fae04e4122a6a965e25ed49f4d",
        "IPY_MODEL_ae8e8586e841468ebbb04ae33720d3fe",
        "IPY_MODEL_752bcea357534df1b9bf87862959756a"
       ],
       "layout": "IPY_MODEL_0c4ae4441f5541c4b2d214738a0a5eac",
       "tabbable": null,
       "tooltip": null
      }
     },
     "3ca8b22d348e4719981ee92317bbca90": {
      "model_module": "@jupyter-widgets/base",
      "model_module_version": "2.0.0",
      "model_name": "LayoutModel",
      "state": {
       "_model_module": "@jupyter-widgets/base",
       "_model_module_version": "2.0.0",
       "_model_name": "LayoutModel",
       "_view_count": null,
       "_view_module": "@jupyter-widgets/base",
       "_view_module_version": "2.0.0",
       "_view_name": "LayoutView",
       "align_content": null,
       "align_items": null,
       "align_self": null,
       "border_bottom": null,
       "border_left": null,
       "border_right": null,
       "border_top": null,
       "bottom": null,
       "display": null,
       "flex": null,
       "flex_flow": null,
       "grid_area": null,
       "grid_auto_columns": null,
       "grid_auto_flow": null,
       "grid_auto_rows": null,
       "grid_column": null,
       "grid_gap": null,
       "grid_row": null,
       "grid_template_areas": null,
       "grid_template_columns": null,
       "grid_template_rows": null,
       "height": null,
       "justify_content": null,
       "justify_items": null,
       "left": null,
       "margin": null,
       "max_height": null,
       "max_width": null,
       "min_height": null,
       "min_width": null,
       "object_fit": null,
       "object_position": null,
       "order": null,
       "overflow": null,
       "padding": null,
       "right": null,
       "top": null,
       "visibility": null,
       "width": null
      }
     },
     "45d34be8ad304a388e837f3fc4e2e119": {
      "model_module": "@jupyter-widgets/base",
      "model_module_version": "2.0.0",
      "model_name": "LayoutModel",
      "state": {
       "_model_module": "@jupyter-widgets/base",
       "_model_module_version": "2.0.0",
       "_model_name": "LayoutModel",
       "_view_count": null,
       "_view_module": "@jupyter-widgets/base",
       "_view_module_version": "2.0.0",
       "_view_name": "LayoutView",
       "align_content": null,
       "align_items": null,
       "align_self": null,
       "border_bottom": null,
       "border_left": null,
       "border_right": null,
       "border_top": null,
       "bottom": null,
       "display": null,
       "flex": null,
       "flex_flow": null,
       "grid_area": null,
       "grid_auto_columns": null,
       "grid_auto_flow": null,
       "grid_auto_rows": null,
       "grid_column": null,
       "grid_gap": null,
       "grid_row": null,
       "grid_template_areas": null,
       "grid_template_columns": null,
       "grid_template_rows": null,
       "height": null,
       "justify_content": null,
       "justify_items": null,
       "left": null,
       "margin": null,
       "max_height": null,
       "max_width": null,
       "min_height": null,
       "min_width": null,
       "object_fit": null,
       "object_position": null,
       "order": null,
       "overflow": null,
       "padding": null,
       "right": null,
       "top": null,
       "visibility": null,
       "width": null
      }
     },
     "467de0db20654c81967d1450629d6305": {
      "model_module": "@jupyter-widgets/controls",
      "model_module_version": "2.0.0",
      "model_name": "ProgressStyleModel",
      "state": {
       "_model_module": "@jupyter-widgets/controls",
       "_model_module_version": "2.0.0",
       "_model_name": "ProgressStyleModel",
       "_view_count": null,
       "_view_module": "@jupyter-widgets/base",
       "_view_module_version": "2.0.0",
       "_view_name": "StyleView",
       "bar_color": null,
       "description_width": ""
      }
     },
     "47548c5f99e048e8b4678b35510e9b05": {
      "model_module": "@jupyter-widgets/base",
      "model_module_version": "2.0.0",
      "model_name": "LayoutModel",
      "state": {
       "_model_module": "@jupyter-widgets/base",
       "_model_module_version": "2.0.0",
       "_model_name": "LayoutModel",
       "_view_count": null,
       "_view_module": "@jupyter-widgets/base",
       "_view_module_version": "2.0.0",
       "_view_name": "LayoutView",
       "align_content": null,
       "align_items": null,
       "align_self": null,
       "border_bottom": null,
       "border_left": null,
       "border_right": null,
       "border_top": null,
       "bottom": null,
       "display": null,
       "flex": null,
       "flex_flow": null,
       "grid_area": null,
       "grid_auto_columns": null,
       "grid_auto_flow": null,
       "grid_auto_rows": null,
       "grid_column": null,
       "grid_gap": null,
       "grid_row": null,
       "grid_template_areas": null,
       "grid_template_columns": null,
       "grid_template_rows": null,
       "height": null,
       "justify_content": null,
       "justify_items": null,
       "left": null,
       "margin": null,
       "max_height": null,
       "max_width": null,
       "min_height": null,
       "min_width": null,
       "object_fit": null,
       "object_position": null,
       "order": null,
       "overflow": null,
       "padding": null,
       "right": null,
       "top": null,
       "visibility": null,
       "width": null
      }
     },
     "48cec696cfaf476a8b6d0d3abd02fe0d": {
      "model_module": "@jupyter-widgets/controls",
      "model_module_version": "2.0.0",
      "model_name": "ProgressStyleModel",
      "state": {
       "_model_module": "@jupyter-widgets/controls",
       "_model_module_version": "2.0.0",
       "_model_name": "ProgressStyleModel",
       "_view_count": null,
       "_view_module": "@jupyter-widgets/base",
       "_view_module_version": "2.0.0",
       "_view_name": "StyleView",
       "bar_color": null,
       "description_width": ""
      }
     },
     "48f73222f5604855971b0cb538517812": {
      "model_module": "@jupyter-widgets/controls",
      "model_module_version": "2.0.0",
      "model_name": "HTMLModel",
      "state": {
       "_dom_classes": [],
       "_model_module": "@jupyter-widgets/controls",
       "_model_module_version": "2.0.0",
       "_model_name": "HTMLModel",
       "_view_count": null,
       "_view_module": "@jupyter-widgets/controls",
       "_view_module_version": "2.0.0",
       "_view_name": "HTMLView",
       "description": "",
       "description_allow_html": false,
       "layout": "IPY_MODEL_c050d60878cb4673823ac4a461eb7388",
       "placeholder": "​",
       "style": "IPY_MODEL_8198a6580b72457cb802103d32b7e727",
       "tabbable": null,
       "tooltip": null,
       "value": "Generating unsupervised split: 100%"
      }
     },
     "4a55ccf40daf4a5f8b2fb1f75543df3a": {
      "model_module": "@jupyter-widgets/controls",
      "model_module_version": "2.0.0",
      "model_name": "HBoxModel",
      "state": {
       "_dom_classes": [],
       "_model_module": "@jupyter-widgets/controls",
       "_model_module_version": "2.0.0",
       "_model_name": "HBoxModel",
       "_view_count": null,
       "_view_module": "@jupyter-widgets/controls",
       "_view_module_version": "2.0.0",
       "_view_name": "HBoxView",
       "box_style": "",
       "children": [
        "IPY_MODEL_a436eda594394307aecb61409c59913d",
        "IPY_MODEL_723b13e871d945448361d73117133af5",
        "IPY_MODEL_326d04aeda0c4f6880ac5ba285767c05"
       ],
       "layout": "IPY_MODEL_358806ccf86a4586889901d409ed4670",
       "tabbable": null,
       "tooltip": null
      }
     },
     "4c31f2da59ce4dafb3ee99236bf14528": {
      "model_module": "@jupyter-widgets/base",
      "model_module_version": "2.0.0",
      "model_name": "LayoutModel",
      "state": {
       "_model_module": "@jupyter-widgets/base",
       "_model_module_version": "2.0.0",
       "_model_name": "LayoutModel",
       "_view_count": null,
       "_view_module": "@jupyter-widgets/base",
       "_view_module_version": "2.0.0",
       "_view_name": "LayoutView",
       "align_content": null,
       "align_items": null,
       "align_self": null,
       "border_bottom": null,
       "border_left": null,
       "border_right": null,
       "border_top": null,
       "bottom": null,
       "display": null,
       "flex": null,
       "flex_flow": null,
       "grid_area": null,
       "grid_auto_columns": null,
       "grid_auto_flow": null,
       "grid_auto_rows": null,
       "grid_column": null,
       "grid_gap": null,
       "grid_row": null,
       "grid_template_areas": null,
       "grid_template_columns": null,
       "grid_template_rows": null,
       "height": null,
       "justify_content": null,
       "justify_items": null,
       "left": null,
       "margin": null,
       "max_height": null,
       "max_width": null,
       "min_height": null,
       "min_width": null,
       "object_fit": null,
       "object_position": null,
       "order": null,
       "overflow": null,
       "padding": null,
       "right": null,
       "top": null,
       "visibility": null,
       "width": null
      }
     },
     "4c4ab24d289a4ec3af303c56fcec1056": {
      "model_module": "@jupyter-widgets/controls",
      "model_module_version": "2.0.0",
      "model_name": "FloatProgressModel",
      "state": {
       "_dom_classes": [],
       "_model_module": "@jupyter-widgets/controls",
       "_model_module_version": "2.0.0",
       "_model_name": "FloatProgressModel",
       "_view_count": null,
       "_view_module": "@jupyter-widgets/controls",
       "_view_module_version": "2.0.0",
       "_view_name": "ProgressView",
       "bar_style": "success",
       "description": "",
       "description_allow_html": false,
       "layout": "IPY_MODEL_4c31f2da59ce4dafb3ee99236bf14528",
       "max": 25000.0,
       "min": 0.0,
       "orientation": "horizontal",
       "style": "IPY_MODEL_05b94634dbf64a6cbebb58d72b2d9d3d",
       "tabbable": null,
       "tooltip": null,
       "value": 25000.0
      }
     },
     "4e0051c5725e4c3c995844178dbad97b": {
      "model_module": "@jupyter-widgets/controls",
      "model_module_version": "2.0.0",
      "model_name": "HTMLStyleModel",
      "state": {
       "_model_module": "@jupyter-widgets/controls",
       "_model_module_version": "2.0.0",
       "_model_name": "HTMLStyleModel",
       "_view_count": null,
       "_view_module": "@jupyter-widgets/base",
       "_view_module_version": "2.0.0",
       "_view_name": "StyleView",
       "background": null,
       "description_width": "",
       "font_size": null,
       "text_color": null
      }
     },
     "5398664efbbb4dfc87bd48d28dd3f393": {
      "model_module": "@jupyter-widgets/controls",
      "model_module_version": "2.0.0",
      "model_name": "HTMLModel",
      "state": {
       "_dom_classes": [],
       "_model_module": "@jupyter-widgets/controls",
       "_model_module_version": "2.0.0",
       "_model_name": "HTMLModel",
       "_view_count": null,
       "_view_module": "@jupyter-widgets/controls",
       "_view_module_version": "2.0.0",
       "_view_name": "HTMLView",
       "description": "",
       "description_allow_html": false,
       "layout": "IPY_MODEL_bf19ee7ee0f44cafada3a4f12c203e20",
       "placeholder": "​",
       "style": "IPY_MODEL_dedea0e851fb4a9685700b4a21cf65ec",
       "tabbable": null,
       "tooltip": null,
       "value": "test-00000-of-00001.parquet: 100%"
      }
     },
     "5435e4ec58dd42c297ac025b0772d733": {
      "model_module": "@jupyter-widgets/controls",
      "model_module_version": "2.0.0",
      "model_name": "HBoxModel",
      "state": {
       "_dom_classes": [],
       "_model_module": "@jupyter-widgets/controls",
       "_model_module_version": "2.0.0",
       "_model_name": "HBoxModel",
       "_view_count": null,
       "_view_module": "@jupyter-widgets/controls",
       "_view_module_version": "2.0.0",
       "_view_name": "HBoxView",
       "box_style": "",
       "children": [
        "IPY_MODEL_db1928d20db0442d8d06a5d92e5ca42e",
        "IPY_MODEL_639b599048f04d1695db4724f997b442",
        "IPY_MODEL_da559f101c3649eca5ec3a5978b9c0a1"
       ],
       "layout": "IPY_MODEL_f433f72d12c94f9fabde1c8ef6e8417c",
       "tabbable": null,
       "tooltip": null
      }
     },
     "5e322dd21916441d955c83842b7f0a0c": {
      "model_module": "@jupyter-widgets/controls",
      "model_module_version": "2.0.0",
      "model_name": "ProgressStyleModel",
      "state": {
       "_model_module": "@jupyter-widgets/controls",
       "_model_module_version": "2.0.0",
       "_model_name": "ProgressStyleModel",
       "_view_count": null,
       "_view_module": "@jupyter-widgets/base",
       "_view_module_version": "2.0.0",
       "_view_name": "StyleView",
       "bar_color": null,
       "description_width": ""
      }
     },
     "617af444b86b4d5994581c1ee96ab50f": {
      "model_module": "@jupyter-widgets/base",
      "model_module_version": "2.0.0",
      "model_name": "LayoutModel",
      "state": {
       "_model_module": "@jupyter-widgets/base",
       "_model_module_version": "2.0.0",
       "_model_name": "LayoutModel",
       "_view_count": null,
       "_view_module": "@jupyter-widgets/base",
       "_view_module_version": "2.0.0",
       "_view_name": "LayoutView",
       "align_content": null,
       "align_items": null,
       "align_self": null,
       "border_bottom": null,
       "border_left": null,
       "border_right": null,
       "border_top": null,
       "bottom": null,
       "display": null,
       "flex": null,
       "flex_flow": null,
       "grid_area": null,
       "grid_auto_columns": null,
       "grid_auto_flow": null,
       "grid_auto_rows": null,
       "grid_column": null,
       "grid_gap": null,
       "grid_row": null,
       "grid_template_areas": null,
       "grid_template_columns": null,
       "grid_template_rows": null,
       "height": null,
       "justify_content": null,
       "justify_items": null,
       "left": null,
       "margin": null,
       "max_height": null,
       "max_width": null,
       "min_height": null,
       "min_width": null,
       "object_fit": null,
       "object_position": null,
       "order": null,
       "overflow": null,
       "padding": null,
       "right": null,
       "top": null,
       "visibility": null,
       "width": null
      }
     },
     "639b599048f04d1695db4724f997b442": {
      "model_module": "@jupyter-widgets/controls",
      "model_module_version": "2.0.0",
      "model_name": "FloatProgressModel",
      "state": {
       "_dom_classes": [],
       "_model_module": "@jupyter-widgets/controls",
       "_model_module_version": "2.0.0",
       "_model_name": "FloatProgressModel",
       "_view_count": null,
       "_view_module": "@jupyter-widgets/controls",
       "_view_module_version": "2.0.0",
       "_view_name": "ProgressView",
       "bar_style": "success",
       "description": "",
       "description_allow_html": false,
       "layout": "IPY_MODEL_0e8f7a315f3f4c2ba30295882508067c",
       "max": 25000.0,
       "min": 0.0,
       "orientation": "horizontal",
       "style": "IPY_MODEL_48cec696cfaf476a8b6d0d3abd02fe0d",
       "tabbable": null,
       "tooltip": null,
       "value": 25000.0
      }
     },
     "695a49aeacf34bf69029fd717acd5851": {
      "model_module": "@jupyter-widgets/base",
      "model_module_version": "2.0.0",
      "model_name": "LayoutModel",
      "state": {
       "_model_module": "@jupyter-widgets/base",
       "_model_module_version": "2.0.0",
       "_model_name": "LayoutModel",
       "_view_count": null,
       "_view_module": "@jupyter-widgets/base",
       "_view_module_version": "2.0.0",
       "_view_name": "LayoutView",
       "align_content": null,
       "align_items": null,
       "align_self": null,
       "border_bottom": null,
       "border_left": null,
       "border_right": null,
       "border_top": null,
       "bottom": null,
       "display": null,
       "flex": null,
       "flex_flow": null,
       "grid_area": null,
       "grid_auto_columns": null,
       "grid_auto_flow": null,
       "grid_auto_rows": null,
       "grid_column": null,
       "grid_gap": null,
       "grid_row": null,
       "grid_template_areas": null,
       "grid_template_columns": null,
       "grid_template_rows": null,
       "height": null,
       "justify_content": null,
       "justify_items": null,
       "left": null,
       "margin": null,
       "max_height": null,
       "max_width": null,
       "min_height": null,
       "min_width": null,
       "object_fit": null,
       "object_position": null,
       "order": null,
       "overflow": null,
       "padding": null,
       "right": null,
       "top": null,
       "visibility": null,
       "width": null
      }
     },
     "6afce988c3084fb7b802b5ff8d6cc6e7": {
      "model_module": "@jupyter-widgets/controls",
      "model_module_version": "2.0.0",
      "model_name": "ProgressStyleModel",
      "state": {
       "_model_module": "@jupyter-widgets/controls",
       "_model_module_version": "2.0.0",
       "_model_name": "ProgressStyleModel",
       "_view_count": null,
       "_view_module": "@jupyter-widgets/base",
       "_view_module_version": "2.0.0",
       "_view_name": "StyleView",
       "bar_color": null,
       "description_width": ""
      }
     },
     "6be1210522e1435d93a7cb801402bcd4": {
      "model_module": "@jupyter-widgets/controls",
      "model_module_version": "2.0.0",
      "model_name": "ProgressStyleModel",
      "state": {
       "_model_module": "@jupyter-widgets/controls",
       "_model_module_version": "2.0.0",
       "_model_name": "ProgressStyleModel",
       "_view_count": null,
       "_view_module": "@jupyter-widgets/base",
       "_view_module_version": "2.0.0",
       "_view_name": "StyleView",
       "bar_color": null,
       "description_width": ""
      }
     },
     "6c873a8012d54e9a8a377c24bad500d4": {
      "model_module": "@jupyter-widgets/controls",
      "model_module_version": "2.0.0",
      "model_name": "HTMLStyleModel",
      "state": {
       "_model_module": "@jupyter-widgets/controls",
       "_model_module_version": "2.0.0",
       "_model_name": "HTMLStyleModel",
       "_view_count": null,
       "_view_module": "@jupyter-widgets/base",
       "_view_module_version": "2.0.0",
       "_view_name": "StyleView",
       "background": null,
       "description_width": "",
       "font_size": null,
       "text_color": null
      }
     },
     "6edbabb88da948cd9ef2e119a7705813": {
      "model_module": "@jupyter-widgets/controls",
      "model_module_version": "2.0.0",
      "model_name": "HBoxModel",
      "state": {
       "_dom_classes": [],
       "_model_module": "@jupyter-widgets/controls",
       "_model_module_version": "2.0.0",
       "_model_name": "HBoxModel",
       "_view_count": null,
       "_view_module": "@jupyter-widgets/controls",
       "_view_module_version": "2.0.0",
       "_view_name": "HBoxView",
       "box_style": "",
       "children": [
        "IPY_MODEL_95162e263e2a4bcf9e6a37bd23378b02",
        "IPY_MODEL_bc900c3ba13647b087159e12605caedb",
        "IPY_MODEL_fb5ef394d7ee42d5be0cf788e310ccf8"
       ],
       "layout": "IPY_MODEL_222778a8c85c4e29a625b08fa9f704d9",
       "tabbable": null,
       "tooltip": null
      }
     },
     "723b13e871d945448361d73117133af5": {
      "model_module": "@jupyter-widgets/controls",
      "model_module_version": "2.0.0",
      "model_name": "FloatProgressModel",
      "state": {
       "_dom_classes": [],
       "_model_module": "@jupyter-widgets/controls",
       "_model_module_version": "2.0.0",
       "_model_name": "FloatProgressModel",
       "_view_count": null,
       "_view_module": "@jupyter-widgets/controls",
       "_view_module_version": "2.0.0",
       "_view_name": "ProgressView",
       "bar_style": "success",
       "description": "",
       "description_allow_html": false,
       "layout": "IPY_MODEL_0885ad391f334c95aed8eff2147c1ac5",
       "max": 25000.0,
       "min": 0.0,
       "orientation": "horizontal",
       "style": "IPY_MODEL_6afce988c3084fb7b802b5ff8d6cc6e7",
       "tabbable": null,
       "tooltip": null,
       "value": 25000.0
      }
     },
     "752bcea357534df1b9bf87862959756a": {
      "model_module": "@jupyter-widgets/controls",
      "model_module_version": "2.0.0",
      "model_name": "HTMLModel",
      "state": {
       "_dom_classes": [],
       "_model_module": "@jupyter-widgets/controls",
       "_model_module_version": "2.0.0",
       "_model_name": "HTMLModel",
       "_view_count": null,
       "_view_module": "@jupyter-widgets/controls",
       "_view_module_version": "2.0.0",
       "_view_name": "HTMLView",
       "description": "",
       "description_allow_html": false,
       "layout": "IPY_MODEL_e7a71536a8e644c6a04dfba92a47a522",
       "placeholder": "​",
       "style": "IPY_MODEL_1179c4d1347f442fa79c469bb0cc3509",
       "tabbable": null,
       "tooltip": null,
       "value": " 25000/25000 [00:05&lt;00:00, 5228.55 examples/s]"
      }
     },
     "75b0fffcf04e413296c5ce18ca2e2ebd": {
      "model_module": "@jupyter-widgets/controls",
      "model_module_version": "2.0.0",
      "model_name": "HTMLStyleModel",
      "state": {
       "_model_module": "@jupyter-widgets/controls",
       "_model_module_version": "2.0.0",
       "_model_name": "HTMLStyleModel",
       "_view_count": null,
       "_view_module": "@jupyter-widgets/base",
       "_view_module_version": "2.0.0",
       "_view_name": "StyleView",
       "background": null,
       "description_width": "",
       "font_size": null,
       "text_color": null
      }
     },
     "77b50335d07f4f109152591b86bd0ea0": {
      "model_module": "@jupyter-widgets/controls",
      "model_module_version": "2.0.0",
      "model_name": "FloatProgressModel",
      "state": {
       "_dom_classes": [],
       "_model_module": "@jupyter-widgets/controls",
       "_model_module_version": "2.0.0",
       "_model_name": "FloatProgressModel",
       "_view_count": null,
       "_view_module": "@jupyter-widgets/controls",
       "_view_module_version": "2.0.0",
       "_view_name": "ProgressView",
       "bar_style": "success",
       "description": "",
       "description_allow_html": false,
       "layout": "IPY_MODEL_bb5f847cde1e4fe19da43ecc32def449",
       "max": 3.0,
       "min": 0.0,
       "orientation": "horizontal",
       "style": "IPY_MODEL_f056049d009e4859a2bc3e0cea306064",
       "tabbable": null,
       "tooltip": null,
       "value": 3.0
      }
     },
     "7c4149ff85204bacae438044a2574ea3": {
      "model_module": "@jupyter-widgets/controls",
      "model_module_version": "2.0.0",
      "model_name": "HTMLStyleModel",
      "state": {
       "_model_module": "@jupyter-widgets/controls",
       "_model_module_version": "2.0.0",
       "_model_name": "HTMLStyleModel",
       "_view_count": null,
       "_view_module": "@jupyter-widgets/base",
       "_view_module_version": "2.0.0",
       "_view_name": "StyleView",
       "background": null,
       "description_width": "",
       "font_size": null,
       "text_color": null
      }
     },
     "7c76316ecb9647dfbd68bc2424bc445a": {
      "model_module": "@jupyter-widgets/base",
      "model_module_version": "2.0.0",
      "model_name": "LayoutModel",
      "state": {
       "_model_module": "@jupyter-widgets/base",
       "_model_module_version": "2.0.0",
       "_model_name": "LayoutModel",
       "_view_count": null,
       "_view_module": "@jupyter-widgets/base",
       "_view_module_version": "2.0.0",
       "_view_name": "LayoutView",
       "align_content": null,
       "align_items": null,
       "align_self": null,
       "border_bottom": null,
       "border_left": null,
       "border_right": null,
       "border_top": null,
       "bottom": null,
       "display": null,
       "flex": null,
       "flex_flow": null,
       "grid_area": null,
       "grid_auto_columns": null,
       "grid_auto_flow": null,
       "grid_auto_rows": null,
       "grid_column": null,
       "grid_gap": null,
       "grid_row": null,
       "grid_template_areas": null,
       "grid_template_columns": null,
       "grid_template_rows": null,
       "height": null,
       "justify_content": null,
       "justify_items": null,
       "left": null,
       "margin": null,
       "max_height": null,
       "max_width": null,
       "min_height": null,
       "min_width": null,
       "object_fit": null,
       "object_position": null,
       "order": null,
       "overflow": null,
       "padding": null,
       "right": null,
       "top": null,
       "visibility": null,
       "width": null
      }
     },
     "7f28738841b2430b82615876cc21a353": {
      "model_module": "@jupyter-widgets/controls",
      "model_module_version": "2.0.0",
      "model_name": "FloatProgressModel",
      "state": {
       "_dom_classes": [],
       "_model_module": "@jupyter-widgets/controls",
       "_model_module_version": "2.0.0",
       "_model_name": "FloatProgressModel",
       "_view_count": null,
       "_view_module": "@jupyter-widgets/controls",
       "_view_module_version": "2.0.0",
       "_view_name": "ProgressView",
       "bar_style": "success",
       "description": "",
       "description_allow_html": false,
       "layout": "IPY_MODEL_fa9e2d03a6f94dd18a9fbdf760e94c7c",
       "max": 41996509.0,
       "min": 0.0,
       "orientation": "horizontal",
       "style": "IPY_MODEL_373ae5cef3e44cb3a78d75ff8da7f984",
       "tabbable": null,
       "tooltip": null,
       "value": 41996509.0
      }
     },
     "816f1a752af544a5bf012e81efaa4cff": {
      "model_module": "@jupyter-widgets/base",
      "model_module_version": "2.0.0",
      "model_name": "LayoutModel",
      "state": {
       "_model_module": "@jupyter-widgets/base",
       "_model_module_version": "2.0.0",
       "_model_name": "LayoutModel",
       "_view_count": null,
       "_view_module": "@jupyter-widgets/base",
       "_view_module_version": "2.0.0",
       "_view_name": "LayoutView",
       "align_content": null,
       "align_items": null,
       "align_self": null,
       "border_bottom": null,
       "border_left": null,
       "border_right": null,
       "border_top": null,
       "bottom": null,
       "display": null,
       "flex": null,
       "flex_flow": null,
       "grid_area": null,
       "grid_auto_columns": null,
       "grid_auto_flow": null,
       "grid_auto_rows": null,
       "grid_column": null,
       "grid_gap": null,
       "grid_row": null,
       "grid_template_areas": null,
       "grid_template_columns": null,
       "grid_template_rows": null,
       "height": null,
       "justify_content": null,
       "justify_items": null,
       "left": null,
       "margin": null,
       "max_height": null,
       "max_width": null,
       "min_height": null,
       "min_width": null,
       "object_fit": null,
       "object_position": null,
       "order": null,
       "overflow": null,
       "padding": null,
       "right": null,
       "top": null,
       "visibility": null,
       "width": null
      }
     },
     "8198a6580b72457cb802103d32b7e727": {
      "model_module": "@jupyter-widgets/controls",
      "model_module_version": "2.0.0",
      "model_name": "HTMLStyleModel",
      "state": {
       "_model_module": "@jupyter-widgets/controls",
       "_model_module_version": "2.0.0",
       "_model_name": "HTMLStyleModel",
       "_view_count": null,
       "_view_module": "@jupyter-widgets/base",
       "_view_module_version": "2.0.0",
       "_view_name": "StyleView",
       "background": null,
       "description_width": "",
       "font_size": null,
       "text_color": null
      }
     },
     "87eb4eadde644feb94b9ae3dfebef505": {
      "model_module": "@jupyter-widgets/controls",
      "model_module_version": "2.0.0",
      "model_name": "HTMLStyleModel",
      "state": {
       "_model_module": "@jupyter-widgets/controls",
       "_model_module_version": "2.0.0",
       "_model_name": "HTMLStyleModel",
       "_view_count": null,
       "_view_module": "@jupyter-widgets/base",
       "_view_module_version": "2.0.0",
       "_view_name": "StyleView",
       "background": null,
       "description_width": "",
       "font_size": null,
       "text_color": null
      }
     },
     "8943843755984e239f2547e9027e28d6": {
      "model_module": "@jupyter-widgets/controls",
      "model_module_version": "2.0.0",
      "model_name": "HTMLStyleModel",
      "state": {
       "_model_module": "@jupyter-widgets/controls",
       "_model_module_version": "2.0.0",
       "_model_name": "HTMLStyleModel",
       "_view_count": null,
       "_view_module": "@jupyter-widgets/base",
       "_view_module_version": "2.0.0",
       "_view_name": "StyleView",
       "background": null,
       "description_width": "",
       "font_size": null,
       "text_color": null
      }
     },
     "899199cb215342aa98892240cfc8f97b": {
      "model_module": "@jupyter-widgets/controls",
      "model_module_version": "2.0.0",
      "model_name": "HBoxModel",
      "state": {
       "_dom_classes": [],
       "_model_module": "@jupyter-widgets/controls",
       "_model_module_version": "2.0.0",
       "_model_name": "HBoxModel",
       "_view_count": null,
       "_view_module": "@jupyter-widgets/controls",
       "_view_module_version": "2.0.0",
       "_view_name": "HBoxView",
       "box_style": "",
       "children": [
        "IPY_MODEL_e31c0b984a1a4c3ca265643b7a2e7fab",
        "IPY_MODEL_7f28738841b2430b82615876cc21a353",
        "IPY_MODEL_257d90af071444259aa6afdafffc0b0a"
       ],
       "layout": "IPY_MODEL_c9f87c724b4a4a8da412df514b03b523",
       "tabbable": null,
       "tooltip": null
      }
     },
     "8baa8ad4629f4eb29f467a8d098aded5": {
      "model_module": "@jupyter-widgets/controls",
      "model_module_version": "2.0.0",
      "model_name": "HTMLStyleModel",
      "state": {
       "_model_module": "@jupyter-widgets/controls",
       "_model_module_version": "2.0.0",
       "_model_name": "HTMLStyleModel",
       "_view_count": null,
       "_view_module": "@jupyter-widgets/base",
       "_view_module_version": "2.0.0",
       "_view_name": "StyleView",
       "background": null,
       "description_width": "",
       "font_size": null,
       "text_color": null
      }
     },
     "8d0dd739727543a991fde7c8b1ca44f2": {
      "model_module": "@jupyter-widgets/base",
      "model_module_version": "2.0.0",
      "model_name": "LayoutModel",
      "state": {
       "_model_module": "@jupyter-widgets/base",
       "_model_module_version": "2.0.0",
       "_model_name": "LayoutModel",
       "_view_count": null,
       "_view_module": "@jupyter-widgets/base",
       "_view_module_version": "2.0.0",
       "_view_name": "LayoutView",
       "align_content": null,
       "align_items": null,
       "align_self": null,
       "border_bottom": null,
       "border_left": null,
       "border_right": null,
       "border_top": null,
       "bottom": null,
       "display": null,
       "flex": null,
       "flex_flow": null,
       "grid_area": null,
       "grid_auto_columns": null,
       "grid_auto_flow": null,
       "grid_auto_rows": null,
       "grid_column": null,
       "grid_gap": null,
       "grid_row": null,
       "grid_template_areas": null,
       "grid_template_columns": null,
       "grid_template_rows": null,
       "height": null,
       "justify_content": null,
       "justify_items": null,
       "left": null,
       "margin": null,
       "max_height": null,
       "max_width": null,
       "min_height": null,
       "min_width": null,
       "object_fit": null,
       "object_position": null,
       "order": null,
       "overflow": null,
       "padding": null,
       "right": null,
       "top": null,
       "visibility": null,
       "width": null
      }
     },
     "95162e263e2a4bcf9e6a37bd23378b02": {
      "model_module": "@jupyter-widgets/controls",
      "model_module_version": "2.0.0",
      "model_name": "HTMLModel",
      "state": {
       "_dom_classes": [],
       "_model_module": "@jupyter-widgets/controls",
       "_model_module_version": "2.0.0",
       "_model_name": "HTMLModel",
       "_view_count": null,
       "_view_module": "@jupyter-widgets/controls",
       "_view_module_version": "2.0.0",
       "_view_name": "HTMLView",
       "description": "",
       "description_allow_html": false,
       "layout": "IPY_MODEL_b384cae4d0b44be2bd3e3f7c9b532157",
       "placeholder": "​",
       "style": "IPY_MODEL_a1f4509c2d9c4c71861dc483aa27f40c",
       "tabbable": null,
       "tooltip": null,
       "value": "train-00000-of-00001.parquet: 100%"
      }
     },
     "96433c6a5efa4ea2ac837daa9448123f": {
      "model_module": "@jupyter-widgets/base",
      "model_module_version": "2.0.0",
      "model_name": "LayoutModel",
      "state": {
       "_model_module": "@jupyter-widgets/base",
       "_model_module_version": "2.0.0",
       "_model_name": "LayoutModel",
       "_view_count": null,
       "_view_module": "@jupyter-widgets/base",
       "_view_module_version": "2.0.0",
       "_view_name": "LayoutView",
       "align_content": null,
       "align_items": null,
       "align_self": null,
       "border_bottom": null,
       "border_left": null,
       "border_right": null,
       "border_top": null,
       "bottom": null,
       "display": null,
       "flex": null,
       "flex_flow": null,
       "grid_area": null,
       "grid_auto_columns": null,
       "grid_auto_flow": null,
       "grid_auto_rows": null,
       "grid_column": null,
       "grid_gap": null,
       "grid_row": null,
       "grid_template_areas": null,
       "grid_template_columns": null,
       "grid_template_rows": null,
       "height": null,
       "justify_content": null,
       "justify_items": null,
       "left": null,
       "margin": null,
       "max_height": null,
       "max_width": null,
       "min_height": null,
       "min_width": null,
       "object_fit": null,
       "object_position": null,
       "order": null,
       "overflow": null,
       "padding": null,
       "right": null,
       "top": null,
       "visibility": null,
       "width": null
      }
     },
     "98ae7f79713b4c3da5172cf5e5469a9b": {
      "model_module": "@jupyter-widgets/base",
      "model_module_version": "2.0.0",
      "model_name": "LayoutModel",
      "state": {
       "_model_module": "@jupyter-widgets/base",
       "_model_module_version": "2.0.0",
       "_model_name": "LayoutModel",
       "_view_count": null,
       "_view_module": "@jupyter-widgets/base",
       "_view_module_version": "2.0.0",
       "_view_name": "LayoutView",
       "align_content": null,
       "align_items": null,
       "align_self": null,
       "border_bottom": null,
       "border_left": null,
       "border_right": null,
       "border_top": null,
       "bottom": null,
       "display": null,
       "flex": null,
       "flex_flow": null,
       "grid_area": null,
       "grid_auto_columns": null,
       "grid_auto_flow": null,
       "grid_auto_rows": null,
       "grid_column": null,
       "grid_gap": null,
       "grid_row": null,
       "grid_template_areas": null,
       "grid_template_columns": null,
       "grid_template_rows": null,
       "height": null,
       "justify_content": null,
       "justify_items": null,
       "left": null,
       "margin": null,
       "max_height": null,
       "max_width": null,
       "min_height": null,
       "min_width": null,
       "object_fit": null,
       "object_position": null,
       "order": null,
       "overflow": null,
       "padding": null,
       "right": null,
       "top": null,
       "visibility": null,
       "width": null
      }
     },
     "997fd22773c540dbab2c3a1c1f42e074": {
      "model_module": "@jupyter-widgets/base",
      "model_module_version": "2.0.0",
      "model_name": "LayoutModel",
      "state": {
       "_model_module": "@jupyter-widgets/base",
       "_model_module_version": "2.0.0",
       "_model_name": "LayoutModel",
       "_view_count": null,
       "_view_module": "@jupyter-widgets/base",
       "_view_module_version": "2.0.0",
       "_view_name": "LayoutView",
       "align_content": null,
       "align_items": null,
       "align_self": null,
       "border_bottom": null,
       "border_left": null,
       "border_right": null,
       "border_top": null,
       "bottom": null,
       "display": null,
       "flex": null,
       "flex_flow": null,
       "grid_area": null,
       "grid_auto_columns": null,
       "grid_auto_flow": null,
       "grid_auto_rows": null,
       "grid_column": null,
       "grid_gap": null,
       "grid_row": null,
       "grid_template_areas": null,
       "grid_template_columns": null,
       "grid_template_rows": null,
       "height": null,
       "justify_content": null,
       "justify_items": null,
       "left": null,
       "margin": null,
       "max_height": null,
       "max_width": null,
       "min_height": null,
       "min_width": null,
       "object_fit": null,
       "object_position": null,
       "order": null,
       "overflow": null,
       "padding": null,
       "right": null,
       "top": null,
       "visibility": null,
       "width": null
      }
     },
     "9a9182dc968344b0887dab5af6b419cd": {
      "model_module": "@jupyter-widgets/controls",
      "model_module_version": "2.0.0",
      "model_name": "HBoxModel",
      "state": {
       "_dom_classes": [],
       "_model_module": "@jupyter-widgets/controls",
       "_model_module_version": "2.0.0",
       "_model_name": "HBoxModel",
       "_view_count": null,
       "_view_module": "@jupyter-widgets/controls",
       "_view_module_version": "2.0.0",
       "_view_name": "HBoxView",
       "box_style": "",
       "children": [
        "IPY_MODEL_c1566111980a4ff1b0d8aded51d72e84",
        "IPY_MODEL_77b50335d07f4f109152591b86bd0ea0",
        "IPY_MODEL_ca3d9f66e4a14ba8b48dd0e39af90a43"
       ],
       "layout": "IPY_MODEL_cef54f119b6a434fab137e4e8b0702b6",
       "tabbable": null,
       "tooltip": null
      }
     },
     "9d6954cb10654b3db931db50f0928562": {
      "model_module": "@jupyter-widgets/base",
      "model_module_version": "2.0.0",
      "model_name": "LayoutModel",
      "state": {
       "_model_module": "@jupyter-widgets/base",
       "_model_module_version": "2.0.0",
       "_model_name": "LayoutModel",
       "_view_count": null,
       "_view_module": "@jupyter-widgets/base",
       "_view_module_version": "2.0.0",
       "_view_name": "LayoutView",
       "align_content": null,
       "align_items": null,
       "align_self": null,
       "border_bottom": null,
       "border_left": null,
       "border_right": null,
       "border_top": null,
       "bottom": null,
       "display": null,
       "flex": null,
       "flex_flow": null,
       "grid_area": null,
       "grid_auto_columns": null,
       "grid_auto_flow": null,
       "grid_auto_rows": null,
       "grid_column": null,
       "grid_gap": null,
       "grid_row": null,
       "grid_template_areas": null,
       "grid_template_columns": null,
       "grid_template_rows": null,
       "height": null,
       "justify_content": null,
       "justify_items": null,
       "left": null,
       "margin": null,
       "max_height": null,
       "max_width": null,
       "min_height": null,
       "min_width": null,
       "object_fit": null,
       "object_position": null,
       "order": null,
       "overflow": null,
       "padding": null,
       "right": null,
       "top": null,
       "visibility": null,
       "width": null
      }
     },
     "a1a57b74a7254ba787da17868ce1cfa1": {
      "model_module": "@jupyter-widgets/controls",
      "model_module_version": "2.0.0",
      "model_name": "HTMLModel",
      "state": {
       "_dom_classes": [],
       "_model_module": "@jupyter-widgets/controls",
       "_model_module_version": "2.0.0",
       "_model_name": "HTMLModel",
       "_view_count": null,
       "_view_module": "@jupyter-widgets/controls",
       "_view_module_version": "2.0.0",
       "_view_name": "HTMLView",
       "description": "",
       "description_allow_html": false,
       "layout": "IPY_MODEL_1dec4fdeecd346338bffdac00660bfff",
       "placeholder": "​",
       "style": "IPY_MODEL_75b0fffcf04e413296c5ce18ca2e2ebd",
       "tabbable": null,
       "tooltip": null,
       "value": "Map: 100%"
      }
     },
     "a1f4509c2d9c4c71861dc483aa27f40c": {
      "model_module": "@jupyter-widgets/controls",
      "model_module_version": "2.0.0",
      "model_name": "HTMLStyleModel",
      "state": {
       "_model_module": "@jupyter-widgets/controls",
       "_model_module_version": "2.0.0",
       "_model_name": "HTMLStyleModel",
       "_view_count": null,
       "_view_module": "@jupyter-widgets/base",
       "_view_module_version": "2.0.0",
       "_view_name": "StyleView",
       "background": null,
       "description_width": "",
       "font_size": null,
       "text_color": null
      }
     },
     "a3b5a0e1d6f649d788209e0cabecc107": {
      "model_module": "@jupyter-widgets/controls",
      "model_module_version": "2.0.0",
      "model_name": "ProgressStyleModel",
      "state": {
       "_model_module": "@jupyter-widgets/controls",
       "_model_module_version": "2.0.0",
       "_model_name": "ProgressStyleModel",
       "_view_count": null,
       "_view_module": "@jupyter-widgets/base",
       "_view_module_version": "2.0.0",
       "_view_name": "StyleView",
       "bar_color": null,
       "description_width": ""
      }
     },
     "a436eda594394307aecb61409c59913d": {
      "model_module": "@jupyter-widgets/controls",
      "model_module_version": "2.0.0",
      "model_name": "HTMLModel",
      "state": {
       "_dom_classes": [],
       "_model_module": "@jupyter-widgets/controls",
       "_model_module_version": "2.0.0",
       "_model_name": "HTMLModel",
       "_view_count": null,
       "_view_module": "@jupyter-widgets/controls",
       "_view_module_version": "2.0.0",
       "_view_name": "HTMLView",
       "description": "",
       "description_allow_html": false,
       "layout": "IPY_MODEL_a9c72529151f4a1599e5f6cd10190c64",
       "placeholder": "​",
       "style": "IPY_MODEL_6c873a8012d54e9a8a377c24bad500d4",
       "tabbable": null,
       "tooltip": null,
       "value": "Generating train split: 100%"
      }
     },
     "a57d48cc29ff47e2b16fe1cfc9fef6b5": {
      "model_module": "@jupyter-widgets/controls",
      "model_module_version": "2.0.0",
      "model_name": "HTMLStyleModel",
      "state": {
       "_model_module": "@jupyter-widgets/controls",
       "_model_module_version": "2.0.0",
       "_model_name": "HTMLStyleModel",
       "_view_count": null,
       "_view_module": "@jupyter-widgets/base",
       "_view_module_version": "2.0.0",
       "_view_name": "StyleView",
       "background": null,
       "description_width": "",
       "font_size": null,
       "text_color": null
      }
     },
     "a7f9138ad8c744f88859ea76ed7de0ad": {
      "model_module": "@jupyter-widgets/base",
      "model_module_version": "2.0.0",
      "model_name": "LayoutModel",
      "state": {
       "_model_module": "@jupyter-widgets/base",
       "_model_module_version": "2.0.0",
       "_model_name": "LayoutModel",
       "_view_count": null,
       "_view_module": "@jupyter-widgets/base",
       "_view_module_version": "2.0.0",
       "_view_name": "LayoutView",
       "align_content": null,
       "align_items": null,
       "align_self": null,
       "border_bottom": null,
       "border_left": null,
       "border_right": null,
       "border_top": null,
       "bottom": null,
       "display": null,
       "flex": null,
       "flex_flow": null,
       "grid_area": null,
       "grid_auto_columns": null,
       "grid_auto_flow": null,
       "grid_auto_rows": null,
       "grid_column": null,
       "grid_gap": null,
       "grid_row": null,
       "grid_template_areas": null,
       "grid_template_columns": null,
       "grid_template_rows": null,
       "height": null,
       "justify_content": null,
       "justify_items": null,
       "left": null,
       "margin": null,
       "max_height": null,
       "max_width": null,
       "min_height": null,
       "min_width": null,
       "object_fit": null,
       "object_position": null,
       "order": null,
       "overflow": null,
       "padding": null,
       "right": null,
       "top": null,
       "visibility": null,
       "width": null
      }
     },
     "a9c72529151f4a1599e5f6cd10190c64": {
      "model_module": "@jupyter-widgets/base",
      "model_module_version": "2.0.0",
      "model_name": "LayoutModel",
      "state": {
       "_model_module": "@jupyter-widgets/base",
       "_model_module_version": "2.0.0",
       "_model_name": "LayoutModel",
       "_view_count": null,
       "_view_module": "@jupyter-widgets/base",
       "_view_module_version": "2.0.0",
       "_view_name": "LayoutView",
       "align_content": null,
       "align_items": null,
       "align_self": null,
       "border_bottom": null,
       "border_left": null,
       "border_right": null,
       "border_top": null,
       "bottom": null,
       "display": null,
       "flex": null,
       "flex_flow": null,
       "grid_area": null,
       "grid_auto_columns": null,
       "grid_auto_flow": null,
       "grid_auto_rows": null,
       "grid_column": null,
       "grid_gap": null,
       "grid_row": null,
       "grid_template_areas": null,
       "grid_template_columns": null,
       "grid_template_rows": null,
       "height": null,
       "justify_content": null,
       "justify_items": null,
       "left": null,
       "margin": null,
       "max_height": null,
       "max_width": null,
       "min_height": null,
       "min_width": null,
       "object_fit": null,
       "object_position": null,
       "order": null,
       "overflow": null,
       "padding": null,
       "right": null,
       "top": null,
       "visibility": null,
       "width": null
      }
     },
     "adf6f2838aaa487cbf447f370fa94fb2": {
      "model_module": "@jupyter-widgets/controls",
      "model_module_version": "2.0.0",
      "model_name": "HTMLModel",
      "state": {
       "_dom_classes": [],
       "_model_module": "@jupyter-widgets/controls",
       "_model_module_version": "2.0.0",
       "_model_name": "HTMLModel",
       "_view_count": null,
       "_view_module": "@jupyter-widgets/controls",
       "_view_module_version": "2.0.0",
       "_view_name": "HTMLView",
       "description": "",
       "description_allow_html": false,
       "layout": "IPY_MODEL_04b1c729c4a44cdc9e97ea12a306dd34",
       "placeholder": "​",
       "style": "IPY_MODEL_dd098d263a6d45d7ae3d32bd78dcb4dc",
       "tabbable": null,
       "tooltip": null,
       "value": " 50000/50000 [00:00&lt;00:00, 190621.38 examples/s]"
      }
     },
     "ae8e8586e841468ebbb04ae33720d3fe": {
      "model_module": "@jupyter-widgets/controls",
      "model_module_version": "2.0.0",
      "model_name": "FloatProgressModel",
      "state": {
       "_dom_classes": [],
       "_model_module": "@jupyter-widgets/controls",
       "_model_module_version": "2.0.0",
       "_model_name": "FloatProgressModel",
       "_view_count": null,
       "_view_module": "@jupyter-widgets/controls",
       "_view_module_version": "2.0.0",
       "_view_name": "ProgressView",
       "bar_style": "success",
       "description": "",
       "description_allow_html": false,
       "layout": "IPY_MODEL_816f1a752af544a5bf012e81efaa4cff",
       "max": 25000.0,
       "min": 0.0,
       "orientation": "horizontal",
       "style": "IPY_MODEL_2f652cc190854356a62ed0a220af8aba",
       "tabbable": null,
       "tooltip": null,
       "value": 25000.0
      }
     },
     "b20f6237c86a451e89afd0c252d43eac": {
      "model_module": "@jupyter-widgets/base",
      "model_module_version": "2.0.0",
      "model_name": "LayoutModel",
      "state": {
       "_model_module": "@jupyter-widgets/base",
       "_model_module_version": "2.0.0",
       "_model_name": "LayoutModel",
       "_view_count": null,
       "_view_module": "@jupyter-widgets/base",
       "_view_module_version": "2.0.0",
       "_view_name": "LayoutView",
       "align_content": null,
       "align_items": null,
       "align_self": null,
       "border_bottom": null,
       "border_left": null,
       "border_right": null,
       "border_top": null,
       "bottom": null,
       "display": null,
       "flex": null,
       "flex_flow": null,
       "grid_area": null,
       "grid_auto_columns": null,
       "grid_auto_flow": null,
       "grid_auto_rows": null,
       "grid_column": null,
       "grid_gap": null,
       "grid_row": null,
       "grid_template_areas": null,
       "grid_template_columns": null,
       "grid_template_rows": null,
       "height": null,
       "justify_content": null,
       "justify_items": null,
       "left": null,
       "margin": null,
       "max_height": null,
       "max_width": null,
       "min_height": null,
       "min_width": null,
       "object_fit": null,
       "object_position": null,
       "order": null,
       "overflow": null,
       "padding": null,
       "right": null,
       "top": null,
       "visibility": null,
       "width": null
      }
     },
     "b384cae4d0b44be2bd3e3f7c9b532157": {
      "model_module": "@jupyter-widgets/base",
      "model_module_version": "2.0.0",
      "model_name": "LayoutModel",
      "state": {
       "_model_module": "@jupyter-widgets/base",
       "_model_module_version": "2.0.0",
       "_model_name": "LayoutModel",
       "_view_count": null,
       "_view_module": "@jupyter-widgets/base",
       "_view_module_version": "2.0.0",
       "_view_name": "LayoutView",
       "align_content": null,
       "align_items": null,
       "align_self": null,
       "border_bottom": null,
       "border_left": null,
       "border_right": null,
       "border_top": null,
       "bottom": null,
       "display": null,
       "flex": null,
       "flex_flow": null,
       "grid_area": null,
       "grid_auto_columns": null,
       "grid_auto_flow": null,
       "grid_auto_rows": null,
       "grid_column": null,
       "grid_gap": null,
       "grid_row": null,
       "grid_template_areas": null,
       "grid_template_columns": null,
       "grid_template_rows": null,
       "height": null,
       "justify_content": null,
       "justify_items": null,
       "left": null,
       "margin": null,
       "max_height": null,
       "max_width": null,
       "min_height": null,
       "min_width": null,
       "object_fit": null,
       "object_position": null,
       "order": null,
       "overflow": null,
       "padding": null,
       "right": null,
       "top": null,
       "visibility": null,
       "width": null
      }
     },
     "b4277c19875442a69917d5f52db95509": {
      "model_module": "@jupyter-widgets/controls",
      "model_module_version": "2.0.0",
      "model_name": "FloatProgressModel",
      "state": {
       "_dom_classes": [],
       "_model_module": "@jupyter-widgets/controls",
       "_model_module_version": "2.0.0",
       "_model_name": "FloatProgressModel",
       "_view_count": null,
       "_view_module": "@jupyter-widgets/controls",
       "_view_module_version": "2.0.0",
       "_view_name": "ProgressView",
       "bar_style": "success",
       "description": "",
       "description_allow_html": false,
       "layout": "IPY_MODEL_45d34be8ad304a388e837f3fc4e2e119",
       "max": 6250.0,
       "min": 0.0,
       "orientation": "horizontal",
       "style": "IPY_MODEL_ee911291710349959882ecc144912871",
       "tabbable": null,
       "tooltip": null,
       "value": 6250.0
      }
     },
     "b711f7b19ada43f6a9138a2a0b109d3b": {
      "model_module": "@jupyter-widgets/controls",
      "model_module_version": "2.0.0",
      "model_name": "HBoxModel",
      "state": {
       "_dom_classes": [],
       "_model_module": "@jupyter-widgets/controls",
       "_model_module_version": "2.0.0",
       "_model_name": "HBoxModel",
       "_view_count": null,
       "_view_module": "@jupyter-widgets/controls",
       "_view_module_version": "2.0.0",
       "_view_name": "HBoxView",
       "box_style": "",
       "children": [
        "IPY_MODEL_5398664efbbb4dfc87bd48d28dd3f393",
        "IPY_MODEL_c56f3631b39d418b95ece7586368f72c",
        "IPY_MODEL_1ce5c77dfc084a1782fd3d0b07d0527a"
       ],
       "layout": "IPY_MODEL_268395b6625e4cf8b508dd93105fcdd7",
       "tabbable": null,
       "tooltip": null
      }
     },
     "bb5f847cde1e4fe19da43ecc32def449": {
      "model_module": "@jupyter-widgets/base",
      "model_module_version": "2.0.0",
      "model_name": "LayoutModel",
      "state": {
       "_model_module": "@jupyter-widgets/base",
       "_model_module_version": "2.0.0",
       "_model_name": "LayoutModel",
       "_view_count": null,
       "_view_module": "@jupyter-widgets/base",
       "_view_module_version": "2.0.0",
       "_view_name": "LayoutView",
       "align_content": null,
       "align_items": null,
       "align_self": null,
       "border_bottom": null,
       "border_left": null,
       "border_right": null,
       "border_top": null,
       "bottom": null,
       "display": null,
       "flex": null,
       "flex_flow": null,
       "grid_area": null,
       "grid_auto_columns": null,
       "grid_auto_flow": null,
       "grid_auto_rows": null,
       "grid_column": null,
       "grid_gap": null,
       "grid_row": null,
       "grid_template_areas": null,
       "grid_template_columns": null,
       "grid_template_rows": null,
       "height": null,
       "justify_content": null,
       "justify_items": null,
       "left": null,
       "margin": null,
       "max_height": null,
       "max_width": null,
       "min_height": null,
       "min_width": null,
       "object_fit": null,
       "object_position": null,
       "order": null,
       "overflow": null,
       "padding": null,
       "right": null,
       "top": null,
       "visibility": null,
       "width": null
      }
     },
     "bc900c3ba13647b087159e12605caedb": {
      "model_module": "@jupyter-widgets/controls",
      "model_module_version": "2.0.0",
      "model_name": "FloatProgressModel",
      "state": {
       "_dom_classes": [],
       "_model_module": "@jupyter-widgets/controls",
       "_model_module_version": "2.0.0",
       "_model_name": "FloatProgressModel",
       "_view_count": null,
       "_view_module": "@jupyter-widgets/controls",
       "_view_module_version": "2.0.0",
       "_view_name": "ProgressView",
       "bar_style": "success",
       "description": "",
       "description_allow_html": false,
       "layout": "IPY_MODEL_b20f6237c86a451e89afd0c252d43eac",
       "max": 20979968.0,
       "min": 0.0,
       "orientation": "horizontal",
       "style": "IPY_MODEL_6be1210522e1435d93a7cb801402bcd4",
       "tabbable": null,
       "tooltip": null,
       "value": 20979968.0
      }
     },
     "be340f543947450dbc80a65456213494": {
      "model_module": "@jupyter-widgets/controls",
      "model_module_version": "2.0.0",
      "model_name": "HTMLStyleModel",
      "state": {
       "_model_module": "@jupyter-widgets/controls",
       "_model_module_version": "2.0.0",
       "_model_name": "HTMLStyleModel",
       "_view_count": null,
       "_view_module": "@jupyter-widgets/base",
       "_view_module_version": "2.0.0",
       "_view_name": "StyleView",
       "background": null,
       "description_width": "",
       "font_size": null,
       "text_color": null
      }
     },
     "bf19ee7ee0f44cafada3a4f12c203e20": {
      "model_module": "@jupyter-widgets/base",
      "model_module_version": "2.0.0",
      "model_name": "LayoutModel",
      "state": {
       "_model_module": "@jupyter-widgets/base",
       "_model_module_version": "2.0.0",
       "_model_name": "LayoutModel",
       "_view_count": null,
       "_view_module": "@jupyter-widgets/base",
       "_view_module_version": "2.0.0",
       "_view_name": "LayoutView",
       "align_content": null,
       "align_items": null,
       "align_self": null,
       "border_bottom": null,
       "border_left": null,
       "border_right": null,
       "border_top": null,
       "bottom": null,
       "display": null,
       "flex": null,
       "flex_flow": null,
       "grid_area": null,
       "grid_auto_columns": null,
       "grid_auto_flow": null,
       "grid_auto_rows": null,
       "grid_column": null,
       "grid_gap": null,
       "grid_row": null,
       "grid_template_areas": null,
       "grid_template_columns": null,
       "grid_template_rows": null,
       "height": null,
       "justify_content": null,
       "justify_items": null,
       "left": null,
       "margin": null,
       "max_height": null,
       "max_width": null,
       "min_height": null,
       "min_width": null,
       "object_fit": null,
       "object_position": null,
       "order": null,
       "overflow": null,
       "padding": null,
       "right": null,
       "top": null,
       "visibility": null,
       "width": null
      }
     },
     "bf85867430b64afbad3b2cbfb7cf08ee": {
      "model_module": "@jupyter-widgets/controls",
      "model_module_version": "2.0.0",
      "model_name": "HTMLModel",
      "state": {
       "_dom_classes": [],
       "_model_module": "@jupyter-widgets/controls",
       "_model_module_version": "2.0.0",
       "_model_name": "HTMLModel",
       "_view_count": null,
       "_view_module": "@jupyter-widgets/controls",
       "_view_module_version": "2.0.0",
       "_view_name": "HTMLView",
       "description": "",
       "description_allow_html": false,
       "layout": "IPY_MODEL_ed2f2ef5a94d4e7d9cb33c0f25437947",
       "placeholder": "​",
       "style": "IPY_MODEL_16ae937ff4334cbca9b534974ab94f88",
       "tabbable": null,
       "tooltip": null,
       "value": "Map: 100%"
      }
     },
     "c050d60878cb4673823ac4a461eb7388": {
      "model_module": "@jupyter-widgets/base",
      "model_module_version": "2.0.0",
      "model_name": "LayoutModel",
      "state": {
       "_model_module": "@jupyter-widgets/base",
       "_model_module_version": "2.0.0",
       "_model_name": "LayoutModel",
       "_view_count": null,
       "_view_module": "@jupyter-widgets/base",
       "_view_module_version": "2.0.0",
       "_view_name": "LayoutView",
       "align_content": null,
       "align_items": null,
       "align_self": null,
       "border_bottom": null,
       "border_left": null,
       "border_right": null,
       "border_top": null,
       "bottom": null,
       "display": null,
       "flex": null,
       "flex_flow": null,
       "grid_area": null,
       "grid_auto_columns": null,
       "grid_auto_flow": null,
       "grid_auto_rows": null,
       "grid_column": null,
       "grid_gap": null,
       "grid_row": null,
       "grid_template_areas": null,
       "grid_template_columns": null,
       "grid_template_rows": null,
       "height": null,
       "justify_content": null,
       "justify_items": null,
       "left": null,
       "margin": null,
       "max_height": null,
       "max_width": null,
       "min_height": null,
       "min_width": null,
       "object_fit": null,
       "object_position": null,
       "order": null,
       "overflow": null,
       "padding": null,
       "right": null,
       "top": null,
       "visibility": null,
       "width": null
      }
     },
     "c1566111980a4ff1b0d8aded51d72e84": {
      "model_module": "@jupyter-widgets/controls",
      "model_module_version": "2.0.0",
      "model_name": "HTMLModel",
      "state": {
       "_dom_classes": [],
       "_model_module": "@jupyter-widgets/controls",
       "_model_module_version": "2.0.0",
       "_model_name": "HTMLModel",
       "_view_count": null,
       "_view_module": "@jupyter-widgets/controls",
       "_view_module_version": "2.0.0",
       "_view_name": "HTMLView",
       "description": "",
       "description_allow_html": false,
       "layout": "IPY_MODEL_fa8e5e5ab59f407fbe57485bbaca7327",
       "placeholder": "​",
       "style": "IPY_MODEL_f5da636b9ade4310877c9ffecb8cc1a1",
       "tabbable": null,
       "tooltip": null,
       "value": "Computing checksums: 100%"
      }
     },
     "c50b3cc09bf245e68b6cad13a1519867": {
      "model_module": "@jupyter-widgets/controls",
      "model_module_version": "2.0.0",
      "model_name": "FloatProgressModel",
      "state": {
       "_dom_classes": [],
       "_model_module": "@jupyter-widgets/controls",
       "_model_module_version": "2.0.0",
       "_model_name": "FloatProgressModel",
       "_view_count": null,
       "_view_module": "@jupyter-widgets/controls",
       "_view_module_version": "2.0.0",
       "_view_name": "ProgressView",
       "bar_style": "success",
       "description": "",
       "description_allow_html": false,
       "layout": "IPY_MODEL_a7f9138ad8c744f88859ea76ed7de0ad",
       "max": 7809.0,
       "min": 0.0,
       "orientation": "horizontal",
       "style": "IPY_MODEL_a3b5a0e1d6f649d788209e0cabecc107",
       "tabbable": null,
       "tooltip": null,
       "value": 7809.0
      }
     },
     "c56f3631b39d418b95ece7586368f72c": {
      "model_module": "@jupyter-widgets/controls",
      "model_module_version": "2.0.0",
      "model_name": "FloatProgressModel",
      "state": {
       "_dom_classes": [],
       "_model_module": "@jupyter-widgets/controls",
       "_model_module_version": "2.0.0",
       "_model_name": "FloatProgressModel",
       "_view_count": null,
       "_view_module": "@jupyter-widgets/controls",
       "_view_module_version": "2.0.0",
       "_view_name": "ProgressView",
       "bar_style": "success",
       "description": "",
       "description_allow_html": false,
       "layout": "IPY_MODEL_d807917b62314df9a368d16b8c465989",
       "max": 20470363.0,
       "min": 0.0,
       "orientation": "horizontal",
       "style": "IPY_MODEL_d7dda06b00f84e30970d9bf28e7ecfac",
       "tabbable": null,
       "tooltip": null,
       "value": 20470363.0
      }
     },
     "c9f87c724b4a4a8da412df514b03b523": {
      "model_module": "@jupyter-widgets/base",
      "model_module_version": "2.0.0",
      "model_name": "LayoutModel",
      "state": {
       "_model_module": "@jupyter-widgets/base",
       "_model_module_version": "2.0.0",
       "_model_name": "LayoutModel",
       "_view_count": null,
       "_view_module": "@jupyter-widgets/base",
       "_view_module_version": "2.0.0",
       "_view_name": "LayoutView",
       "align_content": null,
       "align_items": null,
       "align_self": null,
       "border_bottom": null,
       "border_left": null,
       "border_right": null,
       "border_top": null,
       "bottom": null,
       "display": null,
       "flex": null,
       "flex_flow": null,
       "grid_area": null,
       "grid_auto_columns": null,
       "grid_auto_flow": null,
       "grid_auto_rows": null,
       "grid_column": null,
       "grid_gap": null,
       "grid_row": null,
       "grid_template_areas": null,
       "grid_template_columns": null,
       "grid_template_rows": null,
       "height": null,
       "justify_content": null,
       "justify_items": null,
       "left": null,
       "margin": null,
       "max_height": null,
       "max_width": null,
       "min_height": null,
       "min_width": null,
       "object_fit": null,
       "object_position": null,
       "order": null,
       "overflow": null,
       "padding": null,
       "right": null,
       "top": null,
       "visibility": null,
       "width": null
      }
     },
     "ca20e4eb1c0b4a30ac8fc5e1e6af7825": {
      "model_module": "@jupyter-widgets/base",
      "model_module_version": "2.0.0",
      "model_name": "LayoutModel",
      "state": {
       "_model_module": "@jupyter-widgets/base",
       "_model_module_version": "2.0.0",
       "_model_name": "LayoutModel",
       "_view_count": null,
       "_view_module": "@jupyter-widgets/base",
       "_view_module_version": "2.0.0",
       "_view_name": "LayoutView",
       "align_content": null,
       "align_items": null,
       "align_self": null,
       "border_bottom": null,
       "border_left": null,
       "border_right": null,
       "border_top": null,
       "bottom": null,
       "display": null,
       "flex": null,
       "flex_flow": null,
       "grid_area": null,
       "grid_auto_columns": null,
       "grid_auto_flow": null,
       "grid_auto_rows": null,
       "grid_column": null,
       "grid_gap": null,
       "grid_row": null,
       "grid_template_areas": null,
       "grid_template_columns": null,
       "grid_template_rows": null,
       "height": null,
       "justify_content": null,
       "justify_items": null,
       "left": null,
       "margin": null,
       "max_height": null,
       "max_width": null,
       "min_height": null,
       "min_width": null,
       "object_fit": null,
       "object_position": null,
       "order": null,
       "overflow": null,
       "padding": null,
       "right": null,
       "top": null,
       "visibility": null,
       "width": null
      }
     },
     "ca3d9f66e4a14ba8b48dd0e39af90a43": {
      "model_module": "@jupyter-widgets/controls",
      "model_module_version": "2.0.0",
      "model_name": "HTMLModel",
      "state": {
       "_dom_classes": [],
       "_model_module": "@jupyter-widgets/controls",
       "_model_module_version": "2.0.0",
       "_model_name": "HTMLModel",
       "_view_count": null,
       "_view_module": "@jupyter-widgets/controls",
       "_view_module_version": "2.0.0",
       "_view_name": "HTMLView",
       "description": "",
       "description_allow_html": false,
       "layout": "IPY_MODEL_f344443d2fa44607bdc1222c85b65b2d",
       "placeholder": "​",
       "style": "IPY_MODEL_337d8473404d490f91aed0113e370d36",
       "tabbable": null,
       "tooltip": null,
       "value": " 3/3 [00:00&lt;00:00, 553.22it/s]"
      }
     },
     "cbb6b192131e475bb8078d16f2fec983": {
      "model_module": "@jupyter-widgets/controls",
      "model_module_version": "2.0.0",
      "model_name": "HTMLModel",
      "state": {
       "_dom_classes": [],
       "_model_module": "@jupyter-widgets/controls",
       "_model_module_version": "2.0.0",
       "_model_name": "HTMLModel",
       "_view_count": null,
       "_view_module": "@jupyter-widgets/controls",
       "_view_module_version": "2.0.0",
       "_view_name": "HTMLView",
       "description": "",
       "description_allow_html": false,
       "layout": "IPY_MODEL_47548c5f99e048e8b4678b35510e9b05",
       "placeholder": "​",
       "style": "IPY_MODEL_2249d5bfc6df4687b0c0f84076362fd3",
       "tabbable": null,
       "tooltip": null,
       "value": " 25000/25000 [00:00&lt;00:00, 168260.65 examples/s]"
      }
     },
     "cef54f119b6a434fab137e4e8b0702b6": {
      "model_module": "@jupyter-widgets/base",
      "model_module_version": "2.0.0",
      "model_name": "LayoutModel",
      "state": {
       "_model_module": "@jupyter-widgets/base",
       "_model_module_version": "2.0.0",
       "_model_name": "LayoutModel",
       "_view_count": null,
       "_view_module": "@jupyter-widgets/base",
       "_view_module_version": "2.0.0",
       "_view_name": "LayoutView",
       "align_content": null,
       "align_items": null,
       "align_self": null,
       "border_bottom": null,
       "border_left": null,
       "border_right": null,
       "border_top": null,
       "bottom": null,
       "display": null,
       "flex": null,
       "flex_flow": null,
       "grid_area": null,
       "grid_auto_columns": null,
       "grid_auto_flow": null,
       "grid_auto_rows": null,
       "grid_column": null,
       "grid_gap": null,
       "grid_row": null,
       "grid_template_areas": null,
       "grid_template_columns": null,
       "grid_template_rows": null,
       "height": null,
       "justify_content": null,
       "justify_items": null,
       "left": null,
       "margin": null,
       "max_height": null,
       "max_width": null,
       "min_height": null,
       "min_width": null,
       "object_fit": null,
       "object_position": null,
       "order": null,
       "overflow": null,
       "padding": null,
       "right": null,
       "top": null,
       "visibility": null,
       "width": null
      }
     },
     "d0fdff2af289474a9f397d3bc37a6092": {
      "model_module": "@jupyter-widgets/base",
      "model_module_version": "2.0.0",
      "model_name": "LayoutModel",
      "state": {
       "_model_module": "@jupyter-widgets/base",
       "_model_module_version": "2.0.0",
       "_model_name": "LayoutModel",
       "_view_count": null,
       "_view_module": "@jupyter-widgets/base",
       "_view_module_version": "2.0.0",
       "_view_name": "LayoutView",
       "align_content": null,
       "align_items": null,
       "align_self": null,
       "border_bottom": null,
       "border_left": null,
       "border_right": null,
       "border_top": null,
       "bottom": null,
       "display": null,
       "flex": null,
       "flex_flow": null,
       "grid_area": null,
       "grid_auto_columns": null,
       "grid_auto_flow": null,
       "grid_auto_rows": null,
       "grid_column": null,
       "grid_gap": null,
       "grid_row": null,
       "grid_template_areas": null,
       "grid_template_columns": null,
       "grid_template_rows": null,
       "height": null,
       "justify_content": null,
       "justify_items": null,
       "left": null,
       "margin": null,
       "max_height": null,
       "max_width": null,
       "min_height": null,
       "min_width": null,
       "object_fit": null,
       "object_position": null,
       "order": null,
       "overflow": null,
       "padding": null,
       "right": null,
       "top": null,
       "visibility": null,
       "width": null
      }
     },
     "d608266bd24d454daaf0c8cc29a45177": {
      "model_module": "@jupyter-widgets/controls",
      "model_module_version": "2.0.0",
      "model_name": "HBoxModel",
      "state": {
       "_dom_classes": [],
       "_model_module": "@jupyter-widgets/controls",
       "_model_module_version": "2.0.0",
       "_model_name": "HBoxModel",
       "_view_count": null,
       "_view_module": "@jupyter-widgets/controls",
       "_view_module_version": "2.0.0",
       "_view_name": "HBoxView",
       "box_style": "",
       "children": [
        "IPY_MODEL_1659d8aa0526403a8c0a9442870a8dd9",
        "IPY_MODEL_dacf47a5842c4889a102947706470305",
        "IPY_MODEL_154c1f5cfd104d988ef8714420420fed"
       ],
       "layout": "IPY_MODEL_f669915f442845ecb9450e338105e907",
       "tabbable": null,
       "tooltip": null
      }
     },
     "d754b115190445a2b2c7411f22e90ede": {
      "model_module": "@jupyter-widgets/controls",
      "model_module_version": "2.0.0",
      "model_name": "HTMLStyleModel",
      "state": {
       "_model_module": "@jupyter-widgets/controls",
       "_model_module_version": "2.0.0",
       "_model_name": "HTMLStyleModel",
       "_view_count": null,
       "_view_module": "@jupyter-widgets/base",
       "_view_module_version": "2.0.0",
       "_view_name": "StyleView",
       "background": null,
       "description_width": "",
       "font_size": null,
       "text_color": null
      }
     },
     "d7dda06b00f84e30970d9bf28e7ecfac": {
      "model_module": "@jupyter-widgets/controls",
      "model_module_version": "2.0.0",
      "model_name": "ProgressStyleModel",
      "state": {
       "_model_module": "@jupyter-widgets/controls",
       "_model_module_version": "2.0.0",
       "_model_name": "ProgressStyleModel",
       "_view_count": null,
       "_view_module": "@jupyter-widgets/base",
       "_view_module_version": "2.0.0",
       "_view_name": "StyleView",
       "bar_color": null,
       "description_width": ""
      }
     },
     "d807917b62314df9a368d16b8c465989": {
      "model_module": "@jupyter-widgets/base",
      "model_module_version": "2.0.0",
      "model_name": "LayoutModel",
      "state": {
       "_model_module": "@jupyter-widgets/base",
       "_model_module_version": "2.0.0",
       "_model_name": "LayoutModel",
       "_view_count": null,
       "_view_module": "@jupyter-widgets/base",
       "_view_module_version": "2.0.0",
       "_view_name": "LayoutView",
       "align_content": null,
       "align_items": null,
       "align_self": null,
       "border_bottom": null,
       "border_left": null,
       "border_right": null,
       "border_top": null,
       "bottom": null,
       "display": null,
       "flex": null,
       "flex_flow": null,
       "grid_area": null,
       "grid_auto_columns": null,
       "grid_auto_flow": null,
       "grid_auto_rows": null,
       "grid_column": null,
       "grid_gap": null,
       "grid_row": null,
       "grid_template_areas": null,
       "grid_template_columns": null,
       "grid_template_rows": null,
       "height": null,
       "justify_content": null,
       "justify_items": null,
       "left": null,
       "margin": null,
       "max_height": null,
       "max_width": null,
       "min_height": null,
       "min_width": null,
       "object_fit": null,
       "object_position": null,
       "order": null,
       "overflow": null,
       "padding": null,
       "right": null,
       "top": null,
       "visibility": null,
       "width": null
      }
     },
     "d86a9b0922fc49c18ea1beac64b13337": {
      "model_module": "@jupyter-widgets/base",
      "model_module_version": "2.0.0",
      "model_name": "LayoutModel",
      "state": {
       "_model_module": "@jupyter-widgets/base",
       "_model_module_version": "2.0.0",
       "_model_name": "LayoutModel",
       "_view_count": null,
       "_view_module": "@jupyter-widgets/base",
       "_view_module_version": "2.0.0",
       "_view_name": "LayoutView",
       "align_content": null,
       "align_items": null,
       "align_self": null,
       "border_bottom": null,
       "border_left": null,
       "border_right": null,
       "border_top": null,
       "bottom": null,
       "display": null,
       "flex": null,
       "flex_flow": null,
       "grid_area": null,
       "grid_auto_columns": null,
       "grid_auto_flow": null,
       "grid_auto_rows": null,
       "grid_column": null,
       "grid_gap": null,
       "grid_row": null,
       "grid_template_areas": null,
       "grid_template_columns": null,
       "grid_template_rows": null,
       "height": null,
       "justify_content": null,
       "justify_items": null,
       "left": null,
       "margin": null,
       "max_height": null,
       "max_width": null,
       "min_height": null,
       "min_width": null,
       "object_fit": null,
       "object_position": null,
       "order": null,
       "overflow": null,
       "padding": null,
       "right": null,
       "top": null,
       "visibility": null,
       "width": null
      }
     },
     "d90419fae04e4122a6a965e25ed49f4d": {
      "model_module": "@jupyter-widgets/controls",
      "model_module_version": "2.0.0",
      "model_name": "HTMLModel",
      "state": {
       "_dom_classes": [],
       "_model_module": "@jupyter-widgets/controls",
       "_model_module_version": "2.0.0",
       "_model_name": "HTMLModel",
       "_view_count": null,
       "_view_module": "@jupyter-widgets/controls",
       "_view_module_version": "2.0.0",
       "_view_name": "HTMLView",
       "description": "",
       "description_allow_html": false,
       "layout": "IPY_MODEL_617af444b86b4d5994581c1ee96ab50f",
       "placeholder": "​",
       "style": "IPY_MODEL_8943843755984e239f2547e9027e28d6",
       "tabbable": null,
       "tooltip": null,
       "value": "Map: 100%"
      }
     },
     "da559f101c3649eca5ec3a5978b9c0a1": {
      "model_module": "@jupyter-widgets/controls",
      "model_module_version": "2.0.0",
      "model_name": "HTMLModel",
      "state": {
       "_dom_classes": [],
       "_model_module": "@jupyter-widgets/controls",
       "_model_module_version": "2.0.0",
       "_model_name": "HTMLModel",
       "_view_count": null,
       "_view_module": "@jupyter-widgets/controls",
       "_view_module_version": "2.0.0",
       "_view_name": "HTMLView",
       "description": "",
       "description_allow_html": false,
       "layout": "IPY_MODEL_96433c6a5efa4ea2ac837daa9448123f",
       "placeholder": "​",
       "style": "IPY_MODEL_dd7ee23a594a40c985d346d8a62c14ae",
       "tabbable": null,
       "tooltip": null,
       "value": " 25000/25000 [00:07&lt;00:00, 3456.43 examples/s]"
      }
     },
     "dacf47a5842c4889a102947706470305": {
      "model_module": "@jupyter-widgets/controls",
      "model_module_version": "2.0.0",
      "model_name": "FloatProgressModel",
      "state": {
       "_dom_classes": [],
       "_model_module": "@jupyter-widgets/controls",
       "_model_module_version": "2.0.0",
       "_model_name": "FloatProgressModel",
       "_view_count": null,
       "_view_module": "@jupyter-widgets/controls",
       "_view_module_version": "2.0.0",
       "_view_name": "ProgressView",
       "bar_style": "success",
       "description": "",
       "description_allow_html": false,
       "layout": "IPY_MODEL_997fd22773c540dbab2c3a1c1f42e074",
       "max": 18750.0,
       "min": 0.0,
       "orientation": "horizontal",
       "style": "IPY_MODEL_3a184888f1b24f34bce2e13f9fc65534",
       "tabbable": null,
       "tooltip": null,
       "value": 18750.0
      }
     },
     "db1928d20db0442d8d06a5d92e5ca42e": {
      "model_module": "@jupyter-widgets/controls",
      "model_module_version": "2.0.0",
      "model_name": "HTMLModel",
      "state": {
       "_dom_classes": [],
       "_model_module": "@jupyter-widgets/controls",
       "_model_module_version": "2.0.0",
       "_model_name": "HTMLModel",
       "_view_count": null,
       "_view_module": "@jupyter-widgets/controls",
       "_view_module_version": "2.0.0",
       "_view_name": "HTMLView",
       "description": "",
       "description_allow_html": false,
       "layout": "IPY_MODEL_1ae1f1fd91004c4697ed687e9c88d71b",
       "placeholder": "​",
       "style": "IPY_MODEL_be340f543947450dbc80a65456213494",
       "tabbable": null,
       "tooltip": null,
       "value": "Map: 100%"
      }
     },
     "db507ceb8ec940aab781ffee3583df63": {
      "model_module": "@jupyter-widgets/controls",
      "model_module_version": "2.0.0",
      "model_name": "FloatProgressModel",
      "state": {
       "_dom_classes": [],
       "_model_module": "@jupyter-widgets/controls",
       "_model_module_version": "2.0.0",
       "_model_name": "FloatProgressModel",
       "_view_count": null,
       "_view_module": "@jupyter-widgets/controls",
       "_view_module_version": "2.0.0",
       "_view_name": "ProgressView",
       "bar_style": "success",
       "description": "",
       "description_allow_html": false,
       "layout": "IPY_MODEL_2ed1c9fc2bd3440d82df71fbf5d0a579",
       "max": 25000.0,
       "min": 0.0,
       "orientation": "horizontal",
       "style": "IPY_MODEL_467de0db20654c81967d1450629d6305",
       "tabbable": null,
       "tooltip": null,
       "value": 25000.0
      }
     },
     "dbe205fa01e146589abac7e91dc43811": {
      "model_module": "@jupyter-widgets/controls",
      "model_module_version": "2.0.0",
      "model_name": "HTMLStyleModel",
      "state": {
       "_model_module": "@jupyter-widgets/controls",
       "_model_module_version": "2.0.0",
       "_model_name": "HTMLStyleModel",
       "_view_count": null,
       "_view_module": "@jupyter-widgets/base",
       "_view_module_version": "2.0.0",
       "_view_name": "StyleView",
       "background": null,
       "description_width": "",
       "font_size": null,
       "text_color": null
      }
     },
     "dd098d263a6d45d7ae3d32bd78dcb4dc": {
      "model_module": "@jupyter-widgets/controls",
      "model_module_version": "2.0.0",
      "model_name": "HTMLStyleModel",
      "state": {
       "_model_module": "@jupyter-widgets/controls",
       "_model_module_version": "2.0.0",
       "_model_name": "HTMLStyleModel",
       "_view_count": null,
       "_view_module": "@jupyter-widgets/base",
       "_view_module_version": "2.0.0",
       "_view_name": "StyleView",
       "background": null,
       "description_width": "",
       "font_size": null,
       "text_color": null
      }
     },
     "dd7ee23a594a40c985d346d8a62c14ae": {
      "model_module": "@jupyter-widgets/controls",
      "model_module_version": "2.0.0",
      "model_name": "HTMLStyleModel",
      "state": {
       "_model_module": "@jupyter-widgets/controls",
       "_model_module_version": "2.0.0",
       "_model_name": "HTMLStyleModel",
       "_view_count": null,
       "_view_module": "@jupyter-widgets/base",
       "_view_module_version": "2.0.0",
       "_view_name": "StyleView",
       "background": null,
       "description_width": "",
       "font_size": null,
       "text_color": null
      }
     },
     "de65ebd6eecc48cd906acd47de55acd2": {
      "model_module": "@jupyter-widgets/controls",
      "model_module_version": "2.0.0",
      "model_name": "HTMLModel",
      "state": {
       "_dom_classes": [],
       "_model_module": "@jupyter-widgets/controls",
       "_model_module_version": "2.0.0",
       "_model_name": "HTMLModel",
       "_view_count": null,
       "_view_module": "@jupyter-widgets/controls",
       "_view_module_version": "2.0.0",
       "_view_name": "HTMLView",
       "description": "",
       "description_allow_html": false,
       "layout": "IPY_MODEL_d0fdff2af289474a9f397d3bc37a6092",
       "placeholder": "​",
       "style": "IPY_MODEL_e547cc5915d24a06afb62d2ef3970710",
       "tabbable": null,
       "tooltip": null,
       "value": " 7.81k/7.81k [00:00&lt;00:00, 934kB/s]"
      }
     },
     "dedea0e851fb4a9685700b4a21cf65ec": {
      "model_module": "@jupyter-widgets/controls",
      "model_module_version": "2.0.0",
      "model_name": "HTMLStyleModel",
      "state": {
       "_model_module": "@jupyter-widgets/controls",
       "_model_module_version": "2.0.0",
       "_model_name": "HTMLStyleModel",
       "_view_count": null,
       "_view_module": "@jupyter-widgets/base",
       "_view_module_version": "2.0.0",
       "_view_name": "StyleView",
       "background": null,
       "description_width": "",
       "font_size": null,
       "text_color": null
      }
     },
     "e31c0b984a1a4c3ca265643b7a2e7fab": {
      "model_module": "@jupyter-widgets/controls",
      "model_module_version": "2.0.0",
      "model_name": "HTMLModel",
      "state": {
       "_dom_classes": [],
       "_model_module": "@jupyter-widgets/controls",
       "_model_module_version": "2.0.0",
       "_model_name": "HTMLModel",
       "_view_count": null,
       "_view_module": "@jupyter-widgets/controls",
       "_view_module_version": "2.0.0",
       "_view_name": "HTMLView",
       "description": "",
       "description_allow_html": false,
       "layout": "IPY_MODEL_9d6954cb10654b3db931db50f0928562",
       "placeholder": "​",
       "style": "IPY_MODEL_7c4149ff85204bacae438044a2574ea3",
       "tabbable": null,
       "tooltip": null,
       "value": "unsupervised-00000-of-00001.parquet: 100%"
      }
     },
     "e547cc5915d24a06afb62d2ef3970710": {
      "model_module": "@jupyter-widgets/controls",
      "model_module_version": "2.0.0",
      "model_name": "HTMLStyleModel",
      "state": {
       "_model_module": "@jupyter-widgets/controls",
       "_model_module_version": "2.0.0",
       "_model_name": "HTMLStyleModel",
       "_view_count": null,
       "_view_module": "@jupyter-widgets/base",
       "_view_module_version": "2.0.0",
       "_view_name": "StyleView",
       "background": null,
       "description_width": "",
       "font_size": null,
       "text_color": null
      }
     },
     "e7a71536a8e644c6a04dfba92a47a522": {
      "model_module": "@jupyter-widgets/base",
      "model_module_version": "2.0.0",
      "model_name": "LayoutModel",
      "state": {
       "_model_module": "@jupyter-widgets/base",
       "_model_module_version": "2.0.0",
       "_model_name": "LayoutModel",
       "_view_count": null,
       "_view_module": "@jupyter-widgets/base",
       "_view_module_version": "2.0.0",
       "_view_name": "LayoutView",
       "align_content": null,
       "align_items": null,
       "align_self": null,
       "border_bottom": null,
       "border_left": null,
       "border_right": null,
       "border_top": null,
       "bottom": null,
       "display": null,
       "flex": null,
       "flex_flow": null,
       "grid_area": null,
       "grid_auto_columns": null,
       "grid_auto_flow": null,
       "grid_auto_rows": null,
       "grid_column": null,
       "grid_gap": null,
       "grid_row": null,
       "grid_template_areas": null,
       "grid_template_columns": null,
       "grid_template_rows": null,
       "height": null,
       "justify_content": null,
       "justify_items": null,
       "left": null,
       "margin": null,
       "max_height": null,
       "max_width": null,
       "min_height": null,
       "min_width": null,
       "object_fit": null,
       "object_position": null,
       "order": null,
       "overflow": null,
       "padding": null,
       "right": null,
       "top": null,
       "visibility": null,
       "width": null
      }
     },
     "ec0ae64fa30d4f93b4e3ef4c10ed432d": {
      "model_module": "@jupyter-widgets/base",
      "model_module_version": "2.0.0",
      "model_name": "LayoutModel",
      "state": {
       "_model_module": "@jupyter-widgets/base",
       "_model_module_version": "2.0.0",
       "_model_name": "LayoutModel",
       "_view_count": null,
       "_view_module": "@jupyter-widgets/base",
       "_view_module_version": "2.0.0",
       "_view_name": "LayoutView",
       "align_content": null,
       "align_items": null,
       "align_self": null,
       "border_bottom": null,
       "border_left": null,
       "border_right": null,
       "border_top": null,
       "bottom": null,
       "display": null,
       "flex": null,
       "flex_flow": null,
       "grid_area": null,
       "grid_auto_columns": null,
       "grid_auto_flow": null,
       "grid_auto_rows": null,
       "grid_column": null,
       "grid_gap": null,
       "grid_row": null,
       "grid_template_areas": null,
       "grid_template_columns": null,
       "grid_template_rows": null,
       "height": null,
       "justify_content": null,
       "justify_items": null,
       "left": null,
       "margin": null,
       "max_height": null,
       "max_width": null,
       "min_height": null,
       "min_width": null,
       "object_fit": null,
       "object_position": null,
       "order": null,
       "overflow": null,
       "padding": null,
       "right": null,
       "top": null,
       "visibility": null,
       "width": null
      }
     },
     "ed2f2ef5a94d4e7d9cb33c0f25437947": {
      "model_module": "@jupyter-widgets/base",
      "model_module_version": "2.0.0",
      "model_name": "LayoutModel",
      "state": {
       "_model_module": "@jupyter-widgets/base",
       "_model_module_version": "2.0.0",
       "_model_name": "LayoutModel",
       "_view_count": null,
       "_view_module": "@jupyter-widgets/base",
       "_view_module_version": "2.0.0",
       "_view_name": "LayoutView",
       "align_content": null,
       "align_items": null,
       "align_self": null,
       "border_bottom": null,
       "border_left": null,
       "border_right": null,
       "border_top": null,
       "bottom": null,
       "display": null,
       "flex": null,
       "flex_flow": null,
       "grid_area": null,
       "grid_auto_columns": null,
       "grid_auto_flow": null,
       "grid_auto_rows": null,
       "grid_column": null,
       "grid_gap": null,
       "grid_row": null,
       "grid_template_areas": null,
       "grid_template_columns": null,
       "grid_template_rows": null,
       "height": null,
       "justify_content": null,
       "justify_items": null,
       "left": null,
       "margin": null,
       "max_height": null,
       "max_width": null,
       "min_height": null,
       "min_width": null,
       "object_fit": null,
       "object_position": null,
       "order": null,
       "overflow": null,
       "padding": null,
       "right": null,
       "top": null,
       "visibility": null,
       "width": null
      }
     },
     "ee911291710349959882ecc144912871": {
      "model_module": "@jupyter-widgets/controls",
      "model_module_version": "2.0.0",
      "model_name": "ProgressStyleModel",
      "state": {
       "_model_module": "@jupyter-widgets/controls",
       "_model_module_version": "2.0.0",
       "_model_name": "ProgressStyleModel",
       "_view_count": null,
       "_view_module": "@jupyter-widgets/base",
       "_view_module_version": "2.0.0",
       "_view_name": "StyleView",
       "bar_color": null,
       "description_width": ""
      }
     },
     "f056049d009e4859a2bc3e0cea306064": {
      "model_module": "@jupyter-widgets/controls",
      "model_module_version": "2.0.0",
      "model_name": "ProgressStyleModel",
      "state": {
       "_model_module": "@jupyter-widgets/controls",
       "_model_module_version": "2.0.0",
       "_model_name": "ProgressStyleModel",
       "_view_count": null,
       "_view_module": "@jupyter-widgets/base",
       "_view_module_version": "2.0.0",
       "_view_name": "StyleView",
       "bar_color": null,
       "description_width": ""
      }
     },
     "f344443d2fa44607bdc1222c85b65b2d": {
      "model_module": "@jupyter-widgets/base",
      "model_module_version": "2.0.0",
      "model_name": "LayoutModel",
      "state": {
       "_model_module": "@jupyter-widgets/base",
       "_model_module_version": "2.0.0",
       "_model_name": "LayoutModel",
       "_view_count": null,
       "_view_module": "@jupyter-widgets/base",
       "_view_module_version": "2.0.0",
       "_view_name": "LayoutView",
       "align_content": null,
       "align_items": null,
       "align_self": null,
       "border_bottom": null,
       "border_left": null,
       "border_right": null,
       "border_top": null,
       "bottom": null,
       "display": null,
       "flex": null,
       "flex_flow": null,
       "grid_area": null,
       "grid_auto_columns": null,
       "grid_auto_flow": null,
       "grid_auto_rows": null,
       "grid_column": null,
       "grid_gap": null,
       "grid_row": null,
       "grid_template_areas": null,
       "grid_template_columns": null,
       "grid_template_rows": null,
       "height": null,
       "justify_content": null,
       "justify_items": null,
       "left": null,
       "margin": null,
       "max_height": null,
       "max_width": null,
       "min_height": null,
       "min_width": null,
       "object_fit": null,
       "object_position": null,
       "order": null,
       "overflow": null,
       "padding": null,
       "right": null,
       "top": null,
       "visibility": null,
       "width": null
      }
     },
     "f433f72d12c94f9fabde1c8ef6e8417c": {
      "model_module": "@jupyter-widgets/base",
      "model_module_version": "2.0.0",
      "model_name": "LayoutModel",
      "state": {
       "_model_module": "@jupyter-widgets/base",
       "_model_module_version": "2.0.0",
       "_model_name": "LayoutModel",
       "_view_count": null,
       "_view_module": "@jupyter-widgets/base",
       "_view_module_version": "2.0.0",
       "_view_name": "LayoutView",
       "align_content": null,
       "align_items": null,
       "align_self": null,
       "border_bottom": null,
       "border_left": null,
       "border_right": null,
       "border_top": null,
       "bottom": null,
       "display": null,
       "flex": null,
       "flex_flow": null,
       "grid_area": null,
       "grid_auto_columns": null,
       "grid_auto_flow": null,
       "grid_auto_rows": null,
       "grid_column": null,
       "grid_gap": null,
       "grid_row": null,
       "grid_template_areas": null,
       "grid_template_columns": null,
       "grid_template_rows": null,
       "height": null,
       "justify_content": null,
       "justify_items": null,
       "left": null,
       "margin": null,
       "max_height": null,
       "max_width": null,
       "min_height": null,
       "min_width": null,
       "object_fit": null,
       "object_position": null,
       "order": null,
       "overflow": null,
       "padding": null,
       "right": null,
       "top": null,
       "visibility": null,
       "width": null
      }
     },
     "f565a30a6a144ed8b189db46bff50769": {
      "model_module": "@jupyter-widgets/controls",
      "model_module_version": "2.0.0",
      "model_name": "HTMLStyleModel",
      "state": {
       "_model_module": "@jupyter-widgets/controls",
       "_model_module_version": "2.0.0",
       "_model_name": "HTMLStyleModel",
       "_view_count": null,
       "_view_module": "@jupyter-widgets/base",
       "_view_module_version": "2.0.0",
       "_view_name": "StyleView",
       "background": null,
       "description_width": "",
       "font_size": null,
       "text_color": null
      }
     },
     "f5da636b9ade4310877c9ffecb8cc1a1": {
      "model_module": "@jupyter-widgets/controls",
      "model_module_version": "2.0.0",
      "model_name": "HTMLStyleModel",
      "state": {
       "_model_module": "@jupyter-widgets/controls",
       "_model_module_version": "2.0.0",
       "_model_name": "HTMLStyleModel",
       "_view_count": null,
       "_view_module": "@jupyter-widgets/base",
       "_view_module_version": "2.0.0",
       "_view_name": "StyleView",
       "background": null,
       "description_width": "",
       "font_size": null,
       "text_color": null
      }
     },
     "f669915f442845ecb9450e338105e907": {
      "model_module": "@jupyter-widgets/base",
      "model_module_version": "2.0.0",
      "model_name": "LayoutModel",
      "state": {
       "_model_module": "@jupyter-widgets/base",
       "_model_module_version": "2.0.0",
       "_model_name": "LayoutModel",
       "_view_count": null,
       "_view_module": "@jupyter-widgets/base",
       "_view_module_version": "2.0.0",
       "_view_name": "LayoutView",
       "align_content": null,
       "align_items": null,
       "align_self": null,
       "border_bottom": null,
       "border_left": null,
       "border_right": null,
       "border_top": null,
       "bottom": null,
       "display": null,
       "flex": null,
       "flex_flow": null,
       "grid_area": null,
       "grid_auto_columns": null,
       "grid_auto_flow": null,
       "grid_auto_rows": null,
       "grid_column": null,
       "grid_gap": null,
       "grid_row": null,
       "grid_template_areas": null,
       "grid_template_columns": null,
       "grid_template_rows": null,
       "height": null,
       "justify_content": null,
       "justify_items": null,
       "left": null,
       "margin": null,
       "max_height": null,
       "max_width": null,
       "min_height": null,
       "min_width": null,
       "object_fit": null,
       "object_position": null,
       "order": null,
       "overflow": null,
       "padding": null,
       "right": null,
       "top": null,
       "visibility": null,
       "width": null
      }
     },
     "f8d9ece7fd31424dade13bf9ae266181": {
      "model_module": "@jupyter-widgets/controls",
      "model_module_version": "2.0.0",
      "model_name": "FloatProgressModel",
      "state": {
       "_dom_classes": [],
       "_model_module": "@jupyter-widgets/controls",
       "_model_module_version": "2.0.0",
       "_model_name": "FloatProgressModel",
       "_view_count": null,
       "_view_module": "@jupyter-widgets/controls",
       "_view_module_version": "2.0.0",
       "_view_name": "ProgressView",
       "bar_style": "success",
       "description": "",
       "description_allow_html": false,
       "layout": "IPY_MODEL_32069a5c8d45403587baea91828781e2",
       "max": 50000.0,
       "min": 0.0,
       "orientation": "horizontal",
       "style": "IPY_MODEL_5e322dd21916441d955c83842b7f0a0c",
       "tabbable": null,
       "tooltip": null,
       "value": 50000.0
      }
     },
     "fa2ef667e4664a3ebbd7d95cda3bbd4f": {
      "model_module": "@jupyter-widgets/base",
      "model_module_version": "2.0.0",
      "model_name": "LayoutModel",
      "state": {
       "_model_module": "@jupyter-widgets/base",
       "_model_module_version": "2.0.0",
       "_model_name": "LayoutModel",
       "_view_count": null,
       "_view_module": "@jupyter-widgets/base",
       "_view_module_version": "2.0.0",
       "_view_name": "LayoutView",
       "align_content": null,
       "align_items": null,
       "align_self": null,
       "border_bottom": null,
       "border_left": null,
       "border_right": null,
       "border_top": null,
       "bottom": null,
       "display": null,
       "flex": null,
       "flex_flow": null,
       "grid_area": null,
       "grid_auto_columns": null,
       "grid_auto_flow": null,
       "grid_auto_rows": null,
       "grid_column": null,
       "grid_gap": null,
       "grid_row": null,
       "grid_template_areas": null,
       "grid_template_columns": null,
       "grid_template_rows": null,
       "height": null,
       "justify_content": null,
       "justify_items": null,
       "left": null,
       "margin": null,
       "max_height": null,
       "max_width": null,
       "min_height": null,
       "min_width": null,
       "object_fit": null,
       "object_position": null,
       "order": null,
       "overflow": null,
       "padding": null,
       "right": null,
       "top": null,
       "visibility": null,
       "width": null
      }
     },
     "fa8e5e5ab59f407fbe57485bbaca7327": {
      "model_module": "@jupyter-widgets/base",
      "model_module_version": "2.0.0",
      "model_name": "LayoutModel",
      "state": {
       "_model_module": "@jupyter-widgets/base",
       "_model_module_version": "2.0.0",
       "_model_name": "LayoutModel",
       "_view_count": null,
       "_view_module": "@jupyter-widgets/base",
       "_view_module_version": "2.0.0",
       "_view_name": "LayoutView",
       "align_content": null,
       "align_items": null,
       "align_self": null,
       "border_bottom": null,
       "border_left": null,
       "border_right": null,
       "border_top": null,
       "bottom": null,
       "display": null,
       "flex": null,
       "flex_flow": null,
       "grid_area": null,
       "grid_auto_columns": null,
       "grid_auto_flow": null,
       "grid_auto_rows": null,
       "grid_column": null,
       "grid_gap": null,
       "grid_row": null,
       "grid_template_areas": null,
       "grid_template_columns": null,
       "grid_template_rows": null,
       "height": null,
       "justify_content": null,
       "justify_items": null,
       "left": null,
       "margin": null,
       "max_height": null,
       "max_width": null,
       "min_height": null,
       "min_width": null,
       "object_fit": null,
       "object_position": null,
       "order": null,
       "overflow": null,
       "padding": null,
       "right": null,
       "top": null,
       "visibility": null,
       "width": null
      }
     },
     "fa9e2d03a6f94dd18a9fbdf760e94c7c": {
      "model_module": "@jupyter-widgets/base",
      "model_module_version": "2.0.0",
      "model_name": "LayoutModel",
      "state": {
       "_model_module": "@jupyter-widgets/base",
       "_model_module_version": "2.0.0",
       "_model_name": "LayoutModel",
       "_view_count": null,
       "_view_module": "@jupyter-widgets/base",
       "_view_module_version": "2.0.0",
       "_view_name": "LayoutView",
       "align_content": null,
       "align_items": null,
       "align_self": null,
       "border_bottom": null,
       "border_left": null,
       "border_right": null,
       "border_top": null,
       "bottom": null,
       "display": null,
       "flex": null,
       "flex_flow": null,
       "grid_area": null,
       "grid_auto_columns": null,
       "grid_auto_flow": null,
       "grid_auto_rows": null,
       "grid_column": null,
       "grid_gap": null,
       "grid_row": null,
       "grid_template_areas": null,
       "grid_template_columns": null,
       "grid_template_rows": null,
       "height": null,
       "justify_content": null,
       "justify_items": null,
       "left": null,
       "margin": null,
       "max_height": null,
       "max_width": null,
       "min_height": null,
       "min_width": null,
       "object_fit": null,
       "object_position": null,
       "order": null,
       "overflow": null,
       "padding": null,
       "right": null,
       "top": null,
       "visibility": null,
       "width": null
      }
     },
     "fb5ef394d7ee42d5be0cf788e310ccf8": {
      "model_module": "@jupyter-widgets/controls",
      "model_module_version": "2.0.0",
      "model_name": "HTMLModel",
      "state": {
       "_dom_classes": [],
       "_model_module": "@jupyter-widgets/controls",
       "_model_module_version": "2.0.0",
       "_model_name": "HTMLModel",
       "_view_count": null,
       "_view_module": "@jupyter-widgets/controls",
       "_view_module_version": "2.0.0",
       "_view_name": "HTMLView",
       "description": "",
       "description_allow_html": false,
       "layout": "IPY_MODEL_ca20e4eb1c0b4a30ac8fc5e1e6af7825",
       "placeholder": "​",
       "style": "IPY_MODEL_261a7eab3e1c4e73b01581e2ee531e24",
       "tabbable": null,
       "tooltip": null,
       "value": " 21.0M/21.0M [00:00&lt;00:00, 94.3MB/s]"
      }
     },
     "fd0665e4810848d3a4716b94a47f3925": {
      "model_module": "@jupyter-widgets/base",
      "model_module_version": "2.0.0",
      "model_name": "LayoutModel",
      "state": {
       "_model_module": "@jupyter-widgets/base",
       "_model_module_version": "2.0.0",
       "_model_name": "LayoutModel",
       "_view_count": null,
       "_view_module": "@jupyter-widgets/base",
       "_view_module_version": "2.0.0",
       "_view_name": "LayoutView",
       "align_content": null,
       "align_items": null,
       "align_self": null,
       "border_bottom": null,
       "border_left": null,
       "border_right": null,
       "border_top": null,
       "bottom": null,
       "display": null,
       "flex": null,
       "flex_flow": null,
       "grid_area": null,
       "grid_auto_columns": null,
       "grid_auto_flow": null,
       "grid_auto_rows": null,
       "grid_column": null,
       "grid_gap": null,
       "grid_row": null,
       "grid_template_areas": null,
       "grid_template_columns": null,
       "grid_template_rows": null,
       "height": null,
       "justify_content": null,
       "justify_items": null,
       "left": null,
       "margin": null,
       "max_height": null,
       "max_width": null,
       "min_height": null,
       "min_width": null,
       "object_fit": null,
       "object_position": null,
       "order": null,
       "overflow": null,
       "padding": null,
       "right": null,
       "top": null,
       "visibility": null,
       "width": null
      }
     }
    },
    "version_major": 2,
    "version_minor": 0
   }
  }
 },
 "nbformat": 4,
 "nbformat_minor": 5
}
