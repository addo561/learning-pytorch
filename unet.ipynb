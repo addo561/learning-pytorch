{
  "nbformat": 4,
  "nbformat_minor": 0,
  "metadata": {
    "colab": {
      "provenance": [],
      "gpuType": "T4",
      "authorship_tag": "ABX9TyOEZjgtaaPxjM5ZzRbux/vW",
      "include_colab_link": true
    },
    "kernelspec": {
      "name": "python3",
      "display_name": "Python 3"
    },
    "language_info": {
      "name": "python"
    },
    "accelerator": "GPU"
  },
  "cells": [
    {
      "cell_type": "markdown",
      "metadata": {
        "id": "view-in-github",
        "colab_type": "text"
      },
      "source": [
        "<a href=\"https://colab.research.google.com/github/addo561/learning-pytorch/blob/main/unet.ipynb\" target=\"_parent\"><img src=\"https://colab.research.google.com/assets/colab-badge.svg\" alt=\"Open In Colab\"/></a>"
      ]
    },
    {
      "cell_type": "markdown",
      "source": [
        "Understand nn.convtranspose"
      ],
      "metadata": {
        "id": "7TMYg4mmnuSv"
      }
    },
    {
      "cell_type": "code",
      "execution_count": 1,
      "metadata": {
        "id": "UIF7K2w8ioKu"
      },
      "outputs": [],
      "source": [
        "import torch\n",
        "import torch.nn as nn"
      ]
    },
    {
      "cell_type": "code",
      "source": [
        "m = nn.ConvTranspose2d(1,1,kernel_size=(2,2),stride=2,padding=0)"
      ],
      "metadata": {
        "id": "97xNxQhloGJk"
      },
      "execution_count": 2,
      "outputs": []
    },
    {
      "cell_type": "code",
      "source": [
        "input = torch.ones(1,1,3,3)\n",
        "output = m(input)\n",
        "output.shape"
      ],
      "metadata": {
        "colab": {
          "base_uri": "https://localhost:8080/"
        },
        "id": "plvHAiRjoRdp",
        "outputId": "cad076a0-7b78-4471-81dd-f2c279ee4a90"
      },
      "execution_count": 3,
      "outputs": [
        {
          "output_type": "execute_result",
          "data": {
            "text/plain": [
              "torch.Size([1, 1, 6, 6])"
            ]
          },
          "metadata": {},
          "execution_count": 3
        }
      ]
    },
    {
      "cell_type": "code",
      "source": [
        "output"
      ],
      "metadata": {
        "colab": {
          "base_uri": "https://localhost:8080/"
        },
        "id": "oDQqw03fomLr",
        "outputId": "0a688bdc-2ebb-49cc-9cde-1265d72583e4"
      },
      "execution_count": 4,
      "outputs": [
        {
          "output_type": "execute_result",
          "data": {
            "text/plain": [
              "tensor([[[[ 0.1511,  0.2025,  0.1511,  0.2025,  0.1511,  0.2025],\n",
              "          [-0.2564, -0.2048, -0.2564, -0.2048, -0.2564, -0.2048],\n",
              "          [ 0.1511,  0.2025,  0.1511,  0.2025,  0.1511,  0.2025],\n",
              "          [-0.2564, -0.2048, -0.2564, -0.2048, -0.2564, -0.2048],\n",
              "          [ 0.1511,  0.2025,  0.1511,  0.2025,  0.1511,  0.2025],\n",
              "          [-0.2564, -0.2048, -0.2564, -0.2048, -0.2564, -0.2048]]]],\n",
              "       grad_fn=<ConvolutionBackward0>)"
            ]
          },
          "metadata": {},
          "execution_count": 4
        }
      ]
    },
    {
      "cell_type": "markdown",
      "source": [
        "Unet"
      ],
      "metadata": {
        "id": "bqxpNvxfqH1l"
      }
    },
    {
      "cell_type": "code",
      "source": [
        "import os\n",
        "if not os.path.exists('dataset1'):\n",
        "    !wget -q wget -q -O dataset1.zip \"https://www.dropbox.com/scl/fi/jv072cyo3y62f6ykw54l8/dataset1.zip?rlkey=mf1tmtrnd6ys7m7oi4ygtcro9&st=vj8bwlik&dl=1\"\n",
        "    !unzip -q dataset1.zip\n",
        "    !rm dataset1.zip\n",
        "    %pip install -q torch_snippets pytorch_model_summary lovely_tensors\n",
        "\n",
        "from torch_snippets import *\n",
        "init_torch()\n",
        "from torchvision import transforms\n",
        "from sklearn.model_selection import train_test_split\n",
        "device = 'cuda' if torch.cuda.is_available() else 'cpu'"
      ],
      "metadata": {
        "id": "Y_uv4TwrqnC0"
      },
      "execution_count": 5,
      "outputs": []
    },
    {
      "cell_type": "code",
      "source": [
        "from torch_snippets.torch_loader import Report"
      ],
      "metadata": {
        "id": "2MktP-0Lrb2u"
      },
      "execution_count": 6,
      "outputs": []
    },
    {
      "cell_type": "code",
      "source": [
        "tfms = transforms.Compose([\n",
        "    transforms.ToTensor(),\n",
        "    transforms.Normalize([0.485, 0.456, 0.406],\n",
        "                         [0.229, 0.224, 0.225])\n",
        "])"
      ],
      "metadata": {
        "id": "-LZZciY7sqTy"
      },
      "execution_count": 7,
      "outputs": []
    },
    {
      "cell_type": "code",
      "source": [
        "import cv2\n",
        "from torch.utils.data import Dataset,DataLoader\n",
        "import torch.optim as optim"
      ],
      "metadata": {
        "id": "9bfF0drnvViq"
      },
      "execution_count": 8,
      "outputs": []
    },
    {
      "cell_type": "code",
      "source": [
        "class SegData(Dataset):\n",
        "  def __init__(self,split):\n",
        "    self.items= stems(f'{base}/images_prepped_{split}')\n",
        "    self.split = split\n",
        "  def __len__(self):\n",
        "    return len(self.items)\n",
        "\n",
        "  def __getitem__(self,ix):\n",
        "    image = read(f'{base}/images_prepped_{self.split}/{self.items[ix]}.png',1)\n",
        "    image = cv2.resize(image,(224,224))\n",
        "    mask = read(f'{base}/annotations_prepped_{self.split}/{self.items[ix]}.png')[:,:,0]\n",
        "    mask = cv2.resize(mask,(224,224))\n",
        "    return image,mask\n",
        "  def choose(self):\n",
        "    return self[randint(len(self))]\n",
        "\n",
        "  def collate_fn(self,batch):\n",
        "    ims,masks = list(zip(*batch))\n",
        "    ims = torch.stack([tfms(im.copy()/255.) for im in ims]).float().to(device)\n",
        "    ce_masks = torch.stack([torch.Tensor(mask) for mask in masks]).long().to(device)\n",
        "    return ims,ce_masks"
      ],
      "metadata": {
        "id": "OvQxSANZtxmi"
      },
      "execution_count": 10,
      "outputs": []
    },
    {
      "cell_type": "code",
      "source": [
        "trn_ds = SegData('train')\n",
        "val_ds = SegData('test')\n",
        "trn_dl = DataLoader(trn_ds, batch_size=4, shuffle=True,\n",
        "                    collate_fn=trn_ds.collate_fn)\n",
        "val_dl = DataLoader(val_ds, batch_size=1, shuffle=True,\n",
        "                    collate_fn=val_ds.collate_fn)"
      ],
      "metadata": {
        "id": "qtJkPBEHxy1Z"
      },
      "execution_count": 11,
      "outputs": []
    },
    {
      "cell_type": "code",
      "source": [
        "def conv(in_ch,out_ch):\n",
        "  return nn.Sequential(\n",
        "      nn.Conv2d(in_ch,out_ch,kernel_size=3,stride=1,padding=1),\n",
        "      nn.BatchNorm2d(out_ch),\n",
        "      nn.ReLU(inplace=True)\n",
        "  )\n",
        "def up_conv(in_ch,out_ch):\n",
        "  return nn.Sequential(\n",
        "      nn.ConvTranspose2d(in_ch,out_ch,kernel_size=2,stride=2),\n",
        "      nn.ReLU(inplace=True)\n",
        "  )"
      ],
      "metadata": {
        "id": "6vazG1G5yDOS"
      },
      "execution_count": 13,
      "outputs": []
    },
    {
      "cell_type": "code",
      "source": [
        "from torchvision.models import vgg16_bn\n",
        "class UNET(nn.Module):\n",
        "  def __init__(self,pretrained=True,out_ch=12):\n",
        "    super().__init__()\n",
        "    self.encoder = vgg16_bn(pretrained=pretrained).features\n",
        "    self.block1 = nn.Sequential(*self.encoder[:6])\n",
        "    self.block2 = nn.Sequential(*self.encoder[6:13])\n",
        "    self.block3 = nn.Sequential(*self.encoder[13:20])\n",
        "    self.block4 = nn.Sequential(*self.encoder[20:27])\n",
        "    self.block5 = nn.Sequential(*self.encoder[27:34])\n",
        "\n",
        "    self.bottleneck = nn.Sequential(*self.encoder[34:])\n",
        "    self.conv_bottleneck = conv(512,1024)\n",
        "\n",
        "    self.up_conv6 = up_conv(1024,512)\n",
        "    self.conv6 = conv(512+512,512)\n",
        "    self.up_conv7 = up_conv(512, 256)\n",
        "    self.conv7 = conv(256+512,256)\n",
        "    self.up_conv8 = up_conv(256,128)\n",
        "    self.conv8 = conv(128+256,128)\n",
        "    self.up_conv9 = up_conv(128, 64)\n",
        "    self.conv9 = conv(64 + 128, 64)\n",
        "    self.up_conv10 = up_conv(64, 32)\n",
        "    self.conv10 = conv(32 + 64, 32)\n",
        "    self.conv11 = nn.Conv2d(32, out_ch, kernel_size=1)\n",
        "\n",
        "  def forward(self,x):\n",
        "      block1 = self.block1(x)\n",
        "      block2 = self.block2(block1)\n",
        "      block3 = self.block3(block2)\n",
        "      block4 = self.block4(block3)\n",
        "      block5 = self.block5(block4)\n",
        "\n",
        "      bottleneck = self.bottleneck(block5)\n",
        "      x = self.conv_bottleneck(bottleneck)\n",
        "\n",
        "      x = self.up_conv6(x)\n",
        "      x = torch.cat([x , block5],dim=1)\n",
        "      x= self.conv6(x)\n",
        "\n",
        "      x = self.up_conv7(x)\n",
        "      x = torch.cat([x,block4],dim=1)\n",
        "      x = self.conv7(x)\n",
        "\n",
        "      x = self.up_conv8(x)\n",
        "      x = torch.cat([x, block3], dim=1)\n",
        "      x = self.conv8(x)\n",
        "\n",
        "      x = self.up_conv9(x)\n",
        "      x = torch.cat([x, block2], dim=1)\n",
        "      x = self.conv9(x)\n",
        "\n",
        "      x = self.up_conv10(x)\n",
        "      x = torch.cat([x, block1], dim=1)\n",
        "      x = self.conv10(x)\n",
        "\n",
        "      x = self.conv11(x)\n",
        "\n",
        "      return x\n"
      ],
      "metadata": {
        "id": "kBLHmwrVz4Wa"
      },
      "execution_count": 19,
      "outputs": []
    },
    {
      "cell_type": "code",
      "source": [
        "ce = nn.CrossEntropyLoss()\n",
        "def UnetLoss(preds,targets):\n",
        "  ce_loss = ce(preds,targets)\n",
        "  acc = (torch.max(preds,1)[1]==targets).float().mean()\n",
        "  return ce_loss,acc\n",
        "\n",
        "def train_batch(model,data,optimizer,criterion):\n",
        "  model.train()\n",
        "  ims,ce_masks = data\n",
        "  _masks = model(ims)\n",
        "  optimizer.zero_grad()\n",
        "  loss,acc = criterion(_masks,ce_masks)\n",
        "  loss.backward()\n",
        "  optimizer.step()\n",
        "  return loss.item(),acc.item()\n",
        "@torch.no_grad()\n",
        "def validate_batch(model,data,criterion):\n",
        "  model.eval()\n",
        "  ims,masks = data\n",
        "  _masks = model(ims)\n",
        "  loss,acc = criterion(_masks,masks)\n",
        "  return   loss.item(),acc.item()\n",
        "\n",
        "model = UNET().to(device)\n",
        "criterion = UnetLoss\n",
        "optimizer = optim.Adam(model.parameters(),lr=1e-3)\n",
        "n_epochs = 20"
      ],
      "metadata": {
        "colab": {
          "base_uri": "https://localhost:8080/"
        },
        "id": "CMDPttPb5K1N",
        "outputId": "cb443ac0-05d7-4fe5-a3f7-52cb47d344ab"
      },
      "execution_count": 20,
      "outputs": [
        {
          "output_type": "stream",
          "name": "stderr",
          "text": [
            "/usr/local/lib/python3.11/dist-packages/torchvision/models/_utils.py:208: UserWarning: The parameter 'pretrained' is deprecated since 0.13 and may be removed in the future, please use 'weights' instead.\n",
            "  warnings.warn(\n",
            "/usr/local/lib/python3.11/dist-packages/torchvision/models/_utils.py:223: UserWarning: Arguments other than a weight enum or `None` for 'weights' are deprecated since 0.13 and may be removed in the future. The current behavior is equivalent to passing `weights=VGG16_BN_Weights.IMAGENET1K_V1`. You can also use `weights=VGG16_BN_Weights.DEFAULT` to get the most up-to-date weights.\n",
            "  warnings.warn(msg)\n"
          ]
        }
      ]
    },
    {
      "cell_type": "code",
      "source": [
        "import tqdm\n",
        "log = Report(n_epochs)\n",
        "for ex in tqdm.tqdm(range(n_epochs)):\n",
        "  N = len(trn_dl)\n",
        "  for bx,data in enumerate(trn_dl):\n",
        "    loss,acc = train_batch(model,data,optimizer,criterion)\n",
        "    log.record(ex+(bx+1)/N,trn_loss=loss,trn_acc=acc,end='\\r')\n",
        "  N = len(val_dl)\n",
        "  for bx,data in enumerate(val_dl):\n",
        "    loss,acc = validate_batch(model,data,criterion)\n",
        "    log.record(ex+(bx+1)/N,val_loss=loss,val_acc=acc,end='\\r')\n",
        "\n",
        "  log.report_avgs(ex+1)\n"
      ],
      "metadata": {
        "colab": {
          "base_uri": "https://localhost:8080/"
        },
        "id": "yGj4fuZl7aSS",
        "outputId": "f7343f63-03a1-4535-c093-3ad79f2227cd"
      },
      "execution_count": 21,
      "outputs": [
        {
          "output_type": "stream",
          "name": "stderr",
          "text": [
            "\r  0%|          | 0/20 [00:00<?, ?it/s]"
          ]
        },
        {
          "output_type": "stream",
          "name": "stdout",
          "text": [
            "EPOCH: 0.901  val_loss: 0.870  val_acc: 0.808  (19.99s - 423.67s remaining)"
          ]
        },
        {
          "output_type": "stream",
          "name": "stderr",
          "text": [
            "\r  5%|▌         | 1/20 [00:20<06:23, 20.21s/it]"
          ]
        },
        {
          "output_type": "stream",
          "name": "stdout",
          "text": [
            "EPOCH: 1.000  val_acc: 0.817  trn_loss: 1.270  trn_acc: 0.730  val_loss: 0.840  (20.21s - 384.00s remaining)\n",
            "EPOCH: 1.990  val_loss: 0.603  val_acc: 0.867  (38.63s - 349.58s remaining)"
          ]
        },
        {
          "output_type": "stream",
          "name": "stderr",
          "text": [
            "\r 10%|█         | 2/20 [00:38<05:45, 19.17s/it]"
          ]
        },
        {
          "output_type": "stream",
          "name": "stdout",
          "text": [
            "EPOCH: 2.000  val_acc: 0.830  trn_loss: 0.716  trn_acc: 0.822  val_loss: 0.693  (38.65s - 347.85s remaining)\n",
            "EPOCH: 2.941  val_loss: 0.537  val_acc: 0.876  (57.13s - 331.43s remaining)"
          ]
        },
        {
          "output_type": "stream",
          "name": "stderr",
          "text": [
            "\r 15%|█▌        | 3/20 [00:57<05:21, 18.91s/it]"
          ]
        },
        {
          "output_type": "stream",
          "name": "stdout",
          "text": [
            "EPOCH: 3.000  val_acc: 0.860  trn_loss: 0.595  trn_acc: 0.839  val_loss: 0.545  (57.25s - 324.44s remaining)\n",
            "EPOCH: 3.921  val_loss: 0.530  val_acc: 0.864  (75.33s - 308.91s remaining)"
          ]
        },
        {
          "output_type": "stream",
          "name": "stderr",
          "text": [
            "\r 20%|██        | 4/20 [01:15<04:58, 18.65s/it]"
          ]
        },
        {
          "output_type": "stream",
          "name": "stdout",
          "text": [
            "EPOCH: 4.000  val_acc: 0.870  trn_loss: 0.511  trn_acc: 0.859  val_loss: 0.479  (75.49s - 301.98s remaining)\n",
            "EPOCH: 4.921  val_loss: 0.677  val_acc: 0.784  (93.88s - 287.68s remaining)"
          ]
        },
        {
          "output_type": "stream",
          "name": "stderr",
          "text": [
            "\r 25%|██▌       | 5/20 [01:34<04:39, 18.62s/it]"
          ]
        },
        {
          "output_type": "stream",
          "name": "stdout",
          "text": [
            "EPOCH: 5.000  val_acc: 0.829  trn_loss: 0.499  trn_acc: 0.860  val_loss: 0.571  (94.07s - 282.22s remaining)\n",
            "EPOCH: 5.950  val_loss: 0.630  val_acc: 0.815  (112.19s - 264.88s remaining)"
          ]
        },
        {
          "output_type": "stream",
          "name": "stderr",
          "text": [
            "\r 30%|███       | 6/20 [01:52<04:18, 18.49s/it]"
          ]
        },
        {
          "output_type": "stream",
          "name": "stdout",
          "text": [
            "EPOCH: 6.000  val_acc: 0.834  trn_loss: 0.452  trn_acc: 0.872  val_loss: 0.562  (112.30s - 262.03s remaining)\n",
            "EPOCH: 6.921  val_loss: 0.501  val_acc: 0.841  (130.71s - 247.02s remaining)"
          ]
        },
        {
          "output_type": "stream",
          "name": "stderr",
          "text": [
            "\r 35%|███▌      | 7/20 [02:10<04:00, 18.52s/it]"
          ]
        },
        {
          "output_type": "stream",
          "name": "stdout",
          "text": [
            "EPOCH: 7.000  val_acc: 0.874  trn_loss: 0.407  trn_acc: 0.885  val_loss: 0.428  (130.90s - 243.09s remaining)\n",
            "EPOCH: 7.950  val_loss: 0.794  val_acc: 0.780  (149.04s - 225.88s remaining)"
          ]
        },
        {
          "output_type": "stream",
          "name": "stderr",
          "text": [
            "\r 40%|████      | 8/20 [02:29<03:41, 18.44s/it]"
          ]
        },
        {
          "output_type": "stream",
          "name": "stdout",
          "text": [
            "EPOCH: 8.000  val_acc: 0.810  trn_loss: 0.417  trn_acc: 0.880  val_loss: 0.645  (149.15s - 223.72s remaining)\n",
            "EPOCH: 8.970  val_loss: 0.428  val_acc: 0.864  (167.55s - 206.01s remaining)"
          ]
        },
        {
          "output_type": "stream",
          "name": "stderr",
          "text": [
            "\r 45%|████▌     | 9/20 [02:47<03:22, 18.45s/it]"
          ]
        },
        {
          "output_type": "stream",
          "name": "stdout",
          "text": [
            "EPOCH: 9.000  val_acc: 0.866  trn_loss: 0.389  trn_acc: 0.889  val_loss: 0.429  (167.61s - 204.86s remaining)\n",
            "EPOCH: 9.990  val_loss: 0.291  val_acc: 0.920  (185.78s - 186.15s remaining)"
          ]
        },
        {
          "output_type": "stream",
          "name": "stderr",
          "text": [
            "\r 50%|█████     | 10/20 [03:05<03:03, 18.37s/it]"
          ]
        },
        {
          "output_type": "stream",
          "name": "stdout",
          "text": [
            "EPOCH: 10.000  val_acc: 0.868  trn_loss: 0.352  trn_acc: 0.900  val_loss: 0.413  (185.80s - 185.80s remaining)\n",
            "EPOCH: 10.950  val_loss: 0.400  val_acc: 0.876  (204.17s - 168.73s remaining)"
          ]
        },
        {
          "output_type": "stream",
          "name": "stderr",
          "text": [
            "\r 55%|█████▌    | 11/20 [03:24<02:45, 18.40s/it]"
          ]
        },
        {
          "output_type": "stream",
          "name": "stdout",
          "text": [
            "EPOCH: 11.000  val_acc: 0.856  trn_loss: 0.333  trn_acc: 0.905  val_loss: 0.474  (204.28s - 167.14s remaining)\n",
            "EPOCH: 11.990  val_loss: 0.422  val_acc: 0.873  (222.50s - 148.64s remaining)"
          ]
        },
        {
          "output_type": "stream",
          "name": "stderr",
          "text": [
            "\r 60%|██████    | 12/20 [03:42<02:26, 18.35s/it]"
          ]
        },
        {
          "output_type": "stream",
          "name": "stdout",
          "text": [
            "EPOCH: 12.000  val_acc: 0.877  trn_loss: 0.311  trn_acc: 0.912  val_loss: 0.418  (222.52s - 148.35s remaining)\n",
            "EPOCH: 12.990  val_loss: 0.302  val_acc: 0.910  (240.93s - 130.01s remaining)"
          ]
        },
        {
          "output_type": "stream",
          "name": "stderr",
          "text": [
            "\r 65%|██████▌   | 13/20 [04:00<02:08, 18.38s/it]"
          ]
        },
        {
          "output_type": "stream",
          "name": "stdout",
          "text": [
            "EPOCH: 13.000  val_acc: 0.875  trn_loss: 0.295  trn_acc: 0.917  val_loss: 0.409  (240.96s - 129.75s remaining)\n",
            "EPOCH: 13.970  val_loss: 0.383  val_acc: 0.889  (259.15s - 111.85s remaining)"
          ]
        },
        {
          "output_type": "stream",
          "name": "stderr",
          "text": [
            "\r 70%|███████   | 14/20 [04:19<01:50, 18.34s/it]"
          ]
        },
        {
          "output_type": "stream",
          "name": "stdout",
          "text": [
            "EPOCH: 14.000  val_acc: 0.865  trn_loss: 0.286  trn_acc: 0.919  val_loss: 0.477  (259.21s - 111.09s remaining)\n",
            "EPOCH: 14.990  val_loss: 0.603  val_acc: 0.816  (277.66s - 92.80s remaining)"
          ]
        },
        {
          "output_type": "stream",
          "name": "stderr",
          "text": [
            "\r 75%|███████▌  | 15/20 [04:37<01:31, 18.38s/it]"
          ]
        },
        {
          "output_type": "stream",
          "name": "stdout",
          "text": [
            "EPOCH: 15.000  val_acc: 0.866  trn_loss: 0.276  trn_acc: 0.922  val_loss: 0.468  (277.69s - 92.56s remaining)\n",
            "EPOCH: 15.980  val_loss: 0.354  val_acc: 0.901  (295.98s - 74.45s remaining)"
          ]
        },
        {
          "output_type": "stream",
          "name": "stderr",
          "text": [
            "\r 80%|████████  | 16/20 [04:56<01:13, 18.37s/it]"
          ]
        },
        {
          "output_type": "stream",
          "name": "stdout",
          "text": [
            "EPOCH: 16.000  val_acc: 0.885  trn_loss: 0.266  trn_acc: 0.925  val_loss: 0.414  (296.03s - 74.01s remaining)\n",
            "EPOCH: 16.970  val_loss: 0.304  val_acc: 0.918  (314.38s - 56.13s remaining)"
          ]
        },
        {
          "output_type": "stream",
          "name": "stderr",
          "text": [
            "\r 85%|████████▌ | 17/20 [05:14<00:55, 18.38s/it]"
          ]
        },
        {
          "output_type": "stream",
          "name": "stdout",
          "text": [
            "EPOCH: 17.000  val_acc: 0.896  trn_loss: 0.253  trn_acc: 0.929  val_loss: 0.370  (314.45s - 55.49s remaining)\n",
            "EPOCH: 17.990  val_loss: 0.404  val_acc: 0.883  (332.69s - 37.17s remaining)"
          ]
        },
        {
          "output_type": "stream",
          "name": "stderr",
          "text": [
            "\r 90%|█████████ | 18/20 [05:32<00:36, 18.35s/it]"
          ]
        },
        {
          "output_type": "stream",
          "name": "stdout",
          "text": [
            "EPOCH: 18.000  val_acc: 0.889  trn_loss: 0.245  trn_acc: 0.931  val_loss: 0.404  (332.71s - 36.97s remaining)\n",
            "EPOCH: 18.970  val_loss: 0.413  val_acc: 0.894  (351.17s - 19.06s remaining)"
          ]
        },
        {
          "output_type": "stream",
          "name": "stderr",
          "text": [
            "\r 95%|█████████▌| 19/20 [05:51<00:18, 18.40s/it]"
          ]
        },
        {
          "output_type": "stream",
          "name": "stdout",
          "text": [
            "EPOCH: 19.000  val_acc: 0.895  trn_loss: 0.242  trn_acc: 0.932  val_loss: 0.389  (351.24s - 18.49s remaining)\n",
            "EPOCH: 19.990  val_loss: 0.234  val_acc: 0.931  (369.42s - 0.18s remaining)"
          ]
        },
        {
          "output_type": "stream",
          "name": "stderr",
          "text": [
            "100%|██████████| 20/20 [06:09<00:00, 18.47s/it]"
          ]
        },
        {
          "output_type": "stream",
          "name": "stdout",
          "text": [
            "\rEPOCH: 20.000  val_loss: 0.338  val_acc: 0.903  (369.44s - 0.00s remaining)\rEPOCH: 20.000  val_acc: 0.898  trn_loss: 0.228  trn_acc: 0.936  val_loss: 0.359  (369.44s - 0.00s remaining)\n"
          ]
        },
        {
          "output_type": "stream",
          "name": "stderr",
          "text": [
            "\n"
          ]
        }
      ]
    },
    {
      "cell_type": "code",
      "source": [
        "log.plot_epochs(['trn_loss','val_loss'])"
      ],
      "metadata": {
        "colab": {
          "base_uri": "https://localhost:8080/",
          "height": 512
        },
        "id": "tAh3ckACFNVF",
        "outputId": "e5d7d6ed-2d54-4af8-e94f-01de462a6ede"
      },
      "execution_count": 22,
      "outputs": [
        {
          "output_type": "stream",
          "name": "stderr",
          "text": [
            "100%|██████████| 121/121 [00:00<00:00, 1854.90it/s]\n"
          ]
        },
        {
          "output_type": "display_data",
          "data": {
            "text/plain": [
              "<Figure size 800x600 with 1 Axes>"
            ],
            "image/png": "[encoded data removed]"
          },
          "metadata": {}
        }
      ]
    },
    {
      "cell_type": "code",
      "source": [
        "im,mask = next(iter(val_dl))\n",
        "_mask = model(im)\n",
        "_,_mask = torch.max(_mask,dim=1)\n",
        "subplots([im[0].permute(1,2,0).detach().cpu()[:,:,0],\n",
        "          mask.permute(1,2,0).detach().cpu()[:,:,0],\n",
        "          _mask.permute(1,2,0).detach().cpu()[:,:,0]],nc=3,titles=['O','OM','PM'])"
      ],
      "metadata": {
        "colab": {
          "base_uri": "https://localhost:8080/",
          "height": 206
        },
        "id": "S1RbCImwFTcY",
        "outputId": "4da49d87-a772-47d2-c850-be19958882ef"
      },
      "execution_count": 32,
      "outputs": [
        {
          "output_type": "display_data",
          "data": {
            "text/plain": [
              "<Figure size 500x500 with 3 Axes>"
            ],
            "image/png": "[encoded data removed]"
          },
          "metadata": {}
        }
      ]
    },
    {
      "cell_type": "code",
      "source": [],
      "metadata": {
        "id": "acbCxlBgGwlz"
      },
      "execution_count": null,
      "outputs": []
    }
  ]
}