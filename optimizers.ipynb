{
  "nbformat": 4,
  "nbformat_minor": 0,
  "metadata": {
    "colab": {
      "provenance": [],
      "gpuType": "T4",
      "authorship_tag": "ABX9TyNXQIXnQYMt/+XRsRDvFySD",
      "include_colab_link": true
    },
    "kernelspec": {
      "name": "python3",
      "display_name": "Python 3"
    },
    "language_info": {
      "name": "python"
    },
    "accelerator": "GPU"
  },
  "cells": [
    {
      "cell_type": "markdown",
      "metadata": {
        "id": "view-in-github",
        "colab_type": "text"
      },
      "source": [
        "<a href=\"https://colab.research.google.com/github/addo561/learning-pytorch/blob/main/optimizers.ipynb\" target=\"_parent\"><img src=\"https://colab.research.google.com/assets/colab-badge.svg\" alt=\"Open In Colab\"/></a>"
      ]
    },
    {
      "cell_type": "code",
      "execution_count": 1,
      "metadata": {
        "colab": {
          "base_uri": "https://localhost:8080/"
        },
        "id": "l5_abwprd_za",
        "outputId": "4a14c886-e406-4704-83f2-bca15fdd57b6"
      },
      "outputs": [
        {
          "output_type": "stream",
          "name": "stdout",
          "text": [
            "3.11.12 (main, Apr  9 2025, 08:55:54) [GCC 11.4.0]\n"
          ]
        }
      ],
      "source": [
        "import sys\n",
        "print(sys.version)"
      ]
    },
    {
      "cell_type": "code",
      "source": [
        "import matplotlib.pyplot as plt\n",
        "import numpy as np\n",
        "import random\n",
        "import torch\n",
        "import torch.nn as nn\n",
        "import torch.nn.functional as F\n",
        "import torch.utils.data as data\n",
        "import torchvision.datasets as datasets\n",
        "import torchvision.transforms as transforms\n",
        "import tqdm"
      ],
      "metadata": {
        "id": "8l1_HUMheFMH"
      },
      "execution_count": 2,
      "outputs": []
    },
    {
      "cell_type": "code",
      "source": [
        "torch.manual_seed(1234)\n",
        "random.seed(1234)\n",
        "np.random.seed(1234)"
      ],
      "metadata": {
        "id": "MKlL6Ijf8IR5"
      },
      "execution_count": 3,
      "outputs": []
    },
    {
      "cell_type": "code",
      "source": [
        "mean = 0.13066048920154572\n",
        "std = 0.30810779333114624\n",
        "\n",
        "train_transforms = transforms.Compose([\n",
        "                            transforms.RandomRotation(5),\n",
        "                            transforms.RandomCrop(28, padding = 2),\n",
        "                            transforms.ToTensor(),\n",
        "                            transforms.Normalize(mean = [mean], std = [std])])\n",
        "\n",
        "train_data = datasets.MNIST(root = '.data',\n",
        "                            train = True,\n",
        "                            download = True,\n",
        "                            transform = train_transforms)"
      ],
      "metadata": {
        "colab": {
          "base_uri": "https://localhost:8080/"
        },
        "id": "2sTaVtsK70bX",
        "outputId": "22f1b012-855a-4619-e4f0-6dd16f390318"
      },
      "execution_count": 4,
      "outputs": [
        {
          "output_type": "stream",
          "name": "stderr",
          "text": [
            "100%|██████████| 9.91M/9.91M [00:00<00:00, 17.6MB/s]\n",
            "100%|██████████| 28.9k/28.9k [00:00<00:00, 470kB/s]\n",
            "100%|██████████| 1.65M/1.65M [00:00<00:00, 4.37MB/s]\n",
            "100%|██████████| 4.54k/4.54k [00:00<00:00, 5.51MB/s]\n"
          ]
        }
      ]
    },
    {
      "cell_type": "code",
      "source": [
        "batch_size = 128\n",
        "train_dataloader = data.DataLoader(train_data,\n",
        "                                   shuffle=True,\n",
        "                                   batch_size =  batch_size)"
      ],
      "metadata": {
        "id": "rp6Lep_f8RyD"
      },
      "execution_count": 5,
      "outputs": []
    },
    {
      "cell_type": "code",
      "source": [
        "img,label = next(iter(train_dataloader))"
      ],
      "metadata": {
        "id": "ckx3wE838w5O"
      },
      "execution_count": 6,
      "outputs": []
    },
    {
      "cell_type": "code",
      "source": [
        "img[0].shape"
      ],
      "metadata": {
        "colab": {
          "base_uri": "https://localhost:8080/"
        },
        "id": "u-a2hUil81Qs",
        "outputId": "38848b19-3194-47b1-a0ca-a4d82be86451"
      },
      "execution_count": 7,
      "outputs": [
        {
          "output_type": "execute_result",
          "data": {
            "text/plain": [
              "torch.Size([1, 28, 28])"
            ]
          },
          "metadata": {},
          "execution_count": 7
        }
      ]
    },
    {
      "cell_type": "code",
      "source": [
        "label[0]"
      ],
      "metadata": {
        "colab": {
          "base_uri": "https://localhost:8080/"
        },
        "id": "RWuZs_v688UT",
        "outputId": "d1adbac2-b699-4709-ee46-2a66fbfe560d"
      },
      "execution_count": 8,
      "outputs": [
        {
          "output_type": "execute_result",
          "data": {
            "text/plain": [
              "tensor(6)"
            ]
          },
          "metadata": {},
          "execution_count": 8
        }
      ]
    },
    {
      "cell_type": "code",
      "source": [
        "plt.imshow(img[0].permute(1,2,0).squeeze(0))\n",
        "plt.title(label[0].item())\n",
        "plt.axis('off')\n",
        "plt.show()"
      ],
      "metadata": {
        "colab": {
          "base_uri": "https://localhost:8080/",
          "height": 428
        },
        "id": "-A2yNxuu9BXS",
        "outputId": "bfa96d50-3632-46e0-ec3d-ec94e6e22ef4"
      },
      "execution_count": 9,
      "outputs": [
        {
          "output_type": "display_data",
          "data": {
            "text/plain": [
              "<Figure size 640x480 with 1 Axes>"
            ],
            "image/png": "[encoded data removed]"
          },
          "metadata": {}
        }
      ]
    },
    {
      "cell_type": "code",
      "source": [
        "class MLP(nn.Module):\n",
        "  def __init__(self,input_dim,output_dim,hidden_dim):\n",
        "    super().__init__()\n",
        "    self.l1 = nn.Linear(input_dim,hidden_dim)\n",
        "    self.l2 = nn.Linear(hidden_dim,hidden_dim)\n",
        "    self.l3 = nn.Linear(hidden_dim,output_dim)\n",
        "    self.init_params()\n",
        "\n",
        "  def init_params(self):\n",
        "    for n,p in self.named_parameters():\n",
        "      if 'weight' in n:\n",
        "        nn.init.kaiming_normal_(p,nonlinearity='relu')\n",
        "      elif 'bias' in n:\n",
        "        nn.init.constant_(p,0)\n",
        "\n",
        "  def forward(self,x):\n",
        "    batch_size,*_ = x.shape\n",
        "    x = x.view(batch_size,-1)\n",
        "    x = F.relu(self.l1(x))\n",
        "    x = F.relu(self.l2(x))\n",
        "    x = self.l3(x)\n",
        "    return x\n"
      ],
      "metadata": {
        "id": "A4XjsxBB9h-1"
      },
      "execution_count": 10,
      "outputs": []
    },
    {
      "cell_type": "code",
      "source": [
        "input_dim = 28 * 28\n",
        "hid_dim = 256\n",
        "output_dim = 10\n",
        "\n",
        "model = MLP(input_dim, output_dim, hid_dim)"
      ],
      "metadata": {
        "id": "0q7bBk0bBwnS"
      },
      "execution_count": 11,
      "outputs": []
    },
    {
      "cell_type": "code",
      "source": [
        "model"
      ],
      "metadata": {
        "colab": {
          "base_uri": "https://localhost:8080/"
        },
        "id": "0TcuhhxxB11K",
        "outputId": "10219ec7-b078-4c58-9b57-7affb0f46f59"
      },
      "execution_count": 12,
      "outputs": [
        {
          "output_type": "execute_result",
          "data": {
            "text/plain": [
              "MLP(\n",
              "  (l1): Linear(in_features=784, out_features=256, bias=True)\n",
              "  (l2): Linear(in_features=256, out_features=256, bias=True)\n",
              "  (l3): Linear(in_features=256, out_features=10, bias=True)\n",
              ")"
            ]
          },
          "metadata": {},
          "execution_count": 12
        }
      ]
    },
    {
      "cell_type": "code",
      "source": [
        "criterion = nn.CrossEntropyLoss()"
      ],
      "metadata": {
        "id": "BkjpC5IMCI-g"
      },
      "execution_count": 13,
      "outputs": []
    },
    {
      "cell_type": "code",
      "source": [
        "device = torch.device('cuda' if torch.cuda.is_available() else 'cpu')\n",
        "\n",
        "model = model.to(device)\n",
        "criterion = criterion.to(device)\n",
        "device"
      ],
      "metadata": {
        "colab": {
          "base_uri": "https://localhost:8080/"
        },
        "id": "l7hWlmLkCP0t",
        "outputId": "986a0da2-7841-4144-c65d-7318784aa4ae"
      },
      "execution_count": 15,
      "outputs": [
        {
          "output_type": "execute_result",
          "data": {
            "text/plain": [
              "device(type='cuda')"
            ]
          },
          "metadata": {},
          "execution_count": 15
        }
      ]
    },
    {
      "cell_type": "code",
      "source": [
        "def train(train_dataloader,optimizer,model,device,criterion,epoches):\n",
        "  losses = []\n",
        "\n",
        "  model.init_params()\n",
        "  for epoch in range(epoches):\n",
        "    epoch_loss = []\n",
        "    for img,label in tqdm.tqdm(train_dataloader):\n",
        "      img,label = img.to(device),label.to(device)\n",
        "      preds = model(img)\n",
        "      loss = criterion(preds,label)\n",
        "      optimizer.zero_grad()\n",
        "      loss.backward()\n",
        "      optimizer.step()\n",
        "      epoch_loss.append(loss.item())\n",
        "    losses.extend(epoch_loss)\n",
        "  return  losses\n",
        "\n",
        "\n"
      ],
      "metadata": {
        "id": "h7o0cWc1CfBV"
      },
      "execution_count": 43,
      "outputs": []
    },
    {
      "cell_type": "code",
      "source": [
        "def plot_loss(loss, title=None, ymin=0, ymax=None, figsize=(15,5)):\n",
        "    \"\"\"Plots the loss from a single experiment.\"\"\"\n",
        "\n",
        "    fig, ax = plt.subplots(figsize=figsize)\n",
        "    ax.plot(loss)\n",
        "    ax.set_title(title)\n",
        "    ax.set_ylabel('Loss')\n",
        "    ax.set_xlabel('Update Steps')\n",
        "    ax.set_ylim(ymin=ymin, ymax=ymax)\n",
        "    ax.grid()"
      ],
      "metadata": {
        "id": "XDmrY0xKIkwj"
      },
      "execution_count": 16,
      "outputs": []
    },
    {
      "cell_type": "code",
      "source": [
        "def plot_losses(losses, labels, title=None, ymin=0, ymax=None, figsize=(15,5)):\n",
        "    \"\"\"Plots the losses from multiple experiments.\"\"\"\n",
        "\n",
        "    fig, ax = plt.subplots(figsize=figsize)\n",
        "    for loss, label in zip(losses, labels):\n",
        "        ax.plot(loss, label=label)\n",
        "    ax.set_title(title)\n",
        "    ax.set_ylabel('Loss')\n",
        "    ax.set_xlabel('Update Steps')\n",
        "    ax.set_ylim(ymin=ymin, ymax=ymax)\n",
        "    ax.grid()\n",
        "    ax.legend(loc='upper right')"
      ],
      "metadata": {
        "id": "franBmKNI4YU"
      },
      "execution_count": 18,
      "outputs": []
    },
    {
      "cell_type": "code",
      "source": [
        "class sgd:\n",
        "  def __init__(self,model_params,lr=1e-3):\n",
        "    self.model_params = list(model_params)\n",
        "    self.lr = lr\n",
        "\n",
        "  def zero_grad(self):\n",
        "    for param in self.model_params:\n",
        "      param.grad = None\n",
        "\n",
        "  @torch.no_grad()\n",
        "  def step(self):\n",
        "    for param in self.model_params:\n",
        "      param.sub_(self.lr*param.grad)"
      ],
      "metadata": {
        "id": "3gTwbbb2M-mv"
      },
      "execution_count": 26,
      "outputs": []
    },
    {
      "cell_type": "code",
      "source": [
        "optimizer = sgd(model.parameters())"
      ],
      "metadata": {
        "id": "1r2Q3nQQOjQr"
      },
      "execution_count": 27,
      "outputs": []
    },
    {
      "cell_type": "code",
      "source": [
        "optimizer"
      ],
      "metadata": {
        "colab": {
          "base_uri": "https://localhost:8080/"
        },
        "id": "L19fGuljOtiG",
        "outputId": "e845a37d-4d52-495c-9625-fdda8ff3f3d4"
      },
      "execution_count": 28,
      "outputs": [
        {
          "output_type": "execute_result",
          "data": {
            "text/plain": [
              "<__main__.sgd at 0x7cb6ddbae850>"
            ]
          },
          "metadata": {},
          "execution_count": 28
        }
      ]
    },
    {
      "cell_type": "code",
      "source": [
        "sgd_loss = train(train_dataloader,optimizer,model,device,criterion,5)"
      ],
      "metadata": {
        "colab": {
          "base_uri": "https://localhost:8080/"
        },
        "id": "WCkYKXLoOuhh",
        "outputId": "3e3c80f9-5f10-490d-d0c2-079edd0d72e9"
      },
      "execution_count": 39,
      "outputs": [
        {
          "output_type": "stream",
          "name": "stderr",
          "text": [
            "100%|██████████| 469/469 [00:23<00:00, 19.71it/s]\n",
            "100%|██████████| 469/469 [00:22<00:00, 20.86it/s]\n",
            "100%|██████████| 469/469 [00:22<00:00, 20.86it/s]\n",
            "100%|██████████| 469/469 [00:22<00:00, 21.00it/s]\n",
            "100%|██████████| 469/469 [00:22<00:00, 20.73it/s]\n"
          ]
        }
      ]
    },
    {
      "cell_type": "code",
      "source": [
        "plot_loss(sgd_loss,'SGD WITH LR=0.003')"
      ],
      "metadata": {
        "colab": {
          "base_uri": "https://localhost:8080/",
          "height": 487
        },
        "id": "uY_8B09eQEfG",
        "outputId": "2ef35316-d562-4226-ae25-7e0d25f1bd1d"
      },
      "execution_count": 41,
      "outputs": [
        {
          "output_type": "display_data",
          "data": {
            "text/plain": [
              "<Figure size 1500x500 with 1 Axes>"
            ],
            "image/png": "[encoded data removed]"
          },
          "metadata": {}
        }
      ]
    },
    {
      "cell_type": "code",
      "source": [],
      "metadata": {
        "id": "eeV3YphPRekI"
      },
      "execution_count": null,
      "outputs": []
    }
  ]
}