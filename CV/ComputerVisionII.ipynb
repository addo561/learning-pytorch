{
  "nbformat": 4,
  "nbformat_minor": 0,
  "metadata": {
    "colab": {
      "provenance": [],
      "authorship_tag": "ABX9TyNfYku09Is0gDW2Y+X0aCCD",
      "include_colab_link": true
    },
    "kernelspec": {
      "name": "python3",
      "display_name": "Python 3"
    },
    "language_info": {
      "name": "python"
    }
  },
  "cells": [
    {
      "cell_type": "markdown",
      "metadata": {
        "id": "view-in-github",
        "colab_type": "text"
      },
      "source": [
        "<a href=\"https://colab.research.google.com/github/addo561/learning-pytorch/blob/main/ComputerVisionII.ipynb\" target=\"_parent\"><img src=\"https://colab.research.google.com/assets/colab-badge.svg\" alt=\"Open In Colab\"/></a>"
      ]
    },
    {
      "cell_type": "code",
      "execution_count": 226,
      "metadata": {
        "colab": {
          "base_uri": "https://localhost:8080/"
        },
        "id": "9w-1G9l7oQtR",
        "outputId": "9a2eb9e7-c7f5-42e8-9bc3-41bd085d3a25"
      },
      "outputs": [
        {
          "output_type": "stream",
          "name": "stdout",
          "text": [
            "2.6.0+cu124\n"
          ]
        }
      ],
      "source": [
        "import  torch\n",
        "print(torch.__version__)"
      ]
    },
    {
      "cell_type": "markdown",
      "source": [
        "#WORKING WITH TENSORS"
      ],
      "metadata": {
        "id": "3FXjYL3hMda8"
      }
    },
    {
      "cell_type": "code",
      "source": [
        "x  = torch.tensor([False,1,2.0])\n",
        "x #  changes  all to  float(tensors must  be  of same datatype)"
      ],
      "metadata": {
        "colab": {
          "base_uri": "https://localhost:8080/"
        },
        "id": "MQUABcXOJ5KS",
        "outputId": "6161a4a6-8a37-4331-867e-93ac4dfc6b50"
      },
      "execution_count": 227,
      "outputs": [
        {
          "output_type": "execute_result",
          "data": {
            "text/plain": [
              "tensor([0., 1., 2.])"
            ]
          },
          "metadata": {},
          "execution_count": 227
        }
      ]
    },
    {
      "cell_type": "code",
      "source": [
        "#init weight example\n",
        "x = torch.zeros(3,4)\n",
        "x,x.shape,x.dtype,type(x)"
      ],
      "metadata": {
        "colab": {
          "base_uri": "https://localhost:8080/"
        },
        "id": "ETRoK9zBMnrm",
        "outputId": "bec5c86a-a7ca-4d7b-fbfb-9532464c4401"
      },
      "execution_count": 228,
      "outputs": [
        {
          "output_type": "execute_result",
          "data": {
            "text/plain": [
              "(tensor([[0., 0., 0., 0.],\n",
              "         [0., 0., 0., 0.],\n",
              "         [0., 0., 0., 0.]]),\n",
              " torch.Size([3, 4]),\n",
              " torch.float32,\n",
              " torch.Tensor)"
            ]
          },
          "metadata": {},
          "execution_count": 228
        }
      ]
    },
    {
      "cell_type": "code",
      "source": [
        "torch.randint(low=0,high=10,size=(3,4))#from 1 to 9"
      ],
      "metadata": {
        "colab": {
          "base_uri": "https://localhost:8080/"
        },
        "id": "XtApWXvmNB6C",
        "outputId": "cb88715d-058b-4eb7-db67-2b1206a12bff"
      },
      "execution_count": 229,
      "outputs": [
        {
          "output_type": "execute_result",
          "data": {
            "text/plain": [
              "tensor([[0, 8, 5, 3],\n",
              "        [4, 9, 8, 3],\n",
              "        [4, 2, 4, 1]])"
            ]
          },
          "metadata": {},
          "execution_count": 229
        }
      ]
    },
    {
      "cell_type": "code",
      "source": [
        "torch.rand(3,4)#btw 0 and 1"
      ],
      "metadata": {
        "colab": {
          "base_uri": "https://localhost:8080/"
        },
        "id": "C8IY25_8NXRa",
        "outputId": "bf83a803-02a6-45dc-9adf-08e02899acc5"
      },
      "execution_count": 230,
      "outputs": [
        {
          "output_type": "execute_result",
          "data": {
            "text/plain": [
              "tensor([[0.1642, 0.6212, 0.6378, 0.7740],\n",
              "        [0.8801, 0.7784, 0.0042, 0.5443],\n",
              "        [0.8029, 0.4538, 0.2054, 0.9767]])"
            ]
          },
          "metadata": {},
          "execution_count": 230
        }
      ]
    },
    {
      "cell_type": "code",
      "source": [
        "#normal distribution\n",
        "torch.randn((3,4))"
      ],
      "metadata": {
        "colab": {
          "base_uri": "https://localhost:8080/"
        },
        "id": "eOrJDwtRNx1H",
        "outputId": "7f110ef3-8aa7-4117-8a44-721312daf281"
      },
      "execution_count": 231,
      "outputs": [
        {
          "output_type": "execute_result",
          "data": {
            "text/plain": [
              "tensor([[-1.0002, -0.0244,  0.2497, -1.7517],\n",
              "        [-0.1309,  1.4378, -0.1544, -0.2853],\n",
              "        [-0.1389, -0.8561, -0.5364, -1.0440]])"
            ]
          },
          "metadata": {},
          "execution_count": 231
        }
      ]
    },
    {
      "cell_type": "code",
      "source": [
        "import numpy as np\n",
        "x =  np.array([[10,3,5],[3,3,3]])\n",
        "y =  torch.tensor(x)\n",
        "print(type(x),type(y))"
      ],
      "metadata": {
        "colab": {
          "base_uri": "https://localhost:8080/"
        },
        "id": "ZPJkOg4GOBKs",
        "outputId": "242ab5ff-8321-48ad-ff32-bffa3c534662"
      },
      "execution_count": 232,
      "outputs": [
        {
          "output_type": "stream",
          "name": "stdout",
          "text": [
            "<class 'numpy.ndarray'> <class 'torch.Tensor'>\n"
          ]
        }
      ]
    },
    {
      "cell_type": "code",
      "source": [
        "##OPERATION  ON  TENSORS\n",
        "x = torch.tensor([[2,2,2,2],[3,3,4,4]])\n",
        "x*10"
      ],
      "metadata": {
        "colab": {
          "base_uri": "https://localhost:8080/"
        },
        "id": "NyKMTzRuOXpD",
        "outputId": "3b3ff884-3acd-4212-a442-bbdd8e7b2c27"
      },
      "execution_count": 233,
      "outputs": [
        {
          "output_type": "execute_result",
          "data": {
            "text/plain": [
              "tensor([[20, 20, 20, 20],\n",
              "        [30, 30, 40, 40]])"
            ]
          },
          "metadata": {},
          "execution_count": 233
        }
      ]
    },
    {
      "cell_type": "code",
      "source": [
        "y = x.add(10)\n",
        "y"
      ],
      "metadata": {
        "colab": {
          "base_uri": "https://localhost:8080/"
        },
        "id": "BNW6yQb8PmWg",
        "outputId": "56dfc842-ad48-475d-edaf-bca2f7f3b476"
      },
      "execution_count": 234,
      "outputs": [
        {
          "output_type": "execute_result",
          "data": {
            "text/plain": [
              "tensor([[12, 12, 12, 12],\n",
              "        [13, 13, 14, 14]])"
            ]
          },
          "metadata": {},
          "execution_count": 234
        }
      ]
    },
    {
      "cell_type": "code",
      "source": [
        "y1  = y.view(4,2)#change shape to (4,2)\n",
        "y1"
      ],
      "metadata": {
        "colab": {
          "base_uri": "https://localhost:8080/"
        },
        "id": "JyfJHKnMPth0",
        "outputId": "93bc8f9d-929c-4fdd-acc2-8a009b8ead30"
      },
      "execution_count": 235,
      "outputs": [
        {
          "output_type": "execute_result",
          "data": {
            "text/plain": [
              "tensor([[12, 12],\n",
              "        [12, 12],\n",
              "        [13, 13],\n",
              "        [14, 14]])"
            ]
          },
          "metadata": {},
          "execution_count": 235
        }
      ]
    },
    {
      "cell_type": "code",
      "source": [
        "x  = torch.randn(10,1,10)\n",
        "y  = x.squeeze(1)\n",
        "x.shape,y.shape"
      ],
      "metadata": {
        "colab": {
          "base_uri": "https://localhost:8080/"
        },
        "id": "7bhxYFB8P9iZ",
        "outputId": "44a14c09-b484-4760-cd01-fc457d67f149"
      },
      "execution_count": 236,
      "outputs": [
        {
          "output_type": "execute_result",
          "data": {
            "text/plain": [
              "(torch.Size([10, 1, 10]), torch.Size([10, 10]))"
            ]
          },
          "metadata": {},
          "execution_count": 236
        }
      ]
    },
    {
      "cell_type": "code",
      "source": [
        "z  =  y.unsqueeze(2)\n",
        "z.shape"
      ],
      "metadata": {
        "colab": {
          "base_uri": "https://localhost:8080/"
        },
        "id": "SOlh1tskRdOz",
        "outputId": "ebd7f71d-8051-4216-e0c1-b6c7c8b38262"
      },
      "execution_count": 237,
      "outputs": [
        {
          "output_type": "execute_result",
          "data": {
            "text/plain": [
              "torch.Size([10, 10, 1])"
            ]
          },
          "metadata": {},
          "execution_count": 237
        }
      ]
    },
    {
      "cell_type": "code",
      "source": [
        "x = torch.randn(10,10)\n",
        "z2, z3, z4 = x[None], x[:,None], x[:,:,None]\n",
        "z2.shape,z3.shape,z4.shape"
      ],
      "metadata": {
        "colab": {
          "base_uri": "https://localhost:8080/"
        },
        "id": "9I9Yo6ufRj0g",
        "outputId": "53776eb8-a3fc-471b-ac44-84b1147a5d5d"
      },
      "execution_count": 238,
      "outputs": [
        {
          "output_type": "execute_result",
          "data": {
            "text/plain": [
              "(torch.Size([1, 10, 10]), torch.Size([10, 1, 10]), torch.Size([10, 10, 1]))"
            ]
          },
          "metadata": {},
          "execution_count": 238
        }
      ]
    },
    {
      "cell_type": "code",
      "source": [
        "#matrix multiplication\n",
        "x =  torch.tensor([[1,2,3,4],[5,6,7,8]])\n",
        "print(torch.matmul(x,y1))  #or x@y"
      ],
      "metadata": {
        "colab": {
          "base_uri": "https://localhost:8080/"
        },
        "id": "TpkGOd6WSBgi",
        "outputId": "e792de8c-33a8-49df-8283-57cfdec087a2"
      },
      "execution_count": 239,
      "outputs": [
        {
          "output_type": "stream",
          "name": "stdout",
          "text": [
            "tensor([[131, 131],\n",
            "        [335, 335]])\n"
          ]
        }
      ]
    },
    {
      "cell_type": "code",
      "source": [
        "x@y1"
      ],
      "metadata": {
        "colab": {
          "base_uri": "https://localhost:8080/"
        },
        "id": "bv_xzf6jSx18",
        "outputId": "232b083f-8027-47b3-b07b-9e2dd53eea8b"
      },
      "execution_count": 240,
      "outputs": [
        {
          "output_type": "execute_result",
          "data": {
            "text/plain": [
              "tensor([[131, 131],\n",
              "        [335, 335]])"
            ]
          },
          "metadata": {},
          "execution_count": 240
        }
      ]
    },
    {
      "cell_type": "code",
      "source": [
        "#concatenate\n",
        "x = torch.rand(10,10,10)\n",
        "z  =  torch.cat([x,x],axis=2)\n",
        "x.shape,z.shape"
      ],
      "metadata": {
        "colab": {
          "base_uri": "https://localhost:8080/"
        },
        "id": "XIGtzqQXTSnQ",
        "outputId": "f7179c4e-1b91-4e8b-8c20-a84efd208672"
      },
      "execution_count": 241,
      "outputs": [
        {
          "output_type": "execute_result",
          "data": {
            "text/plain": [
              "(torch.Size([10, 10, 10]), torch.Size([10, 10, 20]))"
            ]
          },
          "metadata": {},
          "execution_count": 241
        }
      ]
    },
    {
      "cell_type": "code",
      "source": [
        "#get max\n",
        "x  = torch.arange(2,20,2)\n",
        "x.shape,x.max().item()"
      ],
      "metadata": {
        "colab": {
          "base_uri": "https://localhost:8080/"
        },
        "id": "oLNMQh_1Tj-t",
        "outputId": "178ff7b4-dc63-412c-b13c-96bb2f286535"
      },
      "execution_count": 242,
      "outputs": [
        {
          "output_type": "execute_result",
          "data": {
            "text/plain": [
              "(torch.Size([9]), 18)"
            ]
          },
          "metadata": {},
          "execution_count": 242
        }
      ]
    },
    {
      "cell_type": "code",
      "source": [
        "x.min().item()"
      ],
      "metadata": {
        "colab": {
          "base_uri": "https://localhost:8080/"
        },
        "id": "O_QustXmUOJ_",
        "outputId": "32ad5f8e-f61b-4d14-a5c1-410a7aef6e74"
      },
      "execution_count": 243,
      "outputs": [
        {
          "output_type": "execute_result",
          "data": {
            "text/plain": [
              "2"
            ]
          },
          "metadata": {},
          "execution_count": 243
        }
      ]
    },
    {
      "cell_type": "code",
      "source": [
        "x.max(dim=0)"
      ],
      "metadata": {
        "colab": {
          "base_uri": "https://localhost:8080/"
        },
        "id": "jtz7QRXdUvXT",
        "outputId": "34f0e536-3d74-4628-dbaa-8a772598ffb2"
      },
      "execution_count": 244,
      "outputs": [
        {
          "output_type": "execute_result",
          "data": {
            "text/plain": [
              "torch.return_types.max(\n",
              "values=tensor(18),\n",
              "indices=tensor(8))"
            ]
          },
          "metadata": {},
          "execution_count": 244
        }
      ]
    },
    {
      "cell_type": "code",
      "source": [
        "m,arg = x.max(dim=0)\n",
        "m,arg"
      ],
      "metadata": {
        "colab": {
          "base_uri": "https://localhost:8080/"
        },
        "id": "2Wx8Mu_HX8X4",
        "outputId": "8928db3c-d468-4919-f334-a98f37459af2"
      },
      "execution_count": 245,
      "outputs": [
        {
          "output_type": "execute_result",
          "data": {
            "text/plain": [
              "(tensor(18), tensor(8))"
            ]
          },
          "metadata": {},
          "execution_count": 245
        }
      ]
    },
    {
      "cell_type": "code",
      "source": [
        "m,arg =  x.min(dim=0)\n",
        "m.item(),arg.item()"
      ],
      "metadata": {
        "colab": {
          "base_uri": "https://localhost:8080/"
        },
        "id": "XBvaEgX0YZy6",
        "outputId": "0e8109f9-b96d-4b78-de74-605b9ddfe75b"
      },
      "execution_count": 246,
      "outputs": [
        {
          "output_type": "execute_result",
          "data": {
            "text/plain": [
              "(2, 0)"
            ]
          },
          "metadata": {},
          "execution_count": 246
        }
      ]
    },
    {
      "cell_type": "code",
      "source": [
        "x  = torch.rand(10,4)\n",
        "x.shape"
      ],
      "metadata": {
        "colab": {
          "base_uri": "https://localhost:8080/"
        },
        "id": "eY1a8bTUYpzc",
        "outputId": "68ced040-254a-466b-9ed2-4996f4e7910b"
      },
      "execution_count": 247,
      "outputs": [
        {
          "output_type": "execute_result",
          "data": {
            "text/plain": [
              "torch.Size([10, 4])"
            ]
          },
          "metadata": {},
          "execution_count": 247
        }
      ]
    },
    {
      "cell_type": "code",
      "source": [
        "z  = x.T\n",
        "z.shape"
      ],
      "metadata": {
        "colab": {
          "base_uri": "https://localhost:8080/"
        },
        "id": "JHAwUqMqZevs",
        "outputId": "f18b3064-fe00-449d-c11b-e56a7b26da84"
      },
      "execution_count": 248,
      "outputs": [
        {
          "output_type": "execute_result",
          "data": {
            "text/plain": [
              "torch.Size([4, 10])"
            ]
          },
          "metadata": {},
          "execution_count": 248
        }
      ]
    },
    {
      "cell_type": "markdown",
      "source": [
        "#AUTO GRADIENTS"
      ],
      "metadata": {
        "id": "xswr0Pc3Zvm8"
      }
    },
    {
      "cell_type": "code",
      "source": [
        "x = torch.tensor([[2.,-1.],[1.,1.]],requires_grad=True)\n",
        "x"
      ],
      "metadata": {
        "colab": {
          "base_uri": "https://localhost:8080/"
        },
        "id": "0PpN3Lo3ZfMz",
        "outputId": "8310e136-01fb-42ec-edbf-4ead76c4b773"
      },
      "execution_count": 249,
      "outputs": [
        {
          "output_type": "execute_result",
          "data": {
            "text/plain": [
              "tensor([[ 2., -1.],\n",
              "        [ 1.,  1.]], requires_grad=True)"
            ]
          },
          "metadata": {},
          "execution_count": 249
        }
      ]
    },
    {
      "cell_type": "code",
      "source": [
        "out = x.pow(2).sum()"
      ],
      "metadata": {
        "id": "dubiyUJ5bplM"
      },
      "execution_count": 250,
      "outputs": []
    },
    {
      "cell_type": "code",
      "source": [
        "out.backward()#calculate gradient"
      ],
      "metadata": {
        "id": "b6bQzmHKbzft"
      },
      "execution_count": 251,
      "outputs": []
    },
    {
      "cell_type": "code",
      "source": [
        "x.grad#get  gradient"
      ],
      "metadata": {
        "colab": {
          "base_uri": "https://localhost:8080/"
        },
        "id": "d7GOdgajb9Ld",
        "outputId": "e8a260b6-a6e8-4475-bfe1-3d505786c1aa"
      },
      "execution_count": 252,
      "outputs": [
        {
          "output_type": "execute_result",
          "data": {
            "text/plain": [
              "tensor([[ 4., -2.],\n",
              "        [ 2.,  2.]])"
            ]
          },
          "metadata": {},
          "execution_count": 252
        }
      ]
    },
    {
      "cell_type": "markdown",
      "source": [
        "###numpy and pytorch  speed"
      ],
      "metadata": {
        "id": "5dnRxXkimi1A"
      }
    },
    {
      "cell_type": "code",
      "source": [
        "x = torch.rand(1, 6400)\n",
        "y = torch.rand(6400, 5000)"
      ],
      "metadata": {
        "id": "PeIFlpUDfmOL"
      },
      "execution_count": 253,
      "outputs": []
    },
    {
      "cell_type": "code",
      "source": [
        "device  = 'cuda' if torch.cuda.is_available() else 'cpu'\n",
        "device"
      ],
      "metadata": {
        "colab": {
          "base_uri": "https://localhost:8080/",
          "height": 35
        },
        "id": "3vYxAgMvhmaj",
        "outputId": "9c1feb6f-de8e-457d-f1ac-7dc06934f291"
      },
      "execution_count": 254,
      "outputs": [
        {
          "output_type": "execute_result",
          "data": {
            "text/plain": [
              "'cpu'"
            ],
            "application/vnd.google.colaboratory.intrinsic+json": {
              "type": "string"
            }
          },
          "metadata": {},
          "execution_count": 254
        }
      ]
    },
    {
      "cell_type": "code",
      "source": [
        "x,y = x.to(device),y.to(device)"
      ],
      "metadata": {
        "id": "UHBhA0crjOH-"
      },
      "execution_count": 255,
      "outputs": []
    },
    {
      "cell_type": "code",
      "source": [
        "%timeit z=(x@y)"
      ],
      "metadata": {
        "colab": {
          "base_uri": "https://localhost:8080/"
        },
        "id": "EYlx5RlVjU6l",
        "outputId": "d5afaffd-730e-49c5-a733-cfa7ef642dc6"
      },
      "execution_count": 256,
      "outputs": [
        {
          "output_type": "stream",
          "name": "stdout",
          "text": [
            "13.6 ms ± 808 µs per loop (mean ± std. dev. of 7 runs, 100 loops each)\n"
          ]
        }
      ]
    },
    {
      "cell_type": "code",
      "source": [
        "x,y = x.cpu(),y.cpu()\n",
        "%timeit z  =  (x@y)"
      ],
      "metadata": {
        "colab": {
          "base_uri": "https://localhost:8080/"
        },
        "id": "PxxIj96ijdaj",
        "outputId": "c5fa8b1e-cc4c-42cc-b247-a5752daf88c1"
      },
      "execution_count": 257,
      "outputs": [
        {
          "output_type": "stream",
          "name": "stdout",
          "text": [
            "12.4 ms ± 589 µs per loop (mean ± std. dev. of 7 runs, 100 loops each)\n"
          ]
        }
      ]
    },
    {
      "cell_type": "code",
      "source": [
        "import numpy as np\n",
        "x = np.random.random((1, 6400))\n",
        "y = np.random.random((6400, 5000))\n",
        "%timeit z = np.matmul(x,y)"
      ],
      "metadata": {
        "colab": {
          "base_uri": "https://localhost:8080/"
        },
        "id": "qBW0SwC0lo6B",
        "outputId": "8f0dc69c-e7e0-4407-9d56-4d7c5ea4470f"
      },
      "execution_count": 258,
      "outputs": [
        {
          "output_type": "stream",
          "name": "stdout",
          "text": [
            "31 ms ± 8.37 ms per loop (mean ± std. dev. of 7 runs, 10 loops each)\n"
          ]
        }
      ]
    },
    {
      "cell_type": "markdown",
      "source": [
        "#Neural Networks"
      ],
      "metadata": {
        "id": "XAZfAqGbDpkk"
      }
    },
    {
      "cell_type": "code",
      "source": [
        "x = torch.tensor([[1,2],[3,4],[5,6],[7,8]]).float()\n",
        "y = torch.tensor([[3],[7],[11],[15]]).float()"
      ],
      "metadata": {
        "id": "Ce17gYozmn0r"
      },
      "execution_count": 259,
      "outputs": []
    },
    {
      "cell_type": "code",
      "source": [
        "x.size(),y.size()"
      ],
      "metadata": {
        "colab": {
          "base_uri": "https://localhost:8080/"
        },
        "id": "RelUYXJrDHBq",
        "outputId": "a899c7fd-c059-4cad-cb96-63a71fbc1c36"
      },
      "execution_count": 260,
      "outputs": [
        {
          "output_type": "execute_result",
          "data": {
            "text/plain": [
              "(torch.Size([4, 2]), torch.Size([4, 1]))"
            ]
          },
          "metadata": {},
          "execution_count": 260
        }
      ]
    },
    {
      "cell_type": "code",
      "source": [
        "import torch.nn as nn"
      ],
      "metadata": {
        "id": "buzX9TKNDIF6"
      },
      "execution_count": 261,
      "outputs": []
    },
    {
      "cell_type": "code",
      "source": [
        "class myNeuralNet(nn.Module):\n",
        "  def __init__(self, *args, **kwargs):\n",
        "    super().__init__(*args, **kwargs)\n",
        "    self.input_to_hidden = nn.Linear(2,8)\n",
        "    self.hidden_activation = nn.ReLU()\n",
        "    self.hidden_to_output = nn.Linear(8,1)\n",
        "\n",
        "  def forward(self,x):\n",
        "    x = self.input_to_hidden(x)\n",
        "    x = self.hidden_activation(x)\n",
        "    x  = self.hidden_to_output(x)\n",
        "    return  x\n",
        "\n",
        "\"\"\"\n",
        "Alternative\n",
        "\n",
        "class myNeuralNet(nn.Module):\n",
        "  def __init__(self, *args, **kwargs):\n",
        "    super().__init__(*args, **kwargs)\n",
        "    self.input_to_hidden = nn.Parameter(torch.randn(2,8))\n",
        "    self.hidden_activation = nn.ReLU()\n",
        "    self.hidden_to_output = nn.Parameter(torch.randn(8,1))\n",
        "\n",
        "  def forward(self,x):\n",
        "    x = x @ self.input_to_hidden\n",
        "    x = self.hidden_activation(x)\n",
        "    x = x  @ self.hidden_to_output(x)\n",
        "    return  x\n",
        "    \"\"\""
      ],
      "metadata": {
        "colab": {
          "base_uri": "https://localhost:8080/",
          "height": 69
        },
        "id": "rSBM675FEApw",
        "outputId": "909242b8-ce56-460a-fc74-9885d7f48e95"
      },
      "execution_count": 262,
      "outputs": [
        {
          "output_type": "execute_result",
          "data": {
            "text/plain": [
              "'\\nAlternative\\n\\nclass myNeuralNet(nn.Module):\\n  def __init__(self, *args, **kwargs):\\n    super().__init__(*args, **kwargs)\\n    self.input_to_hidden = nn.Parameter(torch.randn(2,8))\\n    self.hidden_activation = nn.ReLU()\\n    self.hidden_to_output = nn.Parameter(torch.randn(8,1))\\n\\n  def forward(self,x):\\n    x = x @ self.input_to_hidden\\n    x = self.hidden_activation(x)\\n    x = x  @ self.hidden_to_output(x)\\n    return  x\\n    '"
            ],
            "application/vnd.google.colaboratory.intrinsic+json": {
              "type": "string"
            }
          },
          "metadata": {},
          "execution_count": 262
        }
      ]
    },
    {
      "cell_type": "code",
      "source": [
        "torch.manual_seed(42)\n",
        "myNet =  myNeuralNet()\n",
        "myNet"
      ],
      "metadata": {
        "colab": {
          "base_uri": "https://localhost:8080/"
        },
        "id": "46NxwXhPGS36",
        "outputId": "fb4594d1-8e7b-4488-d87b-fa58223cce53"
      },
      "execution_count": 263,
      "outputs": [
        {
          "output_type": "execute_result",
          "data": {
            "text/plain": [
              "myNeuralNet(\n",
              "  (input_to_hidden): Linear(in_features=2, out_features=8, bias=True)\n",
              "  (hidden_activation): ReLU()\n",
              "  (hidden_to_output): Linear(in_features=8, out_features=1, bias=True)\n",
              ")"
            ]
          },
          "metadata": {},
          "execution_count": 263
        }
      ]
    },
    {
      "cell_type": "code",
      "source": [
        "myNet.input_to_hidden.weight"
      ],
      "metadata": {
        "colab": {
          "base_uri": "https://localhost:8080/"
        },
        "id": "tMOB4gFvGXDm",
        "outputId": "b9fd8301-e6fb-4562-f7eb-191535d75932"
      },
      "execution_count": 264,
      "outputs": [
        {
          "output_type": "execute_result",
          "data": {
            "text/plain": [
              "Parameter containing:\n",
              "tensor([[ 0.5406,  0.5869],\n",
              "        [-0.1657,  0.6496],\n",
              "        [-0.1549,  0.1427],\n",
              "        [-0.3443,  0.4153],\n",
              "        [ 0.6233, -0.5188],\n",
              "        [ 0.6146,  0.1323],\n",
              "        [ 0.5224,  0.0958],\n",
              "        [ 0.3410, -0.0998]], requires_grad=True)"
            ]
          },
          "metadata": {},
          "execution_count": 264
        }
      ]
    },
    {
      "cell_type": "code",
      "source": [
        "myNet.parameters()"
      ],
      "metadata": {
        "colab": {
          "base_uri": "https://localhost:8080/"
        },
        "id": "rwHkRQkRGh1b",
        "outputId": "33e535c5-7f49-4c51-d3d9-ca1d892a7811"
      },
      "execution_count": 265,
      "outputs": [
        {
          "output_type": "execute_result",
          "data": {
            "text/plain": [
              "<generator object Module.parameters at 0x7b1f40298ac0>"
            ]
          },
          "metadata": {},
          "execution_count": 265
        }
      ]
    },
    {
      "cell_type": "code",
      "source": [
        "for par in myNet.parameters():\n",
        "  print(par)"
      ],
      "metadata": {
        "colab": {
          "base_uri": "https://localhost:8080/"
        },
        "id": "IlslKeWwHrMv",
        "outputId": "1e657d59-23ab-434a-bf2a-1acbe84dbdc5"
      },
      "execution_count": 266,
      "outputs": [
        {
          "output_type": "stream",
          "name": "stdout",
          "text": [
            "Parameter containing:\n",
            "tensor([[ 0.5406,  0.5869],\n",
            "        [-0.1657,  0.6496],\n",
            "        [-0.1549,  0.1427],\n",
            "        [-0.3443,  0.4153],\n",
            "        [ 0.6233, -0.5188],\n",
            "        [ 0.6146,  0.1323],\n",
            "        [ 0.5224,  0.0958],\n",
            "        [ 0.3410, -0.0998]], requires_grad=True)\n",
            "Parameter containing:\n",
            "tensor([ 0.5451,  0.1045, -0.3301,  0.1802, -0.3258, -0.0829, -0.2872,  0.4691],\n",
            "       requires_grad=True)\n",
            "Parameter containing:\n",
            "tensor([[-0.2791, -0.1630, -0.0998, -0.2126,  0.0334, -0.3492,  0.3193, -0.3003]],\n",
            "       requires_grad=True)\n",
            "Parameter containing:\n",
            "tensor([0.2730], requires_grad=True)\n"
          ]
        }
      ]
    },
    {
      "cell_type": "code",
      "source": [
        "loss = nn.MSELoss()"
      ],
      "metadata": {
        "id": "pEV3KQKsIH5L"
      },
      "execution_count": 267,
      "outputs": []
    },
    {
      "cell_type": "code",
      "source": [
        "ytest =  myNet(x)\n",
        "loss_val = loss(ytest,y)\n",
        "print(loss_val)"
      ],
      "metadata": {
        "colab": {
          "base_uri": "https://localhost:8080/"
        },
        "id": "c6qzDFG8K6J-",
        "outputId": "fac10c83-3875-4caa-8253-6b1c596b96df"
      },
      "execution_count": 268,
      "outputs": [
        {
          "output_type": "stream",
          "name": "stdout",
          "text": [
            "tensor(168.3231, grad_fn=<MseLossBackward0>)\n"
          ]
        }
      ]
    },
    {
      "cell_type": "code",
      "source": [
        "from torch.optim import SGD\n",
        "opt = SGD(myNet.parameters(),lr=0.001)"
      ],
      "metadata": {
        "id": "M1O5f9bfNRA8"
      },
      "execution_count": 269,
      "outputs": []
    },
    {
      "cell_type": "code",
      "source": [
        "loss_h = []\n",
        "for _ in range(50):\n",
        "  opt.zero_grad()\n",
        "  loss_val = loss(myNet(x),y)\n",
        "  loss_val.backward()\n",
        "  opt.step()\n",
        "  loss_h.append(loss_val.item())"
      ],
      "metadata": {
        "id": "ynBS30JPOvOO"
      },
      "execution_count": 270,
      "outputs": []
    },
    {
      "cell_type": "code",
      "source": [
        "loss_h"
      ],
      "metadata": {
        "colab": {
          "base_uri": "https://localhost:8080/"
        },
        "id": "dY8MdVyeRCLt",
        "outputId": "cf4d90e3-5f3b-4815-e727-f7731744479c"
      },
      "execution_count": 271,
      "outputs": [
        {
          "output_type": "execute_result",
          "data": {
            "text/plain": [
              "[168.32308959960938,\n",
              " 113.79898071289062,\n",
              " 80.92768859863281,\n",
              " 57.652198791503906,\n",
              " 40.15127182006836,\n",
              " 26.972442626953125,\n",
              " 17.266122817993164,\n",
              " 10.55809211730957,\n",
              " 6.186103820800781,\n",
              " 3.467700481414795,\n",
              " 1.874710202217102,\n",
              " 0.9874542951583862,\n",
              " 0.5132657885551453,\n",
              " 0.26785051822662354,\n",
              " 0.14386454224586487,\n",
              " 0.08231080323457718,\n",
              " 0.05211883783340454,\n",
              " 0.037419646978378296,\n",
              " 0.030284009873867035,\n",
              " 0.026809442788362503,\n",
              " 0.025097690522670746,\n",
              " 0.024230673909187317,\n",
              " 0.023767750710248947,\n",
              " 0.023497600108385086,\n",
              " 0.02331974171102047,\n",
              " 0.02318570390343666,\n",
              " 0.02307296171784401,\n",
              " 0.02297033742070198,\n",
              " 0.022872887551784515,\n",
              " 0.022778093814849854,\n",
              " 0.02268454059958458,\n",
              " 0.02259197272360325,\n",
              " 0.022499902173876762,\n",
              " 0.022408409044146538,\n",
              " 0.022317390888929367,\n",
              " 0.02222665399312973,\n",
              " 0.02213636040687561,\n",
              " 0.022046390920877457,\n",
              " 0.021956900134682655,\n",
              " 0.021867744624614716,\n",
              " 0.02177882008254528,\n",
              " 0.021690383553504944,\n",
              " 0.02160213142633438,\n",
              " 0.02151435613632202,\n",
              " 0.021427026018500328,\n",
              " 0.021339932456612587,\n",
              " 0.021253209561109543,\n",
              " 0.021166881546378136,\n",
              " 0.02108081802725792,\n",
              " 0.02099510282278061]"
            ]
          },
          "metadata": {},
          "execution_count": 271
        }
      ]
    },
    {
      "cell_type": "code",
      "source": [
        "import matplotlib.pyplot as plt\n",
        "plt.plot(loss_h)\n",
        "plt.title('loss over epochs')\n",
        "plt.xlabel('epochs')\n",
        "plt.ylabel('loss value')\n",
        "plt.grid()\n",
        "plt.show()"
      ],
      "metadata": {
        "colab": {
          "base_uri": "https://localhost:8080/",
          "height": 472
        },
        "id": "Mf1zS8_PRDcZ",
        "outputId": "16d5b813-7e04-4150-bca3-07dd2f5e04cf"
      },
      "execution_count": 272,
      "outputs": [
        {
          "output_type": "display_data",
          "data": {
            "text/plain": [
              "<Figure size 640x480 with 1 Axes>"
            ],
            "image/png": "[encoded data removed]"
          },
          "metadata": {}
        }
      ]
    },
    {
      "cell_type": "markdown",
      "source": [
        "###Dataset, DataLoader, and batch size\n",
        "\n",
        "\n"
      ],
      "metadata": {
        "id": "3wufggpluTHx"
      }
    },
    {
      "cell_type": "code",
      "source": [
        "from torch.utils.data  import Dataset,DataLoader\n",
        "x  =  [[1,2],[3,4],[5,6],[7,8]]\n",
        "y = [[3],[7],[11],[15]]"
      ],
      "metadata": {
        "id": "VPEv1d8Equxl"
      },
      "execution_count": 273,
      "outputs": []
    },
    {
      "cell_type": "code",
      "source": [
        "x = torch.tensor(x).float()\n",
        "y = torch.tensor(y).float()\n"
      ],
      "metadata": {
        "id": "ADaAx01fvU-c"
      },
      "execution_count": 274,
      "outputs": []
    },
    {
      "cell_type": "code",
      "source": [
        "x=  x.to(device)\n",
        "y=  y.to(device)"
      ],
      "metadata": {
        "id": "SCegFwKpwLUd"
      },
      "execution_count": 275,
      "outputs": []
    },
    {
      "cell_type": "code",
      "source": [
        "class  myDataset(Dataset):\n",
        "  def __init__(self,x,y):\n",
        "    self.x  =  torch.tensor(x).float()\n",
        "    self.y =  torch.tensor(y).float()\n",
        "  def __len__(self):\n",
        "    return len(self.x)\n",
        "  def __getitem__(self, index):\n",
        "    return self.x[index],self.y[index]"
      ],
      "metadata": {
        "id": "Xmy-Eg8AwRHk"
      },
      "execution_count": 276,
      "outputs": []
    },
    {
      "cell_type": "code",
      "source": [
        "ds   = myDataset(x,y)"
      ],
      "metadata": {
        "colab": {
          "base_uri": "https://localhost:8080/"
        },
        "id": "osUtpvFaw-NT",
        "outputId": "ffcf009b-8f82-4443-e66d-1d54fbf4f0e4"
      },
      "execution_count": 277,
      "outputs": [
        {
          "output_type": "stream",
          "name": "stderr",
          "text": [
            "<ipython-input-276-cc17e39cbd79>:3: UserWarning: To copy construct from a tensor, it is recommended to use sourceTensor.clone().detach() or sourceTensor.clone().detach().requires_grad_(True), rather than torch.tensor(sourceTensor).\n",
            "  self.x  =  torch.tensor(x).float()\n",
            "<ipython-input-276-cc17e39cbd79>:4: UserWarning: To copy construct from a tensor, it is recommended to use sourceTensor.clone().detach() or sourceTensor.clone().detach().requires_grad_(True), rather than torch.tensor(sourceTensor).\n",
            "  self.y =  torch.tensor(y).float()\n"
          ]
        }
      ]
    },
    {
      "cell_type": "code",
      "source": [
        "dl   = DataLoader(ds,batch_size=2,shuffle=True)"
      ],
      "metadata": {
        "id": "NEAJTp2DxCFW"
      },
      "execution_count": 278,
      "outputs": []
    },
    {
      "cell_type": "code",
      "source": [
        "for x,y in  dl:\n",
        "  print(x,y)"
      ],
      "metadata": {
        "colab": {
          "base_uri": "https://localhost:8080/"
        },
        "id": "yC-Mkm1TxVMq",
        "outputId": "05a9bb86-a3f3-405e-c165-b27cca333cec"
      },
      "execution_count": 279,
      "outputs": [
        {
          "output_type": "stream",
          "name": "stdout",
          "text": [
            "tensor([[1., 2.],\n",
            "        [3., 4.]]) tensor([[3.],\n",
            "        [7.]])\n",
            "tensor([[5., 6.],\n",
            "        [7., 8.]]) tensor([[11.],\n",
            "        [15.]])\n"
          ]
        }
      ]
    },
    {
      "cell_type": "code",
      "source": [
        "class MyNeuralNet(nn.Module):\n",
        "    def __init__(self):\n",
        "        super().__init__()\n",
        "        self.input_to_hidden_layer = nn.Linear(2,8)\n",
        "        self.hidden_layer_activation = nn.ReLU()\n",
        "        self.hidden_to_output_layer = nn.Linear(8,1)\n",
        "    def forward(self, x):\n",
        "        x = self.input_to_hidden_layer(x)\n",
        "        x = self.hidden_layer_activation(x)\n",
        "        x = self.hidden_to_output_layer(x)\n",
        "        return x"
      ],
      "metadata": {
        "id": "NK_5ksYZxYT6"
      },
      "execution_count": 280,
      "outputs": []
    },
    {
      "cell_type": "code",
      "source": [
        "mynet = MyNeuralNet().to(device)\n",
        "loss_func  = nn.MSELoss()\n",
        "optimizer  = SGD(mynet.parameters(),lr =  0.001)"
      ],
      "metadata": {
        "id": "cfKPCxzHx0xt"
      },
      "execution_count": 281,
      "outputs": []
    },
    {
      "cell_type": "code",
      "source": [
        "import time\n",
        "loss_history =  []\n",
        "start  = time.time()\n",
        "for _ in range(50):\n",
        "  for data  in dl:\n",
        "    x,y  =  data\n",
        "    optimizer.zero_grad()\n",
        "    loss_value = loss_func(mynet(x),y)\n",
        "    loss_value.backward()\n",
        "    optimizer.step()\n",
        "    loss_history.append(loss_value.item())\n",
        "end = time.time()\n",
        "print(end -start)\n"
      ],
      "metadata": {
        "colab": {
          "base_uri": "https://localhost:8080/"
        },
        "id": "zUZmT-EhyN-E",
        "outputId": "b28df4a8-96de-4ac6-a65e-c33f41749171"
      },
      "execution_count": 282,
      "outputs": [
        {
          "output_type": "stream",
          "name": "stdout",
          "text": [
            "0.08723163604736328\n"
          ]
        }
      ]
    },
    {
      "cell_type": "code",
      "source": [
        "#predict\n",
        "valx  = [[10,11]]\n",
        "valx  = torch.tensor(valx).float().to(device)\n",
        "mynet.eval()\n",
        "with torch.inference_mode():\n",
        "  pred  =  mynet(valx)\n",
        "pred.item()"
      ],
      "metadata": {
        "colab": {
          "base_uri": "https://localhost:8080/"
        },
        "id": "8UIv76MfzEUS",
        "outputId": "4ae29f32-23b4-4097-b1c0-76d03345036e"
      },
      "execution_count": 283,
      "outputs": [
        {
          "output_type": "execute_result",
          "data": {
            "text/plain": [
              "20.55902671813965"
            ]
          },
          "metadata": {},
          "execution_count": 283
        }
      ]
    },
    {
      "cell_type": "code",
      "source": [
        "#custom_loss\n",
        "def mse(y_,y):\n",
        "  loss = (y_-y)**2\n",
        "  loss  =  loss.mean()\n",
        "  return loss"
      ],
      "metadata": {
        "id": "yoRjiPTBzkuv"
      },
      "execution_count": 284,
      "outputs": []
    },
    {
      "cell_type": "code",
      "source": [
        "print(loss_func(mynet(x),y))"
      ],
      "metadata": {
        "colab": {
          "base_uri": "https://localhost:8080/"
        },
        "id": "Zem-ch5v5QQi",
        "outputId": "63b3a608-bee9-4194-d237-1f782847a309"
      },
      "execution_count": 285,
      "outputs": [
        {
          "output_type": "stream",
          "name": "stdout",
          "text": [
            "tensor(0.0128, grad_fn=<MseLossBackward0>)\n"
          ]
        }
      ]
    },
    {
      "cell_type": "code",
      "source": [
        "mse(mynet(x),y)"
      ],
      "metadata": {
        "colab": {
          "base_uri": "https://localhost:8080/"
        },
        "id": "FLHhQlhF5bOK",
        "outputId": "7ebaaebf-e708-462a-8dc8-a575f0502072"
      },
      "execution_count": 286,
      "outputs": [
        {
          "output_type": "execute_result",
          "data": {
            "text/plain": [
              "tensor(0.0128, grad_fn=<MeanBackward0>)"
            ]
          },
          "metadata": {},
          "execution_count": 286
        }
      ]
    },
    {
      "cell_type": "code",
      "source": [
        "#fetching values of intermedaite layers\n",
        "class MyNeuralNet(nn.Module):\n",
        "    def __init__(self):\n",
        "        super().__init__()\n",
        "        self.input_to_hidden_layer = nn.Linear(2,8)\n",
        "        self.hidden_layer_activation = nn.ReLU()\n",
        "        self.hidden_to_output_layer = nn.Linear(8,1)\n",
        "    def forward(self, x):\n",
        "        x1 = self.input_to_hidden_layer(x)\n",
        "        x2= self.hidden_layer_activation(x1)\n",
        "        x3 = self.hidden_to_output_layer(x2)\n",
        "        return x3,x2"
      ],
      "metadata": {
        "id": "76EQ9de25z0C"
      },
      "execution_count": 287,
      "outputs": []
    },
    {
      "cell_type": "code",
      "source": [
        "x = [[1,2],[3,4],[5,6],[7,8]]\n",
        "y = [[3],[7],[11],[15]]"
      ],
      "metadata": {
        "id": "t5ReGPRi-lZx"
      },
      "execution_count": 288,
      "outputs": []
    },
    {
      "cell_type": "code",
      "source": [
        "X = torch.tensor(x).float()\n",
        "Y = torch.tensor(y).float()"
      ],
      "metadata": {
        "id": "Qg56l5GE-jbp"
      },
      "execution_count": 289,
      "outputs": []
    },
    {
      "cell_type": "code",
      "source": [
        "mynet  = MyNeuralNet().to(device)\n",
        "mynet(X)[1]"
      ],
      "metadata": {
        "colab": {
          "base_uri": "https://localhost:8080/"
        },
        "id": "akgzDsmO77Yn",
        "outputId": "f94116e4-e7ae-4503-d9e6-0cd7888ba423"
      },
      "execution_count": 291,
      "outputs": [
        {
          "output_type": "execute_result",
          "data": {
            "text/plain": [
              "tensor([[0.0000, 0.0000, 0.0000, 1.8996, 0.0000, 1.1756, 0.5671, 0.0000],\n",
              "        [0.0000, 0.1554, 0.0000, 3.3330, 0.0000, 3.0794, 1.8873, 1.1748],\n",
              "        [0.0000, 0.7753, 0.0000, 4.7664, 0.0000, 4.9831, 3.2075, 2.3523],\n",
              "        [0.0000, 1.3951, 0.0000, 6.1998, 0.0000, 6.8868, 4.5277, 3.5299]],\n",
              "       grad_fn=<ReluBackward0>)"
            ]
          },
          "metadata": {},
          "execution_count": 291
        }
      ]
    },
    {
      "cell_type": "markdown",
      "source": [
        "#####Using a sequential method to build a neural network\n"
      ],
      "metadata": {
        "id": "291_WQ58B_kY"
      }
    },
    {
      "cell_type": "code",
      "source": [
        "model = nn.Sequential(\n",
        "    nn.Linear(2,8),\n",
        "    nn.ReLU(),\n",
        "    nn.Linear(8,1)\n",
        ").to(device)"
      ],
      "metadata": {
        "id": "kif37xyh-_L9"
      },
      "execution_count": 294,
      "outputs": []
    },
    {
      "cell_type": "code",
      "source": [
        "from  torchsummary import  summary\n",
        "summary(model,(2,))"
      ],
      "metadata": {
        "colab": {
          "base_uri": "https://localhost:8080/"
        },
        "id": "Ylx8FNEL_3eU",
        "outputId": "48fbe3c0-1254-48cd-f7bc-f0c96e7a188f"
      },
      "execution_count": 298,
      "outputs": [
        {
          "output_type": "stream",
          "name": "stdout",
          "text": [
            "----------------------------------------------------------------\n",
            "        Layer (type)               Output Shape         Param #\n",
            "================================================================\n",
            "            Linear-1                    [-1, 8]              24\n",
            "              ReLU-2                    [-1, 8]               0\n",
            "            Linear-3                    [-1, 1]               9\n",
            "================================================================\n",
            "Total params: 33\n",
            "Trainable params: 33\n",
            "Non-trainable params: 0\n",
            "----------------------------------------------------------------\n",
            "Input size (MB): 0.00\n",
            "Forward/backward pass size (MB): 0.00\n",
            "Params size (MB): 0.00\n",
            "Estimated Total Size (MB): 0.00\n",
            "----------------------------------------------------------------\n"
          ]
        }
      ]
    },
    {
      "cell_type": "code",
      "source": [
        "loss_func = nn.MSELoss()\n",
        "optim  = SGD(model.parameters(),lr=0.001)\n",
        "loss_history  = []\n",
        "start =  time.time()\n",
        "for _ in range(50):\n",
        "  for x,y in dl:\n",
        "    optim.zero_grad()\n",
        "    loss =  loss_func(model(x),y)\n",
        "    loss.backward()\n",
        "    optim.step()\n",
        "    loss_history.append(loss.item())\n",
        "end = time.time()\n",
        "print(end -start)"
      ],
      "metadata": {
        "colab": {
          "base_uri": "https://localhost:8080/"
        },
        "id": "A5-wuW4oBZIs",
        "outputId": "4b76c9bf-f7f2-4a07-ef93-46aa1d38e5a1"
      },
      "execution_count": 299,
      "outputs": [
        {
          "output_type": "stream",
          "name": "stdout",
          "text": [
            "0.08072090148925781\n"
          ]
        }
      ]
    },
    {
      "cell_type": "code",
      "source": [
        "val = [[8,9],[10,11],[1.5,2.5]]\n",
        "model.eval()\n",
        "with torch.no_grad():\n",
        "  pred= model(torch.tensor(val).float().to(device))\n",
        "print(pred)\n"
      ],
      "metadata": {
        "colab": {
          "base_uri": "https://localhost:8080/"
        },
        "id": "zlKDzDQ-CwpU",
        "outputId": "bfe5a1db-1789-4b04-fed2-7c0eb76bc919"
      },
      "execution_count": 306,
      "outputs": [
        {
          "output_type": "stream",
          "name": "stdout",
          "text": [
            "tensor([[16.7976],\n",
            "        [20.6502],\n",
            "        [ 4.2768]])\n"
          ]
        }
      ]
    },
    {
      "cell_type": "code",
      "source": [
        "model.state_dict()"
      ],
      "metadata": {
        "colab": {
          "base_uri": "https://localhost:8080/"
        },
        "id": "wU6lWty4DXgK",
        "outputId": "5065dc5a-139b-40cd-daf9-c51667f2db34"
      },
      "execution_count": 307,
      "outputs": [
        {
          "output_type": "execute_result",
          "data": {
            "text/plain": [
              "OrderedDict([('0.weight',\n",
              "              tensor([[ 0.0472,  0.4925],\n",
              "                      [-0.3273, -0.0771],\n",
              "                      [-0.0615, -0.1673],\n",
              "                      [-0.3585, -0.6303],\n",
              "                      [-0.5716, -0.3786],\n",
              "                      [ 1.0922,  0.1342],\n",
              "                      [-0.4748,  0.1714],\n",
              "                      [ 0.3989,  0.6189]])),\n",
              "             ('0.bias',\n",
              "              tensor([ 0.5565,  0.3938, -0.7011,  0.0627,  0.4283,  0.0011, -0.4167,  0.7016])),\n",
              "             ('2.weight',\n",
              "              tensor([[ 0.4159, -0.2013, -0.3187,  0.0158,  0.1567,  0.7973,  0.0699,  0.7113]])),\n",
              "             ('2.bias', tensor([-0.0962]))])"
            ]
          },
          "metadata": {},
          "execution_count": 307
        }
      ]
    },
    {
      "cell_type": "code",
      "source": [
        "torch.save(model.state_dict(),'model.pth')"
      ],
      "metadata": {
        "id": "Xd1ONx8ihxpD"
      },
      "execution_count": 308,
      "outputs": []
    },
    {
      "cell_type": "code",
      "source": [
        "##instantiate  model\n",
        "model  = nn.Sequential(\n",
        "    nn.Linear(2,8),\n",
        "    nn.ReLU(),\n",
        "    nn.Linear(8,1)\n",
        ")"
      ],
      "metadata": {
        "id": "xg85u0X-iIpt"
      },
      "execution_count": 311,
      "outputs": []
    },
    {
      "cell_type": "code",
      "source": [
        "model.load_state_dict(torch.load('model.pth'))\n",
        "model(torch.tensor(val).float())"
      ],
      "metadata": {
        "colab": {
          "base_uri": "https://localhost:8080/"
        },
        "id": "aLNDBPRPiYk1",
        "outputId": "71e4d1f3-2cef-4b76-9bfa-be8b784e8538"
      },
      "execution_count": 312,
      "outputs": [
        {
          "output_type": "execute_result",
          "data": {
            "text/plain": [
              "tensor([[16.7976],\n",
              "        [20.6502],\n",
              "        [ 4.2768]], grad_fn=<AddmmBackward0>)"
            ]
          },
          "metadata": {},
          "execution_count": 312
        }
      ]
    },
    {
      "cell_type": "code",
      "source": [],
      "metadata": {
        "id": "OeOZvNwyiq7O"
      },
      "execution_count": null,
      "outputs": []
    }
  ]
}
